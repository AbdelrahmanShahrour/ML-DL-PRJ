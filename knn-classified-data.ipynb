{
 "cells": [
  {
   "cell_type": "code",
   "execution_count": 1,
   "id": "86a45cad",
   "metadata": {
    "_cell_guid": "b1076dfc-b9ad-4769-8c92-a6c4dae69d19",
    "_uuid": "8f2839f25d086af736a60e9eeb907d3b93b6e0e5",
    "execution": {
     "iopub.execute_input": "2022-05-10T13:51:40.642666Z",
     "iopub.status.busy": "2022-05-10T13:51:40.642196Z",
     "iopub.status.idle": "2022-05-10T13:51:43.282776Z",
     "shell.execute_reply": "2022-05-10T13:51:43.281797Z"
    },
    "papermill": {
     "duration": 2.672802,
     "end_time": "2022-05-10T13:51:43.285423",
     "exception": false,
     "start_time": "2022-05-10T13:51:40.612621",
     "status": "completed"
    },
    "tags": []
   },
   "outputs": [],
   "source": [
    "import pandas as pd\n",
    "import numpy as np\n",
    "import plotly.express as px\n",
    "from sklearn.model_selection import train_test_split\n",
    "from sklearn.neighbors import KNeighborsClassifier\n",
    "from sklearn.metrics import classification_report, confusion_matrix, accuracy_score"
   ]
  },
  {
   "cell_type": "markdown",
   "id": "1d65056a",
   "metadata": {
    "papermill": {
     "duration": 0.024385,
     "end_time": "2022-05-10T13:51:43.335141",
     "exception": false,
     "start_time": "2022-05-10T13:51:43.310756",
     "status": "completed"
    },
    "tags": []
   },
   "source": [
    "# 1.read the data"
   ]
  },
  {
   "cell_type": "code",
   "execution_count": 2,
   "id": "101fca07",
   "metadata": {
    "execution": {
     "iopub.execute_input": "2022-05-10T13:51:43.385752Z",
     "iopub.status.busy": "2022-05-10T13:51:43.385433Z",
     "iopub.status.idle": "2022-05-10T13:51:43.412702Z",
     "shell.execute_reply": "2022-05-10T13:51:43.412036Z"
    },
    "papermill": {
     "duration": 0.055475,
     "end_time": "2022-05-10T13:51:43.415216",
     "exception": false,
     "start_time": "2022-05-10T13:51:43.359741",
     "status": "completed"
    },
    "tags": []
   },
   "outputs": [],
   "source": [
    "data = pd.read_csv('../input/classified-data/Classified Data')"
   ]
  },
  {
   "cell_type": "code",
   "execution_count": 3,
   "id": "89c883e6",
   "metadata": {
    "execution": {
     "iopub.execute_input": "2022-05-10T13:51:43.467323Z",
     "iopub.status.busy": "2022-05-10T13:51:43.467061Z",
     "iopub.status.idle": "2022-05-10T13:51:43.494371Z",
     "shell.execute_reply": "2022-05-10T13:51:43.493641Z"
    },
    "papermill": {
     "duration": 0.055322,
     "end_time": "2022-05-10T13:51:43.496608",
     "exception": false,
     "start_time": "2022-05-10T13:51:43.441286",
     "status": "completed"
    },
    "tags": []
   },
   "outputs": [
    {
     "data": {
      "text/html": [
       "<div>\n",
       "<style scoped>\n",
       "    .dataframe tbody tr th:only-of-type {\n",
       "        vertical-align: middle;\n",
       "    }\n",
       "\n",
       "    .dataframe tbody tr th {\n",
       "        vertical-align: top;\n",
       "    }\n",
       "\n",
       "    .dataframe thead th {\n",
       "        text-align: right;\n",
       "    }\n",
       "</style>\n",
       "<table border=\"1\" class=\"dataframe\">\n",
       "  <thead>\n",
       "    <tr style=\"text-align: right;\">\n",
       "      <th></th>\n",
       "      <th>Unnamed: 0</th>\n",
       "      <th>WTT</th>\n",
       "      <th>PTI</th>\n",
       "      <th>EQW</th>\n",
       "      <th>SBI</th>\n",
       "      <th>LQE</th>\n",
       "      <th>QWG</th>\n",
       "      <th>FDJ</th>\n",
       "      <th>PJF</th>\n",
       "      <th>HQE</th>\n",
       "      <th>NXJ</th>\n",
       "      <th>TARGET CLASS</th>\n",
       "    </tr>\n",
       "  </thead>\n",
       "  <tbody>\n",
       "    <tr>\n",
       "      <th>798</th>\n",
       "      <td>798</td>\n",
       "      <td>1.264444</td>\n",
       "      <td>0.901345</td>\n",
       "      <td>0.476093</td>\n",
       "      <td>0.636815</td>\n",
       "      <td>1.240612</td>\n",
       "      <td>0.927326</td>\n",
       "      <td>1.324535</td>\n",
       "      <td>0.413136</td>\n",
       "      <td>1.024086</td>\n",
       "      <td>1.021621</td>\n",
       "      <td>1</td>\n",
       "    </tr>\n",
       "    <tr>\n",
       "      <th>627</th>\n",
       "      <td>627</td>\n",
       "      <td>0.679125</td>\n",
       "      <td>1.456697</td>\n",
       "      <td>0.725949</td>\n",
       "      <td>0.884633</td>\n",
       "      <td>0.861456</td>\n",
       "      <td>0.803774</td>\n",
       "      <td>1.015480</td>\n",
       "      <td>1.445247</td>\n",
       "      <td>1.187241</td>\n",
       "      <td>1.555708</td>\n",
       "      <td>0</td>\n",
       "    </tr>\n",
       "  </tbody>\n",
       "</table>\n",
       "</div>"
      ],
      "text/plain": [
       "     Unnamed: 0       WTT       PTI       EQW       SBI       LQE       QWG  \\\n",
       "798         798  1.264444  0.901345  0.476093  0.636815  1.240612  0.927326   \n",
       "627         627  0.679125  1.456697  0.725949  0.884633  0.861456  0.803774   \n",
       "\n",
       "          FDJ       PJF       HQE       NXJ  TARGET CLASS  \n",
       "798  1.324535  0.413136  1.024086  1.021621             1  \n",
       "627  1.015480  1.445247  1.187241  1.555708             0  "
      ]
     },
     "execution_count": 3,
     "metadata": {},
     "output_type": "execute_result"
    }
   ],
   "source": [
    "data.sample(2)"
   ]
  },
  {
   "cell_type": "markdown",
   "id": "dbf2ed09",
   "metadata": {
    "papermill": {
     "duration": 0.026726,
     "end_time": "2022-05-10T13:51:43.549438",
     "exception": false,
     "start_time": "2022-05-10T13:51:43.522712",
     "status": "completed"
    },
    "tags": []
   },
   "source": [
    "# 2.preprocessing"
   ]
  },
  {
   "cell_type": "code",
   "execution_count": 4,
   "id": "ea26bbe6",
   "metadata": {
    "execution": {
     "iopub.execute_input": "2022-05-10T13:51:43.604090Z",
     "iopub.status.busy": "2022-05-10T13:51:43.603635Z",
     "iopub.status.idle": "2022-05-10T13:51:43.628689Z",
     "shell.execute_reply": "2022-05-10T13:51:43.627764Z"
    },
    "papermill": {
     "duration": 0.056755,
     "end_time": "2022-05-10T13:51:43.631947",
     "exception": false,
     "start_time": "2022-05-10T13:51:43.575192",
     "status": "completed"
    },
    "tags": []
   },
   "outputs": [
    {
     "name": "stdout",
     "output_type": "stream",
     "text": [
      "<class 'pandas.core.frame.DataFrame'>\n",
      "RangeIndex: 1000 entries, 0 to 999\n",
      "Data columns (total 12 columns):\n",
      " #   Column        Non-Null Count  Dtype  \n",
      "---  ------        --------------  -----  \n",
      " 0   Unnamed: 0    1000 non-null   int64  \n",
      " 1   WTT           1000 non-null   float64\n",
      " 2   PTI           1000 non-null   float64\n",
      " 3   EQW           1000 non-null   float64\n",
      " 4   SBI           1000 non-null   float64\n",
      " 5   LQE           1000 non-null   float64\n",
      " 6   QWG           1000 non-null   float64\n",
      " 7   FDJ           1000 non-null   float64\n",
      " 8   PJF           1000 non-null   float64\n",
      " 9   HQE           1000 non-null   float64\n",
      " 10  NXJ           1000 non-null   float64\n",
      " 11  TARGET CLASS  1000 non-null   int64  \n",
      "dtypes: float64(10), int64(2)\n",
      "memory usage: 93.9 KB\n"
     ]
    }
   ],
   "source": [
    "data.info()"
   ]
  },
  {
   "cell_type": "code",
   "execution_count": 5,
   "id": "4a4e17cb",
   "metadata": {
    "execution": {
     "iopub.execute_input": "2022-05-10T13:51:43.688953Z",
     "iopub.status.busy": "2022-05-10T13:51:43.688210Z",
     "iopub.status.idle": "2022-05-10T13:51:43.697694Z",
     "shell.execute_reply": "2022-05-10T13:51:43.696680Z"
    },
    "papermill": {
     "duration": 0.039913,
     "end_time": "2022-05-10T13:51:43.699633",
     "exception": false,
     "start_time": "2022-05-10T13:51:43.659720",
     "status": "completed"
    },
    "tags": []
   },
   "outputs": [
    {
     "data": {
      "text/plain": [
       "Unnamed: 0      0\n",
       "WTT             0\n",
       "PTI             0\n",
       "EQW             0\n",
       "SBI             0\n",
       "LQE             0\n",
       "QWG             0\n",
       "FDJ             0\n",
       "PJF             0\n",
       "HQE             0\n",
       "NXJ             0\n",
       "TARGET CLASS    0\n",
       "dtype: int64"
      ]
     },
     "execution_count": 5,
     "metadata": {},
     "output_type": "execute_result"
    }
   ],
   "source": [
    "data.isna().sum()"
   ]
  },
  {
   "cell_type": "code",
   "execution_count": 6,
   "id": "c63beb0f",
   "metadata": {
    "execution": {
     "iopub.execute_input": "2022-05-10T13:51:43.755805Z",
     "iopub.status.busy": "2022-05-10T13:51:43.754991Z",
     "iopub.status.idle": "2022-05-10T13:51:43.769742Z",
     "shell.execute_reply": "2022-05-10T13:51:43.769044Z"
    },
    "papermill": {
     "duration": 0.045407,
     "end_time": "2022-05-10T13:51:43.772194",
     "exception": false,
     "start_time": "2022-05-10T13:51:43.726787",
     "status": "completed"
    },
    "tags": []
   },
   "outputs": [],
   "source": [
    "from sklearn.preprocessing import StandardScaler\n",
    "\n",
    "st_scaler = StandardScaler()\n",
    "st_scaler.fit(data.drop('TARGET CLASS', axis = 1))\n",
    "features = st_scaler.fit_transform(data.drop('TARGET CLASS', axis = 1))\n"
   ]
  },
  {
   "cell_type": "code",
   "execution_count": 7,
   "id": "7f5d1e2f",
   "metadata": {
    "execution": {
     "iopub.execute_input": "2022-05-10T13:51:43.830421Z",
     "iopub.status.busy": "2022-05-10T13:51:43.829707Z",
     "iopub.status.idle": "2022-05-10T13:51:43.837404Z",
     "shell.execute_reply": "2022-05-10T13:51:43.836355Z"
    },
    "papermill": {
     "duration": 0.038167,
     "end_time": "2022-05-10T13:51:43.839558",
     "exception": false,
     "start_time": "2022-05-10T13:51:43.801391",
     "status": "completed"
    },
    "tags": []
   },
   "outputs": [
    {
     "data": {
      "text/plain": [
       "array([[-1.73031962, -0.12354188,  0.18590747, ..., -1.48236813,\n",
       "        -0.9497194 , -0.64331425],\n",
       "       [-1.72685552, -1.08483602, -0.43034845, ..., -0.20224031,\n",
       "        -1.82805088,  0.63675862],\n",
       "       [-1.72339142, -0.78870217,  0.33931821, ...,  0.28570652,\n",
       "        -0.68249379, -0.37784986],\n",
       "       ...,\n",
       "       [ 1.72339142,  0.64177714, -0.51308341, ..., -2.36249443,\n",
       "        -0.81426092,  0.11159651],\n",
       "       [ 1.72685552,  0.46707241, -0.98278576, ..., -0.03677699,\n",
       "         0.40602453, -0.85567   ],\n",
       "       [ 1.73031962, -0.38765353, -0.59589427, ..., -0.56778932,\n",
       "         0.3369971 ,  0.01034996]])"
      ]
     },
     "execution_count": 7,
     "metadata": {},
     "output_type": "execute_result"
    }
   ],
   "source": [
    "features"
   ]
  },
  {
   "cell_type": "code",
   "execution_count": 8,
   "id": "aab53292",
   "metadata": {
    "execution": {
     "iopub.execute_input": "2022-05-10T13:51:43.896128Z",
     "iopub.status.busy": "2022-05-10T13:51:43.895512Z",
     "iopub.status.idle": "2022-05-10T13:51:43.915979Z",
     "shell.execute_reply": "2022-05-10T13:51:43.914821Z"
    },
    "papermill": {
     "duration": 0.051075,
     "end_time": "2022-05-10T13:51:43.918107",
     "exception": false,
     "start_time": "2022-05-10T13:51:43.867032",
     "status": "completed"
    },
    "tags": []
   },
   "outputs": [
    {
     "data": {
      "text/html": [
       "<div>\n",
       "<style scoped>\n",
       "    .dataframe tbody tr th:only-of-type {\n",
       "        vertical-align: middle;\n",
       "    }\n",
       "\n",
       "    .dataframe tbody tr th {\n",
       "        vertical-align: top;\n",
       "    }\n",
       "\n",
       "    .dataframe thead th {\n",
       "        text-align: right;\n",
       "    }\n",
       "</style>\n",
       "<table border=\"1\" class=\"dataframe\">\n",
       "  <thead>\n",
       "    <tr style=\"text-align: right;\">\n",
       "      <th></th>\n",
       "      <th>Unnamed: 0</th>\n",
       "      <th>WTT</th>\n",
       "      <th>PTI</th>\n",
       "      <th>EQW</th>\n",
       "      <th>SBI</th>\n",
       "      <th>LQE</th>\n",
       "      <th>QWG</th>\n",
       "      <th>FDJ</th>\n",
       "      <th>PJF</th>\n",
       "      <th>HQE</th>\n",
       "      <th>NXJ</th>\n",
       "    </tr>\n",
       "  </thead>\n",
       "  <tbody>\n",
       "    <tr>\n",
       "      <th>0</th>\n",
       "      <td>-1.730320</td>\n",
       "      <td>-0.123542</td>\n",
       "      <td>0.185907</td>\n",
       "      <td>-0.913431</td>\n",
       "      <td>0.319629</td>\n",
       "      <td>-1.033637</td>\n",
       "      <td>-2.308375</td>\n",
       "      <td>-0.798951</td>\n",
       "      <td>-1.482368</td>\n",
       "      <td>-0.949719</td>\n",
       "      <td>-0.643314</td>\n",
       "    </tr>\n",
       "    <tr>\n",
       "      <th>1</th>\n",
       "      <td>-1.726856</td>\n",
       "      <td>-1.084836</td>\n",
       "      <td>-0.430348</td>\n",
       "      <td>-1.025313</td>\n",
       "      <td>0.625388</td>\n",
       "      <td>-0.444847</td>\n",
       "      <td>-1.152706</td>\n",
       "      <td>-1.129797</td>\n",
       "      <td>-0.202240</td>\n",
       "      <td>-1.828051</td>\n",
       "      <td>0.636759</td>\n",
       "    </tr>\n",
       "    <tr>\n",
       "      <th>2</th>\n",
       "      <td>-1.723391</td>\n",
       "      <td>-0.788702</td>\n",
       "      <td>0.339318</td>\n",
       "      <td>0.301511</td>\n",
       "      <td>0.755873</td>\n",
       "      <td>2.031693</td>\n",
       "      <td>-0.870156</td>\n",
       "      <td>2.599818</td>\n",
       "      <td>0.285707</td>\n",
       "      <td>-0.682494</td>\n",
       "      <td>-0.377850</td>\n",
       "    </tr>\n",
       "    <tr>\n",
       "      <th>3</th>\n",
       "      <td>-1.719927</td>\n",
       "      <td>0.982841</td>\n",
       "      <td>1.060193</td>\n",
       "      <td>-0.621399</td>\n",
       "      <td>0.625299</td>\n",
       "      <td>0.452820</td>\n",
       "      <td>-0.267220</td>\n",
       "      <td>1.750208</td>\n",
       "      <td>1.066491</td>\n",
       "      <td>1.241325</td>\n",
       "      <td>-1.026987</td>\n",
       "    </tr>\n",
       "    <tr>\n",
       "      <th>4</th>\n",
       "      <td>-1.716463</td>\n",
       "      <td>1.139275</td>\n",
       "      <td>-0.640392</td>\n",
       "      <td>-0.709819</td>\n",
       "      <td>-0.057175</td>\n",
       "      <td>0.822886</td>\n",
       "      <td>-0.936773</td>\n",
       "      <td>0.596782</td>\n",
       "      <td>-1.472352</td>\n",
       "      <td>1.040772</td>\n",
       "      <td>0.276510</td>\n",
       "    </tr>\n",
       "  </tbody>\n",
       "</table>\n",
       "</div>"
      ],
      "text/plain": [
       "   Unnamed: 0       WTT       PTI       EQW       SBI       LQE       QWG  \\\n",
       "0   -1.730320 -0.123542  0.185907 -0.913431  0.319629 -1.033637 -2.308375   \n",
       "1   -1.726856 -1.084836 -0.430348 -1.025313  0.625388 -0.444847 -1.152706   \n",
       "2   -1.723391 -0.788702  0.339318  0.301511  0.755873  2.031693 -0.870156   \n",
       "3   -1.719927  0.982841  1.060193 -0.621399  0.625299  0.452820 -0.267220   \n",
       "4   -1.716463  1.139275 -0.640392 -0.709819 -0.057175  0.822886 -0.936773   \n",
       "\n",
       "        FDJ       PJF       HQE       NXJ  \n",
       "0 -0.798951 -1.482368 -0.949719 -0.643314  \n",
       "1 -1.129797 -0.202240 -1.828051  0.636759  \n",
       "2  2.599818  0.285707 -0.682494 -0.377850  \n",
       "3  1.750208  1.066491  1.241325 -1.026987  \n",
       "4  0.596782 -1.472352  1.040772  0.276510  "
      ]
     },
     "execution_count": 8,
     "metadata": {},
     "output_type": "execute_result"
    }
   ],
   "source": [
    "features_df = pd.DataFrame(features, columns = data.columns[:-1])\n",
    "features_df.head()"
   ]
  },
  {
   "cell_type": "code",
   "execution_count": 9,
   "id": "2859e8a0",
   "metadata": {
    "execution": {
     "iopub.execute_input": "2022-05-10T13:51:43.976802Z",
     "iopub.status.busy": "2022-05-10T13:51:43.976267Z",
     "iopub.status.idle": "2022-05-10T13:51:43.982441Z",
     "shell.execute_reply": "2022-05-10T13:51:43.981683Z"
    },
    "papermill": {
     "duration": 0.038806,
     "end_time": "2022-05-10T13:51:43.984326",
     "exception": false,
     "start_time": "2022-05-10T13:51:43.945520",
     "status": "completed"
    },
    "tags": []
   },
   "outputs": [
    {
     "data": {
      "text/plain": [
       "(1000, 11)"
      ]
     },
     "execution_count": 9,
     "metadata": {},
     "output_type": "execute_result"
    }
   ],
   "source": [
    "features_df.shape"
   ]
  },
  {
   "cell_type": "markdown",
   "id": "54ae93d4",
   "metadata": {
    "papermill": {
     "duration": 0.029287,
     "end_time": "2022-05-10T13:51:44.041842",
     "exception": false,
     "start_time": "2022-05-10T13:51:44.012555",
     "status": "completed"
    },
    "tags": []
   },
   "source": [
    "# 3.Corr func"
   ]
  },
  {
   "cell_type": "code",
   "execution_count": 10,
   "id": "78a8a6c9",
   "metadata": {
    "execution": {
     "iopub.execute_input": "2022-05-10T13:51:44.098113Z",
     "iopub.status.busy": "2022-05-10T13:51:44.097518Z",
     "iopub.status.idle": "2022-05-10T13:51:45.352581Z",
     "shell.execute_reply": "2022-05-10T13:51:45.351537Z"
    },
    "papermill": {
     "duration": 1.285239,
     "end_time": "2022-05-10T13:51:45.354848",
     "exception": false,
     "start_time": "2022-05-10T13:51:44.069609",
     "status": "completed"
    },
    "tags": []
   },
   "outputs": [
    {
     "data": {
      "text/html": [
       "        <script type=\"text/javascript\">\n",
       "        window.PlotlyConfig = {MathJaxConfig: 'local'};\n",
       "        if (window.MathJax) {MathJax.Hub.Config({SVG: {font: \"STIX-Web\"}});}\n",
       "        if (typeof require !== 'undefined') {\n",
       "        require.undef(\"plotly\");\n",
       "        requirejs.config({\n",
       "            paths: {\n",
       "                'plotly': ['https://cdn.plot.ly/plotly-2.11.1.min']\n",
       "            }\n",
       "        });\n",
       "        require(['plotly'], function(Plotly) {\n",
       "            window._Plotly = Plotly;\n",
       "        });\n",
       "        }\n",
       "        </script>\n",
       "        "
      ]
     },
     "metadata": {},
     "output_type": "display_data"
    },
    {
     "data": {
      "text/html": [
       "<div>                            <div id=\"a3de617b-6995-4cd3-a076-c594fc5382aa\" class=\"plotly-graph-div\" style=\"height:525px; width:100%;\"></div>            <script type=\"text/javascript\">                require([\"plotly\"], function(Plotly) {                    window.PLOTLYENV=window.PLOTLYENV || {};                                    if (document.getElementById(\"a3de617b-6995-4cd3-a076-c594fc5382aa\")) {                    Plotly.newPlot(                        \"a3de617b-6995-4cd3-a076-c594fc5382aa\",                        [{\"coloraxis\":\"coloraxis\",\"name\":\"0\",\"texttemplate\":\"%{z}\",\"x\":[\"Unnamed: 0\",\"WTT\",\"PTI\",\"EQW\",\"SBI\",\"LQE\",\"QWG\",\"FDJ\",\"PJF\",\"HQE\",\"NXJ\",\"TARGET CLASS\"],\"y\":[\"Unnamed: 0\",\"WTT\",\"PTI\",\"EQW\",\"SBI\",\"LQE\",\"QWG\",\"FDJ\",\"PJF\",\"HQE\",\"NXJ\",\"TARGET CLASS\"],\"z\":[[1.0,0.012981088029353896,-0.03842440511651591,0.005651383314939416,0.05839203192833282,0.01110164649888153,-0.0009454496258521163,-0.03687246756517736,-0.01424073927730244,0.0205701949306324,0.007118135949486031,0.02259288203037223],[0.012981088029353896,1.0,-0.23525487394502673,-0.3010180843498768,-0.1015169357518463,-0.0834010425119398,-0.18362770358184125,-0.14810012441579942,-0.3309773593270652,0.32498120268511793,-0.07388920519447953,0.5513941430081357],[-0.03842440511651591,-0.23525487394502673,1.0,0.27190834382711865,0.0015800111667576386,0.09732169500359134,0.1737014798413765,0.09505957161876381,0.2463870716423974,-0.2662424512111827,0.035833922793470065,-0.4687480333098568],[0.005651383314939416,-0.3010180843498768,0.27190834382711865,1.0,-0.04029074601965238,0.1445392066111187,0.18202143647823263,0.059533313625788294,0.3238571939262816,-0.32465598182036004,0.12614346011838604,-0.5981201277541623],[0.05839203192833282,-0.1015169357518463,0.0015800111667576386,-0.04029074601965238,1.0,-0.007982672482451467,0.022025525505429678,-0.007666245334730955,0.0377674536965452,0.0780319835921563,0.14504491186502785,0.028873934965048295],[0.01110164649888153,-0.0834010425119398,0.09732169500359134,0.1445392066111187,-0.007982672482451467,1.0,0.04994444740847678,0.035750332921096306,0.08373367631425788,-0.1439293724436891,0.04449605263658041,-0.20504307331397814],[-0.0009454496258521163,-0.18362770358184125,0.1737014798413765,0.18202143647823263,0.022025525505429678,0.04994444740847678,1.0,0.09806207508141936,0.1991889242129838,-0.1818091468176604,0.03607828101888587,-0.3276635297239333],[-0.03687246756517736,-0.14810012441579942,0.09505957161876381,0.059533313625788294,-0.007666245334730955,0.035750332921096306,0.09806207508141936,1.0,0.1228884043077554,-0.11696876148982895,-0.012923326188025053,-0.21488451316818186],[-0.01424073927730244,-0.3309773593270652,0.2463870716423974,0.3238571939262816,0.0377674536965452,0.08373367631425788,0.1991889242129838,0.1228884043077554,1.0,-0.36373633516497555,0.028012169455018505,-0.5714829816993379],[0.0205701949306324,0.32498120268511793,-0.2662424512111827,-0.32465598182036004,0.0780319835921563,-0.1439293724436891,-0.1818091468176604,-0.11696876148982895,-0.36373633516497555,1.0,-0.1292834890356966,0.6439893019991103],[0.007118135949486031,-0.07388920519447953,0.035833922793470065,0.12614346011838604,0.14504491186502785,0.04449605263658041,0.03607828101888587,-0.012923326188025053,0.028012169455018505,-0.1292834890356966,1.0,-0.11173024882454875],[0.02259288203037223,0.5513941430081357,-0.4687480333098568,-0.5981201277541623,0.028873934965048295,-0.20504307331397814,-0.3276635297239333,-0.21488451316818186,-0.5714829816993379,0.6439893019991103,-0.11173024882454875,1.0]],\"type\":\"heatmap\",\"xaxis\":\"x\",\"yaxis\":\"y\",\"hovertemplate\":\"x: %{x}<br>y: %{y}<br>color: %{z}<extra></extra>\"}],                        {\"template\":{\"data\":{\"histogram2dcontour\":[{\"type\":\"histogram2dcontour\",\"colorbar\":{\"outlinewidth\":0,\"ticks\":\"\"},\"colorscale\":[[0.0,\"#0d0887\"],[0.1111111111111111,\"#46039f\"],[0.2222222222222222,\"#7201a8\"],[0.3333333333333333,\"#9c179e\"],[0.4444444444444444,\"#bd3786\"],[0.5555555555555556,\"#d8576b\"],[0.6666666666666666,\"#ed7953\"],[0.7777777777777778,\"#fb9f3a\"],[0.8888888888888888,\"#fdca26\"],[1.0,\"#f0f921\"]]}],\"choropleth\":[{\"type\":\"choropleth\",\"colorbar\":{\"outlinewidth\":0,\"ticks\":\"\"}}],\"histogram2d\":[{\"type\":\"histogram2d\",\"colorbar\":{\"outlinewidth\":0,\"ticks\":\"\"},\"colorscale\":[[0.0,\"#0d0887\"],[0.1111111111111111,\"#46039f\"],[0.2222222222222222,\"#7201a8\"],[0.3333333333333333,\"#9c179e\"],[0.4444444444444444,\"#bd3786\"],[0.5555555555555556,\"#d8576b\"],[0.6666666666666666,\"#ed7953\"],[0.7777777777777778,\"#fb9f3a\"],[0.8888888888888888,\"#fdca26\"],[1.0,\"#f0f921\"]]}],\"heatmap\":[{\"type\":\"heatmap\",\"colorbar\":{\"outlinewidth\":0,\"ticks\":\"\"},\"colorscale\":[[0.0,\"#0d0887\"],[0.1111111111111111,\"#46039f\"],[0.2222222222222222,\"#7201a8\"],[0.3333333333333333,\"#9c179e\"],[0.4444444444444444,\"#bd3786\"],[0.5555555555555556,\"#d8576b\"],[0.6666666666666666,\"#ed7953\"],[0.7777777777777778,\"#fb9f3a\"],[0.8888888888888888,\"#fdca26\"],[1.0,\"#f0f921\"]]}],\"heatmapgl\":[{\"type\":\"heatmapgl\",\"colorbar\":{\"outlinewidth\":0,\"ticks\":\"\"},\"colorscale\":[[0.0,\"#0d0887\"],[0.1111111111111111,\"#46039f\"],[0.2222222222222222,\"#7201a8\"],[0.3333333333333333,\"#9c179e\"],[0.4444444444444444,\"#bd3786\"],[0.5555555555555556,\"#d8576b\"],[0.6666666666666666,\"#ed7953\"],[0.7777777777777778,\"#fb9f3a\"],[0.8888888888888888,\"#fdca26\"],[1.0,\"#f0f921\"]]}],\"contourcarpet\":[{\"type\":\"contourcarpet\",\"colorbar\":{\"outlinewidth\":0,\"ticks\":\"\"}}],\"contour\":[{\"type\":\"contour\",\"colorbar\":{\"outlinewidth\":0,\"ticks\":\"\"},\"colorscale\":[[0.0,\"#0d0887\"],[0.1111111111111111,\"#46039f\"],[0.2222222222222222,\"#7201a8\"],[0.3333333333333333,\"#9c179e\"],[0.4444444444444444,\"#bd3786\"],[0.5555555555555556,\"#d8576b\"],[0.6666666666666666,\"#ed7953\"],[0.7777777777777778,\"#fb9f3a\"],[0.8888888888888888,\"#fdca26\"],[1.0,\"#f0f921\"]]}],\"surface\":[{\"type\":\"surface\",\"colorbar\":{\"outlinewidth\":0,\"ticks\":\"\"},\"colorscale\":[[0.0,\"#0d0887\"],[0.1111111111111111,\"#46039f\"],[0.2222222222222222,\"#7201a8\"],[0.3333333333333333,\"#9c179e\"],[0.4444444444444444,\"#bd3786\"],[0.5555555555555556,\"#d8576b\"],[0.6666666666666666,\"#ed7953\"],[0.7777777777777778,\"#fb9f3a\"],[0.8888888888888888,\"#fdca26\"],[1.0,\"#f0f921\"]]}],\"mesh3d\":[{\"type\":\"mesh3d\",\"colorbar\":{\"outlinewidth\":0,\"ticks\":\"\"}}],\"scatter\":[{\"fillpattern\":{\"fillmode\":\"overlay\",\"size\":10,\"solidity\":0.2},\"type\":\"scatter\"}],\"parcoords\":[{\"type\":\"parcoords\",\"line\":{\"colorbar\":{\"outlinewidth\":0,\"ticks\":\"\"}}}],\"scatterpolargl\":[{\"type\":\"scatterpolargl\",\"marker\":{\"colorbar\":{\"outlinewidth\":0,\"ticks\":\"\"}}}],\"bar\":[{\"error_x\":{\"color\":\"#2a3f5f\"},\"error_y\":{\"color\":\"#2a3f5f\"},\"marker\":{\"line\":{\"color\":\"#E5ECF6\",\"width\":0.5},\"pattern\":{\"fillmode\":\"overlay\",\"size\":10,\"solidity\":0.2}},\"type\":\"bar\"}],\"scattergeo\":[{\"type\":\"scattergeo\",\"marker\":{\"colorbar\":{\"outlinewidth\":0,\"ticks\":\"\"}}}],\"scatterpolar\":[{\"type\":\"scatterpolar\",\"marker\":{\"colorbar\":{\"outlinewidth\":0,\"ticks\":\"\"}}}],\"histogram\":[{\"marker\":{\"pattern\":{\"fillmode\":\"overlay\",\"size\":10,\"solidity\":0.2}},\"type\":\"histogram\"}],\"scattergl\":[{\"type\":\"scattergl\",\"marker\":{\"colorbar\":{\"outlinewidth\":0,\"ticks\":\"\"}}}],\"scatter3d\":[{\"type\":\"scatter3d\",\"line\":{\"colorbar\":{\"outlinewidth\":0,\"ticks\":\"\"}},\"marker\":{\"colorbar\":{\"outlinewidth\":0,\"ticks\":\"\"}}}],\"scattermapbox\":[{\"type\":\"scattermapbox\",\"marker\":{\"colorbar\":{\"outlinewidth\":0,\"ticks\":\"\"}}}],\"scatterternary\":[{\"type\":\"scatterternary\",\"marker\":{\"colorbar\":{\"outlinewidth\":0,\"ticks\":\"\"}}}],\"scattercarpet\":[{\"type\":\"scattercarpet\",\"marker\":{\"colorbar\":{\"outlinewidth\":0,\"ticks\":\"\"}}}],\"carpet\":[{\"aaxis\":{\"endlinecolor\":\"#2a3f5f\",\"gridcolor\":\"white\",\"linecolor\":\"white\",\"minorgridcolor\":\"white\",\"startlinecolor\":\"#2a3f5f\"},\"baxis\":{\"endlinecolor\":\"#2a3f5f\",\"gridcolor\":\"white\",\"linecolor\":\"white\",\"minorgridcolor\":\"white\",\"startlinecolor\":\"#2a3f5f\"},\"type\":\"carpet\"}],\"table\":[{\"cells\":{\"fill\":{\"color\":\"#EBF0F8\"},\"line\":{\"color\":\"white\"}},\"header\":{\"fill\":{\"color\":\"#C8D4E3\"},\"line\":{\"color\":\"white\"}},\"type\":\"table\"}],\"barpolar\":[{\"marker\":{\"line\":{\"color\":\"#E5ECF6\",\"width\":0.5},\"pattern\":{\"fillmode\":\"overlay\",\"size\":10,\"solidity\":0.2}},\"type\":\"barpolar\"}],\"pie\":[{\"automargin\":true,\"type\":\"pie\"}]},\"layout\":{\"autotypenumbers\":\"strict\",\"colorway\":[\"#636efa\",\"#EF553B\",\"#00cc96\",\"#ab63fa\",\"#FFA15A\",\"#19d3f3\",\"#FF6692\",\"#B6E880\",\"#FF97FF\",\"#FECB52\"],\"font\":{\"color\":\"#2a3f5f\"},\"hovermode\":\"closest\",\"hoverlabel\":{\"align\":\"left\"},\"paper_bgcolor\":\"white\",\"plot_bgcolor\":\"#E5ECF6\",\"polar\":{\"bgcolor\":\"#E5ECF6\",\"angularaxis\":{\"gridcolor\":\"white\",\"linecolor\":\"white\",\"ticks\":\"\"},\"radialaxis\":{\"gridcolor\":\"white\",\"linecolor\":\"white\",\"ticks\":\"\"}},\"ternary\":{\"bgcolor\":\"#E5ECF6\",\"aaxis\":{\"gridcolor\":\"white\",\"linecolor\":\"white\",\"ticks\":\"\"},\"baxis\":{\"gridcolor\":\"white\",\"linecolor\":\"white\",\"ticks\":\"\"},\"caxis\":{\"gridcolor\":\"white\",\"linecolor\":\"white\",\"ticks\":\"\"}},\"coloraxis\":{\"colorbar\":{\"outlinewidth\":0,\"ticks\":\"\"}},\"colorscale\":{\"sequential\":[[0.0,\"#0d0887\"],[0.1111111111111111,\"#46039f\"],[0.2222222222222222,\"#7201a8\"],[0.3333333333333333,\"#9c179e\"],[0.4444444444444444,\"#bd3786\"],[0.5555555555555556,\"#d8576b\"],[0.6666666666666666,\"#ed7953\"],[0.7777777777777778,\"#fb9f3a\"],[0.8888888888888888,\"#fdca26\"],[1.0,\"#f0f921\"]],\"sequentialminus\":[[0.0,\"#0d0887\"],[0.1111111111111111,\"#46039f\"],[0.2222222222222222,\"#7201a8\"],[0.3333333333333333,\"#9c179e\"],[0.4444444444444444,\"#bd3786\"],[0.5555555555555556,\"#d8576b\"],[0.6666666666666666,\"#ed7953\"],[0.7777777777777778,\"#fb9f3a\"],[0.8888888888888888,\"#fdca26\"],[1.0,\"#f0f921\"]],\"diverging\":[[0,\"#8e0152\"],[0.1,\"#c51b7d\"],[0.2,\"#de77ae\"],[0.3,\"#f1b6da\"],[0.4,\"#fde0ef\"],[0.5,\"#f7f7f7\"],[0.6,\"#e6f5d0\"],[0.7,\"#b8e186\"],[0.8,\"#7fbc41\"],[0.9,\"#4d9221\"],[1,\"#276419\"]]},\"xaxis\":{\"gridcolor\":\"white\",\"linecolor\":\"white\",\"ticks\":\"\",\"title\":{\"standoff\":15},\"zerolinecolor\":\"white\",\"automargin\":true,\"zerolinewidth\":2},\"yaxis\":{\"gridcolor\":\"white\",\"linecolor\":\"white\",\"ticks\":\"\",\"title\":{\"standoff\":15},\"zerolinecolor\":\"white\",\"automargin\":true,\"zerolinewidth\":2},\"scene\":{\"xaxis\":{\"backgroundcolor\":\"#E5ECF6\",\"gridcolor\":\"white\",\"linecolor\":\"white\",\"showbackground\":true,\"ticks\":\"\",\"zerolinecolor\":\"white\",\"gridwidth\":2},\"yaxis\":{\"backgroundcolor\":\"#E5ECF6\",\"gridcolor\":\"white\",\"linecolor\":\"white\",\"showbackground\":true,\"ticks\":\"\",\"zerolinecolor\":\"white\",\"gridwidth\":2},\"zaxis\":{\"backgroundcolor\":\"#E5ECF6\",\"gridcolor\":\"white\",\"linecolor\":\"white\",\"showbackground\":true,\"ticks\":\"\",\"zerolinecolor\":\"white\",\"gridwidth\":2}},\"shapedefaults\":{\"line\":{\"color\":\"#2a3f5f\"}},\"annotationdefaults\":{\"arrowcolor\":\"#2a3f5f\",\"arrowhead\":0,\"arrowwidth\":1},\"geo\":{\"bgcolor\":\"white\",\"landcolor\":\"#E5ECF6\",\"subunitcolor\":\"white\",\"showland\":true,\"showlakes\":true,\"lakecolor\":\"white\"},\"title\":{\"x\":0.05},\"mapbox\":{\"style\":\"light\"}}},\"xaxis\":{\"anchor\":\"y\",\"domain\":[0.0,1.0],\"scaleanchor\":\"y\",\"constrain\":\"domain\"},\"yaxis\":{\"anchor\":\"x\",\"domain\":[0.0,1.0],\"autorange\":\"reversed\",\"constrain\":\"domain\"},\"coloraxis\":{\"colorscale\":[[0.0,\"#0d0887\"],[0.1111111111111111,\"#46039f\"],[0.2222222222222222,\"#7201a8\"],[0.3333333333333333,\"#9c179e\"],[0.4444444444444444,\"#bd3786\"],[0.5555555555555556,\"#d8576b\"],[0.6666666666666666,\"#ed7953\"],[0.7777777777777778,\"#fb9f3a\"],[0.8888888888888888,\"#fdca26\"],[1.0,\"#f0f921\"]]},\"margin\":{\"t\":60}},                        {\"responsive\": true}                    ).then(function(){\n",
       "                            \n",
       "var gd = document.getElementById('a3de617b-6995-4cd3-a076-c594fc5382aa');\n",
       "var x = new MutationObserver(function (mutations, observer) {{\n",
       "        var display = window.getComputedStyle(gd).display;\n",
       "        if (!display || display === 'none') {{\n",
       "            console.log([gd, 'removed!']);\n",
       "            Plotly.purge(gd);\n",
       "            observer.disconnect();\n",
       "        }}\n",
       "}});\n",
       "\n",
       "// Listen for the removal of the full notebook cells\n",
       "var notebookContainer = gd.closest('#notebook-container');\n",
       "if (notebookContainer) {{\n",
       "    x.observe(notebookContainer, {childList: true});\n",
       "}}\n",
       "\n",
       "// Listen for the clearing of the current output cell\n",
       "var outputEl = gd.closest('.output');\n",
       "if (outputEl) {{\n",
       "    x.observe(outputEl, {childList: true});\n",
       "}}\n",
       "\n",
       "                        })                };                });            </script>        </div>"
      ]
     },
     "metadata": {},
     "output_type": "display_data"
    }
   ],
   "source": [
    "corr = data.corr()\n",
    "fig = px.imshow(corr, text_auto=True)\n",
    "fig.show()"
   ]
  },
  {
   "cell_type": "markdown",
   "id": "d2369763",
   "metadata": {
    "papermill": {
     "duration": 0.028614,
     "end_time": "2022-05-10T13:51:45.413365",
     "exception": false,
     "start_time": "2022-05-10T13:51:45.384751",
     "status": "completed"
    },
    "tags": []
   },
   "source": [
    "# 4.Select Model"
   ]
  },
  {
   "cell_type": "code",
   "execution_count": 11,
   "id": "ffc082fa",
   "metadata": {
    "execution": {
     "iopub.execute_input": "2022-05-10T13:51:45.475728Z",
     "iopub.status.busy": "2022-05-10T13:51:45.475313Z",
     "iopub.status.idle": "2022-05-10T13:51:45.479485Z",
     "shell.execute_reply": "2022-05-10T13:51:45.478694Z"
    },
    "papermill": {
     "duration": 0.037671,
     "end_time": "2022-05-10T13:51:45.481390",
     "exception": false,
     "start_time": "2022-05-10T13:51:45.443719",
     "status": "completed"
    },
    "tags": []
   },
   "outputs": [],
   "source": [
    "X = features\n",
    "y = data['TARGET CLASS']"
   ]
  },
  {
   "cell_type": "code",
   "execution_count": 12,
   "id": "b7d8beb1",
   "metadata": {
    "execution": {
     "iopub.execute_input": "2022-05-10T13:51:45.539432Z",
     "iopub.status.busy": "2022-05-10T13:51:45.539146Z",
     "iopub.status.idle": "2022-05-10T13:51:45.544827Z",
     "shell.execute_reply": "2022-05-10T13:51:45.544186Z"
    },
    "papermill": {
     "duration": 0.037055,
     "end_time": "2022-05-10T13:51:45.546725",
     "exception": false,
     "start_time": "2022-05-10T13:51:45.509670",
     "status": "completed"
    },
    "tags": []
   },
   "outputs": [],
   "source": [
    "x_train, x_test, y_train, y_test = train_test_split(X, y, test_size = 0.2)"
   ]
  },
  {
   "cell_type": "code",
   "execution_count": 13,
   "id": "2952b515",
   "metadata": {
    "execution": {
     "iopub.execute_input": "2022-05-10T13:51:45.606249Z",
     "iopub.status.busy": "2022-05-10T13:51:45.605066Z",
     "iopub.status.idle": "2022-05-10T13:51:45.623484Z",
     "shell.execute_reply": "2022-05-10T13:51:45.622692Z"
    },
    "papermill": {
     "duration": 0.050484,
     "end_time": "2022-05-10T13:51:45.625658",
     "exception": false,
     "start_time": "2022-05-10T13:51:45.575174",
     "status": "completed"
    },
    "tags": []
   },
   "outputs": [],
   "source": [
    "knn_model = KNeighborsClassifier(n_neighbors = 2)\n",
    "knn_model.fit(x_train, y_train)\n",
    "KNeighborsClassifier(n_neighbors=2)\n",
    "y_pred = knn_model.predict(x_test)"
   ]
  },
  {
   "cell_type": "code",
   "execution_count": 14,
   "id": "9ad80da1",
   "metadata": {
    "execution": {
     "iopub.execute_input": "2022-05-10T13:51:45.684045Z",
     "iopub.status.busy": "2022-05-10T13:51:45.683471Z",
     "iopub.status.idle": "2022-05-10T13:51:45.691042Z",
     "shell.execute_reply": "2022-05-10T13:51:45.690342Z"
    },
    "papermill": {
     "duration": 0.039007,
     "end_time": "2022-05-10T13:51:45.693064",
     "exception": false,
     "start_time": "2022-05-10T13:51:45.654057",
     "status": "completed"
    },
    "tags": []
   },
   "outputs": [
    {
     "name": "stdout",
     "output_type": "stream",
     "text": [
      "[[99  9]\n",
      " [11 81]]\n"
     ]
    }
   ],
   "source": [
    "print(confusion_matrix(y_test, y_pred))"
   ]
  },
  {
   "cell_type": "code",
   "execution_count": 15,
   "id": "67d9fad5",
   "metadata": {
    "execution": {
     "iopub.execute_input": "2022-05-10T13:51:45.751416Z",
     "iopub.status.busy": "2022-05-10T13:51:45.750747Z",
     "iopub.status.idle": "2022-05-10T13:51:45.759841Z",
     "shell.execute_reply": "2022-05-10T13:51:45.759074Z"
    },
    "papermill": {
     "duration": 0.040632,
     "end_time": "2022-05-10T13:51:45.762024",
     "exception": false,
     "start_time": "2022-05-10T13:51:45.721392",
     "status": "completed"
    },
    "tags": []
   },
   "outputs": [
    {
     "name": "stdout",
     "output_type": "stream",
     "text": [
      "              precision    recall  f1-score   support\n",
      "\n",
      "           0       0.90      0.92      0.91       108\n",
      "           1       0.90      0.88      0.89        92\n",
      "\n",
      "    accuracy                           0.90       200\n",
      "   macro avg       0.90      0.90      0.90       200\n",
      "weighted avg       0.90      0.90      0.90       200\n",
      "\n"
     ]
    }
   ],
   "source": [
    "print(classification_report(y_test, y_pred))"
   ]
  },
  {
   "cell_type": "code",
   "execution_count": 16,
   "id": "c887ba29",
   "metadata": {
    "execution": {
     "iopub.execute_input": "2022-05-10T13:51:45.821640Z",
     "iopub.status.busy": "2022-05-10T13:51:45.821359Z",
     "iopub.status.idle": "2022-05-10T13:51:45.838916Z",
     "shell.execute_reply": "2022-05-10T13:51:45.837535Z"
    },
    "papermill": {
     "duration": 0.050984,
     "end_time": "2022-05-10T13:51:45.842116",
     "exception": false,
     "start_time": "2022-05-10T13:51:45.791132",
     "status": "completed"
    },
    "tags": []
   },
   "outputs": [
    {
     "name": "stdout",
     "output_type": "stream",
     "text": [
      "KNN Model Accuracy: 90.0 %\n"
     ]
    }
   ],
   "source": [
    "model_acc = knn_model.score(x_test, y_test)\n",
    "print('KNN Model Accuracy:', model_acc * 100, '%')"
   ]
  },
  {
   "cell_type": "code",
   "execution_count": 17,
   "id": "60bca31a",
   "metadata": {
    "execution": {
     "iopub.execute_input": "2022-05-10T13:51:45.903328Z",
     "iopub.status.busy": "2022-05-10T13:51:45.902966Z",
     "iopub.status.idle": "2022-05-10T13:51:46.421094Z",
     "shell.execute_reply": "2022-05-10T13:51:46.420434Z"
    },
    "papermill": {
     "duration": 0.55136,
     "end_time": "2022-05-10T13:51:46.423348",
     "exception": false,
     "start_time": "2022-05-10T13:51:45.871988",
     "status": "completed"
    },
    "tags": []
   },
   "outputs": [],
   "source": [
    "error_rate = []\n",
    "\n",
    "for i in range(1, 40):\n",
    "    knn_model = KNeighborsClassifier(n_neighbors = i)\n",
    "    knn_model.fit(x_train, y_train)\n",
    "    knn_y_pred = knn_model.predict(x_test)\n",
    "    error_rate.append(np.mean(knn_y_pred != y_test))\n"
   ]
  },
  {
   "cell_type": "code",
   "execution_count": 18,
   "id": "12fed730",
   "metadata": {
    "execution": {
     "iopub.execute_input": "2022-05-10T13:51:46.483795Z",
     "iopub.status.busy": "2022-05-10T13:51:46.483037Z",
     "iopub.status.idle": "2022-05-10T13:51:46.507197Z",
     "shell.execute_reply": "2022-05-10T13:51:46.506379Z"
    },
    "papermill": {
     "duration": 0.057456,
     "end_time": "2022-05-10T13:51:46.510041",
     "exception": false,
     "start_time": "2022-05-10T13:51:46.452585",
     "status": "completed"
    },
    "tags": []
   },
   "outputs": [
    {
     "name": "stdout",
     "output_type": "stream",
     "text": [
      "WITH K = 1\n",
      "\n",
      "\n",
      "[[96 12]\n",
      " [ 6 86]]\n",
      "\n",
      "\n",
      "              precision    recall  f1-score   support\n",
      "\n",
      "           0       0.94      0.89      0.91       108\n",
      "           1       0.88      0.93      0.91        92\n",
      "\n",
      "    accuracy                           0.91       200\n",
      "   macro avg       0.91      0.91      0.91       200\n",
      "weighted avg       0.91      0.91      0.91       200\n",
      "\n"
     ]
    }
   ],
   "source": [
    "knn_model = KNeighborsClassifier(n_neighbors = 1)\n",
    "\n",
    "knn_model.fit(x_train, y_train)\n",
    "k_pred = knn_model.predict(x_test)\n",
    "\n",
    "print('WITH K = 1')\n",
    "print('\\n')\n",
    "print(confusion_matrix(y_test, k_pred))\n",
    "print('\\n')\n",
    "print(classification_report(y_test, k_pred))"
   ]
  },
  {
   "cell_type": "code",
   "execution_count": 19,
   "id": "a3bd9efe",
   "metadata": {
    "execution": {
     "iopub.execute_input": "2022-05-10T13:51:46.572499Z",
     "iopub.status.busy": "2022-05-10T13:51:46.571892Z",
     "iopub.status.idle": "2022-05-10T13:51:46.617636Z",
     "shell.execute_reply": "2022-05-10T13:51:46.616615Z"
    },
    "papermill": {
     "duration": 0.080421,
     "end_time": "2022-05-10T13:51:46.620982",
     "exception": false,
     "start_time": "2022-05-10T13:51:46.540561",
     "status": "completed"
    },
    "tags": []
   },
   "outputs": [
    {
     "name": "stdout",
     "output_type": "stream",
     "text": [
      "K = 1 Training Accuracy: 100.0 %\n",
      "K = 1 Test Accuracy: 91.0 %\n"
     ]
    }
   ],
   "source": [
    "one_k_train_accuracy = knn_model.score(x_train, y_train)\n",
    "print('K = 1 Training Accuracy:', one_k_train_accuracy * 100, '%')\n",
    "\n",
    "one_k_test_accuracy = knn_model.score(x_test, y_test)\n",
    "print('K = 1 Test Accuracy:', one_k_test_accuracy * 100, '%')"
   ]
  },
  {
   "cell_type": "code",
   "execution_count": 20,
   "id": "d54dbd0f",
   "metadata": {
    "execution": {
     "iopub.execute_input": "2022-05-10T13:51:46.683378Z",
     "iopub.status.busy": "2022-05-10T13:51:46.682862Z",
     "iopub.status.idle": "2022-05-10T13:51:46.708746Z",
     "shell.execute_reply": "2022-05-10T13:51:46.708067Z"
    },
    "papermill": {
     "duration": 0.060133,
     "end_time": "2022-05-10T13:51:46.711807",
     "exception": false,
     "start_time": "2022-05-10T13:51:46.651674",
     "status": "completed"
    },
    "tags": []
   },
   "outputs": [
    {
     "name": "stdout",
     "output_type": "stream",
     "text": [
      "WITH K = 24\n",
      "\n",
      "\n",
      "[[94 14]\n",
      " [ 3 89]]\n",
      "\n",
      "\n",
      "              precision    recall  f1-score   support\n",
      "\n",
      "           0       0.97      0.87      0.92       108\n",
      "           1       0.86      0.97      0.91        92\n",
      "\n",
      "    accuracy                           0.92       200\n",
      "   macro avg       0.92      0.92      0.91       200\n",
      "weighted avg       0.92      0.92      0.92       200\n",
      "\n"
     ]
    }
   ],
   "source": [
    "knn_model = KNeighborsClassifier(n_neighbors = 24)\n",
    "\n",
    "knn_model.fit(x_train, y_train)\n",
    "k_pred = knn_model.predict(x_test)\n",
    "\n",
    "print('WITH K = 24')\n",
    "print('\\n')\n",
    "print(confusion_matrix(y_test, k_pred))\n",
    "print('\\n')\n",
    "print(classification_report(y_test, k_pred))"
   ]
  },
  {
   "cell_type": "code",
   "execution_count": 21,
   "id": "dbfd4f63",
   "metadata": {
    "execution": {
     "iopub.execute_input": "2022-05-10T13:51:46.775620Z",
     "iopub.status.busy": "2022-05-10T13:51:46.774638Z",
     "iopub.status.idle": "2022-05-10T13:51:46.839840Z",
     "shell.execute_reply": "2022-05-10T13:51:46.838716Z"
    },
    "papermill": {
     "duration": 0.09939,
     "end_time": "2022-05-10T13:51:46.842690",
     "exception": false,
     "start_time": "2022-05-10T13:51:46.743300",
     "status": "completed"
    },
    "tags": []
   },
   "outputs": [
    {
     "name": "stdout",
     "output_type": "stream",
     "text": [
      "K = 10 Training Accuracy: 94.375 %\n",
      "K = 24 Test Accuracy: 91.5 %\n"
     ]
    }
   ],
   "source": [
    "twentyfour_k_train_accuracy = knn_model.score(x_train, y_train)\n",
    "print('K = 10 Training Accuracy:', twentyfour_k_train_accuracy * 100, '%')\n",
    "\n",
    "twentyfour_k_test_accuracy = knn_model.score(x_test, y_test)\n",
    "print('K = 24 Test Accuracy:', twentyfour_k_test_accuracy * 100, '%')"
   ]
  }
 ],
 "metadata": {
  "kernelspec": {
   "display_name": "Python 3",
   "language": "python",
   "name": "python3"
  },
  "language_info": {
   "codemirror_mode": {
    "name": "ipython",
    "version": 3
   },
   "file_extension": ".py",
   "mimetype": "text/x-python",
   "name": "python",
   "nbconvert_exporter": "python",
   "pygments_lexer": "ipython3",
   "version": "3.7.12"
  },
  "papermill": {
   "default_parameters": {},
   "duration": 17.712727,
   "end_time": "2022-05-10T13:51:47.694631",
   "environment_variables": {},
   "exception": null,
   "input_path": "__notebook__.ipynb",
   "output_path": "__notebook__.ipynb",
   "parameters": {},
   "start_time": "2022-05-10T13:51:29.981904",
   "version": "2.3.4"
  }
 },
 "nbformat": 4,
 "nbformat_minor": 5
}
