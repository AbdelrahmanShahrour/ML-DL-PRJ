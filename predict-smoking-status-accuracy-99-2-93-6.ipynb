{
 "cells": [
  {
   "cell_type": "markdown",
   "id": "d4975065",
   "metadata": {
    "papermill": {
     "duration": 0.02816,
     "end_time": "2022-05-15T06:56:44.960400",
     "exception": false,
     "start_time": "2022-05-15T06:56:44.932240",
     "status": "completed"
    },
    "tags": []
   },
   "source": [
    "\n",
    "# Introduction\n",
    "\n",
    "## Smoking Status & Prediction Dataset\n",
    "\n",
    "- A dataset for Body signal of smoking\n",
    "\n",
    "\n",
    "### About Dataset\n",
    "\n",
    "##### This dataset is a collection of basic health biological signal data.\n",
    "\n",
    "- The goal is to determine the presence or absence of smoking through bio-signals.\n",
    "\n",
    "- The dataset is divided into type.\n",
    "\n",
    "#### columns\n",
    "##### data shape : (55692, 27)\n",
    "\n",
    "- ID : index\n",
    "- gender\n",
    "- age : 5-years gap\n",
    "- height(cm)\n",
    "- weight(kg)\n",
    "- waist(cm) : Waist circumference length\n",
    "- eyesight(left)\n",
    "- eyesight(right)\n",
    "- hearing(left)\n",
    "- hearing(right)\n",
    "- systolic : Blood pressure\n",
    "- relaxation : Blood pressure\n",
    "- fasting blood sugar\n",
    "- Cholesterol : total\n",
    "- triglyceride\n",
    "- HDL : cholesterol type\n",
    "- LDL : cholesterol type\n",
    "- hemoglobin\n",
    "- Urine protein\n",
    "- serum creatinine\n",
    "- AST : glutamic oxaloacetic transaminase type\n",
    "- ALT : glutamic oxaloacetic transaminase type\n",
    "- Gtp : γ-GTP\n",
    "- oral : Oral Examination status\n",
    "- dental caries\n",
    "- tartar : tartar status\n",
    "- smoking : 0 or 1\n",
    "\n",
    "\n",
    "# Work plan 🤝🤝🤝🤝🤝\n",
    "\n",
    "- 1- Data Exploration & Analysis 🤝🤝🤝\n",
    "- 2- Building a Machine Learning Model / classification score Volume\n",
    "\n",
    "\n",
    "# Data Exploration & Analysis 🤝🤝🤝\n"
   ]
  },
  {
   "cell_type": "code",
   "execution_count": 1,
   "id": "15a1e11c",
   "metadata": {
    "execution": {
     "iopub.execute_input": "2022-05-15T06:56:45.016855Z",
     "iopub.status.busy": "2022-05-15T06:56:45.016114Z",
     "iopub.status.idle": "2022-05-15T06:56:46.996373Z",
     "shell.execute_reply": "2022-05-15T06:56:46.995667Z"
    },
    "papermill": {
     "duration": 2.011805,
     "end_time": "2022-05-15T06:56:46.998983",
     "exception": false,
     "start_time": "2022-05-15T06:56:44.987178",
     "status": "completed"
    },
    "tags": []
   },
   "outputs": [],
   "source": [
    "#Importing the basic librarires fot analysis\n",
    "\n",
    "import numpy as np\n",
    "import pandas as pd\n",
    "import seaborn as sns\n",
    "import matplotlib.pyplot as plt\n",
    "plt.style.use(\"ggplot\")  #using style ggplot\n",
    "\n",
    "%matplotlib inline\n",
    "import plotly.graph_objects as go\n",
    "import plotly.express as px"
   ]
  },
  {
   "cell_type": "code",
   "execution_count": 2,
   "id": "7757c0bb",
   "metadata": {
    "execution": {
     "iopub.execute_input": "2022-05-15T06:56:47.054071Z",
     "iopub.status.busy": "2022-05-15T06:56:47.053614Z",
     "iopub.status.idle": "2022-05-15T06:56:47.317202Z",
     "shell.execute_reply": "2022-05-15T06:56:47.316376Z"
    },
    "papermill": {
     "duration": 0.293225,
     "end_time": "2022-05-15T06:56:47.319055",
     "exception": false,
     "start_time": "2022-05-15T06:56:47.025830",
     "status": "completed"
    },
    "tags": []
   },
   "outputs": [
    {
     "data": {
      "text/html": [
       "<div>\n",
       "<style scoped>\n",
       "    .dataframe tbody tr th:only-of-type {\n",
       "        vertical-align: middle;\n",
       "    }\n",
       "\n",
       "    .dataframe tbody tr th {\n",
       "        vertical-align: top;\n",
       "    }\n",
       "\n",
       "    .dataframe thead th {\n",
       "        text-align: right;\n",
       "    }\n",
       "</style>\n",
       "<table border=\"1\" class=\"dataframe\">\n",
       "  <thead>\n",
       "    <tr style=\"text-align: right;\">\n",
       "      <th></th>\n",
       "      <th>ID</th>\n",
       "      <th>gender</th>\n",
       "      <th>age</th>\n",
       "      <th>height(cm)</th>\n",
       "      <th>weight(kg)</th>\n",
       "      <th>waist(cm)</th>\n",
       "      <th>eyesight(left)</th>\n",
       "      <th>eyesight(right)</th>\n",
       "      <th>hearing(left)</th>\n",
       "      <th>hearing(right)</th>\n",
       "      <th>...</th>\n",
       "      <th>hemoglobin</th>\n",
       "      <th>Urine protein</th>\n",
       "      <th>serum creatinine</th>\n",
       "      <th>AST</th>\n",
       "      <th>ALT</th>\n",
       "      <th>Gtp</th>\n",
       "      <th>oral</th>\n",
       "      <th>dental caries</th>\n",
       "      <th>tartar</th>\n",
       "      <th>smoking</th>\n",
       "    </tr>\n",
       "  </thead>\n",
       "  <tbody>\n",
       "    <tr>\n",
       "      <th>0</th>\n",
       "      <td>0</td>\n",
       "      <td>F</td>\n",
       "      <td>40</td>\n",
       "      <td>155</td>\n",
       "      <td>60</td>\n",
       "      <td>81.3</td>\n",
       "      <td>1.2</td>\n",
       "      <td>1.0</td>\n",
       "      <td>1.0</td>\n",
       "      <td>1.0</td>\n",
       "      <td>...</td>\n",
       "      <td>12.9</td>\n",
       "      <td>1.0</td>\n",
       "      <td>0.7</td>\n",
       "      <td>18.0</td>\n",
       "      <td>19.0</td>\n",
       "      <td>27.0</td>\n",
       "      <td>Y</td>\n",
       "      <td>0</td>\n",
       "      <td>Y</td>\n",
       "      <td>0</td>\n",
       "    </tr>\n",
       "    <tr>\n",
       "      <th>1</th>\n",
       "      <td>1</td>\n",
       "      <td>F</td>\n",
       "      <td>40</td>\n",
       "      <td>160</td>\n",
       "      <td>60</td>\n",
       "      <td>81.0</td>\n",
       "      <td>0.8</td>\n",
       "      <td>0.6</td>\n",
       "      <td>1.0</td>\n",
       "      <td>1.0</td>\n",
       "      <td>...</td>\n",
       "      <td>12.7</td>\n",
       "      <td>1.0</td>\n",
       "      <td>0.6</td>\n",
       "      <td>22.0</td>\n",
       "      <td>19.0</td>\n",
       "      <td>18.0</td>\n",
       "      <td>Y</td>\n",
       "      <td>0</td>\n",
       "      <td>Y</td>\n",
       "      <td>0</td>\n",
       "    </tr>\n",
       "    <tr>\n",
       "      <th>2</th>\n",
       "      <td>2</td>\n",
       "      <td>M</td>\n",
       "      <td>55</td>\n",
       "      <td>170</td>\n",
       "      <td>60</td>\n",
       "      <td>80.0</td>\n",
       "      <td>0.8</td>\n",
       "      <td>0.8</td>\n",
       "      <td>1.0</td>\n",
       "      <td>1.0</td>\n",
       "      <td>...</td>\n",
       "      <td>15.8</td>\n",
       "      <td>1.0</td>\n",
       "      <td>1.0</td>\n",
       "      <td>21.0</td>\n",
       "      <td>16.0</td>\n",
       "      <td>22.0</td>\n",
       "      <td>Y</td>\n",
       "      <td>0</td>\n",
       "      <td>N</td>\n",
       "      <td>1</td>\n",
       "    </tr>\n",
       "    <tr>\n",
       "      <th>3</th>\n",
       "      <td>3</td>\n",
       "      <td>M</td>\n",
       "      <td>40</td>\n",
       "      <td>165</td>\n",
       "      <td>70</td>\n",
       "      <td>88.0</td>\n",
       "      <td>1.5</td>\n",
       "      <td>1.5</td>\n",
       "      <td>1.0</td>\n",
       "      <td>1.0</td>\n",
       "      <td>...</td>\n",
       "      <td>14.7</td>\n",
       "      <td>1.0</td>\n",
       "      <td>1.0</td>\n",
       "      <td>19.0</td>\n",
       "      <td>26.0</td>\n",
       "      <td>18.0</td>\n",
       "      <td>Y</td>\n",
       "      <td>0</td>\n",
       "      <td>Y</td>\n",
       "      <td>0</td>\n",
       "    </tr>\n",
       "    <tr>\n",
       "      <th>4</th>\n",
       "      <td>4</td>\n",
       "      <td>F</td>\n",
       "      <td>40</td>\n",
       "      <td>155</td>\n",
       "      <td>60</td>\n",
       "      <td>86.0</td>\n",
       "      <td>1.0</td>\n",
       "      <td>1.0</td>\n",
       "      <td>1.0</td>\n",
       "      <td>1.0</td>\n",
       "      <td>...</td>\n",
       "      <td>12.5</td>\n",
       "      <td>1.0</td>\n",
       "      <td>0.6</td>\n",
       "      <td>16.0</td>\n",
       "      <td>14.0</td>\n",
       "      <td>22.0</td>\n",
       "      <td>Y</td>\n",
       "      <td>0</td>\n",
       "      <td>N</td>\n",
       "      <td>0</td>\n",
       "    </tr>\n",
       "  </tbody>\n",
       "</table>\n",
       "<p>5 rows × 27 columns</p>\n",
       "</div>"
      ],
      "text/plain": [
       "   ID gender  age  height(cm)  weight(kg)  waist(cm)  eyesight(left)  \\\n",
       "0   0      F   40         155          60       81.3             1.2   \n",
       "1   1      F   40         160          60       81.0             0.8   \n",
       "2   2      M   55         170          60       80.0             0.8   \n",
       "3   3      M   40         165          70       88.0             1.5   \n",
       "4   4      F   40         155          60       86.0             1.0   \n",
       "\n",
       "   eyesight(right)  hearing(left)  hearing(right)  ...  hemoglobin  \\\n",
       "0              1.0            1.0             1.0  ...        12.9   \n",
       "1              0.6            1.0             1.0  ...        12.7   \n",
       "2              0.8            1.0             1.0  ...        15.8   \n",
       "3              1.5            1.0             1.0  ...        14.7   \n",
       "4              1.0            1.0             1.0  ...        12.5   \n",
       "\n",
       "   Urine protein  serum creatinine   AST   ALT   Gtp  oral  dental caries  \\\n",
       "0            1.0               0.7  18.0  19.0  27.0     Y              0   \n",
       "1            1.0               0.6  22.0  19.0  18.0     Y              0   \n",
       "2            1.0               1.0  21.0  16.0  22.0     Y              0   \n",
       "3            1.0               1.0  19.0  26.0  18.0     Y              0   \n",
       "4            1.0               0.6  16.0  14.0  22.0     Y              0   \n",
       "\n",
       "   tartar  smoking  \n",
       "0       Y        0  \n",
       "1       Y        0  \n",
       "2       N        1  \n",
       "3       Y        0  \n",
       "4       N        0  \n",
       "\n",
       "[5 rows x 27 columns]"
      ]
     },
     "execution_count": 2,
     "metadata": {},
     "output_type": "execute_result"
    }
   ],
   "source": [
    "#Importing the dataset\n",
    "df =pd.read_csv(\"../input/body-signal-of-smoking/smoking.csv\")\n",
    "\n",
    "\n",
    "# look the data set\n",
    "df.head()"
   ]
  },
  {
   "cell_type": "code",
   "execution_count": 3,
   "id": "234d4d99",
   "metadata": {
    "execution": {
     "iopub.execute_input": "2022-05-15T06:56:47.377050Z",
     "iopub.status.busy": "2022-05-15T06:56:47.376503Z",
     "iopub.status.idle": "2022-05-15T06:56:47.381553Z",
     "shell.execute_reply": "2022-05-15T06:56:47.380984Z"
    },
    "papermill": {
     "duration": 0.036601,
     "end_time": "2022-05-15T06:56:47.383266",
     "exception": false,
     "start_time": "2022-05-15T06:56:47.346665",
     "status": "completed"
    },
    "tags": []
   },
   "outputs": [
    {
     "data": {
      "text/plain": [
       "(55692, 27)"
      ]
     },
     "execution_count": 3,
     "metadata": {},
     "output_type": "execute_result"
    }
   ],
   "source": [
    "# looking the shape DataSet\n",
    "df.shape"
   ]
  },
  {
   "cell_type": "code",
   "execution_count": 4,
   "id": "0c2c3c11",
   "metadata": {
    "execution": {
     "iopub.execute_input": "2022-05-15T06:56:47.438703Z",
     "iopub.status.busy": "2022-05-15T06:56:47.438192Z",
     "iopub.status.idle": "2022-05-15T06:56:47.470100Z",
     "shell.execute_reply": "2022-05-15T06:56:47.468838Z"
    },
    "papermill": {
     "duration": 0.062143,
     "end_time": "2022-05-15T06:56:47.472187",
     "exception": false,
     "start_time": "2022-05-15T06:56:47.410044",
     "status": "completed"
    },
    "tags": []
   },
   "outputs": [
    {
     "name": "stdout",
     "output_type": "stream",
     "text": [
      "<class 'pandas.core.frame.DataFrame'>\n",
      "RangeIndex: 55692 entries, 0 to 55691\n",
      "Data columns (total 27 columns):\n",
      " #   Column               Non-Null Count  Dtype  \n",
      "---  ------               --------------  -----  \n",
      " 0   ID                   55692 non-null  int64  \n",
      " 1   gender               55692 non-null  object \n",
      " 2   age                  55692 non-null  int64  \n",
      " 3   height(cm)           55692 non-null  int64  \n",
      " 4   weight(kg)           55692 non-null  int64  \n",
      " 5   waist(cm)            55692 non-null  float64\n",
      " 6   eyesight(left)       55692 non-null  float64\n",
      " 7   eyesight(right)      55692 non-null  float64\n",
      " 8   hearing(left)        55692 non-null  float64\n",
      " 9   hearing(right)       55692 non-null  float64\n",
      " 10  systolic             55692 non-null  float64\n",
      " 11  relaxation           55692 non-null  float64\n",
      " 12  fasting blood sugar  55692 non-null  float64\n",
      " 13  Cholesterol          55692 non-null  float64\n",
      " 14  triglyceride         55692 non-null  float64\n",
      " 15  HDL                  55692 non-null  float64\n",
      " 16  LDL                  55692 non-null  float64\n",
      " 17  hemoglobin           55692 non-null  float64\n",
      " 18  Urine protein        55692 non-null  float64\n",
      " 19  serum creatinine     55692 non-null  float64\n",
      " 20  AST                  55692 non-null  float64\n",
      " 21  ALT                  55692 non-null  float64\n",
      " 22  Gtp                  55692 non-null  float64\n",
      " 23  oral                 55692 non-null  object \n",
      " 24  dental caries        55692 non-null  int64  \n",
      " 25  tartar               55692 non-null  object \n",
      " 26  smoking              55692 non-null  int64  \n",
      "dtypes: float64(18), int64(6), object(3)\n",
      "memory usage: 11.5+ MB\n"
     ]
    }
   ],
   "source": [
    "#Checking the dtypes of all the columns\n",
    "\n",
    "df.info()"
   ]
  },
  {
   "cell_type": "code",
   "execution_count": 5,
   "id": "ea6a946c",
   "metadata": {
    "execution": {
     "iopub.execute_input": "2022-05-15T06:56:47.528189Z",
     "iopub.status.busy": "2022-05-15T06:56:47.527659Z",
     "iopub.status.idle": "2022-05-15T06:56:47.548288Z",
     "shell.execute_reply": "2022-05-15T06:56:47.547309Z"
    },
    "papermill": {
     "duration": 0.050745,
     "end_time": "2022-05-15T06:56:47.550460",
     "exception": false,
     "start_time": "2022-05-15T06:56:47.499715",
     "status": "completed"
    },
    "tags": []
   },
   "outputs": [
    {
     "name": "stdout",
     "output_type": "stream",
     "text": [
      "<class 'pandas.core.frame.DataFrame'>\n",
      "RangeIndex: 55692 entries, 0 to 55691\n",
      "Data columns (total 27 columns):\n",
      " #   Column               Non-Null Count  Dtype  \n",
      "---  ------               --------------  -----  \n",
      " 0   ID                   55692 non-null  int64  \n",
      " 1   gender               55692 non-null  object \n",
      " 2   age                  55692 non-null  int64  \n",
      " 3   height(cm)           55692 non-null  int64  \n",
      " 4   weight(kg)           55692 non-null  int64  \n",
      " 5   waist(cm)            55692 non-null  float64\n",
      " 6   eyesight(left)       55692 non-null  float64\n",
      " 7   eyesight(right)      55692 non-null  float64\n",
      " 8   hearing(left)        55692 non-null  float64\n",
      " 9   hearing(right)       55692 non-null  float64\n",
      " 10  systolic             55692 non-null  float64\n",
      " 11  relaxation           55692 non-null  float64\n",
      " 12  fasting blood sugar  55692 non-null  float64\n",
      " 13  Cholesterol          55692 non-null  float64\n",
      " 14  triglyceride         55692 non-null  float64\n",
      " 15  HDL                  55692 non-null  float64\n",
      " 16  LDL                  55692 non-null  float64\n",
      " 17  hemoglobin           55692 non-null  float64\n",
      " 18  Urine protein        55692 non-null  float64\n",
      " 19  serum creatinine     55692 non-null  float64\n",
      " 20  AST                  55692 non-null  float64\n",
      " 21  ALT                  55692 non-null  float64\n",
      " 22  Gtp                  55692 non-null  float64\n",
      " 23  oral                 55692 non-null  object \n",
      " 24  dental caries        55692 non-null  int64  \n",
      " 25  tartar               55692 non-null  object \n",
      " 26  smoking              55692 non-null  int64  \n",
      "dtypes: float64(18), int64(6), object(3)\n",
      "memory usage: 11.5+ MB\n"
     ]
    }
   ],
   "source": [
    "#Checking the dtypes of all the columns\n",
    "\n",
    "df.info()"
   ]
  },
  {
   "cell_type": "markdown",
   "id": "ecd45532",
   "metadata": {
    "papermill": {
     "duration": 0.027159,
     "end_time": "2022-05-15T06:56:47.605195",
     "exception": false,
     "start_time": "2022-05-15T06:56:47.578036",
     "status": "completed"
    },
    "tags": []
   },
   "source": [
    "- No any missing value"
   ]
  },
  {
   "cell_type": "code",
   "execution_count": 6,
   "id": "a735479a",
   "metadata": {
    "execution": {
     "iopub.execute_input": "2022-05-15T06:56:47.661339Z",
     "iopub.status.busy": "2022-05-15T06:56:47.661087Z",
     "iopub.status.idle": "2022-05-15T06:56:47.786560Z",
     "shell.execute_reply": "2022-05-15T06:56:47.785971Z"
    },
    "papermill": {
     "duration": 0.155685,
     "end_time": "2022-05-15T06:56:47.788305",
     "exception": false,
     "start_time": "2022-05-15T06:56:47.632620",
     "status": "completed"
    },
    "tags": []
   },
   "outputs": [
    {
     "data": {
      "text/html": [
       "<div>\n",
       "<style scoped>\n",
       "    .dataframe tbody tr th:only-of-type {\n",
       "        vertical-align: middle;\n",
       "    }\n",
       "\n",
       "    .dataframe tbody tr th {\n",
       "        vertical-align: top;\n",
       "    }\n",
       "\n",
       "    .dataframe thead th {\n",
       "        text-align: right;\n",
       "    }\n",
       "</style>\n",
       "<table border=\"1\" class=\"dataframe\">\n",
       "  <thead>\n",
       "    <tr style=\"text-align: right;\">\n",
       "      <th></th>\n",
       "      <th>ID</th>\n",
       "      <th>age</th>\n",
       "      <th>height(cm)</th>\n",
       "      <th>weight(kg)</th>\n",
       "      <th>waist(cm)</th>\n",
       "      <th>eyesight(left)</th>\n",
       "      <th>eyesight(right)</th>\n",
       "      <th>hearing(left)</th>\n",
       "      <th>hearing(right)</th>\n",
       "      <th>systolic</th>\n",
       "      <th>...</th>\n",
       "      <th>HDL</th>\n",
       "      <th>LDL</th>\n",
       "      <th>hemoglobin</th>\n",
       "      <th>Urine protein</th>\n",
       "      <th>serum creatinine</th>\n",
       "      <th>AST</th>\n",
       "      <th>ALT</th>\n",
       "      <th>Gtp</th>\n",
       "      <th>dental caries</th>\n",
       "      <th>smoking</th>\n",
       "    </tr>\n",
       "  </thead>\n",
       "  <tbody>\n",
       "    <tr>\n",
       "      <th>count</th>\n",
       "      <td>55692.00</td>\n",
       "      <td>55692.00</td>\n",
       "      <td>55692.00</td>\n",
       "      <td>55692.00</td>\n",
       "      <td>55692.00</td>\n",
       "      <td>55692.00</td>\n",
       "      <td>55692.00</td>\n",
       "      <td>55692.00</td>\n",
       "      <td>55692.00</td>\n",
       "      <td>55692.00</td>\n",
       "      <td>...</td>\n",
       "      <td>55692.00</td>\n",
       "      <td>55692.00</td>\n",
       "      <td>55692.00</td>\n",
       "      <td>55692.00</td>\n",
       "      <td>55692.00</td>\n",
       "      <td>55692.00</td>\n",
       "      <td>55692.00</td>\n",
       "      <td>55692.00</td>\n",
       "      <td>55692.00</td>\n",
       "      <td>55692.00</td>\n",
       "    </tr>\n",
       "    <tr>\n",
       "      <th>mean</th>\n",
       "      <td>27845.50</td>\n",
       "      <td>44.18</td>\n",
       "      <td>164.65</td>\n",
       "      <td>65.86</td>\n",
       "      <td>82.05</td>\n",
       "      <td>1.01</td>\n",
       "      <td>1.01</td>\n",
       "      <td>1.03</td>\n",
       "      <td>1.03</td>\n",
       "      <td>121.49</td>\n",
       "      <td>...</td>\n",
       "      <td>57.29</td>\n",
       "      <td>114.96</td>\n",
       "      <td>14.62</td>\n",
       "      <td>1.09</td>\n",
       "      <td>0.89</td>\n",
       "      <td>26.18</td>\n",
       "      <td>27.04</td>\n",
       "      <td>39.95</td>\n",
       "      <td>0.21</td>\n",
       "      <td>0.37</td>\n",
       "    </tr>\n",
       "    <tr>\n",
       "      <th>std</th>\n",
       "      <td>16077.04</td>\n",
       "      <td>12.07</td>\n",
       "      <td>9.19</td>\n",
       "      <td>12.82</td>\n",
       "      <td>9.27</td>\n",
       "      <td>0.49</td>\n",
       "      <td>0.49</td>\n",
       "      <td>0.16</td>\n",
       "      <td>0.16</td>\n",
       "      <td>13.68</td>\n",
       "      <td>...</td>\n",
       "      <td>14.74</td>\n",
       "      <td>40.93</td>\n",
       "      <td>1.56</td>\n",
       "      <td>0.40</td>\n",
       "      <td>0.22</td>\n",
       "      <td>19.36</td>\n",
       "      <td>30.95</td>\n",
       "      <td>50.29</td>\n",
       "      <td>0.41</td>\n",
       "      <td>0.48</td>\n",
       "    </tr>\n",
       "    <tr>\n",
       "      <th>min</th>\n",
       "      <td>0.00</td>\n",
       "      <td>20.00</td>\n",
       "      <td>130.00</td>\n",
       "      <td>30.00</td>\n",
       "      <td>51.00</td>\n",
       "      <td>0.10</td>\n",
       "      <td>0.10</td>\n",
       "      <td>1.00</td>\n",
       "      <td>1.00</td>\n",
       "      <td>71.00</td>\n",
       "      <td>...</td>\n",
       "      <td>4.00</td>\n",
       "      <td>1.00</td>\n",
       "      <td>4.90</td>\n",
       "      <td>1.00</td>\n",
       "      <td>0.10</td>\n",
       "      <td>6.00</td>\n",
       "      <td>1.00</td>\n",
       "      <td>1.00</td>\n",
       "      <td>0.00</td>\n",
       "      <td>0.00</td>\n",
       "    </tr>\n",
       "    <tr>\n",
       "      <th>25%</th>\n",
       "      <td>13922.75</td>\n",
       "      <td>40.00</td>\n",
       "      <td>160.00</td>\n",
       "      <td>55.00</td>\n",
       "      <td>76.00</td>\n",
       "      <td>0.80</td>\n",
       "      <td>0.80</td>\n",
       "      <td>1.00</td>\n",
       "      <td>1.00</td>\n",
       "      <td>112.00</td>\n",
       "      <td>...</td>\n",
       "      <td>47.00</td>\n",
       "      <td>92.00</td>\n",
       "      <td>13.60</td>\n",
       "      <td>1.00</td>\n",
       "      <td>0.80</td>\n",
       "      <td>19.00</td>\n",
       "      <td>15.00</td>\n",
       "      <td>17.00</td>\n",
       "      <td>0.00</td>\n",
       "      <td>0.00</td>\n",
       "    </tr>\n",
       "    <tr>\n",
       "      <th>50%</th>\n",
       "      <td>27845.50</td>\n",
       "      <td>40.00</td>\n",
       "      <td>165.00</td>\n",
       "      <td>65.00</td>\n",
       "      <td>82.00</td>\n",
       "      <td>1.00</td>\n",
       "      <td>1.00</td>\n",
       "      <td>1.00</td>\n",
       "      <td>1.00</td>\n",
       "      <td>120.00</td>\n",
       "      <td>...</td>\n",
       "      <td>55.00</td>\n",
       "      <td>113.00</td>\n",
       "      <td>14.80</td>\n",
       "      <td>1.00</td>\n",
       "      <td>0.90</td>\n",
       "      <td>23.00</td>\n",
       "      <td>21.00</td>\n",
       "      <td>25.00</td>\n",
       "      <td>0.00</td>\n",
       "      <td>0.00</td>\n",
       "    </tr>\n",
       "    <tr>\n",
       "      <th>75%</th>\n",
       "      <td>41768.25</td>\n",
       "      <td>55.00</td>\n",
       "      <td>170.00</td>\n",
       "      <td>75.00</td>\n",
       "      <td>88.00</td>\n",
       "      <td>1.20</td>\n",
       "      <td>1.20</td>\n",
       "      <td>1.00</td>\n",
       "      <td>1.00</td>\n",
       "      <td>130.00</td>\n",
       "      <td>...</td>\n",
       "      <td>66.00</td>\n",
       "      <td>136.00</td>\n",
       "      <td>15.80</td>\n",
       "      <td>1.00</td>\n",
       "      <td>1.00</td>\n",
       "      <td>28.00</td>\n",
       "      <td>31.00</td>\n",
       "      <td>43.00</td>\n",
       "      <td>0.00</td>\n",
       "      <td>1.00</td>\n",
       "    </tr>\n",
       "    <tr>\n",
       "      <th>max</th>\n",
       "      <td>55691.00</td>\n",
       "      <td>85.00</td>\n",
       "      <td>190.00</td>\n",
       "      <td>135.00</td>\n",
       "      <td>129.00</td>\n",
       "      <td>9.90</td>\n",
       "      <td>9.90</td>\n",
       "      <td>2.00</td>\n",
       "      <td>2.00</td>\n",
       "      <td>240.00</td>\n",
       "      <td>...</td>\n",
       "      <td>618.00</td>\n",
       "      <td>1860.00</td>\n",
       "      <td>21.10</td>\n",
       "      <td>6.00</td>\n",
       "      <td>11.60</td>\n",
       "      <td>1311.00</td>\n",
       "      <td>2914.00</td>\n",
       "      <td>999.00</td>\n",
       "      <td>1.00</td>\n",
       "      <td>1.00</td>\n",
       "    </tr>\n",
       "  </tbody>\n",
       "</table>\n",
       "<p>8 rows × 24 columns</p>\n",
       "</div>"
      ],
      "text/plain": [
       "             ID       age  height(cm)  weight(kg)  waist(cm)  eyesight(left)  \\\n",
       "count  55692.00  55692.00    55692.00    55692.00   55692.00        55692.00   \n",
       "mean   27845.50     44.18      164.65       65.86      82.05            1.01   \n",
       "std    16077.04     12.07        9.19       12.82       9.27            0.49   \n",
       "min        0.00     20.00      130.00       30.00      51.00            0.10   \n",
       "25%    13922.75     40.00      160.00       55.00      76.00            0.80   \n",
       "50%    27845.50     40.00      165.00       65.00      82.00            1.00   \n",
       "75%    41768.25     55.00      170.00       75.00      88.00            1.20   \n",
       "max    55691.00     85.00      190.00      135.00     129.00            9.90   \n",
       "\n",
       "       eyesight(right)  hearing(left)  hearing(right)  systolic  ...  \\\n",
       "count         55692.00       55692.00        55692.00  55692.00  ...   \n",
       "mean              1.01           1.03            1.03    121.49  ...   \n",
       "std               0.49           0.16            0.16     13.68  ...   \n",
       "min               0.10           1.00            1.00     71.00  ...   \n",
       "25%               0.80           1.00            1.00    112.00  ...   \n",
       "50%               1.00           1.00            1.00    120.00  ...   \n",
       "75%               1.20           1.00            1.00    130.00  ...   \n",
       "max               9.90           2.00            2.00    240.00  ...   \n",
       "\n",
       "            HDL       LDL  hemoglobin  Urine protein  serum creatinine  \\\n",
       "count  55692.00  55692.00    55692.00       55692.00          55692.00   \n",
       "mean      57.29    114.96       14.62           1.09              0.89   \n",
       "std       14.74     40.93        1.56           0.40              0.22   \n",
       "min        4.00      1.00        4.90           1.00              0.10   \n",
       "25%       47.00     92.00       13.60           1.00              0.80   \n",
       "50%       55.00    113.00       14.80           1.00              0.90   \n",
       "75%       66.00    136.00       15.80           1.00              1.00   \n",
       "max      618.00   1860.00       21.10           6.00             11.60   \n",
       "\n",
       "            AST       ALT       Gtp  dental caries   smoking  \n",
       "count  55692.00  55692.00  55692.00       55692.00  55692.00  \n",
       "mean      26.18     27.04     39.95           0.21      0.37  \n",
       "std       19.36     30.95     50.29           0.41      0.48  \n",
       "min        6.00      1.00      1.00           0.00      0.00  \n",
       "25%       19.00     15.00     17.00           0.00      0.00  \n",
       "50%       23.00     21.00     25.00           0.00      0.00  \n",
       "75%       28.00     31.00     43.00           0.00      1.00  \n",
       "max     1311.00   2914.00    999.00           1.00      1.00  \n",
       "\n",
       "[8 rows x 24 columns]"
      ]
     },
     "execution_count": 6,
     "metadata": {},
     "output_type": "execute_result"
    }
   ],
   "source": [
    "# look  describe data set\n",
    "df.describe().round(2)"
   ]
  },
  {
   "cell_type": "code",
   "execution_count": 7,
   "id": "7e5a0481",
   "metadata": {
    "execution": {
     "iopub.execute_input": "2022-05-15T06:56:47.846733Z",
     "iopub.status.busy": "2022-05-15T06:56:47.846123Z",
     "iopub.status.idle": "2022-05-15T06:56:47.880240Z",
     "shell.execute_reply": "2022-05-15T06:56:47.879653Z"
    },
    "papermill": {
     "duration": 0.06502,
     "end_time": "2022-05-15T06:56:47.881999",
     "exception": false,
     "start_time": "2022-05-15T06:56:47.816979",
     "status": "completed"
    },
    "tags": []
   },
   "outputs": [
    {
     "data": {
      "text/plain": [
       "oral                       1\n",
       "smoking                    2\n",
       "gender                     2\n",
       "dental caries              2\n",
       "hearing(left)              2\n",
       "hearing(right)             2\n",
       "tartar                     2\n",
       "Urine protein              6\n",
       "height(cm)                13\n",
       "age                       14\n",
       "eyesight(right)           17\n",
       "eyesight(left)            19\n",
       "weight(kg)                22\n",
       "serum creatinine          38\n",
       "relaxation                95\n",
       "HDL                      126\n",
       "systolic                 130\n",
       "hemoglobin               145\n",
       "AST                      219\n",
       "ALT                      245\n",
       "fasting blood sugar      276\n",
       "Cholesterol              286\n",
       "LDL                      289\n",
       "triglyceride             390\n",
       "Gtp                      488\n",
       "waist(cm)                566\n",
       "ID                     55692\n",
       "dtype: int64"
      ]
     },
     "execution_count": 7,
     "metadata": {},
     "output_type": "execute_result"
    }
   ],
   "source": [
    "# check unique value\n",
    "df.nunique().sort_values()"
   ]
  },
  {
   "cell_type": "markdown",
   "id": "94f94311",
   "metadata": {
    "papermill": {
     "duration": 0.028624,
     "end_time": "2022-05-15T06:56:47.939472",
     "exception": false,
     "start_time": "2022-05-15T06:56:47.910848",
     "status": "completed"
    },
    "tags": []
   },
   "source": [
    "# Some of Visualisations"
   ]
  },
  {
   "cell_type": "code",
   "execution_count": 8,
   "id": "75548cf3",
   "metadata": {
    "execution": {
     "iopub.execute_input": "2022-05-15T06:56:47.998361Z",
     "iopub.status.busy": "2022-05-15T06:56:47.997619Z",
     "iopub.status.idle": "2022-05-15T06:56:48.139032Z",
     "shell.execute_reply": "2022-05-15T06:56:48.138159Z"
    },
    "papermill": {
     "duration": 0.172788,
     "end_time": "2022-05-15T06:56:48.140974",
     "exception": false,
     "start_time": "2022-05-15T06:56:47.968186",
     "status": "completed"
    },
    "tags": []
   },
   "outputs": [
    {
     "data": {
      "text/plain": [
       "<AxesSubplot:ylabel='gender'>"
      ]
     },
     "execution_count": 8,
     "metadata": {},
     "output_type": "execute_result"
    },
    {
     "data": {
      "image/png": "[encoded data removed]",
      "text/plain": [
       "<Figure size 432x288 with 1 Axes>"
      ]
     },
     "metadata": {},
     "output_type": "display_data"
    }
   ],
   "source": [
    "# how much percentage Gender in the dataset\n",
    "\n",
    "df['gender'].value_counts().plot.pie(explode=[0,0.1],autopct='%1.1f%%',shadow=True)"
   ]
  },
  {
   "cell_type": "markdown",
   "id": "9996aef5",
   "metadata": {
    "papermill": {
     "duration": 0.030618,
     "end_time": "2022-05-15T06:56:48.201892",
     "exception": false,
     "start_time": "2022-05-15T06:56:48.171274",
     "status": "completed"
    },
    "tags": []
   },
   "source": [
    "#### The percentage gender in the dataset:\n",
    "- Female = 36.4%\n",
    "- Male =63.6 %"
   ]
  },
  {
   "cell_type": "code",
   "execution_count": 9,
   "id": "dd7519a1",
   "metadata": {
    "execution": {
     "iopub.execute_input": "2022-05-15T06:56:48.263862Z",
     "iopub.status.busy": "2022-05-15T06:56:48.263587Z",
     "iopub.status.idle": "2022-05-15T06:56:48.461327Z",
     "shell.execute_reply": "2022-05-15T06:56:48.460396Z"
    },
    "papermill": {
     "duration": 0.231296,
     "end_time": "2022-05-15T06:56:48.463275",
     "exception": false,
     "start_time": "2022-05-15T06:56:48.231979",
     "status": "completed"
    },
    "tags": []
   },
   "outputs": [
    {
     "data": {
      "text/plain": [
       "<AxesSubplot:ylabel='smoking'>"
      ]
     },
     "execution_count": 9,
     "metadata": {},
     "output_type": "execute_result"
    },
    {
     "data": {
      "image/png": "[encoded data removed]",
      "text/plain": [
       "<Figure size 432x288 with 1 Axes>"
      ]
     },
     "metadata": {},
     "output_type": "display_data"
    }
   ],
   "source": [
    "# how much percentage smoking  in the dataset\n",
    "\n",
    "df['smoking'].value_counts().plot.pie(explode=[0,0.1],autopct='%1.1f%%',shadow=True)"
   ]
  },
  {
   "cell_type": "markdown",
   "id": "7d7ed510",
   "metadata": {
    "papermill": {
     "duration": 0.031319,
     "end_time": "2022-05-15T06:56:48.526193",
     "exception": false,
     "start_time": "2022-05-15T06:56:48.494874",
     "status": "completed"
    },
    "tags": []
   },
   "source": [
    "#### The percentage gender in the dataset:\n",
    "- Non-smoking = 63.3%\n",
    "- Smoking =36.7 %"
   ]
  },
  {
   "cell_type": "code",
   "execution_count": 10,
   "id": "2d7017bd",
   "metadata": {
    "execution": {
     "iopub.execute_input": "2022-05-15T06:56:48.590613Z",
     "iopub.status.busy": "2022-05-15T06:56:48.590111Z",
     "iopub.status.idle": "2022-05-15T06:56:48.684079Z",
     "shell.execute_reply": "2022-05-15T06:56:48.683425Z"
    },
    "papermill": {
     "duration": 0.128373,
     "end_time": "2022-05-15T06:56:48.686018",
     "exception": false,
     "start_time": "2022-05-15T06:56:48.557645",
     "status": "completed"
    },
    "tags": []
   },
   "outputs": [
    {
     "data": {
      "image/png": "[encoded data removed]",
      "text/plain": [
       "<Figure size 432x288 with 1 Axes>"
      ]
     },
     "metadata": {
      "needs_background": "light"
     },
     "output_type": "display_data"
    }
   ],
   "source": [
    "# boxplot for show describe age \n",
    "\n",
    "plt.boxplot(df[\"age\"])\n",
    "plt.show()"
   ]
  },
  {
   "cell_type": "markdown",
   "id": "a5f50b40",
   "metadata": {
    "papermill": {
     "duration": 0.032511,
     "end_time": "2022-05-15T06:56:48.751485",
     "exception": false,
     "start_time": "2022-05-15T06:56:48.718974",
     "status": "completed"
    },
    "tags": []
   },
   "source": [
    "#### Describe age :\n",
    "- mean =       44\n",
    "- min   =      20\n",
    "- max    =     85"
   ]
  },
  {
   "cell_type": "code",
   "execution_count": 11,
   "id": "51d4de0a",
   "metadata": {
    "execution": {
     "iopub.execute_input": "2022-05-15T06:56:48.818052Z",
     "iopub.status.busy": "2022-05-15T06:56:48.817509Z",
     "iopub.status.idle": "2022-05-15T06:56:48.962453Z",
     "shell.execute_reply": "2022-05-15T06:56:48.961569Z"
    },
    "papermill": {
     "duration": 0.181889,
     "end_time": "2022-05-15T06:56:48.966039",
     "exception": false,
     "start_time": "2022-05-15T06:56:48.784150",
     "status": "completed"
    },
    "tags": []
   },
   "outputs": [
    {
     "data": {
      "image/png": "[encoded data removed]",
      "text/plain": [
       "<Figure size 432x288 with 1 Axes>"
      ]
     },
     "metadata": {
      "needs_background": "light"
     },
     "output_type": "display_data"
    }
   ],
   "source": [
    "# boxplot for show describe height \n",
    "\n",
    "plt.boxplot(df[\"height(cm)\"])\n",
    "plt.show()"
   ]
  },
  {
   "cell_type": "markdown",
   "id": "f7d3faa0",
   "metadata": {
    "papermill": {
     "duration": 0.032367,
     "end_time": "2022-05-15T06:56:49.034039",
     "exception": false,
     "start_time": "2022-05-15T06:56:49.001672",
     "status": "completed"
    },
    "tags": []
   },
   "source": [
    "#### Describe height- cm :\n",
    "- mean=        164\n",
    "- min  =       130\n",
    "- max   =     190"
   ]
  },
  {
   "cell_type": "code",
   "execution_count": 12,
   "id": "bbbc27a3",
   "metadata": {
    "execution": {
     "iopub.execute_input": "2022-05-15T06:56:49.105841Z",
     "iopub.status.busy": "2022-05-15T06:56:49.105590Z",
     "iopub.status.idle": "2022-05-15T06:56:49.252845Z",
     "shell.execute_reply": "2022-05-15T06:56:49.251947Z"
    },
    "papermill": {
     "duration": 0.182646,
     "end_time": "2022-05-15T06:56:49.255125",
     "exception": false,
     "start_time": "2022-05-15T06:56:49.072479",
     "status": "completed"
    },
    "tags": []
   },
   "outputs": [
    {
     "data": {
      "image/png": "[encoded data removed]",
      "text/plain": [
       "<Figure size 432x288 with 1 Axes>"
      ]
     },
     "metadata": {
      "needs_background": "light"
     },
     "output_type": "display_data"
    }
   ],
   "source": [
    "# boxplot for show describe weight \n",
    "\n",
    "plt.boxplot(df[\"weight(kg)\"])\n",
    "plt.show()"
   ]
  },
  {
   "cell_type": "markdown",
   "id": "ebcc3ec0",
   "metadata": {
    "papermill": {
     "duration": 0.037532,
     "end_time": "2022-05-15T06:56:49.329172",
     "exception": false,
     "start_time": "2022-05-15T06:56:49.291640",
     "status": "completed"
    },
    "tags": []
   },
   "source": [
    "#### Describe weight(kg) :\n",
    "- mean= 65\n",
    "- min = 30\n",
    "- max = 135"
   ]
  },
  {
   "cell_type": "code",
   "execution_count": 13,
   "id": "dc274da4",
   "metadata": {
    "execution": {
     "iopub.execute_input": "2022-05-15T06:56:49.398418Z",
     "iopub.status.busy": "2022-05-15T06:56:49.397782Z",
     "iopub.status.idle": "2022-05-15T06:56:49.409661Z",
     "shell.execute_reply": "2022-05-15T06:56:49.408969Z"
    },
    "papermill": {
     "duration": 0.048775,
     "end_time": "2022-05-15T06:56:49.411515",
     "exception": false,
     "start_time": "2022-05-15T06:56:49.362740",
     "status": "completed"
    },
    "tags": []
   },
   "outputs": [
    {
     "data": {
      "text/plain": [
       "smoking\n",
       "0    45.677981\n",
       "1    41.607431\n",
       "Name: age, dtype: float64"
      ]
     },
     "execution_count": 13,
     "metadata": {},
     "output_type": "execute_result"
    }
   ],
   "source": [
    "#make groupby to show the average age smoking\n",
    "\n",
    "ag=df.groupby(\"smoking\")[\"age\"].mean()\n",
    "ag"
   ]
  },
  {
   "cell_type": "code",
   "execution_count": 14,
   "id": "bf539172",
   "metadata": {
    "execution": {
     "iopub.execute_input": "2022-05-15T06:56:49.479787Z",
     "iopub.status.busy": "2022-05-15T06:56:49.479163Z",
     "iopub.status.idle": "2022-05-15T06:56:49.583408Z",
     "shell.execute_reply": "2022-05-15T06:56:49.582721Z"
    },
    "papermill": {
     "duration": 0.141337,
     "end_time": "2022-05-15T06:56:49.585942",
     "exception": false,
     "start_time": "2022-05-15T06:56:49.444605",
     "status": "completed"
    },
    "tags": []
   },
   "outputs": [
    {
     "data": {
      "text/plain": [
       "<AxesSubplot:ylabel='age'>"
      ]
     },
     "execution_count": 14,
     "metadata": {},
     "output_type": "execute_result"
    },
    {
     "data": {
      "image/png": "[encoded data removed]",
      "text/plain": [
       "<Figure size 432x288 with 1 Axes>"
      ]
     },
     "metadata": {},
     "output_type": "display_data"
    }
   ],
   "source": [
    "# graph average age smoking\n",
    "ag.plot(kind=\"pie\",explode=[0,0.1],autopct='%1.1f%%',shadow=True)"
   ]
  },
  {
   "cell_type": "markdown",
   "id": "dd366dcc",
   "metadata": {
    "papermill": {
     "duration": 0.045093,
     "end_time": "2022-05-15T06:56:49.698180",
     "exception": false,
     "start_time": "2022-05-15T06:56:49.653087",
     "status": "completed"
    },
    "tags": []
   },
   "source": [
    "#### The average age smoking\n",
    "- age 45 = non- somkign\n",
    "- age 41 = somking"
   ]
  },
  {
   "cell_type": "code",
   "execution_count": 15,
   "id": "907faebd",
   "metadata": {
    "execution": {
     "iopub.execute_input": "2022-05-15T06:56:49.768059Z",
     "iopub.status.busy": "2022-05-15T06:56:49.767715Z",
     "iopub.status.idle": "2022-05-15T06:56:49.798762Z",
     "shell.execute_reply": "2022-05-15T06:56:49.797482Z"
    },
    "papermill": {
     "duration": 0.068571,
     "end_time": "2022-05-15T06:56:49.800772",
     "exception": false,
     "start_time": "2022-05-15T06:56:49.732201",
     "status": "completed"
    },
    "tags": []
   },
   "outputs": [
    {
     "name": "stderr",
     "output_type": "stream",
     "text": [
      "/opt/conda/lib/python3.7/site-packages/ipykernel_launcher.py:3: FutureWarning: Indexing with multiple keys (implicitly converted to a tuple of keys) will be deprecated, use a list instead.\n",
      "  This is separate from the ipykernel package so we can avoid doing imports until\n"
     ]
    },
    {
     "data": {
      "text/html": [
       "<div>\n",
       "<style scoped>\n",
       "    .dataframe tbody tr th:only-of-type {\n",
       "        vertical-align: middle;\n",
       "    }\n",
       "\n",
       "    .dataframe tbody tr th {\n",
       "        vertical-align: top;\n",
       "    }\n",
       "\n",
       "    .dataframe thead th {\n",
       "        text-align: right;\n",
       "    }\n",
       "</style>\n",
       "<table border=\"1\" class=\"dataframe\">\n",
       "  <thead>\n",
       "    <tr style=\"text-align: right;\">\n",
       "      <th></th>\n",
       "      <th></th>\n",
       "      <th>age</th>\n",
       "      <th>weight(kg)</th>\n",
       "      <th>height(cm)</th>\n",
       "    </tr>\n",
       "    <tr>\n",
       "      <th>gender</th>\n",
       "      <th>smoking</th>\n",
       "      <th></th>\n",
       "      <th></th>\n",
       "      <th></th>\n",
       "    </tr>\n",
       "  </thead>\n",
       "  <tbody>\n",
       "    <tr>\n",
       "      <th rowspan=\"2\" valign=\"top\">F</th>\n",
       "      <th>0</th>\n",
       "      <td>49.0</td>\n",
       "      <td>56.0</td>\n",
       "      <td>156.0</td>\n",
       "    </tr>\n",
       "    <tr>\n",
       "      <th>1</th>\n",
       "      <td>46.0</td>\n",
       "      <td>56.0</td>\n",
       "      <td>157.0</td>\n",
       "    </tr>\n",
       "    <tr>\n",
       "      <th rowspan=\"2\" valign=\"top\">M</th>\n",
       "      <th>0</th>\n",
       "      <td>42.0</td>\n",
       "      <td>71.0</td>\n",
       "      <td>170.0</td>\n",
       "    </tr>\n",
       "    <tr>\n",
       "      <th>1</th>\n",
       "      <td>41.0</td>\n",
       "      <td>72.0</td>\n",
       "      <td>170.0</td>\n",
       "    </tr>\n",
       "  </tbody>\n",
       "</table>\n",
       "</div>"
      ],
      "text/plain": [
       "                 age  weight(kg)  height(cm)\n",
       "gender smoking                              \n",
       "F      0        49.0        56.0       156.0\n",
       "       1        46.0        56.0       157.0\n",
       "M      0        42.0        71.0       170.0\n",
       "       1        41.0        72.0       170.0"
      ]
     },
     "execution_count": 15,
     "metadata": {},
     "output_type": "execute_result"
    }
   ],
   "source": [
    "# group by for show the average age , weight and height by the gender\n",
    "\n",
    "summary=df.groupby([\"gender\",\"smoking\"])[\"age\",\"weight(kg)\",\"height(cm)\"].mean().round(0)\n",
    "summary"
   ]
  },
  {
   "cell_type": "code",
   "execution_count": 16,
   "id": "8a212a19",
   "metadata": {
    "execution": {
     "iopub.execute_input": "2022-05-15T06:56:49.874707Z",
     "iopub.status.busy": "2022-05-15T06:56:49.874162Z",
     "iopub.status.idle": "2022-05-15T06:56:50.097210Z",
     "shell.execute_reply": "2022-05-15T06:56:50.096418Z"
    },
    "papermill": {
     "duration": 0.263157,
     "end_time": "2022-05-15T06:56:50.099081",
     "exception": false,
     "start_time": "2022-05-15T06:56:49.835924",
     "status": "completed"
    },
    "tags": []
   },
   "outputs": [
    {
     "data": {
      "text/plain": [
       "<AxesSubplot:xlabel='gender,smoking'>"
      ]
     },
     "execution_count": 16,
     "metadata": {},
     "output_type": "execute_result"
    },
    {
     "data": {
      "image/png": "[encoded data removed]",
      "text/plain": [
       "<Figure size 1080x504 with 1 Axes>"
      ]
     },
     "metadata": {
      "needs_background": "light"
     },
     "output_type": "display_data"
    }
   ],
   "source": [
    "# graph the group by\n",
    "\n",
    "summary.plot(kind=\"bar\",figsize=(15,7))"
   ]
  },
  {
   "cell_type": "markdown",
   "id": "01e9ede2",
   "metadata": {
    "papermill": {
     "duration": 0.035831,
     "end_time": "2022-05-15T06:56:50.172512",
     "exception": false,
     "start_time": "2022-05-15T06:56:50.136681",
     "status": "completed"
    },
    "tags": []
   },
   "source": [
    "# Analysis Results 🙉🙈🙊\n",
    "\n",
    "#### From my point view , I see the important columns :\n",
    "- Gender ,  smoking ,  age , weight(kg) , height(cm) \n",
    "\n",
    "#### After make some analysis , visual graph and explore the data set , I see some results .\n",
    "\n",
    "\n",
    "#### The shape DataSet\n",
    "- Rows= 55692 ,  Columns =  27\n",
    "\n",
    "\n",
    "#### The percentage gender in the dataset:\n",
    "- Female = 36.4%\n",
    "- Male =63.6 %\n",
    "\n",
    "\n",
    "#### The percentage gender in the dataset:\n",
    "- Non-smoking = 63.3%\n",
    "- Smoking =36.7 %\n",
    "\n",
    "\n",
    "#### Describe age :\n",
    "- mean = 44\n",
    "- min = 20\n",
    "- max = 85\n",
    "\n",
    "\n",
    "#### Describe height- cm :\n",
    "- mean= 164\n",
    "- min = 130\n",
    "- max = 190\n",
    "\n",
    "\n",
    "#### Describe weight(kg) :\n",
    "- mean= 65\n",
    "- min = 30\n",
    "- max = 135\n",
    "\n",
    "\n",
    "#### The average age smoking\n",
    "- age 45 = non- somkign\n",
    "- age 41 = somking\n",
    "\n",
    "\n",
    "### The average data\n",
    "\n",
    "#### Female\n",
    "- somking avg /> age= 46 ,weght =56 kg ,height 157 cm\n",
    "- non-somking ave / >age= 49 ,weght =56 kg ,height 165 cm\n",
    "\n",
    "\n",
    "#### Male\n",
    "- somking avg /> age= 41 ,weght =72 kg ,height 170 cm\n",
    "- non-somking ave / >age= 42 ,weght =71 kg ,height 170 cm"
   ]
  },
  {
   "cell_type": "markdown",
   "id": "31f74a0b",
   "metadata": {
    "papermill": {
     "duration": 0.035432,
     "end_time": "2022-05-15T06:56:50.243741",
     "exception": false,
     "start_time": "2022-05-15T06:56:50.208309",
     "status": "completed"
    },
    "tags": []
   },
   "source": [
    "# Building a Machine Learning Model / classification score Volume"
   ]
  },
  {
   "cell_type": "code",
   "execution_count": 17,
   "id": "67668f5e",
   "metadata": {
    "execution": {
     "iopub.execute_input": "2022-05-15T06:56:50.316545Z",
     "iopub.status.busy": "2022-05-15T06:56:50.316128Z",
     "iopub.status.idle": "2022-05-15T06:56:50.540662Z",
     "shell.execute_reply": "2022-05-15T06:56:50.540001Z"
    },
    "papermill": {
     "duration": 0.263555,
     "end_time": "2022-05-15T06:56:50.542783",
     "exception": false,
     "start_time": "2022-05-15T06:56:50.279228",
     "status": "completed"
    },
    "tags": []
   },
   "outputs": [],
   "source": [
    "X_train = pd.read_csv('../input/body-signal-of-smoking/competition_format/x_train.csv')\n",
    "X_test = pd.read_csv('../input/body-signal-of-smoking/competition_format/x_test.csv')\n",
    "y_train = pd.read_csv('../input/body-signal-of-smoking/competition_format/y_train.csv')\n",
    "y_test = pd.read_csv('../input/body-signal-of-smoking/competition_format/y_test.csv')"
   ]
  },
  {
   "cell_type": "code",
   "execution_count": 18,
   "id": "52900865",
   "metadata": {
    "execution": {
     "iopub.execute_input": "2022-05-15T06:56:50.616524Z",
     "iopub.status.busy": "2022-05-15T06:56:50.616042Z",
     "iopub.status.idle": "2022-05-15T06:56:50.655290Z",
     "shell.execute_reply": "2022-05-15T06:56:50.654431Z"
    },
    "papermill": {
     "duration": 0.078516,
     "end_time": "2022-05-15T06:56:50.657652",
     "exception": false,
     "start_time": "2022-05-15T06:56:50.579136",
     "status": "completed"
    },
    "tags": []
   },
   "outputs": [
    {
     "name": "stdout",
     "output_type": "stream",
     "text": [
      "<class 'pandas.core.frame.DataFrame'>\n",
      "RangeIndex: 44553 entries, 0 to 44552\n",
      "Data columns (total 26 columns):\n",
      " #   Column               Non-Null Count  Dtype  \n",
      "---  ------               --------------  -----  \n",
      " 0   ID                   44553 non-null  int64  \n",
      " 1   gender               44553 non-null  object \n",
      " 2   age                  44553 non-null  int64  \n",
      " 3   height(cm)           44553 non-null  int64  \n",
      " 4   weight(kg)           44553 non-null  int64  \n",
      " 5   waist(cm)            44553 non-null  float64\n",
      " 6   eyesight(left)       44553 non-null  float64\n",
      " 7   eyesight(right)      44553 non-null  float64\n",
      " 8   hearing(left)        44553 non-null  float64\n",
      " 9   hearing(right)       44553 non-null  float64\n",
      " 10  systolic             44553 non-null  float64\n",
      " 11  relaxation           44553 non-null  float64\n",
      " 12  fasting blood sugar  44553 non-null  float64\n",
      " 13  Cholesterol          44553 non-null  float64\n",
      " 14  triglyceride         44553 non-null  float64\n",
      " 15  HDL                  44553 non-null  float64\n",
      " 16  LDL                  44553 non-null  float64\n",
      " 17  hemoglobin           44553 non-null  float64\n",
      " 18  Urine protein        44553 non-null  float64\n",
      " 19  serum creatinine     44553 non-null  float64\n",
      " 20  AST                  44553 non-null  float64\n",
      " 21  ALT                  44553 non-null  float64\n",
      " 22  Gtp                  44553 non-null  float64\n",
      " 23  oral                 44553 non-null  object \n",
      " 24  dental caries        44553 non-null  float64\n",
      " 25  tartar               44553 non-null  object \n",
      "dtypes: float64(19), int64(4), object(3)\n",
      "memory usage: 8.8+ MB\n",
      "====================================\n",
      "\n",
      "\n",
      "\n",
      "<class 'pandas.core.frame.DataFrame'>\n",
      "RangeIndex: 11139 entries, 0 to 11138\n",
      "Data columns (total 26 columns):\n",
      " #   Column               Non-Null Count  Dtype  \n",
      "---  ------               --------------  -----  \n",
      " 0   ID                   11139 non-null  int64  \n",
      " 1   gender               11139 non-null  object \n",
      " 2   age                  11139 non-null  int64  \n",
      " 3   height(cm)           11139 non-null  int64  \n",
      " 4   weight(kg)           11139 non-null  int64  \n",
      " 5   waist(cm)            11139 non-null  float64\n",
      " 6   eyesight(left)       11139 non-null  float64\n",
      " 7   eyesight(right)      11139 non-null  float64\n",
      " 8   hearing(left)        11139 non-null  float64\n",
      " 9   hearing(right)       11139 non-null  float64\n",
      " 10  systolic             11139 non-null  float64\n",
      " 11  relaxation           11139 non-null  float64\n",
      " 12  fasting blood sugar  11139 non-null  float64\n",
      " 13  Cholesterol          11139 non-null  float64\n",
      " 14  triglyceride         11139 non-null  float64\n",
      " 15  HDL                  11139 non-null  float64\n",
      " 16  LDL                  11139 non-null  float64\n",
      " 17  hemoglobin           11139 non-null  float64\n",
      " 18  Urine protein        11139 non-null  float64\n",
      " 19  serum creatinine     11139 non-null  float64\n",
      " 20  AST                  11139 non-null  float64\n",
      " 21  ALT                  11139 non-null  float64\n",
      " 22  Gtp                  11139 non-null  float64\n",
      " 23  oral                 11139 non-null  object \n",
      " 24  dental caries        11139 non-null  float64\n",
      " 25  tartar               11139 non-null  object \n",
      "dtypes: float64(19), int64(4), object(3)\n",
      "memory usage: 2.2+ MB\n",
      "====================================\n",
      "\n",
      "\n",
      "\n",
      "<class 'pandas.core.frame.DataFrame'>\n",
      "RangeIndex: 44553 entries, 0 to 44552\n",
      "Data columns (total 2 columns):\n",
      " #   Column   Non-Null Count  Dtype\n",
      "---  ------   --------------  -----\n",
      " 0   ID       44553 non-null  int64\n",
      " 1   smoking  44553 non-null  int64\n",
      "dtypes: int64(2)\n",
      "memory usage: 696.3 KB\n",
      "====================================\n",
      "\n",
      "\n",
      "\n",
      "<class 'pandas.core.frame.DataFrame'>\n",
      "RangeIndex: 11139 entries, 0 to 11138\n",
      "Data columns (total 2 columns):\n",
      " #   Column   Non-Null Count  Dtype\n",
      "---  ------   --------------  -----\n",
      " 0   ID       11139 non-null  int64\n",
      " 1   smoking  11139 non-null  int64\n",
      "dtypes: int64(2)\n",
      "memory usage: 174.2 KB\n",
      "====================================\n",
      "\n",
      "\n",
      "\n"
     ]
    }
   ],
   "source": [
    "l = [X_train,X_test,y_train,y_test]\n",
    "for i in l:\n",
    "    i.info()\n",
    "    print('====================================\\n\\n\\n')\n",
    "del X_train[\"oral\"]\n",
    "del X_test[\"oral\"]"
   ]
  },
  {
   "cell_type": "code",
   "execution_count": 19,
   "id": "d5beeda9",
   "metadata": {
    "execution": {
     "iopub.execute_input": "2022-05-15T06:56:50.732047Z",
     "iopub.status.busy": "2022-05-15T06:56:50.731264Z",
     "iopub.status.idle": "2022-05-15T06:56:50.874306Z",
     "shell.execute_reply": "2022-05-15T06:56:50.873443Z"
    },
    "papermill": {
     "duration": 0.182729,
     "end_time": "2022-05-15T06:56:50.876988",
     "exception": false,
     "start_time": "2022-05-15T06:56:50.694259",
     "status": "completed"
    },
    "tags": []
   },
   "outputs": [],
   "source": [
    "l3 = [X_train,X_test]\n",
    "from sklearn.preprocessing import OneHotEncoder\n",
    "from sklearn.preprocessing import OrdinalEncoder\n",
    "ONE = OneHotEncoder(handle_unknown='ignore')\n",
    "\n",
    "def oneHot(df,a):\n",
    "    cat_encoder = OneHotEncoder()\n",
    "    ec_cat=cat_encoder.fit_transform(df[[a]])\n",
    "    return ec_cat.toarray()\n",
    "X_train['gender'] = oneHot(X_train,'gender')\n",
    "X_test['gender'] = oneHot(X_test,'gender')\n"
   ]
  },
  {
   "cell_type": "code",
   "execution_count": 20,
   "id": "36350a48",
   "metadata": {
    "execution": {
     "iopub.execute_input": "2022-05-15T06:56:50.952051Z",
     "iopub.status.busy": "2022-05-15T06:56:50.951275Z",
     "iopub.status.idle": "2022-05-15T06:56:50.981624Z",
     "shell.execute_reply": "2022-05-15T06:56:50.980818Z"
    },
    "papermill": {
     "duration": 0.069984,
     "end_time": "2022-05-15T06:56:50.983767",
     "exception": false,
     "start_time": "2022-05-15T06:56:50.913783",
     "status": "completed"
    },
    "tags": []
   },
   "outputs": [],
   "source": [
    "from sklearn.preprocessing import OrdinalEncoder\n",
    "ordinal_encoder = OrdinalEncoder(categories = [['N','Y']])\n",
    "X_train[\"tartar\"] = ordinal_encoder.fit_transform(X_train[[\"tartar\"]])\n",
    "X_test[\"tartar\"] = ordinal_encoder.fit_transform(X_test[[\"tartar\"]])"
   ]
  },
  {
   "cell_type": "code",
   "execution_count": 21,
   "id": "524d6717",
   "metadata": {
    "execution": {
     "iopub.execute_input": "2022-05-15T06:56:51.058351Z",
     "iopub.status.busy": "2022-05-15T06:56:51.057538Z",
     "iopub.status.idle": "2022-05-15T06:56:51.434455Z",
     "shell.execute_reply": "2022-05-15T06:56:51.433657Z"
    },
    "papermill": {
     "duration": 0.416447,
     "end_time": "2022-05-15T06:56:51.436677",
     "exception": false,
     "start_time": "2022-05-15T06:56:51.020230",
     "status": "completed"
    },
    "tags": []
   },
   "outputs": [],
   "source": [
    "#Importing the basic librarires for building model - classification\n",
    "\n",
    "from sklearn.metrics import accuracy_score,r2_score\n",
    "\n",
    "\n",
    "from sklearn.linear_model import LogisticRegression\n",
    "from sklearn.tree import DecisionTreeClassifier\n",
    "from sklearn.neighbors import  KNeighborsClassifier\n",
    "from sklearn.ensemble import RandomForestClassifier\n",
    "from sklearn.neural_network import  MLPClassifier\n",
    "from sklearn.svm import SVC\n",
    "from xgboost import XGBClassifier\n",
    "\n",
    "\n",
    "from sklearn.preprocessing import LabelEncoder\n",
    "from sklearn.inspection import permutation_importance\n"
   ]
  },
  {
   "cell_type": "code",
   "execution_count": 22,
   "id": "d94aaa62",
   "metadata": {
    "execution": {
     "iopub.execute_input": "2022-05-15T06:56:51.511885Z",
     "iopub.status.busy": "2022-05-15T06:56:51.511140Z",
     "iopub.status.idle": "2022-05-15T06:56:52.001580Z",
     "shell.execute_reply": "2022-05-15T06:56:52.000842Z"
    },
    "papermill": {
     "duration": 0.530412,
     "end_time": "2022-05-15T06:56:52.003721",
     "exception": false,
     "start_time": "2022-05-15T06:56:51.473309",
     "status": "completed"
    },
    "tags": []
   },
   "outputs": [
    {
     "data": {
      "text/plain": [
       "<AxesSubplot:>"
      ]
     },
     "execution_count": 22,
     "metadata": {},
     "output_type": "execute_result"
    },
    {
     "data": {
      "image/png": "[encoded data removed]",
      "text/plain": [
       "<Figure size 432x288 with 2 Axes>"
      ]
     },
     "metadata": {
      "needs_background": "light"
     },
     "output_type": "display_data"
    }
   ],
   "source": [
    "sns.heatmap(X_train.corr())"
   ]
  },
  {
   "cell_type": "code",
   "execution_count": 23,
   "id": "7b0d5ab5",
   "metadata": {
    "execution": {
     "iopub.execute_input": "2022-05-15T06:56:52.082393Z",
     "iopub.status.busy": "2022-05-15T06:56:52.082144Z",
     "iopub.status.idle": "2022-05-15T06:56:52.085347Z",
     "shell.execute_reply": "2022-05-15T06:56:52.084759Z"
    },
    "papermill": {
     "duration": 0.044913,
     "end_time": "2022-05-15T06:56:52.087183",
     "exception": false,
     "start_time": "2022-05-15T06:56:52.042270",
     "status": "completed"
    },
    "tags": []
   },
   "outputs": [],
   "source": [
    "y_train = y_train['smoking']\n",
    "y_test = y_test['smoking']"
   ]
  },
  {
   "cell_type": "markdown",
   "id": "b55560f7",
   "metadata": {
    "papermill": {
     "duration": 0.037495,
     "end_time": "2022-05-15T06:56:52.163083",
     "exception": false,
     "start_time": "2022-05-15T06:56:52.125588",
     "status": "completed"
    },
    "tags": []
   },
   "source": [
    "# DecisionTreeClassifier"
   ]
  },
  {
   "cell_type": "code",
   "execution_count": 24,
   "id": "f989d677",
   "metadata": {
    "execution": {
     "iopub.execute_input": "2022-05-15T06:56:52.239837Z",
     "iopub.status.busy": "2022-05-15T06:56:52.239364Z",
     "iopub.status.idle": "2022-05-15T06:56:53.025812Z",
     "shell.execute_reply": "2022-05-15T06:56:53.024627Z"
    },
    "papermill": {
     "duration": 0.826926,
     "end_time": "2022-05-15T06:56:53.027596",
     "exception": false,
     "start_time": "2022-05-15T06:56:52.200670",
     "status": "completed"
    },
    "tags": []
   },
   "outputs": [
    {
     "name": "stdout",
     "output_type": "stream",
     "text": [
      "Score the X-train with Y-train is :  1.0\n",
      "Score the X-test  with Y-test  is :  0.9383248047401024\n",
      "Accuracy Score : 93.83248047401024\n"
     ]
    }
   ],
   "source": [
    "DTC = DecisionTreeClassifier()\n",
    "DTC.fit(X_train, y_train)\n",
    "\n",
    "y_pred = DTC.predict(X_test)\n",
    "\n",
    "print(\"Score the X-train with Y-train is : \", DTC.score(X_train,y_train))\n",
    "print(\"Score the X-test  with Y-test  is : \", DTC.score(X_test,y_test))\n",
    "print(\"Accuracy Score :\",accuracy_score(y_test,y_pred)*100)"
   ]
  },
  {
   "cell_type": "code",
   "execution_count": 25,
   "id": "81b0a3f9",
   "metadata": {
    "execution": {
     "iopub.execute_input": "2022-05-15T06:56:53.105706Z",
     "iopub.status.busy": "2022-05-15T06:56:53.105420Z",
     "iopub.status.idle": "2022-05-15T06:56:53.377567Z",
     "shell.execute_reply": "2022-05-15T06:56:53.376742Z"
    },
    "papermill": {
     "duration": 0.313432,
     "end_time": "2022-05-15T06:56:53.379523",
     "exception": false,
     "start_time": "2022-05-15T06:56:53.066091",
     "status": "completed"
    },
    "tags": []
   },
   "outputs": [
    {
     "data": {
      "text/plain": [
       "Text(0.5, 0, 'Feature Importance')"
      ]
     },
     "execution_count": 25,
     "metadata": {},
     "output_type": "execute_result"
    },
    {
     "data": {
      "image/png": "[encoded data removed]",
      "text/plain": [
       "<Figure size 432x288 with 1 Axes>"
      ]
     },
     "metadata": {
      "needs_background": "light"
     },
     "output_type": "display_data"
    }
   ],
   "source": [
    "#feature_importances\n",
    "\n",
    "sort = DTC.feature_importances_.argsort()\n",
    "plt.barh(df.columns[sort], DTC.feature_importances_[sort])\n",
    "plt.xlabel(\"Feature Importance\")"
   ]
  },
  {
   "cell_type": "markdown",
   "id": "b35f7609",
   "metadata": {
    "papermill": {
     "duration": 0.03976,
     "end_time": "2022-05-15T06:56:53.459533",
     "exception": false,
     "start_time": "2022-05-15T06:56:53.419773",
     "status": "completed"
    },
    "tags": []
   },
   "source": [
    "# RandomForestClassifier"
   ]
  },
  {
   "cell_type": "code",
   "execution_count": 26,
   "id": "0ed3133f",
   "metadata": {
    "execution": {
     "iopub.execute_input": "2022-05-15T06:56:53.540015Z",
     "iopub.status.busy": "2022-05-15T06:56:53.539775Z",
     "iopub.status.idle": "2022-05-15T06:57:06.154427Z",
     "shell.execute_reply": "2022-05-15T06:57:06.153576Z"
    },
    "papermill": {
     "duration": 12.657914,
     "end_time": "2022-05-15T06:57:06.156940",
     "exception": false,
     "start_time": "2022-05-15T06:56:53.499026",
     "status": "completed"
    },
    "tags": []
   },
   "outputs": [
    {
     "name": "stdout",
     "output_type": "stream",
     "text": [
      "Score the X-train with Y-train is :  1.0\n",
      "Score the X-test  with Y-test  is :  0.992728252087261\n",
      "Accuracy Score : 99.2728252087261\n"
     ]
    }
   ],
   "source": [
    "rf = RandomForestClassifier(n_estimators=100)\n",
    "rf.fit(X_train, y_train)\n",
    "\n",
    "ypred = rf.predict(X_test)\n",
    "\n",
    "print(\"Score the X-train with Y-train is : \", rf.score(X_train,y_train))\n",
    "print(\"Score the X-test  with Y-test  is : \", rf.score(X_test,y_test))\n",
    "print(\"Accuracy Score :\",accuracy_score(y_test,ypred)*100)"
   ]
  },
  {
   "cell_type": "code",
   "execution_count": 27,
   "id": "134f2a80",
   "metadata": {
    "execution": {
     "iopub.execute_input": "2022-05-15T06:57:06.240150Z",
     "iopub.status.busy": "2022-05-15T06:57:06.239902Z",
     "iopub.status.idle": "2022-05-15T06:57:06.579632Z",
     "shell.execute_reply": "2022-05-15T06:57:06.578591Z"
    },
    "papermill": {
     "duration": 0.383116,
     "end_time": "2022-05-15T06:57:06.581510",
     "exception": false,
     "start_time": "2022-05-15T06:57:06.198394",
     "status": "completed"
    },
    "tags": []
   },
   "outputs": [
    {
     "data": {
      "text/plain": [
       "Text(0.5, 0, 'Feature Importance')"
      ]
     },
     "execution_count": 27,
     "metadata": {},
     "output_type": "execute_result"
    },
    {
     "data": {
      "image/png": "[encoded data removed]",
      "text/plain": [
       "<Figure size 432x288 with 1 Axes>"
      ]
     },
     "metadata": {
      "needs_background": "light"
     },
     "output_type": "display_data"
    }
   ],
   "source": [
    "#feature_importances\n",
    "\n",
    "sort = rf.feature_importances_.argsort()\n",
    "plt.barh(df.columns[sort], rf.feature_importances_[sort])\n",
    "plt.xlabel(\"Feature Importance\")"
   ]
  },
  {
   "cell_type": "markdown",
   "id": "2a8891ec",
   "metadata": {
    "papermill": {
     "duration": 0.041239,
     "end_time": "2022-05-15T06:57:06.664278",
     "exception": false,
     "start_time": "2022-05-15T06:57:06.623039",
     "status": "completed"
    },
    "tags": []
   },
   "source": [
    "# Model Selection Results 😃😃😃\n",
    "\n",
    "- Decision Tree Classifier = 93.6 %\n",
    "- Random Forest Classifier = 99.2 %\n",
    "\n",
    "\n",
    "\n",
    "### You can change parameter in the library , maybe get better accuracy\n",
    "\n",
    "\n",
    "# Notes 😃😃😃😃\n",
    "\n",
    "- Thank for reading my analysis and my classification. 😃😃😃😃\n",
    "\n",
    "- If you any questions or advice me please write in the comment . ❤️❤️❤️❤️\n",
    "\n",
    "- If anyone has a model with a higher percentage, please tell me 🤝🤝🤝, it`s will support me .\n",
    "\n",
    "\n",
    "# Vote ❤️😃\n",
    "- If you liked my work upvote me ,\n",
    "\n",
    "\n",
    "# The End 🤝🎉🤝🎉"
   ]
  }
 ],
 "metadata": {
  "kernelspec": {
   "display_name": "Python 3",
   "language": "python",
   "name": "python3"
  },
  "language_info": {
   "codemirror_mode": {
    "name": "ipython",
    "version": 3
   },
   "file_extension": ".py",
   "mimetype": "text/x-python",
   "name": "python",
   "nbconvert_exporter": "python",
   "pygments_lexer": "ipython3",
   "version": "3.7.12"
  },
  "papermill": {
   "default_parameters": {},
   "duration": 30.674571,
   "end_time": "2022-05-15T06:57:07.525964",
   "environment_variables": {},
   "exception": null,
   "input_path": "__notebook__.ipynb",
   "output_path": "__notebook__.ipynb",
   "parameters": {},
   "start_time": "2022-05-15T06:56:36.851393",
   "version": "2.3.4"
  }
 },
 "nbformat": 4,
 "nbformat_minor": 5
}
