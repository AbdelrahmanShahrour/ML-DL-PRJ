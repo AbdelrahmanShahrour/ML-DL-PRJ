{
 "cells": [
  {
   "cell_type": "markdown",
   "id": "447360bb",
   "metadata": {
    "papermill": {
     "duration": 0.032786,
     "end_time": "2022-05-14T18:39:12.928331",
     "exception": false,
     "start_time": "2022-05-14T18:39:12.895545",
     "status": "completed"
    },
    "tags": []
   },
   "source": [
    "# Introduction 😃😃😃\n",
    "\n",
    "\n",
    "## Heart Attack Analysis & Prediction Dataset\n",
    "\n",
    "- A dataset for heart attack classification\n",
    "\n",
    "\n",
    "### About this dataset\n",
    "\n",
    "- Age : Age of the patient\n",
    "- Sex : Sex of the patient\n",
    "- exang: exercise induced angina (1 = yes; 0 = no)\n",
    "- ca: number of major vessels (0-3)\n",
    "- cp : Chest Pain type chest pain type\n",
    "\n",
    "- Value 1: typical angina\n",
    "- Value 2: atypical angina\n",
    "- Value 3: non-anginal pain\n",
    "- Value 4: asymptomatic\n",
    "\n",
    "\n",
    "- trtbps : resting blood pressure (in mm Hg)\n",
    "- chol : cholestoral in mg/dl fetched via BMI sensor\n",
    "- fbs : (fasting blood sugar > 120 mg/dl) (1 = true; 0 = false)\n",
    "- rest_ecg : resting electrocardiographic results\n",
    "\n",
    "- Value 0: normal\n",
    "- Value 1: having ST-T wave abnormality (T wave inversions and/or ST elevation or depression of > 0.05 mV)\n",
    "- Value 2: showing probable or definite left ventricular hypertrophy by Estes' criteria\n",
    "- thalach : maximum heart rate achieved\n",
    "\n",
    "- target : 0= less chance of heart attack 1= more chance of heart attack\n",
    "\n",
    "\n",
    "\n",
    "# Work plan 🤝🤝🤝🤝🤝\n",
    "\n",
    "- 1- Data Exploration & Analysis 🤝🤝🤝\n",
    "- 2- Building a Machine Learning Model / classification score Volume"
   ]
  },
  {
   "cell_type": "markdown",
   "id": "3210c5ec",
   "metadata": {
    "papermill": {
     "duration": 0.031632,
     "end_time": "2022-05-14T18:39:12.991602",
     "exception": false,
     "start_time": "2022-05-14T18:39:12.959970",
     "status": "completed"
    },
    "tags": []
   },
   "source": [
    "# Data Exploration & Analysis 🤝🤝🤝"
   ]
  },
  {
   "cell_type": "code",
   "execution_count": 1,
   "id": "ae586221",
   "metadata": {
    "execution": {
     "iopub.execute_input": "2022-05-14T18:39:13.058514Z",
     "iopub.status.busy": "2022-05-14T18:39:13.058159Z",
     "iopub.status.idle": "2022-05-14T18:39:15.822853Z",
     "shell.execute_reply": "2022-05-14T18:39:15.822061Z"
    },
    "papermill": {
     "duration": 2.801545,
     "end_time": "2022-05-14T18:39:15.825768",
     "exception": false,
     "start_time": "2022-05-14T18:39:13.024223",
     "status": "completed"
    },
    "tags": []
   },
   "outputs": [],
   "source": [
    "#Importing the basic librarires fot analysis\n",
    "\n",
    "import numpy as np\n",
    "import pandas as pd\n",
    "import seaborn as sns\n",
    "import matplotlib.pyplot as plt\n",
    "plt.style.use(\"ggplot\")  #using style ggplot\n",
    "\n",
    "%matplotlib inline\n",
    "import plotly.graph_objects as go\n",
    "import plotly.express as px"
   ]
  },
  {
   "cell_type": "code",
   "execution_count": 2,
   "id": "aeaec683",
   "metadata": {
    "execution": {
     "iopub.execute_input": "2022-05-14T18:39:15.895431Z",
     "iopub.status.busy": "2022-05-14T18:39:15.894508Z",
     "iopub.status.idle": "2022-05-14T18:39:15.934625Z",
     "shell.execute_reply": "2022-05-14T18:39:15.933921Z"
    },
    "papermill": {
     "duration": 0.077458,
     "end_time": "2022-05-14T18:39:15.937525",
     "exception": false,
     "start_time": "2022-05-14T18:39:15.860067",
     "status": "completed"
    },
    "tags": []
   },
   "outputs": [
    {
     "data": {
      "text/html": [
       "<div>\n",
       "<style scoped>\n",
       "    .dataframe tbody tr th:only-of-type {\n",
       "        vertical-align: middle;\n",
       "    }\n",
       "\n",
       "    .dataframe tbody tr th {\n",
       "        vertical-align: top;\n",
       "    }\n",
       "\n",
       "    .dataframe thead th {\n",
       "        text-align: right;\n",
       "    }\n",
       "</style>\n",
       "<table border=\"1\" class=\"dataframe\">\n",
       "  <thead>\n",
       "    <tr style=\"text-align: right;\">\n",
       "      <th></th>\n",
       "      <th>age</th>\n",
       "      <th>sex</th>\n",
       "      <th>cp</th>\n",
       "      <th>trtbps</th>\n",
       "      <th>chol</th>\n",
       "      <th>fbs</th>\n",
       "      <th>restecg</th>\n",
       "      <th>thalachh</th>\n",
       "      <th>exng</th>\n",
       "      <th>oldpeak</th>\n",
       "      <th>slp</th>\n",
       "      <th>caa</th>\n",
       "      <th>thall</th>\n",
       "      <th>output</th>\n",
       "    </tr>\n",
       "  </thead>\n",
       "  <tbody>\n",
       "    <tr>\n",
       "      <th>0</th>\n",
       "      <td>63</td>\n",
       "      <td>1</td>\n",
       "      <td>3</td>\n",
       "      <td>145</td>\n",
       "      <td>233</td>\n",
       "      <td>1</td>\n",
       "      <td>0</td>\n",
       "      <td>150</td>\n",
       "      <td>0</td>\n",
       "      <td>2.3</td>\n",
       "      <td>0</td>\n",
       "      <td>0</td>\n",
       "      <td>1</td>\n",
       "      <td>1</td>\n",
       "    </tr>\n",
       "    <tr>\n",
       "      <th>1</th>\n",
       "      <td>37</td>\n",
       "      <td>1</td>\n",
       "      <td>2</td>\n",
       "      <td>130</td>\n",
       "      <td>250</td>\n",
       "      <td>0</td>\n",
       "      <td>1</td>\n",
       "      <td>187</td>\n",
       "      <td>0</td>\n",
       "      <td>3.5</td>\n",
       "      <td>0</td>\n",
       "      <td>0</td>\n",
       "      <td>2</td>\n",
       "      <td>1</td>\n",
       "    </tr>\n",
       "    <tr>\n",
       "      <th>2</th>\n",
       "      <td>41</td>\n",
       "      <td>0</td>\n",
       "      <td>1</td>\n",
       "      <td>130</td>\n",
       "      <td>204</td>\n",
       "      <td>0</td>\n",
       "      <td>0</td>\n",
       "      <td>172</td>\n",
       "      <td>0</td>\n",
       "      <td>1.4</td>\n",
       "      <td>2</td>\n",
       "      <td>0</td>\n",
       "      <td>2</td>\n",
       "      <td>1</td>\n",
       "    </tr>\n",
       "    <tr>\n",
       "      <th>3</th>\n",
       "      <td>56</td>\n",
       "      <td>1</td>\n",
       "      <td>1</td>\n",
       "      <td>120</td>\n",
       "      <td>236</td>\n",
       "      <td>0</td>\n",
       "      <td>1</td>\n",
       "      <td>178</td>\n",
       "      <td>0</td>\n",
       "      <td>0.8</td>\n",
       "      <td>2</td>\n",
       "      <td>0</td>\n",
       "      <td>2</td>\n",
       "      <td>1</td>\n",
       "    </tr>\n",
       "    <tr>\n",
       "      <th>4</th>\n",
       "      <td>57</td>\n",
       "      <td>0</td>\n",
       "      <td>0</td>\n",
       "      <td>120</td>\n",
       "      <td>354</td>\n",
       "      <td>0</td>\n",
       "      <td>1</td>\n",
       "      <td>163</td>\n",
       "      <td>1</td>\n",
       "      <td>0.6</td>\n",
       "      <td>2</td>\n",
       "      <td>0</td>\n",
       "      <td>2</td>\n",
       "      <td>1</td>\n",
       "    </tr>\n",
       "  </tbody>\n",
       "</table>\n",
       "</div>"
      ],
      "text/plain": [
       "   age  sex  cp  trtbps  chol  fbs  restecg  thalachh  exng  oldpeak  slp  \\\n",
       "0   63    1   3     145   233    1        0       150     0      2.3    0   \n",
       "1   37    1   2     130   250    0        1       187     0      3.5    0   \n",
       "2   41    0   1     130   204    0        0       172     0      1.4    2   \n",
       "3   56    1   1     120   236    0        1       178     0      0.8    2   \n",
       "4   57    0   0     120   354    0        1       163     1      0.6    2   \n",
       "\n",
       "   caa  thall  output  \n",
       "0    0      1       1  \n",
       "1    0      2       1  \n",
       "2    0      2       1  \n",
       "3    0      2       1  \n",
       "4    0      2       1  "
      ]
     },
     "execution_count": 2,
     "metadata": {},
     "output_type": "execute_result"
    }
   ],
   "source": [
    "#Importing the dataset\n",
    "df =pd.read_csv(\"../input/heart-attack-analysis-prediction-dataset/heart.csv\")\n",
    "\n",
    "\n",
    "# look the data set\n",
    "df.head()"
   ]
  },
  {
   "cell_type": "code",
   "execution_count": 3,
   "id": "7eaaabc1",
   "metadata": {
    "execution": {
     "iopub.execute_input": "2022-05-14T18:39:16.019013Z",
     "iopub.status.busy": "2022-05-14T18:39:16.018415Z",
     "iopub.status.idle": "2022-05-14T18:39:16.024589Z",
     "shell.execute_reply": "2022-05-14T18:39:16.023756Z"
    },
    "papermill": {
     "duration": 0.047667,
     "end_time": "2022-05-14T18:39:16.027096",
     "exception": false,
     "start_time": "2022-05-14T18:39:15.979429",
     "status": "completed"
    },
    "tags": []
   },
   "outputs": [
    {
     "data": {
      "text/plain": [
       "(303, 14)"
      ]
     },
     "execution_count": 3,
     "metadata": {},
     "output_type": "execute_result"
    }
   ],
   "source": [
    "# looking the shape DataSet\n",
    "df.shape"
   ]
  },
  {
   "cell_type": "code",
   "execution_count": 4,
   "id": "67513098",
   "metadata": {
    "execution": {
     "iopub.execute_input": "2022-05-14T18:39:16.112446Z",
     "iopub.status.busy": "2022-05-14T18:39:16.112051Z",
     "iopub.status.idle": "2022-05-14T18:39:16.141180Z",
     "shell.execute_reply": "2022-05-14T18:39:16.140159Z"
    },
    "papermill": {
     "duration": 0.084202,
     "end_time": "2022-05-14T18:39:16.144639",
     "exception": false,
     "start_time": "2022-05-14T18:39:16.060437",
     "status": "completed"
    },
    "tags": []
   },
   "outputs": [
    {
     "name": "stdout",
     "output_type": "stream",
     "text": [
      "<class 'pandas.core.frame.DataFrame'>\n",
      "RangeIndex: 303 entries, 0 to 302\n",
      "Data columns (total 14 columns):\n",
      " #   Column    Non-Null Count  Dtype  \n",
      "---  ------    --------------  -----  \n",
      " 0   age       303 non-null    int64  \n",
      " 1   sex       303 non-null    int64  \n",
      " 2   cp        303 non-null    int64  \n",
      " 3   trtbps    303 non-null    int64  \n",
      " 4   chol      303 non-null    int64  \n",
      " 5   fbs       303 non-null    int64  \n",
      " 6   restecg   303 non-null    int64  \n",
      " 7   thalachh  303 non-null    int64  \n",
      " 8   exng      303 non-null    int64  \n",
      " 9   oldpeak   303 non-null    float64\n",
      " 10  slp       303 non-null    int64  \n",
      " 11  caa       303 non-null    int64  \n",
      " 12  thall     303 non-null    int64  \n",
      " 13  output    303 non-null    int64  \n",
      "dtypes: float64(1), int64(13)\n",
      "memory usage: 33.3 KB\n"
     ]
    }
   ],
   "source": [
    "#Checking the dtypes of all the columns\n",
    "\n",
    "df.info()"
   ]
  },
  {
   "cell_type": "code",
   "execution_count": 5,
   "id": "8a6f3dcc",
   "metadata": {
    "execution": {
     "iopub.execute_input": "2022-05-14T18:39:16.230267Z",
     "iopub.status.busy": "2022-05-14T18:39:16.229525Z",
     "iopub.status.idle": "2022-05-14T18:39:16.239584Z",
     "shell.execute_reply": "2022-05-14T18:39:16.238576Z"
    },
    "papermill": {
     "duration": 0.055157,
     "end_time": "2022-05-14T18:39:16.241975",
     "exception": false,
     "start_time": "2022-05-14T18:39:16.186818",
     "status": "completed"
    },
    "tags": []
   },
   "outputs": [
    {
     "data": {
      "text/plain": [
       "age         0\n",
       "sex         0\n",
       "cp          0\n",
       "trtbps      0\n",
       "chol        0\n",
       "fbs         0\n",
       "restecg     0\n",
       "thalachh    0\n",
       "exng        0\n",
       "oldpeak     0\n",
       "slp         0\n",
       "caa         0\n",
       "thall       0\n",
       "output      0\n",
       "dtype: int64"
      ]
     },
     "execution_count": 5,
     "metadata": {},
     "output_type": "execute_result"
    }
   ],
   "source": [
    "#checking null value \n",
    "df.isna().sum()"
   ]
  },
  {
   "cell_type": "markdown",
   "id": "194a3554",
   "metadata": {
    "papermill": {
     "duration": 0.035582,
     "end_time": "2022-05-14T18:39:16.311848",
     "exception": false,
     "start_time": "2022-05-14T18:39:16.276266",
     "status": "completed"
    },
    "tags": []
   },
   "source": [
    "- No any missing value "
   ]
  },
  {
   "cell_type": "code",
   "execution_count": 6,
   "id": "75acddb8",
   "metadata": {
    "execution": {
     "iopub.execute_input": "2022-05-14T18:39:16.400352Z",
     "iopub.status.busy": "2022-05-14T18:39:16.399665Z",
     "iopub.status.idle": "2022-05-14T18:39:16.467522Z",
     "shell.execute_reply": "2022-05-14T18:39:16.466699Z"
    },
    "papermill": {
     "duration": 0.117129,
     "end_time": "2022-05-14T18:39:16.469702",
     "exception": false,
     "start_time": "2022-05-14T18:39:16.352573",
     "status": "completed"
    },
    "tags": []
   },
   "outputs": [
    {
     "data": {
      "text/html": [
       "<div>\n",
       "<style scoped>\n",
       "    .dataframe tbody tr th:only-of-type {\n",
       "        vertical-align: middle;\n",
       "    }\n",
       "\n",
       "    .dataframe tbody tr th {\n",
       "        vertical-align: top;\n",
       "    }\n",
       "\n",
       "    .dataframe thead th {\n",
       "        text-align: right;\n",
       "    }\n",
       "</style>\n",
       "<table border=\"1\" class=\"dataframe\">\n",
       "  <thead>\n",
       "    <tr style=\"text-align: right;\">\n",
       "      <th></th>\n",
       "      <th>age</th>\n",
       "      <th>sex</th>\n",
       "      <th>cp</th>\n",
       "      <th>trtbps</th>\n",
       "      <th>chol</th>\n",
       "      <th>fbs</th>\n",
       "      <th>restecg</th>\n",
       "      <th>thalachh</th>\n",
       "      <th>exng</th>\n",
       "      <th>oldpeak</th>\n",
       "      <th>slp</th>\n",
       "      <th>caa</th>\n",
       "      <th>thall</th>\n",
       "      <th>output</th>\n",
       "    </tr>\n",
       "  </thead>\n",
       "  <tbody>\n",
       "    <tr>\n",
       "      <th>count</th>\n",
       "      <td>303.00</td>\n",
       "      <td>303.00</td>\n",
       "      <td>303.00</td>\n",
       "      <td>303.00</td>\n",
       "      <td>303.00</td>\n",
       "      <td>303.00</td>\n",
       "      <td>303.00</td>\n",
       "      <td>303.00</td>\n",
       "      <td>303.00</td>\n",
       "      <td>303.00</td>\n",
       "      <td>303.00</td>\n",
       "      <td>303.00</td>\n",
       "      <td>303.00</td>\n",
       "      <td>303.00</td>\n",
       "    </tr>\n",
       "    <tr>\n",
       "      <th>mean</th>\n",
       "      <td>54.37</td>\n",
       "      <td>0.68</td>\n",
       "      <td>0.97</td>\n",
       "      <td>131.62</td>\n",
       "      <td>246.26</td>\n",
       "      <td>0.15</td>\n",
       "      <td>0.53</td>\n",
       "      <td>149.65</td>\n",
       "      <td>0.33</td>\n",
       "      <td>1.04</td>\n",
       "      <td>1.40</td>\n",
       "      <td>0.73</td>\n",
       "      <td>2.31</td>\n",
       "      <td>0.54</td>\n",
       "    </tr>\n",
       "    <tr>\n",
       "      <th>std</th>\n",
       "      <td>9.08</td>\n",
       "      <td>0.47</td>\n",
       "      <td>1.03</td>\n",
       "      <td>17.54</td>\n",
       "      <td>51.83</td>\n",
       "      <td>0.36</td>\n",
       "      <td>0.53</td>\n",
       "      <td>22.91</td>\n",
       "      <td>0.47</td>\n",
       "      <td>1.16</td>\n",
       "      <td>0.62</td>\n",
       "      <td>1.02</td>\n",
       "      <td>0.61</td>\n",
       "      <td>0.50</td>\n",
       "    </tr>\n",
       "    <tr>\n",
       "      <th>min</th>\n",
       "      <td>29.00</td>\n",
       "      <td>0.00</td>\n",
       "      <td>0.00</td>\n",
       "      <td>94.00</td>\n",
       "      <td>126.00</td>\n",
       "      <td>0.00</td>\n",
       "      <td>0.00</td>\n",
       "      <td>71.00</td>\n",
       "      <td>0.00</td>\n",
       "      <td>0.00</td>\n",
       "      <td>0.00</td>\n",
       "      <td>0.00</td>\n",
       "      <td>0.00</td>\n",
       "      <td>0.00</td>\n",
       "    </tr>\n",
       "    <tr>\n",
       "      <th>25%</th>\n",
       "      <td>47.50</td>\n",
       "      <td>0.00</td>\n",
       "      <td>0.00</td>\n",
       "      <td>120.00</td>\n",
       "      <td>211.00</td>\n",
       "      <td>0.00</td>\n",
       "      <td>0.00</td>\n",
       "      <td>133.50</td>\n",
       "      <td>0.00</td>\n",
       "      <td>0.00</td>\n",
       "      <td>1.00</td>\n",
       "      <td>0.00</td>\n",
       "      <td>2.00</td>\n",
       "      <td>0.00</td>\n",
       "    </tr>\n",
       "    <tr>\n",
       "      <th>50%</th>\n",
       "      <td>55.00</td>\n",
       "      <td>1.00</td>\n",
       "      <td>1.00</td>\n",
       "      <td>130.00</td>\n",
       "      <td>240.00</td>\n",
       "      <td>0.00</td>\n",
       "      <td>1.00</td>\n",
       "      <td>153.00</td>\n",
       "      <td>0.00</td>\n",
       "      <td>0.80</td>\n",
       "      <td>1.00</td>\n",
       "      <td>0.00</td>\n",
       "      <td>2.00</td>\n",
       "      <td>1.00</td>\n",
       "    </tr>\n",
       "    <tr>\n",
       "      <th>75%</th>\n",
       "      <td>61.00</td>\n",
       "      <td>1.00</td>\n",
       "      <td>2.00</td>\n",
       "      <td>140.00</td>\n",
       "      <td>274.50</td>\n",
       "      <td>0.00</td>\n",
       "      <td>1.00</td>\n",
       "      <td>166.00</td>\n",
       "      <td>1.00</td>\n",
       "      <td>1.60</td>\n",
       "      <td>2.00</td>\n",
       "      <td>1.00</td>\n",
       "      <td>3.00</td>\n",
       "      <td>1.00</td>\n",
       "    </tr>\n",
       "    <tr>\n",
       "      <th>max</th>\n",
       "      <td>77.00</td>\n",
       "      <td>1.00</td>\n",
       "      <td>3.00</td>\n",
       "      <td>200.00</td>\n",
       "      <td>564.00</td>\n",
       "      <td>1.00</td>\n",
       "      <td>2.00</td>\n",
       "      <td>202.00</td>\n",
       "      <td>1.00</td>\n",
       "      <td>6.20</td>\n",
       "      <td>2.00</td>\n",
       "      <td>4.00</td>\n",
       "      <td>3.00</td>\n",
       "      <td>1.00</td>\n",
       "    </tr>\n",
       "  </tbody>\n",
       "</table>\n",
       "</div>"
      ],
      "text/plain": [
       "          age     sex      cp  trtbps    chol     fbs  restecg  thalachh  \\\n",
       "count  303.00  303.00  303.00  303.00  303.00  303.00   303.00    303.00   \n",
       "mean    54.37    0.68    0.97  131.62  246.26    0.15     0.53    149.65   \n",
       "std      9.08    0.47    1.03   17.54   51.83    0.36     0.53     22.91   \n",
       "min     29.00    0.00    0.00   94.00  126.00    0.00     0.00     71.00   \n",
       "25%     47.50    0.00    0.00  120.00  211.00    0.00     0.00    133.50   \n",
       "50%     55.00    1.00    1.00  130.00  240.00    0.00     1.00    153.00   \n",
       "75%     61.00    1.00    2.00  140.00  274.50    0.00     1.00    166.00   \n",
       "max     77.00    1.00    3.00  200.00  564.00    1.00     2.00    202.00   \n",
       "\n",
       "         exng  oldpeak     slp     caa   thall  output  \n",
       "count  303.00   303.00  303.00  303.00  303.00  303.00  \n",
       "mean     0.33     1.04    1.40    0.73    2.31    0.54  \n",
       "std      0.47     1.16    0.62    1.02    0.61    0.50  \n",
       "min      0.00     0.00    0.00    0.00    0.00    0.00  \n",
       "25%      0.00     0.00    1.00    0.00    2.00    0.00  \n",
       "50%      0.00     0.80    1.00    0.00    2.00    1.00  \n",
       "75%      1.00     1.60    2.00    1.00    3.00    1.00  \n",
       "max      1.00     6.20    2.00    4.00    3.00    1.00  "
      ]
     },
     "execution_count": 6,
     "metadata": {},
     "output_type": "execute_result"
    }
   ],
   "source": [
    "# look  describe data set\n",
    "df.describe().round(2)"
   ]
  },
  {
   "cell_type": "code",
   "execution_count": 7,
   "id": "fc734f44",
   "metadata": {
    "execution": {
     "iopub.execute_input": "2022-05-14T18:39:16.539132Z",
     "iopub.status.busy": "2022-05-14T18:39:16.538534Z",
     "iopub.status.idle": "2022-05-14T18:39:16.549595Z",
     "shell.execute_reply": "2022-05-14T18:39:16.548774Z"
    },
    "papermill": {
     "duration": 0.048873,
     "end_time": "2022-05-14T18:39:16.551718",
     "exception": false,
     "start_time": "2022-05-14T18:39:16.502845",
     "status": "completed"
    },
    "tags": []
   },
   "outputs": [
    {
     "data": {
      "text/plain": [
       "sex           2\n",
       "fbs           2\n",
       "exng          2\n",
       "output        2\n",
       "restecg       3\n",
       "slp           3\n",
       "cp            4\n",
       "thall         4\n",
       "caa           5\n",
       "oldpeak      40\n",
       "age          41\n",
       "trtbps       49\n",
       "thalachh     91\n",
       "chol        152\n",
       "dtype: int64"
      ]
     },
     "execution_count": 7,
     "metadata": {},
     "output_type": "execute_result"
    }
   ],
   "source": [
    "# check unique value\n",
    "df.nunique().sort_values()"
   ]
  },
  {
   "cell_type": "markdown",
   "id": "6c206f27",
   "metadata": {
    "papermill": {
     "duration": 0.034012,
     "end_time": "2022-05-14T18:39:16.619291",
     "exception": false,
     "start_time": "2022-05-14T18:39:16.585279",
     "status": "completed"
    },
    "tags": []
   },
   "source": [
    "## Some visual for Analysis"
   ]
  },
  {
   "cell_type": "code",
   "execution_count": 8,
   "id": "fda49092",
   "metadata": {
    "execution": {
     "iopub.execute_input": "2022-05-14T18:39:16.689824Z",
     "iopub.status.busy": "2022-05-14T18:39:16.689265Z",
     "iopub.status.idle": "2022-05-14T18:39:18.068716Z",
     "shell.execute_reply": "2022-05-14T18:39:18.067779Z"
    },
    "papermill": {
     "duration": 1.418189,
     "end_time": "2022-05-14T18:39:18.071134",
     "exception": false,
     "start_time": "2022-05-14T18:39:16.652945",
     "status": "completed"
    },
    "tags": []
   },
   "outputs": [
    {
     "data": {
      "text/html": [
       "        <script type=\"text/javascript\">\n",
       "        window.PlotlyConfig = {MathJaxConfig: 'local'};\n",
       "        if (window.MathJax && window.MathJax.Hub && window.MathJax.Hub.Config) {window.MathJax.Hub.Config({SVG: {font: \"STIX-Web\"}});}\n",
       "        if (typeof require !== 'undefined') {\n",
       "        require.undef(\"plotly\");\n",
       "        requirejs.config({\n",
       "            paths: {\n",
       "                'plotly': ['https://cdn.plot.ly/plotly-2.12.1.min']\n",
       "            }\n",
       "        });\n",
       "        require(['plotly'], function(Plotly) {\n",
       "            window._Plotly = Plotly;\n",
       "        });\n",
       "        }\n",
       "        </script>\n",
       "        "
      ]
     },
     "metadata": {},
     "output_type": "display_data"
    },
    {
     "data": {
      "text/html": [
       "<div>                            <div id=\"e4ea506c-ea21-4a0c-8539-2f5f699eb059\" class=\"plotly-graph-div\" style=\"height:525px; width:100%;\"></div>            <script type=\"text/javascript\">                require([\"plotly\"], function(Plotly) {                    window.PLOTLYENV=window.PLOTLYENV || {};                                    if (document.getElementById(\"e4ea506c-ea21-4a0c-8539-2f5f699eb059\")) {                    Plotly.newPlot(                        \"e4ea506c-ea21-4a0c-8539-2f5f699eb059\",                        [{\"hovertemplate\":\"age=%{x}<br>chol=%{y}<br>output=%{marker.color}<extra></extra>\",\"legendgroup\":\"\",\"marker\":{\"color\":[1,1,1,1,1,1,1,1,1,1,1,1,1,1,1,1,1,1,1,1,1,1,1,1,1,1,1,1,1,1,1,1,1,1,1,1,1,1,1,1,1,1,1,1,1,1,1,1,1,1,1,1,1,1,1,1,1,1,1,1,1,1,1,1,1,1,1,1,1,1,1,1,1,1,1,1,1,1,1,1,1,1,1,1,1,1,1,1,1,1,1,1,1,1,1,1,1,1,1,1,1,1,1,1,1,1,1,1,1,1,1,1,1,1,1,1,1,1,1,1,1,1,1,1,1,1,1,1,1,1,1,1,1,1,1,1,1,1,1,1,1,1,1,1,1,1,1,1,1,1,1,1,1,1,1,1,1,1,1,1,1,1,1,1,1,0,0,0,0,0,0,0,0,0,0,0,0,0,0,0,0,0,0,0,0,0,0,0,0,0,0,0,0,0,0,0,0,0,0,0,0,0,0,0,0,0,0,0,0,0,0,0,0,0,0,0,0,0,0,0,0,0,0,0,0,0,0,0,0,0,0,0,0,0,0,0,0,0,0,0,0,0,0,0,0,0,0,0,0,0,0,0,0,0,0,0,0,0,0,0,0,0,0,0,0,0,0,0,0,0,0,0,0,0,0,0,0,0,0,0,0,0,0,0,0,0,0,0,0,0,0,0,0,0,0,0,0,0,0,0,0,0,0],\"coloraxis\":\"coloraxis\",\"symbol\":\"circle\"},\"mode\":\"markers\",\"name\":\"\",\"orientation\":\"v\",\"showlegend\":false,\"x\":[63,37,41,56,57,57,56,44,52,57,54,48,49,64,58,50,58,66,43,69,59,44,42,61,40,71,59,51,65,53,41,65,44,54,51,46,54,54,65,65,51,48,45,53,39,52,44,47,53,53,51,66,62,44,63,52,48,45,34,57,71,54,52,41,58,35,51,45,44,62,54,51,29,51,43,55,51,59,52,58,41,45,60,52,42,67,68,46,54,58,48,57,52,54,45,53,62,52,43,53,42,59,63,42,50,68,69,45,50,50,64,57,64,43,55,37,41,56,46,46,64,59,41,54,39,34,47,67,52,74,54,49,42,41,41,49,60,62,57,64,51,43,42,67,76,70,44,60,44,42,66,71,64,66,39,58,47,35,58,56,56,55,41,38,38,67,67,62,63,53,56,48,58,58,60,40,60,64,43,57,55,65,61,58,50,44,60,54,50,41,51,58,54,60,60,59,46,67,62,65,44,60,58,68,62,52,59,60,49,59,57,61,39,61,56,43,62,63,65,48,63,55,65,56,54,70,62,35,59,64,47,57,55,64,70,51,58,60,77,35,70,59,64,57,56,48,56,66,54,69,51,43,62,67,59,45,58,50,62,38,66,52,53,63,54,66,55,49,54,56,46,61,67,58,47,52,58,57,58,61,42,52,59,40,61,46,59,57,57,55,61,58,58,67,44,63,63,59,57,45,68,57,57],\"xaxis\":\"x\",\"y\":[233,250,204,236,354,192,294,263,199,168,239,275,266,211,283,219,340,226,247,239,234,233,226,243,199,302,212,175,417,197,198,177,219,273,213,177,304,232,269,360,308,245,208,264,321,325,235,257,216,234,256,302,231,141,252,201,222,260,182,303,265,309,186,203,211,183,222,234,220,209,258,227,204,261,213,250,245,221,205,240,250,308,318,298,265,564,277,197,214,248,255,207,223,288,160,226,394,233,315,246,244,270,195,240,196,211,234,236,244,254,325,126,313,211,262,215,214,193,204,243,303,271,268,267,199,210,204,277,196,269,201,271,295,235,306,269,178,208,201,263,295,303,209,223,197,245,242,240,226,180,228,149,227,278,220,197,253,192,220,221,240,342,157,175,175,286,229,268,254,203,256,229,284,224,206,167,230,335,177,276,353,225,330,230,243,290,253,266,233,172,305,216,188,282,185,326,231,254,267,248,197,258,270,274,164,255,239,258,188,177,229,260,219,307,249,341,263,330,254,256,407,217,282,288,239,174,281,198,288,309,243,289,289,246,322,299,300,293,304,282,269,249,212,274,184,274,409,246,283,254,298,247,294,299,273,309,259,200,244,231,228,230,282,269,206,212,327,149,286,283,249,234,237,234,275,212,218,261,319,166,315,204,218,223,207,311,204,232,335,205,203,318,225,212,169,187,197,176,241,264,193,131,236],\"yaxis\":\"y\",\"type\":\"scatter\"}],                        {\"template\":{\"data\":{\"histogram2dcontour\":[{\"type\":\"histogram2dcontour\",\"colorbar\":{\"outlinewidth\":0,\"ticks\":\"\"},\"colorscale\":[[0.0,\"#0d0887\"],[0.1111111111111111,\"#46039f\"],[0.2222222222222222,\"#7201a8\"],[0.3333333333333333,\"#9c179e\"],[0.4444444444444444,\"#bd3786\"],[0.5555555555555556,\"#d8576b\"],[0.6666666666666666,\"#ed7953\"],[0.7777777777777778,\"#fb9f3a\"],[0.8888888888888888,\"#fdca26\"],[1.0,\"#f0f921\"]]}],\"choropleth\":[{\"type\":\"choropleth\",\"colorbar\":{\"outlinewidth\":0,\"ticks\":\"\"}}],\"histogram2d\":[{\"type\":\"histogram2d\",\"colorbar\":{\"outlinewidth\":0,\"ticks\":\"\"},\"colorscale\":[[0.0,\"#0d0887\"],[0.1111111111111111,\"#46039f\"],[0.2222222222222222,\"#7201a8\"],[0.3333333333333333,\"#9c179e\"],[0.4444444444444444,\"#bd3786\"],[0.5555555555555556,\"#d8576b\"],[0.6666666666666666,\"#ed7953\"],[0.7777777777777778,\"#fb9f3a\"],[0.8888888888888888,\"#fdca26\"],[1.0,\"#f0f921\"]]}],\"heatmap\":[{\"type\":\"heatmap\",\"colorbar\":{\"outlinewidth\":0,\"ticks\":\"\"},\"colorscale\":[[0.0,\"#0d0887\"],[0.1111111111111111,\"#46039f\"],[0.2222222222222222,\"#7201a8\"],[0.3333333333333333,\"#9c179e\"],[0.4444444444444444,\"#bd3786\"],[0.5555555555555556,\"#d8576b\"],[0.6666666666666666,\"#ed7953\"],[0.7777777777777778,\"#fb9f3a\"],[0.8888888888888888,\"#fdca26\"],[1.0,\"#f0f921\"]]}],\"heatmapgl\":[{\"type\":\"heatmapgl\",\"colorbar\":{\"outlinewidth\":0,\"ticks\":\"\"},\"colorscale\":[[0.0,\"#0d0887\"],[0.1111111111111111,\"#46039f\"],[0.2222222222222222,\"#7201a8\"],[0.3333333333333333,\"#9c179e\"],[0.4444444444444444,\"#bd3786\"],[0.5555555555555556,\"#d8576b\"],[0.6666666666666666,\"#ed7953\"],[0.7777777777777778,\"#fb9f3a\"],[0.8888888888888888,\"#fdca26\"],[1.0,\"#f0f921\"]]}],\"contourcarpet\":[{\"type\":\"contourcarpet\",\"colorbar\":{\"outlinewidth\":0,\"ticks\":\"\"}}],\"contour\":[{\"type\":\"contour\",\"colorbar\":{\"outlinewidth\":0,\"ticks\":\"\"},\"colorscale\":[[0.0,\"#0d0887\"],[0.1111111111111111,\"#46039f\"],[0.2222222222222222,\"#7201a8\"],[0.3333333333333333,\"#9c179e\"],[0.4444444444444444,\"#bd3786\"],[0.5555555555555556,\"#d8576b\"],[0.6666666666666666,\"#ed7953\"],[0.7777777777777778,\"#fb9f3a\"],[0.8888888888888888,\"#fdca26\"],[1.0,\"#f0f921\"]]}],\"surface\":[{\"type\":\"surface\",\"colorbar\":{\"outlinewidth\":0,\"ticks\":\"\"},\"colorscale\":[[0.0,\"#0d0887\"],[0.1111111111111111,\"#46039f\"],[0.2222222222222222,\"#7201a8\"],[0.3333333333333333,\"#9c179e\"],[0.4444444444444444,\"#bd3786\"],[0.5555555555555556,\"#d8576b\"],[0.6666666666666666,\"#ed7953\"],[0.7777777777777778,\"#fb9f3a\"],[0.8888888888888888,\"#fdca26\"],[1.0,\"#f0f921\"]]}],\"mesh3d\":[{\"type\":\"mesh3d\",\"colorbar\":{\"outlinewidth\":0,\"ticks\":\"\"}}],\"scatter\":[{\"fillpattern\":{\"fillmode\":\"overlay\",\"size\":10,\"solidity\":0.2},\"type\":\"scatter\"}],\"parcoords\":[{\"type\":\"parcoords\",\"line\":{\"colorbar\":{\"outlinewidth\":0,\"ticks\":\"\"}}}],\"scatterpolargl\":[{\"type\":\"scatterpolargl\",\"marker\":{\"colorbar\":{\"outlinewidth\":0,\"ticks\":\"\"}}}],\"bar\":[{\"error_x\":{\"color\":\"#2a3f5f\"},\"error_y\":{\"color\":\"#2a3f5f\"},\"marker\":{\"line\":{\"color\":\"#E5ECF6\",\"width\":0.5},\"pattern\":{\"fillmode\":\"overlay\",\"size\":10,\"solidity\":0.2}},\"type\":\"bar\"}],\"scattergeo\":[{\"type\":\"scattergeo\",\"marker\":{\"colorbar\":{\"outlinewidth\":0,\"ticks\":\"\"}}}],\"scatterpolar\":[{\"type\":\"scatterpolar\",\"marker\":{\"colorbar\":{\"outlinewidth\":0,\"ticks\":\"\"}}}],\"histogram\":[{\"marker\":{\"pattern\":{\"fillmode\":\"overlay\",\"size\":10,\"solidity\":0.2}},\"type\":\"histogram\"}],\"scattergl\":[{\"type\":\"scattergl\",\"marker\":{\"colorbar\":{\"outlinewidth\":0,\"ticks\":\"\"}}}],\"scatter3d\":[{\"type\":\"scatter3d\",\"line\":{\"colorbar\":{\"outlinewidth\":0,\"ticks\":\"\"}},\"marker\":{\"colorbar\":{\"outlinewidth\":0,\"ticks\":\"\"}}}],\"scattermapbox\":[{\"type\":\"scattermapbox\",\"marker\":{\"colorbar\":{\"outlinewidth\":0,\"ticks\":\"\"}}}],\"scatterternary\":[{\"type\":\"scatterternary\",\"marker\":{\"colorbar\":{\"outlinewidth\":0,\"ticks\":\"\"}}}],\"scattercarpet\":[{\"type\":\"scattercarpet\",\"marker\":{\"colorbar\":{\"outlinewidth\":0,\"ticks\":\"\"}}}],\"carpet\":[{\"aaxis\":{\"endlinecolor\":\"#2a3f5f\",\"gridcolor\":\"white\",\"linecolor\":\"white\",\"minorgridcolor\":\"white\",\"startlinecolor\":\"#2a3f5f\"},\"baxis\":{\"endlinecolor\":\"#2a3f5f\",\"gridcolor\":\"white\",\"linecolor\":\"white\",\"minorgridcolor\":\"white\",\"startlinecolor\":\"#2a3f5f\"},\"type\":\"carpet\"}],\"table\":[{\"cells\":{\"fill\":{\"color\":\"#EBF0F8\"},\"line\":{\"color\":\"white\"}},\"header\":{\"fill\":{\"color\":\"#C8D4E3\"},\"line\":{\"color\":\"white\"}},\"type\":\"table\"}],\"barpolar\":[{\"marker\":{\"line\":{\"color\":\"#E5ECF6\",\"width\":0.5},\"pattern\":{\"fillmode\":\"overlay\",\"size\":10,\"solidity\":0.2}},\"type\":\"barpolar\"}],\"pie\":[{\"automargin\":true,\"type\":\"pie\"}]},\"layout\":{\"autotypenumbers\":\"strict\",\"colorway\":[\"#636efa\",\"#EF553B\",\"#00cc96\",\"#ab63fa\",\"#FFA15A\",\"#19d3f3\",\"#FF6692\",\"#B6E880\",\"#FF97FF\",\"#FECB52\"],\"font\":{\"color\":\"#2a3f5f\"},\"hovermode\":\"closest\",\"hoverlabel\":{\"align\":\"left\"},\"paper_bgcolor\":\"white\",\"plot_bgcolor\":\"#E5ECF6\",\"polar\":{\"bgcolor\":\"#E5ECF6\",\"angularaxis\":{\"gridcolor\":\"white\",\"linecolor\":\"white\",\"ticks\":\"\"},\"radialaxis\":{\"gridcolor\":\"white\",\"linecolor\":\"white\",\"ticks\":\"\"}},\"ternary\":{\"bgcolor\":\"#E5ECF6\",\"aaxis\":{\"gridcolor\":\"white\",\"linecolor\":\"white\",\"ticks\":\"\"},\"baxis\":{\"gridcolor\":\"white\",\"linecolor\":\"white\",\"ticks\":\"\"},\"caxis\":{\"gridcolor\":\"white\",\"linecolor\":\"white\",\"ticks\":\"\"}},\"coloraxis\":{\"colorbar\":{\"outlinewidth\":0,\"ticks\":\"\"}},\"colorscale\":{\"sequential\":[[0.0,\"#0d0887\"],[0.1111111111111111,\"#46039f\"],[0.2222222222222222,\"#7201a8\"],[0.3333333333333333,\"#9c179e\"],[0.4444444444444444,\"#bd3786\"],[0.5555555555555556,\"#d8576b\"],[0.6666666666666666,\"#ed7953\"],[0.7777777777777778,\"#fb9f3a\"],[0.8888888888888888,\"#fdca26\"],[1.0,\"#f0f921\"]],\"sequentialminus\":[[0.0,\"#0d0887\"],[0.1111111111111111,\"#46039f\"],[0.2222222222222222,\"#7201a8\"],[0.3333333333333333,\"#9c179e\"],[0.4444444444444444,\"#bd3786\"],[0.5555555555555556,\"#d8576b\"],[0.6666666666666666,\"#ed7953\"],[0.7777777777777778,\"#fb9f3a\"],[0.8888888888888888,\"#fdca26\"],[1.0,\"#f0f921\"]],\"diverging\":[[0,\"#8e0152\"],[0.1,\"#c51b7d\"],[0.2,\"#de77ae\"],[0.3,\"#f1b6da\"],[0.4,\"#fde0ef\"],[0.5,\"#f7f7f7\"],[0.6,\"#e6f5d0\"],[0.7,\"#b8e186\"],[0.8,\"#7fbc41\"],[0.9,\"#4d9221\"],[1,\"#276419\"]]},\"xaxis\":{\"gridcolor\":\"white\",\"linecolor\":\"white\",\"ticks\":\"\",\"title\":{\"standoff\":15},\"zerolinecolor\":\"white\",\"automargin\":true,\"zerolinewidth\":2},\"yaxis\":{\"gridcolor\":\"white\",\"linecolor\":\"white\",\"ticks\":\"\",\"title\":{\"standoff\":15},\"zerolinecolor\":\"white\",\"automargin\":true,\"zerolinewidth\":2},\"scene\":{\"xaxis\":{\"backgroundcolor\":\"#E5ECF6\",\"gridcolor\":\"white\",\"linecolor\":\"white\",\"showbackground\":true,\"ticks\":\"\",\"zerolinecolor\":\"white\",\"gridwidth\":2},\"yaxis\":{\"backgroundcolor\":\"#E5ECF6\",\"gridcolor\":\"white\",\"linecolor\":\"white\",\"showbackground\":true,\"ticks\":\"\",\"zerolinecolor\":\"white\",\"gridwidth\":2},\"zaxis\":{\"backgroundcolor\":\"#E5ECF6\",\"gridcolor\":\"white\",\"linecolor\":\"white\",\"showbackground\":true,\"ticks\":\"\",\"zerolinecolor\":\"white\",\"gridwidth\":2}},\"shapedefaults\":{\"line\":{\"color\":\"#2a3f5f\"}},\"annotationdefaults\":{\"arrowcolor\":\"#2a3f5f\",\"arrowhead\":0,\"arrowwidth\":1},\"geo\":{\"bgcolor\":\"white\",\"landcolor\":\"#E5ECF6\",\"subunitcolor\":\"white\",\"showland\":true,\"showlakes\":true,\"lakecolor\":\"white\"},\"title\":{\"x\":0.05},\"mapbox\":{\"style\":\"light\"}}},\"xaxis\":{\"anchor\":\"y\",\"domain\":[0.0,1.0],\"title\":{\"text\":\"age\"}},\"yaxis\":{\"anchor\":\"x\",\"domain\":[0.0,1.0],\"title\":{\"text\":\"chol\"}},\"coloraxis\":{\"colorbar\":{\"title\":{\"text\":\"output\"}},\"colorscale\":[[0.0,\"#0d0887\"],[0.1111111111111111,\"#46039f\"],[0.2222222222222222,\"#7201a8\"],[0.3333333333333333,\"#9c179e\"],[0.4444444444444444,\"#bd3786\"],[0.5555555555555556,\"#d8576b\"],[0.6666666666666666,\"#ed7953\"],[0.7777777777777778,\"#fb9f3a\"],[0.8888888888888888,\"#fdca26\"],[1.0,\"#f0f921\"]]},\"legend\":{\"tracegroupgap\":0},\"title\":{\"text\":\"Influence Age and cholesterol\"}},                        {\"responsive\": true}                    ).then(function(){\n",
       "                            \n",
       "var gd = document.getElementById('e4ea506c-ea21-4a0c-8539-2f5f699eb059');\n",
       "var x = new MutationObserver(function (mutations, observer) {{\n",
       "        var display = window.getComputedStyle(gd).display;\n",
       "        if (!display || display === 'none') {{\n",
       "            console.log([gd, 'removed!']);\n",
       "            Plotly.purge(gd);\n",
       "            observer.disconnect();\n",
       "        }}\n",
       "}});\n",
       "\n",
       "// Listen for the removal of the full notebook cells\n",
       "var notebookContainer = gd.closest('#notebook-container');\n",
       "if (notebookContainer) {{\n",
       "    x.observe(notebookContainer, {childList: true});\n",
       "}}\n",
       "\n",
       "// Listen for the clearing of the current output cell\n",
       "var outputEl = gd.closest('.output');\n",
       "if (outputEl) {{\n",
       "    x.observe(outputEl, {childList: true});\n",
       "}}\n",
       "\n",
       "                        })                };                });            </script>        </div>"
      ]
     },
     "metadata": {},
     "output_type": "display_data"
    }
   ],
   "source": [
    "# interactive graph between Age and cholesterol in mg/dl\n",
    "\n",
    "px.scatter(df,x=\"age\",y=\"chol\",color=\"output\",title=\"Influence Age and cholesterol\")"
   ]
  },
  {
   "cell_type": "markdown",
   "id": "93119df3",
   "metadata": {
    "papermill": {
     "duration": 0.037486,
     "end_time": "2022-05-14T18:39:18.144086",
     "exception": false,
     "start_time": "2022-05-14T18:39:18.106600",
     "status": "completed"
    },
    "tags": []
   },
   "source": [
    "- 0 = less chance of heart attack\n",
    "- 1 = more chance of heart attack\n",
    "- maybe when increasing old years have more chance of heart attack"
   ]
  },
  {
   "cell_type": "code",
   "execution_count": 9,
   "id": "a1bb0683",
   "metadata": {
    "execution": {
     "iopub.execute_input": "2022-05-14T18:39:18.219210Z",
     "iopub.status.busy": "2022-05-14T18:39:18.218940Z",
     "iopub.status.idle": "2022-05-14T18:39:18.461402Z",
     "shell.execute_reply": "2022-05-14T18:39:18.460324Z"
    },
    "papermill": {
     "duration": 0.284577,
     "end_time": "2022-05-14T18:39:18.465074",
     "exception": false,
     "start_time": "2022-05-14T18:39:18.180497",
     "status": "completed"
    },
    "tags": []
   },
   "outputs": [
    {
     "data": {
      "text/plain": [
       "<AxesSubplot:title={'center':'Male & Female have heart attack'}, ylabel='output'>"
      ]
     },
     "execution_count": 9,
     "metadata": {},
     "output_type": "execute_result"
    },
    {
     "data": {
      "image/png": "[encoded data removed]",
      "text/plain": [
       "<Figure size 720x720 with 1 Axes>"
      ]
     },
     "metadata": {},
     "output_type": "display_data"
    }
   ],
   "source": [
    "# make groupby and pie graph to see how the percentage [ male and female]\n",
    "\n",
    "df.groupby('sex')[\"output\"].count().plot(kind=\"pie\",autopct='%1.1f%%',shadow=True,figsize=(10,10),title=\"Male & Female have heart attack\")"
   ]
  },
  {
   "cell_type": "markdown",
   "id": "373a8d2b",
   "metadata": {
    "papermill": {
     "duration": 0.041623,
     "end_time": "2022-05-14T18:39:18.548237",
     "exception": false,
     "start_time": "2022-05-14T18:39:18.506614",
     "status": "completed"
    },
    "tags": []
   },
   "source": [
    "### Gender of the patients\n",
    "- 1 = 68.3% are **male**,\n",
    "- 0 = 31.7% are **female**"
   ]
  },
  {
   "cell_type": "code",
   "execution_count": 10,
   "id": "851056b5",
   "metadata": {
    "execution": {
     "iopub.execute_input": "2022-05-14T18:39:18.629134Z",
     "iopub.status.busy": "2022-05-14T18:39:18.628146Z",
     "iopub.status.idle": "2022-05-14T18:39:18.815935Z",
     "shell.execute_reply": "2022-05-14T18:39:18.814887Z"
    },
    "papermill": {
     "duration": 0.234,
     "end_time": "2022-05-14T18:39:18.820320",
     "exception": false,
     "start_time": "2022-05-14T18:39:18.586320",
     "status": "completed"
    },
    "tags": []
   },
   "outputs": [
    {
     "data": {
      "text/plain": [
       "<AxesSubplot:title={'center':'Chest Pain type chest pain type'}, ylabel='output'>"
      ]
     },
     "execution_count": 10,
     "metadata": {},
     "output_type": "execute_result"
    },
    {
     "data": {
      "image/png": "[encoded data removed]",
      "text/plain": [
       "<Figure size 720x720 with 1 Axes>"
      ]
     },
     "metadata": {},
     "output_type": "display_data"
    }
   ],
   "source": [
    "# make groupby and pie graph to see how the percentage [ Chest Pain type chest pain type]\n",
    "\n",
    "df.groupby('cp')[\"output\"].count().plot(kind=\"pie\",autopct='%1.1f%%',shadow=True,figsize=(10,10),title=\"Chest Pain type chest pain type\")"
   ]
  },
  {
   "cell_type": "markdown",
   "id": "9c515d64",
   "metadata": {
    "papermill": {
     "duration": 0.043829,
     "end_time": "2022-05-14T18:39:18.921338",
     "exception": false,
     "start_time": "2022-05-14T18:39:18.877509",
     "status": "completed"
    },
    "tags": []
   },
   "source": [
    "## cp : Chest Pain type chest pain type\n",
    "- 0 : asymptomatic 47.2%\n",
    "- 1 : typical angina 16.5%\n",
    "- 2 : atypical angina 28.7 %\n",
    "- 3 : non-anginal pain 7.6 %"
   ]
  },
  {
   "cell_type": "code",
   "execution_count": 11,
   "id": "057e41d9",
   "metadata": {
    "execution": {
     "iopub.execute_input": "2022-05-14T18:39:19.001282Z",
     "iopub.status.busy": "2022-05-14T18:39:19.000296Z",
     "iopub.status.idle": "2022-05-14T18:39:19.173080Z",
     "shell.execute_reply": "2022-05-14T18:39:19.172147Z"
    },
    "papermill": {
     "duration": 0.215186,
     "end_time": "2022-05-14T18:39:19.175286",
     "exception": false,
     "start_time": "2022-05-14T18:39:18.960100",
     "status": "completed"
    },
    "tags": []
   },
   "outputs": [
    {
     "data": {
      "text/plain": [
       "<AxesSubplot:title={'center':'fasting blood sugar'}, ylabel='output'>"
      ]
     },
     "execution_count": 11,
     "metadata": {},
     "output_type": "execute_result"
    },
    {
     "data": {
      "image/png": "[encoded data removed]",
      "text/plain": [
       "<Figure size 720x720 with 1 Axes>"
      ]
     },
     "metadata": {},
     "output_type": "display_data"
    }
   ],
   "source": [
    "# make groupby and pie graph to see how the percentage [ fasting blood sugar]\n",
    "\n",
    "\n",
    "df.groupby('fbs')[\"output\"].count().plot(kind=\"pie\",autopct='%1.1f%%',shadow=True,figsize=(10,10),title=\"fasting blood sugar\")\n"
   ]
  },
  {
   "cell_type": "markdown",
   "id": "291adb8d",
   "metadata": {
    "papermill": {
     "duration": 0.04021,
     "end_time": "2022-05-14T18:39:19.258362",
     "exception": false,
     "start_time": "2022-05-14T18:39:19.218152",
     "status": "completed"
    },
    "tags": []
   },
   "source": [
    "### fbs : (fasting blood sugar > 120 mg/dl) (1 = true; 0 = false)\n",
    "- 0 = 85.1 %\n",
    "- 1 = 14.9 %"
   ]
  },
  {
   "cell_type": "code",
   "execution_count": 12,
   "id": "14487c8b",
   "metadata": {
    "execution": {
     "iopub.execute_input": "2022-05-14T18:39:19.344569Z",
     "iopub.status.busy": "2022-05-14T18:39:19.343933Z",
     "iopub.status.idle": "2022-05-14T18:39:19.485392Z",
     "shell.execute_reply": "2022-05-14T18:39:19.484296Z"
    },
    "papermill": {
     "duration": 0.189118,
     "end_time": "2022-05-14T18:39:19.487794",
     "exception": false,
     "start_time": "2022-05-14T18:39:19.298676",
     "status": "completed"
    },
    "tags": []
   },
   "outputs": [
    {
     "data": {
      "text/plain": [
       "<AxesSubplot:title={'center':'Electrocardiographic results'}, ylabel='output'>"
      ]
     },
     "execution_count": 12,
     "metadata": {},
     "output_type": "execute_result"
    },
    {
     "data": {
      "image/png": "[encoded data removed]",
      "text/plain": [
       "<Figure size 720x720 with 1 Axes>"
      ]
     },
     "metadata": {},
     "output_type": "display_data"
    }
   ],
   "source": [
    "# make groupby and pie graph to see how the percentage [ Electrocardiographic results]\n",
    "\n",
    "\n",
    "df.groupby('restecg')[\"output\"].count().plot(kind=\"pie\",autopct='%1.1f%%',shadow=True, figsize=(10,10),title=\"Electrocardiographic results\")\n"
   ]
  },
  {
   "cell_type": "markdown",
   "id": "7480c8f3",
   "metadata": {
    "papermill": {
     "duration": 0.044329,
     "end_time": "2022-05-14T18:39:19.578985",
     "exception": false,
     "start_time": "2022-05-14T18:39:19.534656",
     "status": "completed"
    },
    "tags": []
   },
   "source": [
    "## rest_ecg : resting electrocardiographic results\n",
    "\n",
    "- Value 0: normal = 48.5%\n",
    "- Value 1: having ST-T wave abnormality (T wave inversions and/or ST elevation or depression of > 0.05 mV) = 50.2 %\n",
    "- Value 2: showing probable or definite left ventricular hypertrophy by Estes' criteria = 1.3 %"
   ]
  },
  {
   "cell_type": "code",
   "execution_count": 13,
   "id": "d2178811",
   "metadata": {
    "execution": {
     "iopub.execute_input": "2022-05-14T18:39:19.667301Z",
     "iopub.status.busy": "2022-05-14T18:39:19.667017Z",
     "iopub.status.idle": "2022-05-14T18:39:19.802772Z",
     "shell.execute_reply": "2022-05-14T18:39:19.801636Z"
    },
    "papermill": {
     "duration": 0.182655,
     "end_time": "2022-05-14T18:39:19.805835",
     "exception": false,
     "start_time": "2022-05-14T18:39:19.623180",
     "status": "completed"
    },
    "tags": []
   },
   "outputs": [
    {
     "data": {
      "text/plain": [
       "<AxesSubplot:title={'center':'Target Variable - output'}, ylabel='output'>"
      ]
     },
     "execution_count": 13,
     "metadata": {},
     "output_type": "execute_result"
    },
    {
     "data": {
      "image/png": "[encoded data removed]",
      "text/plain": [
       "<Figure size 720x720 with 1 Axes>"
      ]
     },
     "metadata": {},
     "output_type": "display_data"
    }
   ],
   "source": [
    "# make groupby and pie graph to see how the percentage [ Target Variable - output]\n",
    "\n",
    "\n",
    "df.groupby('output')[\"output\"].count().plot(kind=\"pie\",autopct='%1.1f%%',shadow=True,figsize=(10,10),title=\"Target Variable - output\")\n"
   ]
  },
  {
   "cell_type": "markdown",
   "id": "dd61d1a6",
   "metadata": {
    "papermill": {
     "duration": 0.047741,
     "end_time": "2022-05-14T18:39:19.904882",
     "exception": false,
     "start_time": "2022-05-14T18:39:19.857141",
     "status": "completed"
    },
    "tags": []
   },
   "source": [
    "## Target Variable - output\n",
    "- More than half of the patients, **54.5 percent**, have a heart attack risk. The remaining **45.5 percent** .\n"
   ]
  },
  {
   "cell_type": "code",
   "execution_count": 14,
   "id": "b62e0f59",
   "metadata": {
    "execution": {
     "iopub.execute_input": "2022-05-14T18:39:19.999429Z",
     "iopub.status.busy": "2022-05-14T18:39:19.998539Z",
     "iopub.status.idle": "2022-05-14T18:39:20.488868Z",
     "shell.execute_reply": "2022-05-14T18:39:20.488161Z"
    },
    "papermill": {
     "duration": 0.540481,
     "end_time": "2022-05-14T18:39:20.490914",
     "exception": false,
     "start_time": "2022-05-14T18:39:19.950433",
     "status": "completed"
    },
    "tags": []
   },
   "outputs": [
    {
     "data": {
      "text/plain": [
       "<AxesSubplot:title={'center':'Relationship between Age and have patients heart '}, xlabel='age'>"
      ]
     },
     "execution_count": 14,
     "metadata": {},
     "output_type": "execute_result"
    },
    {
     "data": {
      "image/png": "[encoded data removed]",
      "text/plain": [
       "<Figure size 1224x432 with 1 Axes>"
      ]
     },
     "metadata": {
      "needs_background": "light"
     },
     "output_type": "display_data"
    }
   ],
   "source": [
    "# make groupby and bar graph to see relationship between Age and have patients heart \n",
    "\n",
    "\n",
    "df.groupby('age')[\"output\"].count().plot(kind=\"bar\",figsize=(17,6), title=\"Relationship between Age and have patients heart \")\n"
   ]
  },
  {
   "cell_type": "markdown",
   "id": "40164bb4",
   "metadata": {
    "papermill": {
     "duration": 0.049048,
     "end_time": "2022-05-14T18:39:20.585837",
     "exception": false,
     "start_time": "2022-05-14T18:39:20.536789",
     "status": "completed"
    },
    "tags": []
   },
   "source": [
    "## Age Variable\n",
    "- The vast majority of patients are between 50 and 60."
   ]
  },
  {
   "cell_type": "markdown",
   "id": "e8700ed3",
   "metadata": {
    "papermill": {
     "duration": 0.046387,
     "end_time": "2022-05-14T18:39:20.679164",
     "exception": false,
     "start_time": "2022-05-14T18:39:20.632777",
     "status": "completed"
    },
    "tags": []
   },
   "source": [
    "# Analysis Results 🙉🙈🙊\n",
    "\n",
    "- After make some analysis , visual graph  and explore the data set , I see some results .\n",
    "\n",
    "\n",
    "#### The vast majority of patients are between 50 and 60.\n",
    "- Maybe when increasing old years have more chance of heart attack\n",
    "\n",
    "#### Gender of the patients\n",
    "-  68.3% are Male,\n",
    "-  31.7% are Female\n",
    "\n",
    "\n",
    "#### Chest Pain type chest pain type\n",
    "- Asymptomatic 47.2%\n",
    "- Typical angina 16.5%\n",
    "- Atypical angina 28.7 %\n",
    "- Non-anginal pain 7.6 %\n",
    "\n",
    "\n",
    "#### (fasting blood sugar > 120 mg/dl) (1 = true; 0 = false)\n",
    "- 0 = 85.1 %\n",
    "- 1 = 14.9 %\n",
    "\n",
    "\n",
    "#### Resting electrocardiographic results\n",
    "- Normal = 48.5%\n",
    "- Having ST-T wave abnormality (T wave inversions and/or ST elevation or depression of > 0.05 mV) = 50.2 %\n",
    "- Showing probable or definite left ventricular hypertrophy by Estes' criteria = 1.3 %\n",
    "\n",
    "\n",
    "#### Target Variable - output\n",
    "- More than half of the patients, 54.5 percent, have a heart attack risk. The remaining 45.5 percent \n",
    "\n"
   ]
  },
  {
   "cell_type": "markdown",
   "id": "bbc2e0b5",
   "metadata": {
    "papermill": {
     "duration": 0.045505,
     "end_time": "2022-05-14T18:39:20.771563",
     "exception": false,
     "start_time": "2022-05-14T18:39:20.726058",
     "status": "completed"
    },
    "tags": []
   },
   "source": [
    "# Preprocessing"
   ]
  },
  {
   "cell_type": "code",
   "execution_count": 15,
   "id": "748b8bec",
   "metadata": {
    "execution": {
     "iopub.execute_input": "2022-05-14T18:39:20.865030Z",
     "iopub.status.busy": "2022-05-14T18:39:20.864473Z",
     "iopub.status.idle": "2022-05-14T18:39:21.029538Z",
     "shell.execute_reply": "2022-05-14T18:39:21.028647Z"
    },
    "papermill": {
     "duration": 0.214122,
     "end_time": "2022-05-14T18:39:21.031756",
     "exception": false,
     "start_time": "2022-05-14T18:39:20.817634",
     "status": "completed"
    },
    "tags": []
   },
   "outputs": [
    {
     "data": {
      "text/html": [
       "<div>\n",
       "<style scoped>\n",
       "    .dataframe tbody tr th:only-of-type {\n",
       "        vertical-align: middle;\n",
       "    }\n",
       "\n",
       "    .dataframe tbody tr th {\n",
       "        vertical-align: top;\n",
       "    }\n",
       "\n",
       "    .dataframe thead th {\n",
       "        text-align: right;\n",
       "    }\n",
       "</style>\n",
       "<table border=\"1\" class=\"dataframe\">\n",
       "  <thead>\n",
       "    <tr style=\"text-align: right;\">\n",
       "      <th></th>\n",
       "      <th>age</th>\n",
       "      <th>sex</th>\n",
       "      <th>cp</th>\n",
       "      <th>trtbps</th>\n",
       "      <th>chol</th>\n",
       "      <th>fbs</th>\n",
       "      <th>restecg</th>\n",
       "      <th>thalachh</th>\n",
       "      <th>exng</th>\n",
       "      <th>oldpeak</th>\n",
       "      <th>slp</th>\n",
       "      <th>caa</th>\n",
       "      <th>thall</th>\n",
       "    </tr>\n",
       "  </thead>\n",
       "  <tbody>\n",
       "    <tr>\n",
       "      <th>0</th>\n",
       "      <td>0.952197</td>\n",
       "      <td>0.681005</td>\n",
       "      <td>1.973123</td>\n",
       "      <td>0.763956</td>\n",
       "      <td>-0.256334</td>\n",
       "      <td>2.394438</td>\n",
       "      <td>-1.005832</td>\n",
       "      <td>0.015443</td>\n",
       "      <td>-0.696631</td>\n",
       "      <td>1.087338</td>\n",
       "      <td>-2.274579</td>\n",
       "      <td>-0.714429</td>\n",
       "      <td>-2.148873</td>\n",
       "    </tr>\n",
       "    <tr>\n",
       "      <th>1</th>\n",
       "      <td>-1.915313</td>\n",
       "      <td>0.681005</td>\n",
       "      <td>1.002577</td>\n",
       "      <td>-0.092738</td>\n",
       "      <td>0.072199</td>\n",
       "      <td>-0.417635</td>\n",
       "      <td>0.898962</td>\n",
       "      <td>1.633471</td>\n",
       "      <td>-0.696631</td>\n",
       "      <td>2.122573</td>\n",
       "      <td>-2.274579</td>\n",
       "      <td>-0.714429</td>\n",
       "      <td>-0.512922</td>\n",
       "    </tr>\n",
       "    <tr>\n",
       "      <th>2</th>\n",
       "      <td>-1.474158</td>\n",
       "      <td>-1.468418</td>\n",
       "      <td>0.032031</td>\n",
       "      <td>-0.092738</td>\n",
       "      <td>-0.816773</td>\n",
       "      <td>-0.417635</td>\n",
       "      <td>-1.005832</td>\n",
       "      <td>0.977514</td>\n",
       "      <td>-0.696631</td>\n",
       "      <td>0.310912</td>\n",
       "      <td>0.976352</td>\n",
       "      <td>-0.714429</td>\n",
       "      <td>-0.512922</td>\n",
       "    </tr>\n",
       "    <tr>\n",
       "      <th>3</th>\n",
       "      <td>0.180175</td>\n",
       "      <td>0.681005</td>\n",
       "      <td>0.032031</td>\n",
       "      <td>-0.663867</td>\n",
       "      <td>-0.198357</td>\n",
       "      <td>-0.417635</td>\n",
       "      <td>0.898962</td>\n",
       "      <td>1.239897</td>\n",
       "      <td>-0.696631</td>\n",
       "      <td>-0.206705</td>\n",
       "      <td>0.976352</td>\n",
       "      <td>-0.714429</td>\n",
       "      <td>-0.512922</td>\n",
       "    </tr>\n",
       "    <tr>\n",
       "      <th>4</th>\n",
       "      <td>0.290464</td>\n",
       "      <td>-1.468418</td>\n",
       "      <td>-0.938515</td>\n",
       "      <td>-0.663867</td>\n",
       "      <td>2.082050</td>\n",
       "      <td>-0.417635</td>\n",
       "      <td>0.898962</td>\n",
       "      <td>0.583939</td>\n",
       "      <td>1.435481</td>\n",
       "      <td>-0.379244</td>\n",
       "      <td>0.976352</td>\n",
       "      <td>-0.714429</td>\n",
       "      <td>-0.512922</td>\n",
       "    </tr>\n",
       "  </tbody>\n",
       "</table>\n",
       "</div>"
      ],
      "text/plain": [
       "        age       sex        cp    trtbps      chol       fbs   restecg  \\\n",
       "0  0.952197  0.681005  1.973123  0.763956 -0.256334  2.394438 -1.005832   \n",
       "1 -1.915313  0.681005  1.002577 -0.092738  0.072199 -0.417635  0.898962   \n",
       "2 -1.474158 -1.468418  0.032031 -0.092738 -0.816773 -0.417635 -1.005832   \n",
       "3  0.180175  0.681005  0.032031 -0.663867 -0.198357 -0.417635  0.898962   \n",
       "4  0.290464 -1.468418 -0.938515 -0.663867  2.082050 -0.417635  0.898962   \n",
       "\n",
       "   thalachh      exng   oldpeak       slp       caa     thall  \n",
       "0  0.015443 -0.696631  1.087338 -2.274579 -0.714429 -2.148873  \n",
       "1  1.633471 -0.696631  2.122573 -2.274579 -0.714429 -0.512922  \n",
       "2  0.977514 -0.696631  0.310912  0.976352 -0.714429 -0.512922  \n",
       "3  1.239897 -0.696631 -0.206705  0.976352 -0.714429 -0.512922  \n",
       "4  0.583939  1.435481 -0.379244  0.976352 -0.714429 -0.512922  "
      ]
     },
     "execution_count": 15,
     "metadata": {},
     "output_type": "execute_result"
    }
   ],
   "source": [
    "from sklearn.preprocessing import StandardScaler\n",
    "\n",
    "st_scaler = StandardScaler()\n",
    "features = st_scaler.fit_transform(df.drop('output', axis = 1))\n",
    "\n",
    "features_df = pd.DataFrame(features, columns = df.columns[:-1])\n",
    "features_df.head()"
   ]
  },
  {
   "cell_type": "markdown",
   "id": "bd53bce6",
   "metadata": {
    "papermill": {
     "duration": 0.04592,
     "end_time": "2022-05-14T18:39:21.123668",
     "exception": false,
     "start_time": "2022-05-14T18:39:21.077748",
     "status": "completed"
    },
    "tags": []
   },
   "source": [
    "# Building a Machine Learning Model / classification score Volume"
   ]
  },
  {
   "cell_type": "code",
   "execution_count": 16,
   "id": "582c42d2",
   "metadata": {
    "execution": {
     "iopub.execute_input": "2022-05-14T18:39:21.217545Z",
     "iopub.status.busy": "2022-05-14T18:39:21.217245Z",
     "iopub.status.idle": "2022-05-14T18:39:21.424891Z",
     "shell.execute_reply": "2022-05-14T18:39:21.423699Z"
    },
    "papermill": {
     "duration": 0.257636,
     "end_time": "2022-05-14T18:39:21.427448",
     "exception": false,
     "start_time": "2022-05-14T18:39:21.169812",
     "status": "completed"
    },
    "tags": []
   },
   "outputs": [],
   "source": [
    "#Importing the basic librarires for building model - classification\n",
    "\n",
    "from sklearn.model_selection import train_test_split\n",
    "\n",
    "from sklearn.metrics import classification_report, confusion_matrix\n",
    "\n",
    "from sklearn.neighbors import  KNeighborsClassifier\n",
    "\n",
    "from sklearn.metrics import accuracy_score,r2_score"
   ]
  },
  {
   "cell_type": "code",
   "execution_count": 17,
   "id": "21a9d557",
   "metadata": {
    "execution": {
     "iopub.execute_input": "2022-05-14T18:39:21.526634Z",
     "iopub.status.busy": "2022-05-14T18:39:21.526322Z",
     "iopub.status.idle": "2022-05-14T18:39:21.537114Z",
     "shell.execute_reply": "2022-05-14T18:39:21.535762Z"
    },
    "papermill": {
     "duration": 0.062523,
     "end_time": "2022-05-14T18:39:21.539365",
     "exception": false,
     "start_time": "2022-05-14T18:39:21.476842",
     "status": "completed"
    },
    "tags": []
   },
   "outputs": [
    {
     "name": "stdout",
     "output_type": "stream",
     "text": [
      "X Train :  (227, 13)\n",
      "X Test  :  (76, 13)\n",
      "Y Train :  (227,)\n",
      "Y Test  :  (76,)\n"
     ]
    }
   ],
   "source": [
    "#Defined X value and y value , and split the data train\n",
    "X = features_df\n",
    "y = df[\"output\"]    # y = quality\n",
    "\n",
    "# split the data train and test\n",
    "X_train, X_test, y_train, y_test = train_test_split(X, y, test_size=0.25, random_state=42)\n",
    "\n",
    "print(\"X Train : \", X_train.shape)\n",
    "print(\"X Test  : \", X_test.shape)\n",
    "print(\"Y Train : \", y_train.shape)\n",
    "print(\"Y Test  : \", y_test.shape)"
   ]
  },
  {
   "cell_type": "code",
   "execution_count": 18,
   "id": "67876332",
   "metadata": {
    "execution": {
     "iopub.execute_input": "2022-05-14T18:39:21.639060Z",
     "iopub.status.busy": "2022-05-14T18:39:21.638504Z",
     "iopub.status.idle": "2022-05-14T18:39:21.770097Z",
     "shell.execute_reply": "2022-05-14T18:39:21.768462Z"
    },
    "papermill": {
     "duration": 0.183641,
     "end_time": "2022-05-14T18:39:21.772589",
     "exception": false,
     "start_time": "2022-05-14T18:39:21.588948",
     "status": "completed"
    },
    "tags": []
   },
   "outputs": [
    {
     "name": "stdout",
     "output_type": "stream",
     "text": [
      "For Knn-1: \n",
      "\n",
      "              precision    recall  f1-score   support\n",
      "\n",
      "           0       0.78      0.80      0.79        35\n",
      "           1       0.82      0.80      0.81        41\n",
      "\n",
      "    accuracy                           0.80        76\n",
      "   macro avg       0.80      0.80      0.80        76\n",
      "weighted avg       0.80      0.80      0.80        76\n",
      "\n",
      "====================================\n",
      "For Knn-2: \n",
      "\n",
      "              precision    recall  f1-score   support\n",
      "\n",
      "           0       0.71      0.91      0.80        35\n",
      "           1       0.90      0.68      0.78        41\n",
      "\n",
      "    accuracy                           0.79        76\n",
      "   macro avg       0.81      0.80      0.79        76\n",
      "weighted avg       0.81      0.79      0.79        76\n",
      "\n",
      "====================================\n",
      "For Knn-3: \n",
      "\n",
      "              precision    recall  f1-score   support\n",
      "\n",
      "           0       0.82      0.91      0.86        35\n",
      "           1       0.92      0.83      0.87        41\n",
      "\n",
      "    accuracy                           0.87        76\n",
      "   macro avg       0.87      0.87      0.87        76\n",
      "weighted avg       0.87      0.87      0.87        76\n",
      "\n",
      "====================================\n",
      "For Knn-4: \n",
      "\n",
      "              precision    recall  f1-score   support\n",
      "\n",
      "           0       0.78      0.91      0.84        35\n",
      "           1       0.91      0.78      0.84        41\n",
      "\n",
      "    accuracy                           0.84        76\n",
      "   macro avg       0.85      0.85      0.84        76\n",
      "weighted avg       0.85      0.84      0.84        76\n",
      "\n",
      "====================================\n",
      "For Knn-5: \n",
      "\n",
      "              precision    recall  f1-score   support\n",
      "\n",
      "           0       0.89      0.89      0.89        35\n",
      "           1       0.90      0.90      0.90        41\n",
      "\n",
      "    accuracy                           0.89        76\n",
      "   macro avg       0.89      0.89      0.89        76\n",
      "weighted avg       0.89      0.89      0.89        76\n",
      "\n",
      "====================================\n",
      "For Knn-6: \n",
      "\n",
      "              precision    recall  f1-score   support\n",
      "\n",
      "           0       0.89      0.89      0.89        35\n",
      "           1       0.90      0.90      0.90        41\n",
      "\n",
      "    accuracy                           0.89        76\n",
      "   macro avg       0.89      0.89      0.89        76\n",
      "weighted avg       0.89      0.89      0.89        76\n",
      "\n",
      "====================================\n",
      "For Knn-7: \n",
      "\n",
      "              precision    recall  f1-score   support\n",
      "\n",
      "           0       0.91      0.89      0.90        35\n",
      "           1       0.90      0.93      0.92        41\n",
      "\n",
      "    accuracy                           0.91        76\n",
      "   macro avg       0.91      0.91      0.91        76\n",
      "weighted avg       0.91      0.91      0.91        76\n",
      "\n",
      "====================================\n",
      "For Knn-8: \n",
      "\n",
      "              precision    recall  f1-score   support\n",
      "\n",
      "           0       0.82      0.89      0.85        35\n",
      "           1       0.89      0.83      0.86        41\n",
      "\n",
      "    accuracy                           0.86        76\n",
      "   macro avg       0.86      0.86      0.86        76\n",
      "weighted avg       0.86      0.86      0.86        76\n",
      "\n",
      "====================================\n",
      "For Knn-9: \n",
      "\n",
      "              precision    recall  f1-score   support\n",
      "\n",
      "           0       0.84      0.89      0.86        35\n",
      "           1       0.90      0.85      0.88        41\n",
      "\n",
      "    accuracy                           0.87        76\n",
      "   macro avg       0.87      0.87      0.87        76\n",
      "weighted avg       0.87      0.87      0.87        76\n",
      "\n",
      "====================================\n"
     ]
    }
   ],
   "source": [
    "for i in range(1,10):\n",
    "    knn1 = KNeighborsClassifier(n_neighbors=i)\n",
    "    knn1.fit(X_train,y_train)\n",
    "    pred1 = knn1.predict(X_test)\n",
    "    print(f\"For Knn-{i}: \\n\")\n",
    "    print(classification_report(y_test,pred1))\n",
    "    print('====================================')"
   ]
  },
  {
   "cell_type": "code",
   "execution_count": 19,
   "id": "28c1a3b8",
   "metadata": {
    "execution": {
     "iopub.execute_input": "2022-05-14T18:39:21.877806Z",
     "iopub.status.busy": "2022-05-14T18:39:21.877499Z",
     "iopub.status.idle": "2022-05-14T18:39:21.897882Z",
     "shell.execute_reply": "2022-05-14T18:39:21.896922Z"
    },
    "papermill": {
     "duration": 0.076169,
     "end_time": "2022-05-14T18:39:21.900306",
     "exception": false,
     "start_time": "2022-05-14T18:39:21.824137",
     "status": "completed"
    },
    "tags": []
   },
   "outputs": [
    {
     "name": "stdout",
     "output_type": "stream",
     "text": [
      "For Knn-9: \n",
      "\n",
      "              precision    recall  f1-score   support\n",
      "\n",
      "           0       0.91      0.89      0.90        35\n",
      "           1       0.90      0.93      0.92        41\n",
      "\n",
      "    accuracy                           0.91        76\n",
      "   macro avg       0.91      0.91      0.91        76\n",
      "weighted avg       0.91      0.91      0.91        76\n",
      "\n"
     ]
    }
   ],
   "source": [
    "KNN = KNeighborsClassifier(n_neighbors=7)\n",
    "KNN.fit(X_train,y_train)\n",
    "pred = KNN.predict(X_test)\n",
    "print(f\"For Knn-{i}: \\n\")\n",
    "print(classification_report(y_test,pred))"
   ]
  },
  {
   "cell_type": "code",
   "execution_count": 20,
   "id": "8887583f",
   "metadata": {
    "execution": {
     "iopub.execute_input": "2022-05-14T18:39:22.006323Z",
     "iopub.status.busy": "2022-05-14T18:39:22.006069Z",
     "iopub.status.idle": "2022-05-14T18:39:22.015070Z",
     "shell.execute_reply": "2022-05-14T18:39:22.014176Z"
    },
    "papermill": {
     "duration": 0.06842,
     "end_time": "2022-05-14T18:39:22.017244",
     "exception": false,
     "start_time": "2022-05-14T18:39:21.948824",
     "status": "completed"
    },
    "tags": []
   },
   "outputs": [
    {
     "data": {
      "text/plain": [
       "array([[31,  4],\n",
       "       [ 3, 38]])"
      ]
     },
     "execution_count": 20,
     "metadata": {},
     "output_type": "execute_result"
    }
   ],
   "source": [
    "confusion_matrix(y_test, pred)"
   ]
  },
  {
   "cell_type": "code",
   "execution_count": 21,
   "id": "013810d3",
   "metadata": {
    "execution": {
     "iopub.execute_input": "2022-05-14T18:39:22.125845Z",
     "iopub.status.busy": "2022-05-14T18:39:22.125230Z",
     "iopub.status.idle": "2022-05-14T18:39:22.132423Z",
     "shell.execute_reply": "2022-05-14T18:39:22.131651Z"
    },
    "papermill": {
     "duration": 0.062272,
     "end_time": "2022-05-14T18:39:22.134581",
     "exception": false,
     "start_time": "2022-05-14T18:39:22.072309",
     "status": "completed"
    },
    "tags": []
   },
   "outputs": [
    {
     "data": {
      "text/plain": [
       "90.78947368421053"
      ]
     },
     "execution_count": 21,
     "metadata": {},
     "output_type": "execute_result"
    }
   ],
   "source": [
    "accuracy_score(y_test,pred)*100"
   ]
  },
  {
   "cell_type": "markdown",
   "id": "c484b269",
   "metadata": {
    "papermill": {
     "duration": 0.048494,
     "end_time": "2022-05-14T18:39:22.236348",
     "exception": false,
     "start_time": "2022-05-14T18:39:22.187854",
     "status": "completed"
    },
    "tags": []
   },
   "source": [
    "# Notes 😃😃😃😃\n",
    "\n",
    "- Thank for reading my analysis and my classification. 😃😃😃😃\n",
    "\n",
    "- If you any questions or advice me please write in the comment . ❤️❤️❤️❤️\n",
    "\n",
    "- If anyone has a model with a higher percentage, please tell me 🤝🤝🤝, it`s will support me .\n",
    "\n",
    "# Vote ❤️😃\n",
    "\n",
    "- If you liked my work upvote me ,\n",
    "\n",
    "\n",
    "# The End 🤝🎉🤝🎉"
   ]
  }
 ],
 "metadata": {
  "kernelspec": {
   "display_name": "Python 3",
   "language": "python",
   "name": "python3"
  },
  "language_info": {
   "codemirror_mode": {
    "name": "ipython",
    "version": 3
   },
   "file_extension": ".py",
   "mimetype": "text/x-python",
   "name": "python",
   "nbconvert_exporter": "python",
   "pygments_lexer": "ipython3",
   "version": "3.7.12"
  },
  "papermill": {
   "default_parameters": {},
   "duration": 24.847711,
   "end_time": "2022-05-14T18:39:23.209551",
   "environment_variables": {},
   "exception": null,
   "input_path": "__notebook__.ipynb",
   "output_path": "__notebook__.ipynb",
   "parameters": {},
   "start_time": "2022-05-14T18:38:58.361840",
   "version": "2.3.4"
  }
 },
 "nbformat": 4,
 "nbformat_minor": 5
}
