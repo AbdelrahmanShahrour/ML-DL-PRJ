{
 "cells": [
  {
   "cell_type": "markdown",
   "id": "f162d90f",
   "metadata": {
    "papermill": {
     "duration": 0.022904,
     "end_time": "2022-07-24T16:06:25.878646",
     "exception": false,
     "start_time": "2022-07-24T16:06:25.855742",
     "status": "completed"
    },
    "tags": []
   },
   "source": [
    "# Import libraries"
   ]
  },
  {
   "cell_type": "code",
   "execution_count": 1,
   "id": "bd6b4e67",
   "metadata": {
    "execution": {
     "iopub.execute_input": "2022-07-24T16:06:25.924714Z",
     "iopub.status.busy": "2022-07-24T16:06:25.923921Z",
     "iopub.status.idle": "2022-07-24T16:06:27.276610Z",
     "shell.execute_reply": "2022-07-24T16:06:27.275219Z"
    },
    "papermill": {
     "duration": 1.378282,
     "end_time": "2022-07-24T16:06:27.280025",
     "exception": false,
     "start_time": "2022-07-24T16:06:25.901743",
     "status": "completed"
    },
    "tags": []
   },
   "outputs": [],
   "source": [
    "import  pandas as pd\n",
    "import warnings\n",
    "warnings.filterwarnings('ignore')\n",
    "import missingno as msn\n",
    "import seaborn as sns\n",
    "import numpy as np\n",
    "import matplotlib.pyplot as plt"
   ]
  },
  {
   "cell_type": "markdown",
   "id": "2a26377c",
   "metadata": {
    "papermill": {
     "duration": 0.021122,
     "end_time": "2022-07-24T16:06:27.322337",
     "exception": false,
     "start_time": "2022-07-24T16:06:27.301215",
     "status": "completed"
    },
    "tags": []
   },
   "source": [
    "# Exracting dataset"
   ]
  },
  {
   "cell_type": "code",
   "execution_count": 2,
   "id": "e3f6fbd2",
   "metadata": {
    "execution": {
     "iopub.execute_input": "2022-07-24T16:06:27.366406Z",
     "iopub.status.busy": "2022-07-24T16:06:27.365732Z",
     "iopub.status.idle": "2022-07-24T16:06:27.387927Z",
     "shell.execute_reply": "2022-07-24T16:06:27.386697Z"
    },
    "papermill": {
     "duration": 0.047423,
     "end_time": "2022-07-24T16:06:27.390860",
     "exception": false,
     "start_time": "2022-07-24T16:06:27.343437",
     "status": "completed"
    },
    "tags": []
   },
   "outputs": [],
   "source": [
    "df=pd.read_csv('/kaggle/input/titanic/train.csv')"
   ]
  },
  {
   "cell_type": "markdown",
   "id": "f2382fc7",
   "metadata": {
    "papermill": {
     "duration": 0.020115,
     "end_time": "2022-07-24T16:06:27.433221",
     "exception": false,
     "start_time": "2022-07-24T16:06:27.413106",
     "status": "completed"
    },
    "tags": []
   },
   "source": [
    "let's see data"
   ]
  },
  {
   "cell_type": "code",
   "execution_count": 3,
   "id": "2500c2eb",
   "metadata": {
    "execution": {
     "iopub.execute_input": "2022-07-24T16:06:27.476322Z",
     "iopub.status.busy": "2022-07-24T16:06:27.475945Z",
     "iopub.status.idle": "2022-07-24T16:06:27.501356Z",
     "shell.execute_reply": "2022-07-24T16:06:27.500134Z"
    },
    "papermill": {
     "duration": 0.050324,
     "end_time": "2022-07-24T16:06:27.504023",
     "exception": false,
     "start_time": "2022-07-24T16:06:27.453699",
     "status": "completed"
    },
    "tags": []
   },
   "outputs": [
    {
     "data": {
      "text/html": [
       "<div>\n",
       "<style scoped>\n",
       "    .dataframe tbody tr th:only-of-type {\n",
       "        vertical-align: middle;\n",
       "    }\n",
       "\n",
       "    .dataframe tbody tr th {\n",
       "        vertical-align: top;\n",
       "    }\n",
       "\n",
       "    .dataframe thead th {\n",
       "        text-align: right;\n",
       "    }\n",
       "</style>\n",
       "<table border=\"1\" class=\"dataframe\">\n",
       "  <thead>\n",
       "    <tr style=\"text-align: right;\">\n",
       "      <th></th>\n",
       "      <th>PassengerId</th>\n",
       "      <th>Survived</th>\n",
       "      <th>Pclass</th>\n",
       "      <th>Name</th>\n",
       "      <th>Sex</th>\n",
       "      <th>Age</th>\n",
       "      <th>SibSp</th>\n",
       "      <th>Parch</th>\n",
       "      <th>Ticket</th>\n",
       "      <th>Fare</th>\n",
       "      <th>Cabin</th>\n",
       "      <th>Embarked</th>\n",
       "    </tr>\n",
       "  </thead>\n",
       "  <tbody>\n",
       "    <tr>\n",
       "      <th>0</th>\n",
       "      <td>1</td>\n",
       "      <td>0</td>\n",
       "      <td>3</td>\n",
       "      <td>Braund, Mr. Owen Harris</td>\n",
       "      <td>male</td>\n",
       "      <td>22.0</td>\n",
       "      <td>1</td>\n",
       "      <td>0</td>\n",
       "      <td>A/5 21171</td>\n",
       "      <td>7.2500</td>\n",
       "      <td>NaN</td>\n",
       "      <td>S</td>\n",
       "    </tr>\n",
       "    <tr>\n",
       "      <th>1</th>\n",
       "      <td>2</td>\n",
       "      <td>1</td>\n",
       "      <td>1</td>\n",
       "      <td>Cumings, Mrs. John Bradley (Florence Briggs Th...</td>\n",
       "      <td>female</td>\n",
       "      <td>38.0</td>\n",
       "      <td>1</td>\n",
       "      <td>0</td>\n",
       "      <td>PC 17599</td>\n",
       "      <td>71.2833</td>\n",
       "      <td>C85</td>\n",
       "      <td>C</td>\n",
       "    </tr>\n",
       "    <tr>\n",
       "      <th>2</th>\n",
       "      <td>3</td>\n",
       "      <td>1</td>\n",
       "      <td>3</td>\n",
       "      <td>Heikkinen, Miss. Laina</td>\n",
       "      <td>female</td>\n",
       "      <td>26.0</td>\n",
       "      <td>0</td>\n",
       "      <td>0</td>\n",
       "      <td>STON/O2. 3101282</td>\n",
       "      <td>7.9250</td>\n",
       "      <td>NaN</td>\n",
       "      <td>S</td>\n",
       "    </tr>\n",
       "    <tr>\n",
       "      <th>3</th>\n",
       "      <td>4</td>\n",
       "      <td>1</td>\n",
       "      <td>1</td>\n",
       "      <td>Futrelle, Mrs. Jacques Heath (Lily May Peel)</td>\n",
       "      <td>female</td>\n",
       "      <td>35.0</td>\n",
       "      <td>1</td>\n",
       "      <td>0</td>\n",
       "      <td>113803</td>\n",
       "      <td>53.1000</td>\n",
       "      <td>C123</td>\n",
       "      <td>S</td>\n",
       "    </tr>\n",
       "    <tr>\n",
       "      <th>4</th>\n",
       "      <td>5</td>\n",
       "      <td>0</td>\n",
       "      <td>3</td>\n",
       "      <td>Allen, Mr. William Henry</td>\n",
       "      <td>male</td>\n",
       "      <td>35.0</td>\n",
       "      <td>0</td>\n",
       "      <td>0</td>\n",
       "      <td>373450</td>\n",
       "      <td>8.0500</td>\n",
       "      <td>NaN</td>\n",
       "      <td>S</td>\n",
       "    </tr>\n",
       "  </tbody>\n",
       "</table>\n",
       "</div>"
      ],
      "text/plain": [
       "   PassengerId  Survived  Pclass  \\\n",
       "0            1         0       3   \n",
       "1            2         1       1   \n",
       "2            3         1       3   \n",
       "3            4         1       1   \n",
       "4            5         0       3   \n",
       "\n",
       "                                                Name     Sex   Age  SibSp  \\\n",
       "0                            Braund, Mr. Owen Harris    male  22.0      1   \n",
       "1  Cumings, Mrs. John Bradley (Florence Briggs Th...  female  38.0      1   \n",
       "2                             Heikkinen, Miss. Laina  female  26.0      0   \n",
       "3       Futrelle, Mrs. Jacques Heath (Lily May Peel)  female  35.0      1   \n",
       "4                           Allen, Mr. William Henry    male  35.0      0   \n",
       "\n",
       "   Parch            Ticket     Fare Cabin Embarked  \n",
       "0      0         A/5 21171   7.2500   NaN        S  \n",
       "1      0          PC 17599  71.2833   C85        C  \n",
       "2      0  STON/O2. 3101282   7.9250   NaN        S  \n",
       "3      0            113803  53.1000  C123        S  \n",
       "4      0            373450   8.0500   NaN        S  "
      ]
     },
     "execution_count": 3,
     "metadata": {},
     "output_type": "execute_result"
    }
   ],
   "source": [
    "df.head()"
   ]
  },
  {
   "cell_type": "markdown",
   "id": "5b2a56d1",
   "metadata": {
    "papermill": {
     "duration": 0.020876,
     "end_time": "2022-07-24T16:06:27.546984",
     "exception": false,
     "start_time": "2022-07-24T16:06:27.526108",
     "status": "completed"
    },
    "tags": []
   },
   "source": [
    "you can see columns and also shape(shape can help us to see how many columns and rows exist)"
   ]
  },
  {
   "cell_type": "code",
   "execution_count": 4,
   "id": "f3ee7fb5",
   "metadata": {
    "execution": {
     "iopub.execute_input": "2022-07-24T16:06:27.592042Z",
     "iopub.status.busy": "2022-07-24T16:06:27.591599Z",
     "iopub.status.idle": "2022-07-24T16:06:27.598801Z",
     "shell.execute_reply": "2022-07-24T16:06:27.597375Z"
    },
    "papermill": {
     "duration": 0.032365,
     "end_time": "2022-07-24T16:06:27.601232",
     "exception": false,
     "start_time": "2022-07-24T16:06:27.568867",
     "status": "completed"
    },
    "tags": []
   },
   "outputs": [
    {
     "data": {
      "text/plain": [
       "Index(['PassengerId', 'Survived', 'Pclass', 'Name', 'Sex', 'Age', 'SibSp',\n",
       "       'Parch', 'Ticket', 'Fare', 'Cabin', 'Embarked'],\n",
       "      dtype='object')"
      ]
     },
     "execution_count": 4,
     "metadata": {},
     "output_type": "execute_result"
    }
   ],
   "source": [
    "df.columns"
   ]
  },
  {
   "cell_type": "code",
   "execution_count": 5,
   "id": "91d2a2cc",
   "metadata": {
    "execution": {
     "iopub.execute_input": "2022-07-24T16:06:27.645735Z",
     "iopub.status.busy": "2022-07-24T16:06:27.645329Z",
     "iopub.status.idle": "2022-07-24T16:06:27.652249Z",
     "shell.execute_reply": "2022-07-24T16:06:27.651062Z"
    },
    "papermill": {
     "duration": 0.032718,
     "end_time": "2022-07-24T16:06:27.654897",
     "exception": false,
     "start_time": "2022-07-24T16:06:27.622179",
     "status": "completed"
    },
    "tags": []
   },
   "outputs": [
    {
     "data": {
      "text/plain": [
       "(891, 12)"
      ]
     },
     "execution_count": 5,
     "metadata": {},
     "output_type": "execute_result"
    }
   ],
   "source": [
    "df.shape"
   ]
  },
  {
   "cell_type": "code",
   "execution_count": 6,
   "id": "58afd8fa",
   "metadata": {
    "execution": {
     "iopub.execute_input": "2022-07-24T16:06:27.698941Z",
     "iopub.status.busy": "2022-07-24T16:06:27.698500Z",
     "iopub.status.idle": "2022-07-24T16:06:27.729815Z",
     "shell.execute_reply": "2022-07-24T16:06:27.727699Z"
    },
    "papermill": {
     "duration": 0.057014,
     "end_time": "2022-07-24T16:06:27.732885",
     "exception": false,
     "start_time": "2022-07-24T16:06:27.675871",
     "status": "completed"
    },
    "tags": []
   },
   "outputs": [
    {
     "name": "stdout",
     "output_type": "stream",
     "text": [
      "<class 'pandas.core.frame.DataFrame'>\n",
      "RangeIndex: 891 entries, 0 to 890\n",
      "Data columns (total 12 columns):\n",
      " #   Column       Non-Null Count  Dtype  \n",
      "---  ------       --------------  -----  \n",
      " 0   PassengerId  891 non-null    int64  \n",
      " 1   Survived     891 non-null    int64  \n",
      " 2   Pclass       891 non-null    int64  \n",
      " 3   Name         891 non-null    object \n",
      " 4   Sex          891 non-null    object \n",
      " 5   Age          714 non-null    float64\n",
      " 6   SibSp        891 non-null    int64  \n",
      " 7   Parch        891 non-null    int64  \n",
      " 8   Ticket       891 non-null    object \n",
      " 9   Fare         891 non-null    float64\n",
      " 10  Cabin        204 non-null    object \n",
      " 11  Embarked     889 non-null    object \n",
      "dtypes: float64(2), int64(5), object(5)\n",
      "memory usage: 83.7+ KB\n"
     ]
    }
   ],
   "source": [
    "df.info()"
   ]
  },
  {
   "cell_type": "markdown",
   "id": "d0e3a898",
   "metadata": {
    "papermill": {
     "duration": 0.021337,
     "end_time": "2022-07-24T16:06:27.776247",
     "exception": false,
     "start_time": "2022-07-24T16:06:27.754910",
     "status": "completed"
    },
    "tags": []
   },
   "source": [
    "First of all we can see null values of columns using missingno matrix "
   ]
  },
  {
   "cell_type": "code",
   "execution_count": 7,
   "id": "59519fef",
   "metadata": {
    "execution": {
     "iopub.execute_input": "2022-07-24T16:06:27.822261Z",
     "iopub.status.busy": "2022-07-24T16:06:27.821898Z",
     "iopub.status.idle": "2022-07-24T16:06:28.364117Z",
     "shell.execute_reply": "2022-07-24T16:06:28.362509Z"
    },
    "papermill": {
     "duration": 0.568066,
     "end_time": "2022-07-24T16:06:28.366665",
     "exception": false,
     "start_time": "2022-07-24T16:06:27.798599",
     "status": "completed"
    },
    "tags": []
   },
   "outputs": [
    {
     "data": {
      "image/png": "[encoded data removed]",
      "text/plain": [
       "<Figure size 1800x720 with 2 Axes>"
      ]
     },
     "metadata": {
      "needs_background": "light"
     },
     "output_type": "display_data"
    }
   ],
   "source": [
    "msn.matrix(df)\n",
    "plt.show()"
   ]
  },
  {
   "cell_type": "markdown",
   "id": "6ac3fe95",
   "metadata": {
    "papermill": {
     "duration": 0.023858,
     "end_time": "2022-07-24T16:06:28.413560",
     "exception": false,
     "start_time": "2022-07-24T16:06:28.389702",
     "status": "completed"
    },
    "tags": []
   },
   "source": [
    "then we can multiply all null values of columns using sum"
   ]
  },
  {
   "cell_type": "code",
   "execution_count": 8,
   "id": "2f445fb5",
   "metadata": {
    "execution": {
     "iopub.execute_input": "2022-07-24T16:06:28.461275Z",
     "iopub.status.busy": "2022-07-24T16:06:28.460878Z",
     "iopub.status.idle": "2022-07-24T16:06:28.470613Z",
     "shell.execute_reply": "2022-07-24T16:06:28.469789Z"
    },
    "papermill": {
     "duration": 0.036657,
     "end_time": "2022-07-24T16:06:28.472836",
     "exception": false,
     "start_time": "2022-07-24T16:06:28.436179",
     "status": "completed"
    },
    "tags": []
   },
   "outputs": [
    {
     "data": {
      "text/plain": [
       "PassengerId      0\n",
       "Survived         0\n",
       "Pclass           0\n",
       "Name             0\n",
       "Sex              0\n",
       "Age            177\n",
       "SibSp            0\n",
       "Parch            0\n",
       "Ticket           0\n",
       "Fare             0\n",
       "Cabin          687\n",
       "Embarked         2\n",
       "dtype: int64"
      ]
     },
     "execution_count": 8,
     "metadata": {},
     "output_type": "execute_result"
    }
   ],
   "source": [
    "df.isnull().sum()"
   ]
  },
  {
   "cell_type": "markdown",
   "id": "3e55b990",
   "metadata": {
    "papermill": {
     "duration": 0.023175,
     "end_time": "2022-07-24T16:06:28.519495",
     "exception": false,
     "start_time": "2022-07-24T16:06:28.496320",
     "status": "completed"
    },
    "tags": []
   },
   "source": [
    "Also we can see null values using missingno bar"
   ]
  },
  {
   "cell_type": "code",
   "execution_count": 9,
   "id": "182b3c43",
   "metadata": {
    "execution": {
     "iopub.execute_input": "2022-07-24T16:06:28.568239Z",
     "iopub.status.busy": "2022-07-24T16:06:28.567493Z",
     "iopub.status.idle": "2022-07-24T16:06:29.526364Z",
     "shell.execute_reply": "2022-07-24T16:06:29.525010Z"
    },
    "papermill": {
     "duration": 0.985729,
     "end_time": "2022-07-24T16:06:29.528994",
     "exception": false,
     "start_time": "2022-07-24T16:06:28.543265",
     "status": "completed"
    },
    "tags": []
   },
   "outputs": [
    {
     "data": {
      "image/png": "[encoded data removed]",
      "text/plain": [
       "<Figure size 1728x720 with 3 Axes>"
      ]
     },
     "metadata": {
      "needs_background": "light"
     },
     "output_type": "display_data"
    }
   ],
   "source": [
    "msn.bar(df)\n",
    "plt.show()"
   ]
  },
  {
   "cell_type": "markdown",
   "id": "f2c2b1a8",
   "metadata": {
    "papermill": {
     "duration": 0.022575,
     "end_time": "2022-07-24T16:06:29.575323",
     "exception": false,
     "start_time": "2022-07-24T16:06:29.552748",
     "status": "completed"
    },
    "tags": []
   },
   "source": [
    "and we can find the percentage of null values of columns like that"
   ]
  },
  {
   "cell_type": "code",
   "execution_count": 10,
   "id": "baad5bef",
   "metadata": {
    "execution": {
     "iopub.execute_input": "2022-07-24T16:06:29.626095Z",
     "iopub.status.busy": "2022-07-24T16:06:29.625523Z",
     "iopub.status.idle": "2022-07-24T16:06:29.638622Z",
     "shell.execute_reply": "2022-07-24T16:06:29.637295Z"
    },
    "papermill": {
     "duration": 0.041288,
     "end_time": "2022-07-24T16:06:29.641355",
     "exception": false,
     "start_time": "2022-07-24T16:06:29.600067",
     "status": "completed"
    },
    "tags": []
   },
   "outputs": [
    {
     "data": {
      "text/plain": [
       "PassengerId    0.000000\n",
       "Survived       0.000000\n",
       "Pclass         0.000000\n",
       "Name           0.000000\n",
       "Sex            0.000000\n",
       "Age            0.198653\n",
       "SibSp          0.000000\n",
       "Parch          0.000000\n",
       "Ticket         0.000000\n",
       "Fare           0.000000\n",
       "Cabin          0.771044\n",
       "Embarked       0.002245\n",
       "dtype: float64"
      ]
     },
     "execution_count": 10,
     "metadata": {},
     "output_type": "execute_result"
    }
   ],
   "source": [
    "df.isnull().sum()/df.shape[0]"
   ]
  },
  {
   "cell_type": "markdown",
   "id": "1d9dbbbb",
   "metadata": {
    "papermill": {
     "duration": 0.022765,
     "end_time": "2022-07-24T16:06:29.687679",
     "exception": false,
     "start_time": "2022-07-24T16:06:29.664914",
     "status": "completed"
    },
    "tags": []
   },
   "source": [
    "As you see 'cabin' column has many null values ,let's drop this column "
   ]
  },
  {
   "cell_type": "code",
   "execution_count": 11,
   "id": "33c75f61",
   "metadata": {
    "execution": {
     "iopub.execute_input": "2022-07-24T16:06:29.735357Z",
     "iopub.status.busy": "2022-07-24T16:06:29.734979Z",
     "iopub.status.idle": "2022-07-24T16:06:29.741448Z",
     "shell.execute_reply": "2022-07-24T16:06:29.740103Z"
    },
    "papermill": {
     "duration": 0.03346,
     "end_time": "2022-07-24T16:06:29.743937",
     "exception": false,
     "start_time": "2022-07-24T16:06:29.710477",
     "status": "completed"
    },
    "tags": []
   },
   "outputs": [],
   "source": [
    "df.drop('Cabin', axis=1, inplace=True)"
   ]
  },
  {
   "cell_type": "code",
   "execution_count": 12,
   "id": "93fe0eba",
   "metadata": {
    "execution": {
     "iopub.execute_input": "2022-07-24T16:06:29.794216Z",
     "iopub.status.busy": "2022-07-24T16:06:29.793524Z",
     "iopub.status.idle": "2022-07-24T16:06:29.798794Z",
     "shell.execute_reply": "2022-07-24T16:06:29.797896Z"
    },
    "papermill": {
     "duration": 0.034072,
     "end_time": "2022-07-24T16:06:29.801348",
     "exception": false,
     "start_time": "2022-07-24T16:06:29.767276",
     "status": "completed"
    },
    "tags": []
   },
   "outputs": [],
   "source": [
    "df_copy=df.copy()"
   ]
  },
  {
   "cell_type": "code",
   "execution_count": 13,
   "id": "b4383ec0",
   "metadata": {
    "execution": {
     "iopub.execute_input": "2022-07-24T16:06:29.852438Z",
     "iopub.status.busy": "2022-07-24T16:06:29.851419Z",
     "iopub.status.idle": "2022-07-24T16:06:29.869284Z",
     "shell.execute_reply": "2022-07-24T16:06:29.868083Z"
    },
    "papermill": {
     "duration": 0.046691,
     "end_time": "2022-07-24T16:06:29.872149",
     "exception": false,
     "start_time": "2022-07-24T16:06:29.825458",
     "status": "completed"
    },
    "tags": []
   },
   "outputs": [
    {
     "data": {
      "text/html": [
       "<div>\n",
       "<style scoped>\n",
       "    .dataframe tbody tr th:only-of-type {\n",
       "        vertical-align: middle;\n",
       "    }\n",
       "\n",
       "    .dataframe tbody tr th {\n",
       "        vertical-align: top;\n",
       "    }\n",
       "\n",
       "    .dataframe thead th {\n",
       "        text-align: right;\n",
       "    }\n",
       "</style>\n",
       "<table border=\"1\" class=\"dataframe\">\n",
       "  <thead>\n",
       "    <tr style=\"text-align: right;\">\n",
       "      <th></th>\n",
       "      <th>PassengerId</th>\n",
       "      <th>Survived</th>\n",
       "      <th>Pclass</th>\n",
       "      <th>Name</th>\n",
       "      <th>Sex</th>\n",
       "      <th>Age</th>\n",
       "      <th>SibSp</th>\n",
       "      <th>Parch</th>\n",
       "      <th>Ticket</th>\n",
       "      <th>Fare</th>\n",
       "      <th>Embarked</th>\n",
       "    </tr>\n",
       "  </thead>\n",
       "  <tbody>\n",
       "    <tr>\n",
       "      <th>0</th>\n",
       "      <td>1</td>\n",
       "      <td>0</td>\n",
       "      <td>3</td>\n",
       "      <td>Braund, Mr. Owen Harris</td>\n",
       "      <td>male</td>\n",
       "      <td>22.0</td>\n",
       "      <td>1</td>\n",
       "      <td>0</td>\n",
       "      <td>A/5 21171</td>\n",
       "      <td>7.2500</td>\n",
       "      <td>S</td>\n",
       "    </tr>\n",
       "    <tr>\n",
       "      <th>1</th>\n",
       "      <td>2</td>\n",
       "      <td>1</td>\n",
       "      <td>1</td>\n",
       "      <td>Cumings, Mrs. John Bradley (Florence Briggs Th...</td>\n",
       "      <td>female</td>\n",
       "      <td>38.0</td>\n",
       "      <td>1</td>\n",
       "      <td>0</td>\n",
       "      <td>PC 17599</td>\n",
       "      <td>71.2833</td>\n",
       "      <td>C</td>\n",
       "    </tr>\n",
       "    <tr>\n",
       "      <th>2</th>\n",
       "      <td>3</td>\n",
       "      <td>1</td>\n",
       "      <td>3</td>\n",
       "      <td>Heikkinen, Miss. Laina</td>\n",
       "      <td>female</td>\n",
       "      <td>26.0</td>\n",
       "      <td>0</td>\n",
       "      <td>0</td>\n",
       "      <td>STON/O2. 3101282</td>\n",
       "      <td>7.9250</td>\n",
       "      <td>S</td>\n",
       "    </tr>\n",
       "    <tr>\n",
       "      <th>3</th>\n",
       "      <td>4</td>\n",
       "      <td>1</td>\n",
       "      <td>1</td>\n",
       "      <td>Futrelle, Mrs. Jacques Heath (Lily May Peel)</td>\n",
       "      <td>female</td>\n",
       "      <td>35.0</td>\n",
       "      <td>1</td>\n",
       "      <td>0</td>\n",
       "      <td>113803</td>\n",
       "      <td>53.1000</td>\n",
       "      <td>S</td>\n",
       "    </tr>\n",
       "    <tr>\n",
       "      <th>4</th>\n",
       "      <td>5</td>\n",
       "      <td>0</td>\n",
       "      <td>3</td>\n",
       "      <td>Allen, Mr. William Henry</td>\n",
       "      <td>male</td>\n",
       "      <td>35.0</td>\n",
       "      <td>0</td>\n",
       "      <td>0</td>\n",
       "      <td>373450</td>\n",
       "      <td>8.0500</td>\n",
       "      <td>S</td>\n",
       "    </tr>\n",
       "  </tbody>\n",
       "</table>\n",
       "</div>"
      ],
      "text/plain": [
       "   PassengerId  Survived  Pclass  \\\n",
       "0            1         0       3   \n",
       "1            2         1       1   \n",
       "2            3         1       3   \n",
       "3            4         1       1   \n",
       "4            5         0       3   \n",
       "\n",
       "                                                Name     Sex   Age  SibSp  \\\n",
       "0                            Braund, Mr. Owen Harris    male  22.0      1   \n",
       "1  Cumings, Mrs. John Bradley (Florence Briggs Th...  female  38.0      1   \n",
       "2                             Heikkinen, Miss. Laina  female  26.0      0   \n",
       "3       Futrelle, Mrs. Jacques Heath (Lily May Peel)  female  35.0      1   \n",
       "4                           Allen, Mr. William Henry    male  35.0      0   \n",
       "\n",
       "   Parch            Ticket     Fare Embarked  \n",
       "0      0         A/5 21171   7.2500        S  \n",
       "1      0          PC 17599  71.2833        C  \n",
       "2      0  STON/O2. 3101282   7.9250        S  \n",
       "3      0            113803  53.1000        S  \n",
       "4      0            373450   8.0500        S  "
      ]
     },
     "execution_count": 13,
     "metadata": {},
     "output_type": "execute_result"
    }
   ],
   "source": [
    "df.head()"
   ]
  },
  {
   "cell_type": "markdown",
   "id": "00a9ff32",
   "metadata": {
    "papermill": {
     "duration": 0.022932,
     "end_time": "2022-07-24T16:06:29.918675",
     "exception": false,
     "start_time": "2022-07-24T16:06:29.895743",
     "status": "completed"
    },
    "tags": []
   },
   "source": [
    "as you see the 'Cabin' column has dropped"
   ]
  },
  {
   "cell_type": "markdown",
   "id": "167a09b3",
   "metadata": {
    "papermill": {
     "duration": 0.02514,
     "end_time": "2022-07-24T16:06:29.967217",
     "exception": false,
     "start_time": "2022-07-24T16:06:29.942077",
     "status": "completed"
    },
    "tags": []
   },
   "source": [
    "we can count null values of columns like that"
   ]
  },
  {
   "cell_type": "code",
   "execution_count": 14,
   "id": "25aede84",
   "metadata": {
    "execution": {
     "iopub.execute_input": "2022-07-24T16:06:30.018477Z",
     "iopub.status.busy": "2022-07-24T16:06:30.017747Z",
     "iopub.status.idle": "2022-07-24T16:06:30.025448Z",
     "shell.execute_reply": "2022-07-24T16:06:30.024619Z"
    },
    "papermill": {
     "duration": 0.035366,
     "end_time": "2022-07-24T16:06:30.027522",
     "exception": false,
     "start_time": "2022-07-24T16:06:29.992156",
     "status": "completed"
    },
    "tags": []
   },
   "outputs": [
    {
     "data": {
      "text/plain": [
       "177"
      ]
     },
     "execution_count": 14,
     "metadata": {},
     "output_type": "execute_result"
    }
   ],
   "source": [
    "df['Age'].isnull().sum()"
   ]
  },
  {
   "cell_type": "code",
   "execution_count": 15,
   "id": "a07336d9",
   "metadata": {
    "execution": {
     "iopub.execute_input": "2022-07-24T16:06:30.078003Z",
     "iopub.status.busy": "2022-07-24T16:06:30.077181Z",
     "iopub.status.idle": "2022-07-24T16:06:30.094445Z",
     "shell.execute_reply": "2022-07-24T16:06:30.093213Z"
    },
    "papermill": {
     "duration": 0.04532,
     "end_time": "2022-07-24T16:06:30.097203",
     "exception": false,
     "start_time": "2022-07-24T16:06:30.051883",
     "status": "completed"
    },
    "tags": []
   },
   "outputs": [
    {
     "data": {
      "text/html": [
       "<div>\n",
       "<style scoped>\n",
       "    .dataframe tbody tr th:only-of-type {\n",
       "        vertical-align: middle;\n",
       "    }\n",
       "\n",
       "    .dataframe tbody tr th {\n",
       "        vertical-align: top;\n",
       "    }\n",
       "\n",
       "    .dataframe thead th {\n",
       "        text-align: right;\n",
       "    }\n",
       "</style>\n",
       "<table border=\"1\" class=\"dataframe\">\n",
       "  <thead>\n",
       "    <tr style=\"text-align: right;\">\n",
       "      <th></th>\n",
       "      <th>PassengerId</th>\n",
       "      <th>Survived</th>\n",
       "      <th>Pclass</th>\n",
       "      <th>Name</th>\n",
       "      <th>Sex</th>\n",
       "      <th>Age</th>\n",
       "      <th>SibSp</th>\n",
       "      <th>Parch</th>\n",
       "      <th>Ticket</th>\n",
       "      <th>Fare</th>\n",
       "      <th>Embarked</th>\n",
       "    </tr>\n",
       "  </thead>\n",
       "  <tbody>\n",
       "    <tr>\n",
       "      <th>0</th>\n",
       "      <td>1</td>\n",
       "      <td>0</td>\n",
       "      <td>3</td>\n",
       "      <td>Braund, Mr. Owen Harris</td>\n",
       "      <td>male</td>\n",
       "      <td>22.0</td>\n",
       "      <td>1</td>\n",
       "      <td>0</td>\n",
       "      <td>A/5 21171</td>\n",
       "      <td>7.2500</td>\n",
       "      <td>S</td>\n",
       "    </tr>\n",
       "    <tr>\n",
       "      <th>1</th>\n",
       "      <td>2</td>\n",
       "      <td>1</td>\n",
       "      <td>1</td>\n",
       "      <td>Cumings, Mrs. John Bradley (Florence Briggs Th...</td>\n",
       "      <td>female</td>\n",
       "      <td>38.0</td>\n",
       "      <td>1</td>\n",
       "      <td>0</td>\n",
       "      <td>PC 17599</td>\n",
       "      <td>71.2833</td>\n",
       "      <td>C</td>\n",
       "    </tr>\n",
       "    <tr>\n",
       "      <th>2</th>\n",
       "      <td>3</td>\n",
       "      <td>1</td>\n",
       "      <td>3</td>\n",
       "      <td>Heikkinen, Miss. Laina</td>\n",
       "      <td>female</td>\n",
       "      <td>26.0</td>\n",
       "      <td>0</td>\n",
       "      <td>0</td>\n",
       "      <td>STON/O2. 3101282</td>\n",
       "      <td>7.9250</td>\n",
       "      <td>S</td>\n",
       "    </tr>\n",
       "    <tr>\n",
       "      <th>3</th>\n",
       "      <td>4</td>\n",
       "      <td>1</td>\n",
       "      <td>1</td>\n",
       "      <td>Futrelle, Mrs. Jacques Heath (Lily May Peel)</td>\n",
       "      <td>female</td>\n",
       "      <td>35.0</td>\n",
       "      <td>1</td>\n",
       "      <td>0</td>\n",
       "      <td>113803</td>\n",
       "      <td>53.1000</td>\n",
       "      <td>S</td>\n",
       "    </tr>\n",
       "    <tr>\n",
       "      <th>4</th>\n",
       "      <td>5</td>\n",
       "      <td>0</td>\n",
       "      <td>3</td>\n",
       "      <td>Allen, Mr. William Henry</td>\n",
       "      <td>male</td>\n",
       "      <td>35.0</td>\n",
       "      <td>0</td>\n",
       "      <td>0</td>\n",
       "      <td>373450</td>\n",
       "      <td>8.0500</td>\n",
       "      <td>S</td>\n",
       "    </tr>\n",
       "  </tbody>\n",
       "</table>\n",
       "</div>"
      ],
      "text/plain": [
       "   PassengerId  Survived  Pclass  \\\n",
       "0            1         0       3   \n",
       "1            2         1       1   \n",
       "2            3         1       3   \n",
       "3            4         1       1   \n",
       "4            5         0       3   \n",
       "\n",
       "                                                Name     Sex   Age  SibSp  \\\n",
       "0                            Braund, Mr. Owen Harris    male  22.0      1   \n",
       "1  Cumings, Mrs. John Bradley (Florence Briggs Th...  female  38.0      1   \n",
       "2                             Heikkinen, Miss. Laina  female  26.0      0   \n",
       "3       Futrelle, Mrs. Jacques Heath (Lily May Peel)  female  35.0      1   \n",
       "4                           Allen, Mr. William Henry    male  35.0      0   \n",
       "\n",
       "   Parch            Ticket     Fare Embarked  \n",
       "0      0         A/5 21171   7.2500        S  \n",
       "1      0          PC 17599  71.2833        C  \n",
       "2      0  STON/O2. 3101282   7.9250        S  \n",
       "3      0            113803  53.1000        S  \n",
       "4      0            373450   8.0500        S  "
      ]
     },
     "execution_count": 15,
     "metadata": {},
     "output_type": "execute_result"
    }
   ],
   "source": [
    "df.head()"
   ]
  },
  {
   "cell_type": "code",
   "execution_count": 16,
   "id": "f049f6fa",
   "metadata": {
    "execution": {
     "iopub.execute_input": "2022-07-24T16:06:30.147987Z",
     "iopub.status.busy": "2022-07-24T16:06:30.147575Z",
     "iopub.status.idle": "2022-07-24T16:06:30.154687Z",
     "shell.execute_reply": "2022-07-24T16:06:30.153777Z"
    },
    "papermill": {
     "duration": 0.034988,
     "end_time": "2022-07-24T16:06:30.156931",
     "exception": false,
     "start_time": "2022-07-24T16:06:30.121943",
     "status": "completed"
    },
    "tags": []
   },
   "outputs": [
    {
     "data": {
      "text/plain": [
       "177"
      ]
     },
     "execution_count": 16,
     "metadata": {},
     "output_type": "execute_result"
    }
   ],
   "source": [
    "df['Age'].isnull().sum()"
   ]
  },
  {
   "cell_type": "markdown",
   "id": "5a890bfa",
   "metadata": {
    "papermill": {
     "duration": 0.023711,
     "end_time": "2022-07-24T16:06:30.205103",
     "exception": false,
     "start_time": "2022-07-24T16:06:30.181392",
     "status": "completed"
    },
    "tags": []
   },
   "source": [
    "Let's describe data to see mean ,std,min,max and other values"
   ]
  },
  {
   "cell_type": "code",
   "execution_count": 17,
   "id": "85dca9d9",
   "metadata": {
    "execution": {
     "iopub.execute_input": "2022-07-24T16:06:30.256894Z",
     "iopub.status.busy": "2022-07-24T16:06:30.256204Z",
     "iopub.status.idle": "2022-07-24T16:06:30.294506Z",
     "shell.execute_reply": "2022-07-24T16:06:30.293224Z"
    },
    "papermill": {
     "duration": 0.068233,
     "end_time": "2022-07-24T16:06:30.297368",
     "exception": false,
     "start_time": "2022-07-24T16:06:30.229135",
     "status": "completed"
    },
    "tags": []
   },
   "outputs": [
    {
     "data": {
      "text/html": [
       "<div>\n",
       "<style scoped>\n",
       "    .dataframe tbody tr th:only-of-type {\n",
       "        vertical-align: middle;\n",
       "    }\n",
       "\n",
       "    .dataframe tbody tr th {\n",
       "        vertical-align: top;\n",
       "    }\n",
       "\n",
       "    .dataframe thead th {\n",
       "        text-align: right;\n",
       "    }\n",
       "</style>\n",
       "<table border=\"1\" class=\"dataframe\">\n",
       "  <thead>\n",
       "    <tr style=\"text-align: right;\">\n",
       "      <th></th>\n",
       "      <th>count</th>\n",
       "      <th>mean</th>\n",
       "      <th>std</th>\n",
       "      <th>min</th>\n",
       "      <th>25%</th>\n",
       "      <th>50%</th>\n",
       "      <th>75%</th>\n",
       "      <th>max</th>\n",
       "    </tr>\n",
       "  </thead>\n",
       "  <tbody>\n",
       "    <tr>\n",
       "      <th>PassengerId</th>\n",
       "      <td>891.0</td>\n",
       "      <td>446.000000</td>\n",
       "      <td>257.353842</td>\n",
       "      <td>1.00</td>\n",
       "      <td>223.5000</td>\n",
       "      <td>446.0000</td>\n",
       "      <td>668.5</td>\n",
       "      <td>891.0000</td>\n",
       "    </tr>\n",
       "    <tr>\n",
       "      <th>Survived</th>\n",
       "      <td>891.0</td>\n",
       "      <td>0.383838</td>\n",
       "      <td>0.486592</td>\n",
       "      <td>0.00</td>\n",
       "      <td>0.0000</td>\n",
       "      <td>0.0000</td>\n",
       "      <td>1.0</td>\n",
       "      <td>1.0000</td>\n",
       "    </tr>\n",
       "    <tr>\n",
       "      <th>Pclass</th>\n",
       "      <td>891.0</td>\n",
       "      <td>2.308642</td>\n",
       "      <td>0.836071</td>\n",
       "      <td>1.00</td>\n",
       "      <td>2.0000</td>\n",
       "      <td>3.0000</td>\n",
       "      <td>3.0</td>\n",
       "      <td>3.0000</td>\n",
       "    </tr>\n",
       "    <tr>\n",
       "      <th>Age</th>\n",
       "      <td>714.0</td>\n",
       "      <td>29.699118</td>\n",
       "      <td>14.526497</td>\n",
       "      <td>0.42</td>\n",
       "      <td>20.1250</td>\n",
       "      <td>28.0000</td>\n",
       "      <td>38.0</td>\n",
       "      <td>80.0000</td>\n",
       "    </tr>\n",
       "    <tr>\n",
       "      <th>SibSp</th>\n",
       "      <td>891.0</td>\n",
       "      <td>0.523008</td>\n",
       "      <td>1.102743</td>\n",
       "      <td>0.00</td>\n",
       "      <td>0.0000</td>\n",
       "      <td>0.0000</td>\n",
       "      <td>1.0</td>\n",
       "      <td>8.0000</td>\n",
       "    </tr>\n",
       "    <tr>\n",
       "      <th>Parch</th>\n",
       "      <td>891.0</td>\n",
       "      <td>0.381594</td>\n",
       "      <td>0.806057</td>\n",
       "      <td>0.00</td>\n",
       "      <td>0.0000</td>\n",
       "      <td>0.0000</td>\n",
       "      <td>0.0</td>\n",
       "      <td>6.0000</td>\n",
       "    </tr>\n",
       "    <tr>\n",
       "      <th>Fare</th>\n",
       "      <td>891.0</td>\n",
       "      <td>32.204208</td>\n",
       "      <td>49.693429</td>\n",
       "      <td>0.00</td>\n",
       "      <td>7.9104</td>\n",
       "      <td>14.4542</td>\n",
       "      <td>31.0</td>\n",
       "      <td>512.3292</td>\n",
       "    </tr>\n",
       "  </tbody>\n",
       "</table>\n",
       "</div>"
      ],
      "text/plain": [
       "             count        mean         std   min       25%       50%    75%  \\\n",
       "PassengerId  891.0  446.000000  257.353842  1.00  223.5000  446.0000  668.5   \n",
       "Survived     891.0    0.383838    0.486592  0.00    0.0000    0.0000    1.0   \n",
       "Pclass       891.0    2.308642    0.836071  1.00    2.0000    3.0000    3.0   \n",
       "Age          714.0   29.699118   14.526497  0.42   20.1250   28.0000   38.0   \n",
       "SibSp        891.0    0.523008    1.102743  0.00    0.0000    0.0000    1.0   \n",
       "Parch        891.0    0.381594    0.806057  0.00    0.0000    0.0000    0.0   \n",
       "Fare         891.0   32.204208   49.693429  0.00    7.9104   14.4542   31.0   \n",
       "\n",
       "                  max  \n",
       "PassengerId  891.0000  \n",
       "Survived       1.0000  \n",
       "Pclass         3.0000  \n",
       "Age           80.0000  \n",
       "SibSp          8.0000  \n",
       "Parch          6.0000  \n",
       "Fare         512.3292  "
      ]
     },
     "execution_count": 17,
     "metadata": {},
     "output_type": "execute_result"
    }
   ],
   "source": [
    "df.describe().T"
   ]
  },
  {
   "cell_type": "markdown",
   "id": "a222c584",
   "metadata": {
    "papermill": {
     "duration": 0.024318,
     "end_time": "2022-07-24T16:06:30.346419",
     "exception": false,
     "start_time": "2022-07-24T16:06:30.322101",
     "status": "completed"
    },
    "tags": []
   },
   "source": [
    "# Data visualization"
   ]
  },
  {
   "cell_type": "code",
   "execution_count": 18,
   "id": "fd992b5b",
   "metadata": {
    "execution": {
     "iopub.execute_input": "2022-07-24T16:06:30.398340Z",
     "iopub.status.busy": "2022-07-24T16:06:30.397932Z",
     "iopub.status.idle": "2022-07-24T16:06:30.406407Z",
     "shell.execute_reply": "2022-07-24T16:06:30.405540Z"
    },
    "papermill": {
     "duration": 0.037063,
     "end_time": "2022-07-24T16:06:30.408542",
     "exception": false,
     "start_time": "2022-07-24T16:06:30.371479",
     "status": "completed"
    },
    "tags": []
   },
   "outputs": [
    {
     "data": {
      "text/plain": [
       "0    549\n",
       "1    342\n",
       "Name: Survived, dtype: int64"
      ]
     },
     "execution_count": 18,
     "metadata": {},
     "output_type": "execute_result"
    }
   ],
   "source": [
    "df['Survived'].value_counts()"
   ]
  },
  {
   "cell_type": "code",
   "execution_count": 19,
   "id": "cc4d65d7",
   "metadata": {
    "execution": {
     "iopub.execute_input": "2022-07-24T16:06:30.461068Z",
     "iopub.status.busy": "2022-07-24T16:06:30.460357Z",
     "iopub.status.idle": "2022-07-24T16:06:30.642535Z",
     "shell.execute_reply": "2022-07-24T16:06:30.641267Z"
    },
    "papermill": {
     "duration": 0.211344,
     "end_time": "2022-07-24T16:06:30.645511",
     "exception": false,
     "start_time": "2022-07-24T16:06:30.434167",
     "status": "completed"
    },
    "tags": []
   },
   "outputs": [
    {
     "data": {
      "image/png": "[encoded data removed]",
      "text/plain": [
       "<Figure size 864x648 with 1 Axes>"
      ]
     },
     "metadata": {
      "needs_background": "light"
     },
     "output_type": "display_data"
    }
   ],
   "source": [
    "plt.figure(figsize=(12,9))\n",
    "sns.set_palette('dark')\n",
    "sns.countplot(x='Survived',data=df)\n",
    "plt.title('Survival and mortality values')\n",
    "plt.show()"
   ]
  },
  {
   "cell_type": "code",
   "execution_count": 20,
   "id": "74485d84",
   "metadata": {
    "execution": {
     "iopub.execute_input": "2022-07-24T16:06:30.698922Z",
     "iopub.status.busy": "2022-07-24T16:06:30.698484Z",
     "iopub.status.idle": "2022-07-24T16:06:30.902835Z",
     "shell.execute_reply": "2022-07-24T16:06:30.901636Z"
    },
    "papermill": {
     "duration": 0.233303,
     "end_time": "2022-07-24T16:06:30.905267",
     "exception": false,
     "start_time": "2022-07-24T16:06:30.671964",
     "status": "completed"
    },
    "tags": []
   },
   "outputs": [
    {
     "data": {
      "image/png": "[encoded data removed]",
      "text/plain": [
       "<Figure size 864x648 with 1 Axes>"
      ]
     },
     "metadata": {
      "needs_background": "light"
     },
     "output_type": "display_data"
    }
   ],
   "source": [
    "plt.figure(figsize=(12,9))\n",
    "sns.set_palette('pastel')\n",
    "sns.countplot(x='Survived',hue='Sex',data=df)\n",
    "plt.title('Death and survival values by sex')\n",
    "plt.show()"
   ]
  },
  {
   "cell_type": "code",
   "execution_count": 21,
   "id": "03b53244",
   "metadata": {
    "execution": {
     "iopub.execute_input": "2022-07-24T16:06:30.959187Z",
     "iopub.status.busy": "2022-07-24T16:06:30.958614Z",
     "iopub.status.idle": "2022-07-24T16:06:30.975878Z",
     "shell.execute_reply": "2022-07-24T16:06:30.974787Z"
    },
    "papermill": {
     "duration": 0.04756,
     "end_time": "2022-07-24T16:06:30.978226",
     "exception": false,
     "start_time": "2022-07-24T16:06:30.930666",
     "status": "completed"
    },
    "tags": []
   },
   "outputs": [
    {
     "data": {
      "text/html": [
       "<div>\n",
       "<style scoped>\n",
       "    .dataframe tbody tr th:only-of-type {\n",
       "        vertical-align: middle;\n",
       "    }\n",
       "\n",
       "    .dataframe tbody tr th {\n",
       "        vertical-align: top;\n",
       "    }\n",
       "\n",
       "    .dataframe thead th {\n",
       "        text-align: right;\n",
       "    }\n",
       "</style>\n",
       "<table border=\"1\" class=\"dataframe\">\n",
       "  <thead>\n",
       "    <tr style=\"text-align: right;\">\n",
       "      <th></th>\n",
       "      <th>PassengerId</th>\n",
       "      <th>Survived</th>\n",
       "      <th>Pclass</th>\n",
       "      <th>Name</th>\n",
       "      <th>Sex</th>\n",
       "      <th>Age</th>\n",
       "      <th>SibSp</th>\n",
       "      <th>Parch</th>\n",
       "      <th>Ticket</th>\n",
       "      <th>Fare</th>\n",
       "      <th>Embarked</th>\n",
       "    </tr>\n",
       "  </thead>\n",
       "  <tbody>\n",
       "    <tr>\n",
       "      <th>0</th>\n",
       "      <td>1</td>\n",
       "      <td>0</td>\n",
       "      <td>3</td>\n",
       "      <td>Braund, Mr. Owen Harris</td>\n",
       "      <td>male</td>\n",
       "      <td>22.0</td>\n",
       "      <td>1</td>\n",
       "      <td>0</td>\n",
       "      <td>A/5 21171</td>\n",
       "      <td>7.2500</td>\n",
       "      <td>S</td>\n",
       "    </tr>\n",
       "    <tr>\n",
       "      <th>1</th>\n",
       "      <td>2</td>\n",
       "      <td>1</td>\n",
       "      <td>1</td>\n",
       "      <td>Cumings, Mrs. John Bradley (Florence Briggs Th...</td>\n",
       "      <td>female</td>\n",
       "      <td>38.0</td>\n",
       "      <td>1</td>\n",
       "      <td>0</td>\n",
       "      <td>PC 17599</td>\n",
       "      <td>71.2833</td>\n",
       "      <td>C</td>\n",
       "    </tr>\n",
       "    <tr>\n",
       "      <th>2</th>\n",
       "      <td>3</td>\n",
       "      <td>1</td>\n",
       "      <td>3</td>\n",
       "      <td>Heikkinen, Miss. Laina</td>\n",
       "      <td>female</td>\n",
       "      <td>26.0</td>\n",
       "      <td>0</td>\n",
       "      <td>0</td>\n",
       "      <td>STON/O2. 3101282</td>\n",
       "      <td>7.9250</td>\n",
       "      <td>S</td>\n",
       "    </tr>\n",
       "    <tr>\n",
       "      <th>3</th>\n",
       "      <td>4</td>\n",
       "      <td>1</td>\n",
       "      <td>1</td>\n",
       "      <td>Futrelle, Mrs. Jacques Heath (Lily May Peel)</td>\n",
       "      <td>female</td>\n",
       "      <td>35.0</td>\n",
       "      <td>1</td>\n",
       "      <td>0</td>\n",
       "      <td>113803</td>\n",
       "      <td>53.1000</td>\n",
       "      <td>S</td>\n",
       "    </tr>\n",
       "    <tr>\n",
       "      <th>4</th>\n",
       "      <td>5</td>\n",
       "      <td>0</td>\n",
       "      <td>3</td>\n",
       "      <td>Allen, Mr. William Henry</td>\n",
       "      <td>male</td>\n",
       "      <td>35.0</td>\n",
       "      <td>0</td>\n",
       "      <td>0</td>\n",
       "      <td>373450</td>\n",
       "      <td>8.0500</td>\n",
       "      <td>S</td>\n",
       "    </tr>\n",
       "  </tbody>\n",
       "</table>\n",
       "</div>"
      ],
      "text/plain": [
       "   PassengerId  Survived  Pclass  \\\n",
       "0            1         0       3   \n",
       "1            2         1       1   \n",
       "2            3         1       3   \n",
       "3            4         1       1   \n",
       "4            5         0       3   \n",
       "\n",
       "                                                Name     Sex   Age  SibSp  \\\n",
       "0                            Braund, Mr. Owen Harris    male  22.0      1   \n",
       "1  Cumings, Mrs. John Bradley (Florence Briggs Th...  female  38.0      1   \n",
       "2                             Heikkinen, Miss. Laina  female  26.0      0   \n",
       "3       Futrelle, Mrs. Jacques Heath (Lily May Peel)  female  35.0      1   \n",
       "4                           Allen, Mr. William Henry    male  35.0      0   \n",
       "\n",
       "   Parch            Ticket     Fare Embarked  \n",
       "0      0         A/5 21171   7.2500        S  \n",
       "1      0          PC 17599  71.2833        C  \n",
       "2      0  STON/O2. 3101282   7.9250        S  \n",
       "3      0            113803  53.1000        S  \n",
       "4      0            373450   8.0500        S  "
      ]
     },
     "execution_count": 21,
     "metadata": {},
     "output_type": "execute_result"
    }
   ],
   "source": [
    "df.head()"
   ]
  },
  {
   "cell_type": "code",
   "execution_count": 22,
   "id": "6913ac5b",
   "metadata": {
    "execution": {
     "iopub.execute_input": "2022-07-24T16:06:31.034160Z",
     "iopub.status.busy": "2022-07-24T16:06:31.033767Z",
     "iopub.status.idle": "2022-07-24T16:06:31.213976Z",
     "shell.execute_reply": "2022-07-24T16:06:31.212569Z"
    },
    "papermill": {
     "duration": 0.211324,
     "end_time": "2022-07-24T16:06:31.216562",
     "exception": false,
     "start_time": "2022-07-24T16:06:31.005238",
     "status": "completed"
    },
    "tags": []
   },
   "outputs": [
    {
     "data": {
      "image/png": "[encoded data removed]",
      "text/plain": [
       "<Figure size 432x288 with 1 Axes>"
      ]
     },
     "metadata": {
      "needs_background": "light"
     },
     "output_type": "display_data"
    }
   ],
   "source": [
    "sns.set_palette('dark')\n",
    "df['Pclass'].value_counts().plot.bar()\n",
    "plt.title('Ticket class values')\n",
    "plt.xlabel('Tickets')\n",
    "plt.ylabel('counts')\n",
    "plt.show()"
   ]
  },
  {
   "cell_type": "code",
   "execution_count": 23,
   "id": "93434438",
   "metadata": {
    "execution": {
     "iopub.execute_input": "2022-07-24T16:06:31.273681Z",
     "iopub.status.busy": "2022-07-24T16:06:31.273304Z",
     "iopub.status.idle": "2022-07-24T16:06:31.282225Z",
     "shell.execute_reply": "2022-07-24T16:06:31.280859Z"
    },
    "papermill": {
     "duration": 0.040127,
     "end_time": "2022-07-24T16:06:31.284507",
     "exception": false,
     "start_time": "2022-07-24T16:06:31.244380",
     "status": "completed"
    },
    "tags": []
   },
   "outputs": [
    {
     "data": {
      "text/plain": [
       "891"
      ]
     },
     "execution_count": 23,
     "metadata": {},
     "output_type": "execute_result"
    }
   ],
   "source": [
    "df['Name'].value_counts().sum()"
   ]
  },
  {
   "cell_type": "code",
   "execution_count": 24,
   "id": "2303114d",
   "metadata": {
    "execution": {
     "iopub.execute_input": "2022-07-24T16:06:31.339045Z",
     "iopub.status.busy": "2022-07-24T16:06:31.338578Z",
     "iopub.status.idle": "2022-07-24T16:06:31.354771Z",
     "shell.execute_reply": "2022-07-24T16:06:31.353855Z"
    },
    "papermill": {
     "duration": 0.045969,
     "end_time": "2022-07-24T16:06:31.357113",
     "exception": false,
     "start_time": "2022-07-24T16:06:31.311144",
     "status": "completed"
    },
    "tags": []
   },
   "outputs": [
    {
     "data": {
      "text/html": [
       "<div>\n",
       "<style scoped>\n",
       "    .dataframe tbody tr th:only-of-type {\n",
       "        vertical-align: middle;\n",
       "    }\n",
       "\n",
       "    .dataframe tbody tr th {\n",
       "        vertical-align: top;\n",
       "    }\n",
       "\n",
       "    .dataframe thead th {\n",
       "        text-align: right;\n",
       "    }\n",
       "</style>\n",
       "<table border=\"1\" class=\"dataframe\">\n",
       "  <thead>\n",
       "    <tr style=\"text-align: right;\">\n",
       "      <th></th>\n",
       "      <th>PassengerId</th>\n",
       "      <th>Survived</th>\n",
       "      <th>Pclass</th>\n",
       "      <th>Name</th>\n",
       "      <th>Sex</th>\n",
       "      <th>Age</th>\n",
       "      <th>SibSp</th>\n",
       "      <th>Parch</th>\n",
       "      <th>Ticket</th>\n",
       "      <th>Fare</th>\n",
       "      <th>Embarked</th>\n",
       "    </tr>\n",
       "  </thead>\n",
       "  <tbody>\n",
       "    <tr>\n",
       "      <th>0</th>\n",
       "      <td>1</td>\n",
       "      <td>0</td>\n",
       "      <td>3</td>\n",
       "      <td>Braund, Mr. Owen Harris</td>\n",
       "      <td>male</td>\n",
       "      <td>22.0</td>\n",
       "      <td>1</td>\n",
       "      <td>0</td>\n",
       "      <td>A/5 21171</td>\n",
       "      <td>7.2500</td>\n",
       "      <td>S</td>\n",
       "    </tr>\n",
       "    <tr>\n",
       "      <th>1</th>\n",
       "      <td>2</td>\n",
       "      <td>1</td>\n",
       "      <td>1</td>\n",
       "      <td>Cumings, Mrs. John Bradley (Florence Briggs Th...</td>\n",
       "      <td>female</td>\n",
       "      <td>38.0</td>\n",
       "      <td>1</td>\n",
       "      <td>0</td>\n",
       "      <td>PC 17599</td>\n",
       "      <td>71.2833</td>\n",
       "      <td>C</td>\n",
       "    </tr>\n",
       "    <tr>\n",
       "      <th>2</th>\n",
       "      <td>3</td>\n",
       "      <td>1</td>\n",
       "      <td>3</td>\n",
       "      <td>Heikkinen, Miss. Laina</td>\n",
       "      <td>female</td>\n",
       "      <td>26.0</td>\n",
       "      <td>0</td>\n",
       "      <td>0</td>\n",
       "      <td>STON/O2. 3101282</td>\n",
       "      <td>7.9250</td>\n",
       "      <td>S</td>\n",
       "    </tr>\n",
       "    <tr>\n",
       "      <th>3</th>\n",
       "      <td>4</td>\n",
       "      <td>1</td>\n",
       "      <td>1</td>\n",
       "      <td>Futrelle, Mrs. Jacques Heath (Lily May Peel)</td>\n",
       "      <td>female</td>\n",
       "      <td>35.0</td>\n",
       "      <td>1</td>\n",
       "      <td>0</td>\n",
       "      <td>113803</td>\n",
       "      <td>53.1000</td>\n",
       "      <td>S</td>\n",
       "    </tr>\n",
       "    <tr>\n",
       "      <th>4</th>\n",
       "      <td>5</td>\n",
       "      <td>0</td>\n",
       "      <td>3</td>\n",
       "      <td>Allen, Mr. William Henry</td>\n",
       "      <td>male</td>\n",
       "      <td>35.0</td>\n",
       "      <td>0</td>\n",
       "      <td>0</td>\n",
       "      <td>373450</td>\n",
       "      <td>8.0500</td>\n",
       "      <td>S</td>\n",
       "    </tr>\n",
       "  </tbody>\n",
       "</table>\n",
       "</div>"
      ],
      "text/plain": [
       "   PassengerId  Survived  Pclass  \\\n",
       "0            1         0       3   \n",
       "1            2         1       1   \n",
       "2            3         1       3   \n",
       "3            4         1       1   \n",
       "4            5         0       3   \n",
       "\n",
       "                                                Name     Sex   Age  SibSp  \\\n",
       "0                            Braund, Mr. Owen Harris    male  22.0      1   \n",
       "1  Cumings, Mrs. John Bradley (Florence Briggs Th...  female  38.0      1   \n",
       "2                             Heikkinen, Miss. Laina  female  26.0      0   \n",
       "3       Futrelle, Mrs. Jacques Heath (Lily May Peel)  female  35.0      1   \n",
       "4                           Allen, Mr. William Henry    male  35.0      0   \n",
       "\n",
       "   Parch            Ticket     Fare Embarked  \n",
       "0      0         A/5 21171   7.2500        S  \n",
       "1      0          PC 17599  71.2833        C  \n",
       "2      0  STON/O2. 3101282   7.9250        S  \n",
       "3      0            113803  53.1000        S  \n",
       "4      0            373450   8.0500        S  "
      ]
     },
     "execution_count": 24,
     "metadata": {},
     "output_type": "execute_result"
    }
   ],
   "source": [
    "df.head()"
   ]
  },
  {
   "cell_type": "code",
   "execution_count": 25,
   "id": "828aa57d",
   "metadata": {
    "execution": {
     "iopub.execute_input": "2022-07-24T16:06:31.413575Z",
     "iopub.status.busy": "2022-07-24T16:06:31.412559Z",
     "iopub.status.idle": "2022-07-24T16:06:31.419830Z",
     "shell.execute_reply": "2022-07-24T16:06:31.418331Z"
    },
    "papermill": {
     "duration": 0.037593,
     "end_time": "2022-07-24T16:06:31.421951",
     "exception": false,
     "start_time": "2022-07-24T16:06:31.384358",
     "status": "completed"
    },
    "tags": []
   },
   "outputs": [
    {
     "name": "stdout",
     "output_type": "stream",
     "text": [
      "3    491\n",
      "1    216\n",
      "2    184\n",
      "Name: Pclass, dtype: int64\n"
     ]
    }
   ],
   "source": [
    "ticket_class=df['Pclass'].value_counts()\n",
    "print(ticket_class)"
   ]
  },
  {
   "cell_type": "code",
   "execution_count": 26,
   "id": "da62f09f",
   "metadata": {
    "execution": {
     "iopub.execute_input": "2022-07-24T16:06:31.478849Z",
     "iopub.status.busy": "2022-07-24T16:06:31.478429Z",
     "iopub.status.idle": "2022-07-24T16:06:31.661844Z",
     "shell.execute_reply": "2022-07-24T16:06:31.659261Z"
    },
    "papermill": {
     "duration": 0.216259,
     "end_time": "2022-07-24T16:06:31.665783",
     "exception": false,
     "start_time": "2022-07-24T16:06:31.449524",
     "status": "completed"
    },
    "tags": []
   },
   "outputs": [
    {
     "data": {
      "image/png": "[encoded data removed]",
      "text/plain": [
       "<Figure size 864x648 with 1 Axes>"
      ]
     },
     "metadata": {},
     "output_type": "display_data"
    }
   ],
   "source": [
    "labels=ticket_class.index\n",
    "sizes=ticket_class.values\n",
    "plt.figure(figsize=(12,9))\n",
    "colors=sns.color_palette('hls')\n",
    "plt.pie(sizes,labels=labels,autopct='%1.1f%%',\n",
    "        shadow=True,colors=colors,startangle=90)\n",
    "plt.show()"
   ]
  },
  {
   "cell_type": "markdown",
   "id": "ca872570",
   "metadata": {
    "papermill": {
     "duration": 0.033372,
     "end_time": "2022-07-24T16:06:31.743339",
     "exception": false,
     "start_time": "2022-07-24T16:06:31.709967",
     "status": "completed"
    },
    "tags": []
   },
   "source": [
    "extracting status from 'Name' column"
   ]
  },
  {
   "cell_type": "code",
   "execution_count": 27,
   "id": "40acbe04",
   "metadata": {
    "execution": {
     "iopub.execute_input": "2022-07-24T16:06:31.805966Z",
     "iopub.status.busy": "2022-07-24T16:06:31.805449Z",
     "iopub.status.idle": "2022-07-24T16:06:31.821273Z",
     "shell.execute_reply": "2022-07-24T16:06:31.819979Z"
    },
    "papermill": {
     "duration": 0.05258,
     "end_time": "2022-07-24T16:06:31.824142",
     "exception": false,
     "start_time": "2022-07-24T16:06:31.771562",
     "status": "completed"
    },
    "tags": []
   },
   "outputs": [
    {
     "data": {
      "text/plain": [
       "0         Mr\n",
       "1        Mrs\n",
       "2       Miss\n",
       "3        Mrs\n",
       "4         Mr\n",
       "       ...  \n",
       "886      Rev\n",
       "887     Miss\n",
       "888     Miss\n",
       "889       Mr\n",
       "890       Mr\n",
       "Name: Name, Length: 891, dtype: object"
      ]
     },
     "execution_count": 27,
     "metadata": {},
     "output_type": "execute_result"
    }
   ],
   "source": [
    "df['Name'].map(lambda row: row.split(',')[1].split('.')[0])"
   ]
  },
  {
   "cell_type": "markdown",
   "id": "6c78c61e",
   "metadata": {
    "papermill": {
     "duration": 0.026237,
     "end_time": "2022-07-24T16:06:31.881791",
     "exception": false,
     "start_time": "2022-07-24T16:06:31.855554",
     "status": "completed"
    },
    "tags": []
   },
   "source": [
    "we can count every status"
   ]
  },
  {
   "cell_type": "code",
   "execution_count": 28,
   "id": "a4030315",
   "metadata": {
    "execution": {
     "iopub.execute_input": "2022-07-24T16:06:31.940130Z",
     "iopub.status.busy": "2022-07-24T16:06:31.939044Z",
     "iopub.status.idle": "2022-07-24T16:06:31.952574Z",
     "shell.execute_reply": "2022-07-24T16:06:31.951244Z"
    },
    "papermill": {
     "duration": 0.04639,
     "end_time": "2022-07-24T16:06:31.955902",
     "exception": false,
     "start_time": "2022-07-24T16:06:31.909512",
     "status": "completed"
    },
    "tags": []
   },
   "outputs": [
    {
     "data": {
      "text/plain": [
       " Mr              517\n",
       " Miss            182\n",
       " Mrs             125\n",
       " Master           40\n",
       " Dr                7\n",
       " Rev               6\n",
       " Mlle              2\n",
       " Major             2\n",
       " Col               2\n",
       " the Countess      1\n",
       " Capt              1\n",
       " Ms                1\n",
       " Sir               1\n",
       " Lady              1\n",
       " Mme               1\n",
       " Don               1\n",
       " Jonkheer          1\n",
       "Name: Name, dtype: int64"
      ]
     },
     "execution_count": 28,
     "metadata": {},
     "output_type": "execute_result"
    }
   ],
   "source": [
    "df['Name'].map(lambda row: row.split(',')[1].split('.')[0]).value_counts()"
   ]
  },
  {
   "cell_type": "markdown",
   "id": "4c28527d",
   "metadata": {
    "papermill": {
     "duration": 0.02846,
     "end_time": "2022-07-24T16:06:32.016328",
     "exception": false,
     "start_time": "2022-07-24T16:06:31.987868",
     "status": "completed"
    },
    "tags": []
   },
   "source": [
    "Using data visualization we can see number of status "
   ]
  },
  {
   "cell_type": "code",
   "execution_count": 29,
   "id": "ebfd465d",
   "metadata": {
    "execution": {
     "iopub.execute_input": "2022-07-24T16:06:32.073939Z",
     "iopub.status.busy": "2022-07-24T16:06:32.072981Z",
     "iopub.status.idle": "2022-07-24T16:06:32.082818Z",
     "shell.execute_reply": "2022-07-24T16:06:32.081606Z"
    },
    "papermill": {
     "duration": 0.041688,
     "end_time": "2022-07-24T16:06:32.085530",
     "exception": false,
     "start_time": "2022-07-24T16:06:32.043842",
     "status": "completed"
    },
    "tags": []
   },
   "outputs": [],
   "source": [
    "status=df['Name'].map(lambda row: row.split(',')[1].split('.')[0]).value_counts()"
   ]
  },
  {
   "cell_type": "code",
   "execution_count": 30,
   "id": "ff1d4cfa",
   "metadata": {
    "execution": {
     "iopub.execute_input": "2022-07-24T16:06:32.142616Z",
     "iopub.status.busy": "2022-07-24T16:06:32.141653Z",
     "iopub.status.idle": "2022-07-24T16:06:32.444595Z",
     "shell.execute_reply": "2022-07-24T16:06:32.443692Z"
    },
    "papermill": {
     "duration": 0.334191,
     "end_time": "2022-07-24T16:06:32.447475",
     "exception": false,
     "start_time": "2022-07-24T16:06:32.113284",
     "status": "completed"
    },
    "tags": []
   },
   "outputs": [
    {
     "data": {
      "image/png": "[encoded data removed]",
      "text/plain": [
       "<Figure size 864x576 with 1 Axes>"
      ]
     },
     "metadata": {
      "needs_background": "light"
     },
     "output_type": "display_data"
    }
   ],
   "source": [
    "plt.figure(figsize=(12, 8))\n",
    "sns.barplot(x=status.index, y=status.values)\n",
    "plt.title('Number of status')\n",
    "plt.xlabel('Status')\n",
    "plt.ylabel('Count')\n",
    "plt.xticks(rotation=90)\n",
    "plt.show()"
   ]
  },
  {
   "cell_type": "markdown",
   "id": "efb09bc1",
   "metadata": {
    "papermill": {
     "duration": 0.028029,
     "end_time": "2022-07-24T16:06:32.503197",
     "exception": false,
     "start_time": "2022-07-24T16:06:32.475168",
     "status": "completed"
    },
    "tags": []
   },
   "source": [
    "we can find outliers of column"
   ]
  },
  {
   "cell_type": "code",
   "execution_count": 31,
   "id": "9224fc3e",
   "metadata": {
    "execution": {
     "iopub.execute_input": "2022-07-24T16:06:32.564687Z",
     "iopub.status.busy": "2022-07-24T16:06:32.564302Z",
     "iopub.status.idle": "2022-07-24T16:06:32.577045Z",
     "shell.execute_reply": "2022-07-24T16:06:32.575876Z"
    },
    "papermill": {
     "duration": 0.048103,
     "end_time": "2022-07-24T16:06:32.579271",
     "exception": false,
     "start_time": "2022-07-24T16:06:32.531168",
     "status": "completed"
    },
    "tags": []
   },
   "outputs": [
    {
     "data": {
      "text/plain": [
       "24.00    30\n",
       "22.00    27\n",
       "18.00    26\n",
       "19.00    25\n",
       "28.00    25\n",
       "         ..\n",
       "36.50     1\n",
       "55.50     1\n",
       "0.92      1\n",
       "23.50     1\n",
       "74.00     1\n",
       "Name: Age, Length: 88, dtype: int64"
      ]
     },
     "execution_count": 31,
     "metadata": {},
     "output_type": "execute_result"
    }
   ],
   "source": [
    "df['Age'].value_counts()"
   ]
  },
  {
   "cell_type": "markdown",
   "id": "85afe7af",
   "metadata": {
    "papermill": {
     "duration": 0.027396,
     "end_time": "2022-07-24T16:06:32.635377",
     "exception": false,
     "start_time": "2022-07-24T16:06:32.607981",
     "status": "completed"
    },
    "tags": []
   },
   "source": [
    "LET's see data with outliers using boxplot "
   ]
  },
  {
   "cell_type": "code",
   "execution_count": 32,
   "id": "54d297f2",
   "metadata": {
    "execution": {
     "iopub.execute_input": "2022-07-24T16:06:32.693777Z",
     "iopub.status.busy": "2022-07-24T16:06:32.692541Z",
     "iopub.status.idle": "2022-07-24T16:06:32.875944Z",
     "shell.execute_reply": "2022-07-24T16:06:32.874454Z"
    },
    "papermill": {
     "duration": 0.215916,
     "end_time": "2022-07-24T16:06:32.879298",
     "exception": false,
     "start_time": "2022-07-24T16:06:32.663382",
     "status": "completed"
    },
    "tags": []
   },
   "outputs": [
    {
     "data": {
      "image/png": "[encoded data removed]",
      "text/plain": [
       "<Figure size 864x432 with 1 Axes>"
      ]
     },
     "metadata": {
      "needs_background": "light"
     },
     "output_type": "display_data"
    }
   ],
   "source": [
    "plt.figure(figsize=(12,6))\n",
    "sns.boxplot(df['Age'])\n",
    "plt.title('data with outliers')\n",
    "plt.show()"
   ]
  },
  {
   "cell_type": "code",
   "execution_count": 33,
   "id": "8ed89874",
   "metadata": {
    "execution": {
     "iopub.execute_input": "2022-07-24T16:06:32.937022Z",
     "iopub.status.busy": "2022-07-24T16:06:32.936625Z",
     "iopub.status.idle": "2022-07-24T16:06:32.947149Z",
     "shell.execute_reply": "2022-07-24T16:06:32.945916Z"
    },
    "papermill": {
     "duration": 0.042701,
     "end_time": "2022-07-24T16:06:32.949905",
     "exception": false,
     "start_time": "2022-07-24T16:06:32.907204",
     "status": "completed"
    },
    "tags": []
   },
   "outputs": [
    {
     "data": {
      "text/plain": [
       "count    714.000000\n",
       "mean      29.699118\n",
       "std       14.526497\n",
       "min        0.420000\n",
       "25%       20.125000\n",
       "50%       28.000000\n",
       "75%       38.000000\n",
       "max       80.000000\n",
       "Name: Age, dtype: float64"
      ]
     },
     "execution_count": 33,
     "metadata": {},
     "output_type": "execute_result"
    }
   ],
   "source": [
    "df['Age'].describe()"
   ]
  },
  {
   "cell_type": "code",
   "execution_count": 34,
   "id": "bfd95017",
   "metadata": {
    "execution": {
     "iopub.execute_input": "2022-07-24T16:06:33.009135Z",
     "iopub.status.busy": "2022-07-24T16:06:33.008703Z",
     "iopub.status.idle": "2022-07-24T16:06:33.017511Z",
     "shell.execute_reply": "2022-07-24T16:06:33.016315Z"
    },
    "papermill": {
     "duration": 0.041028,
     "end_time": "2022-07-24T16:06:33.019737",
     "exception": false,
     "start_time": "2022-07-24T16:06:32.978709",
     "status": "completed"
    },
    "tags": []
   },
   "outputs": [
    {
     "data": {
      "text/plain": [
       "28.0"
      ]
     },
     "execution_count": 34,
     "metadata": {},
     "output_type": "execute_result"
    }
   ],
   "source": [
    "df['Age'].median()"
   ]
  },
  {
   "cell_type": "code",
   "execution_count": 35,
   "id": "e81d1d30",
   "metadata": {
    "execution": {
     "iopub.execute_input": "2022-07-24T16:06:33.080013Z",
     "iopub.status.busy": "2022-07-24T16:06:33.079012Z",
     "iopub.status.idle": "2022-07-24T16:06:33.085872Z",
     "shell.execute_reply": "2022-07-24T16:06:33.084577Z"
    },
    "papermill": {
     "duration": 0.039859,
     "end_time": "2022-07-24T16:06:33.088471",
     "exception": false,
     "start_time": "2022-07-24T16:06:33.048612",
     "status": "completed"
    },
    "tags": []
   },
   "outputs": [],
   "source": [
    "def out_bound(df, col):\n",
    "    Q1=df[col].quantile(0.25)\n",
    "    Q3=df[col].quantile(0.75)\n",
    "    IQR=Q3-Q1\n",
    "    lower_bound=Q1-1.5*IQR\n",
    "    upper_bound=Q3+1.5*IQR\n",
    "    \n",
    "    return lower_bound, upper_bound"
   ]
  },
  {
   "cell_type": "code",
   "execution_count": 36,
   "id": "326fdebf",
   "metadata": {
    "execution": {
     "iopub.execute_input": "2022-07-24T16:06:33.146975Z",
     "iopub.status.busy": "2022-07-24T16:06:33.146213Z",
     "iopub.status.idle": "2022-07-24T16:06:33.156140Z",
     "shell.execute_reply": "2022-07-24T16:06:33.154524Z"
    },
    "papermill": {
     "duration": 0.041293,
     "end_time": "2022-07-24T16:06:33.158614",
     "exception": false,
     "start_time": "2022-07-24T16:06:33.117321",
     "status": "completed"
    },
    "tags": []
   },
   "outputs": [
    {
     "name": "stdout",
     "output_type": "stream",
     "text": [
      "(-6.6875, 64.8125)\n"
     ]
    }
   ],
   "source": [
    "print(out_bound(df, 'Age'))"
   ]
  },
  {
   "cell_type": "markdown",
   "id": "d115b49e",
   "metadata": {
    "papermill": {
     "duration": 0.028408,
     "end_time": "2022-07-24T16:06:33.215489",
     "exception": false,
     "start_time": "2022-07-24T16:06:33.187081",
     "status": "completed"
    },
    "tags": []
   },
   "source": [
    "We can remove also replace outliers.Removing will reduce the shape of data,\n",
    "but replacing wil not reduce the shape of data. \n",
    "You can choose to work one of them.It is up to you."
   ]
  },
  {
   "cell_type": "markdown",
   "id": "d53ec599",
   "metadata": {
    "papermill": {
     "duration": 0.028116,
     "end_time": "2022-07-24T16:06:33.272623",
     "exception": false,
     "start_time": "2022-07-24T16:06:33.244507",
     "status": "completed"
    },
    "tags": []
   },
   "source": [
    "# Remove outliers"
   ]
  },
  {
   "cell_type": "code",
   "execution_count": 37,
   "id": "45dcabcf",
   "metadata": {
    "execution": {
     "iopub.execute_input": "2022-07-24T16:06:33.333471Z",
     "iopub.status.busy": "2022-07-24T16:06:33.332429Z",
     "iopub.status.idle": "2022-07-24T16:06:33.338086Z",
     "shell.execute_reply": "2022-07-24T16:06:33.337097Z"
    },
    "papermill": {
     "duration": 0.038968,
     "end_time": "2022-07-24T16:06:33.340512",
     "exception": false,
     "start_time": "2022-07-24T16:06:33.301544",
     "status": "completed"
    },
    "tags": []
   },
   "outputs": [],
   "source": [
    "def remove_outliers(data, col):\n",
    "    l_b, u_b=out_bound(data, col)\n",
    "    \n",
    "    return data[ (data[col]>l_b) & (data[col]<u_b) ]"
   ]
  },
  {
   "cell_type": "code",
   "execution_count": 38,
   "id": "93728e93",
   "metadata": {
    "execution": {
     "iopub.execute_input": "2022-07-24T16:06:33.399016Z",
     "iopub.status.busy": "2022-07-24T16:06:33.398337Z",
     "iopub.status.idle": "2022-07-24T16:06:33.405943Z",
     "shell.execute_reply": "2022-07-24T16:06:33.404959Z"
    },
    "papermill": {
     "duration": 0.039016,
     "end_time": "2022-07-24T16:06:33.408411",
     "exception": false,
     "start_time": "2022-07-24T16:06:33.369395",
     "status": "completed"
    },
    "tags": []
   },
   "outputs": [],
   "source": [
    "data1=remove_outliers(df, 'Age')"
   ]
  },
  {
   "cell_type": "code",
   "execution_count": 39,
   "id": "a8694e19",
   "metadata": {
    "execution": {
     "iopub.execute_input": "2022-07-24T16:06:33.467952Z",
     "iopub.status.busy": "2022-07-24T16:06:33.467208Z",
     "iopub.status.idle": "2022-07-24T16:06:33.646508Z",
     "shell.execute_reply": "2022-07-24T16:06:33.645329Z"
    },
    "papermill": {
     "duration": 0.212812,
     "end_time": "2022-07-24T16:06:33.649234",
     "exception": false,
     "start_time": "2022-07-24T16:06:33.436422",
     "status": "completed"
    },
    "tags": []
   },
   "outputs": [
    {
     "data": {
      "image/png": "[encoded data removed]",
      "text/plain": [
       "<Figure size 864x648 with 1 Axes>"
      ]
     },
     "metadata": {
      "needs_background": "light"
     },
     "output_type": "display_data"
    }
   ],
   "source": [
    "plt.figure(figsize=(12,9))\n",
    "sns.boxplot(data1['Age'])\n",
    "plt.title('data with removed outliers')\n",
    "plt.show()"
   ]
  },
  {
   "cell_type": "markdown",
   "id": "b059e1f0",
   "metadata": {
    "papermill": {
     "duration": 0.027525,
     "end_time": "2022-07-24T16:06:33.704498",
     "exception": false,
     "start_time": "2022-07-24T16:06:33.676973",
     "status": "completed"
    },
    "tags": []
   },
   "source": [
    "# Replace outliers"
   ]
  },
  {
   "cell_type": "code",
   "execution_count": 40,
   "id": "4c1eaf13",
   "metadata": {
    "execution": {
     "iopub.execute_input": "2022-07-24T16:06:33.762121Z",
     "iopub.status.busy": "2022-07-24T16:06:33.761644Z",
     "iopub.status.idle": "2022-07-24T16:06:33.768210Z",
     "shell.execute_reply": "2022-07-24T16:06:33.766936Z"
    },
    "papermill": {
     "duration": 0.038272,
     "end_time": "2022-07-24T16:06:33.770595",
     "exception": false,
     "start_time": "2022-07-24T16:06:33.732323",
     "status": "completed"
    },
    "tags": []
   },
   "outputs": [],
   "source": [
    "def outliers_equal_bounds(data, col):\n",
    "    l_b, u_b=out_bound(data, col)\n",
    "    \n",
    "    data.loc[(data[col]<l_b), col]=l_b\n",
    "    data.loc[(data[col]>u_b), col]=u_b\n",
    "    \n",
    "    return data\n",
    "    "
   ]
  },
  {
   "cell_type": "code",
   "execution_count": 41,
   "id": "a96f0a0a",
   "metadata": {
    "execution": {
     "iopub.execute_input": "2022-07-24T16:06:33.830593Z",
     "iopub.status.busy": "2022-07-24T16:06:33.829935Z",
     "iopub.status.idle": "2022-07-24T16:06:33.839401Z",
     "shell.execute_reply": "2022-07-24T16:06:33.837491Z"
    },
    "papermill": {
     "duration": 0.043589,
     "end_time": "2022-07-24T16:06:33.843008",
     "exception": false,
     "start_time": "2022-07-24T16:06:33.799419",
     "status": "completed"
    },
    "tags": []
   },
   "outputs": [],
   "source": [
    "data2=outliers_equal_bounds(df, 'Age')"
   ]
  },
  {
   "cell_type": "markdown",
   "id": "50be5bf8",
   "metadata": {
    "papermill": {
     "duration": 0.03564,
     "end_time": "2022-07-24T16:06:33.913145",
     "exception": false,
     "start_time": "2022-07-24T16:06:33.877505",
     "status": "completed"
    },
    "tags": []
   },
   "source": [
    "Let's see data with replaced outliers"
   ]
  },
  {
   "cell_type": "code",
   "execution_count": 42,
   "id": "7c636cde",
   "metadata": {
    "execution": {
     "iopub.execute_input": "2022-07-24T16:06:33.979392Z",
     "iopub.status.busy": "2022-07-24T16:06:33.978683Z",
     "iopub.status.idle": "2022-07-24T16:06:34.116906Z",
     "shell.execute_reply": "2022-07-24T16:06:34.115501Z"
    },
    "papermill": {
     "duration": 0.172143,
     "end_time": "2022-07-24T16:06:34.120885",
     "exception": false,
     "start_time": "2022-07-24T16:06:33.948742",
     "status": "completed"
    },
    "tags": []
   },
   "outputs": [
    {
     "data": {
      "image/png": "[encoded data removed]",
      "text/plain": [
       "<Figure size 864x648 with 1 Axes>"
      ]
     },
     "metadata": {
      "needs_background": "light"
     },
     "output_type": "display_data"
    }
   ],
   "source": [
    "sns.set_palette('bright')\n",
    "plt.figure(figsize=(12,9))\n",
    "sns.boxplot(data2['Age'])\n",
    "plt.title('Data with replaced outliers')\n",
    "plt.show()"
   ]
  },
  {
   "cell_type": "code",
   "execution_count": 43,
   "id": "d1396caa",
   "metadata": {
    "execution": {
     "iopub.execute_input": "2022-07-24T16:06:34.183919Z",
     "iopub.status.busy": "2022-07-24T16:06:34.183196Z",
     "iopub.status.idle": "2022-07-24T16:06:34.189401Z",
     "shell.execute_reply": "2022-07-24T16:06:34.188071Z"
    },
    "papermill": {
     "duration": 0.0385,
     "end_time": "2022-07-24T16:06:34.192012",
     "exception": false,
     "start_time": "2022-07-24T16:06:34.153512",
     "status": "completed"
    },
    "tags": []
   },
   "outputs": [
    {
     "name": "stdout",
     "output_type": "stream",
     "text": [
      "Real data: (891, 11)\n",
      "Data with removed outliers by age: (703, 11)\n",
      "Data with replaced outliers by age: (891, 11)\n"
     ]
    }
   ],
   "source": [
    "print('Real data:', df.shape)\n",
    "print('Data with removed outliers by age:', data1.shape)\n",
    "print('Data with replaced outliers by age:', data2.shape)"
   ]
  },
  {
   "cell_type": "code",
   "execution_count": 44,
   "id": "caaa276a",
   "metadata": {
    "execution": {
     "iopub.execute_input": "2022-07-24T16:06:34.253869Z",
     "iopub.status.busy": "2022-07-24T16:06:34.253126Z",
     "iopub.status.idle": "2022-07-24T16:06:34.266248Z",
     "shell.execute_reply": "2022-07-24T16:06:34.265036Z"
    },
    "papermill": {
     "duration": 0.046781,
     "end_time": "2022-07-24T16:06:34.268782",
     "exception": false,
     "start_time": "2022-07-24T16:06:34.222001",
     "status": "completed"
    },
    "tags": []
   },
   "outputs": [
    {
     "name": "stdout",
     "output_type": "stream",
     "text": [
      "<class 'pandas.core.frame.DataFrame'>\n",
      "RangeIndex: 891 entries, 0 to 890\n",
      "Data columns (total 11 columns):\n",
      " #   Column       Non-Null Count  Dtype  \n",
      "---  ------       --------------  -----  \n",
      " 0   PassengerId  891 non-null    int64  \n",
      " 1   Survived     891 non-null    int64  \n",
      " 2   Pclass       891 non-null    int64  \n",
      " 3   Name         891 non-null    object \n",
      " 4   Sex          891 non-null    object \n",
      " 5   Age          714 non-null    float64\n",
      " 6   SibSp        891 non-null    int64  \n",
      " 7   Parch        891 non-null    int64  \n",
      " 8   Ticket       891 non-null    object \n",
      " 9   Fare         891 non-null    float64\n",
      " 10  Embarked     889 non-null    object \n",
      "dtypes: float64(2), int64(5), object(4)\n",
      "memory usage: 76.7+ KB\n"
     ]
    }
   ],
   "source": [
    "df.info()"
   ]
  },
  {
   "cell_type": "code",
   "execution_count": 45,
   "id": "8cbbb03c",
   "metadata": {
    "execution": {
     "iopub.execute_input": "2022-07-24T16:06:34.327823Z",
     "iopub.status.busy": "2022-07-24T16:06:34.327098Z",
     "iopub.status.idle": "2022-07-24T16:06:34.544133Z",
     "shell.execute_reply": "2022-07-24T16:06:34.542975Z"
    },
    "papermill": {
     "duration": 0.249212,
     "end_time": "2022-07-24T16:06:34.546653",
     "exception": false,
     "start_time": "2022-07-24T16:06:34.297441",
     "status": "completed"
    },
    "tags": []
   },
   "outputs": [
    {
     "data": {
      "image/png": "[encoded data removed]",
      "text/plain": [
       "<Figure size 864x648 with 1 Axes>"
      ]
     },
     "metadata": {
      "needs_background": "light"
     },
     "output_type": "display_data"
    }
   ],
   "source": [
    "sns.set_palette('dark')\n",
    "plt.figure(figsize=(12,9))\n",
    "sns.boxplot(x='Sex', y='Age', data=df_copy)\n",
    "plt.title('outliers by sex')\n",
    "plt.show()"
   ]
  },
  {
   "cell_type": "code",
   "execution_count": 46,
   "id": "4a69aa31",
   "metadata": {
    "execution": {
     "iopub.execute_input": "2022-07-24T16:06:34.609605Z",
     "iopub.status.busy": "2022-07-24T16:06:34.609211Z",
     "iopub.status.idle": "2022-07-24T16:06:34.620286Z",
     "shell.execute_reply": "2022-07-24T16:06:34.619365Z"
    },
    "papermill": {
     "duration": 0.046039,
     "end_time": "2022-07-24T16:06:34.622877",
     "exception": false,
     "start_time": "2022-07-24T16:06:34.576838",
     "status": "completed"
    },
    "tags": []
   },
   "outputs": [
    {
     "data": {
      "text/plain": [
       "S    644\n",
       "C    168\n",
       "Q     77\n",
       "Name: Embarked, dtype: int64"
      ]
     },
     "execution_count": 46,
     "metadata": {},
     "output_type": "execute_result"
    }
   ],
   "source": [
    "df_copy['Embarked'].value_counts()"
   ]
  },
  {
   "cell_type": "code",
   "execution_count": 47,
   "id": "d12ba452",
   "metadata": {
    "execution": {
     "iopub.execute_input": "2022-07-24T16:06:34.685008Z",
     "iopub.status.busy": "2022-07-24T16:06:34.684474Z",
     "iopub.status.idle": "2022-07-24T16:06:34.932596Z",
     "shell.execute_reply": "2022-07-24T16:06:34.931286Z"
    },
    "papermill": {
     "duration": 0.282059,
     "end_time": "2022-07-24T16:06:34.935312",
     "exception": false,
     "start_time": "2022-07-24T16:06:34.653253",
     "status": "completed"
    },
    "tags": []
   },
   "outputs": [
    {
     "data": {
      "image/png": "[encoded data removed]",
      "text/plain": [
       "<Figure size 864x648 with 1 Axes>"
      ]
     },
     "metadata": {
      "needs_background": "light"
     },
     "output_type": "display_data"
    }
   ],
   "source": [
    "sns.set_palette('bright')\n",
    "plt.figure(figsize=(12,9))\n",
    "plt.title('Survival and death by Port of Embarkation')\n",
    "sns.countplot(x='Survived', hue='Embarked', data=df_copy)\n",
    "plt.show()"
   ]
  },
  {
   "cell_type": "markdown",
   "id": "76181e6b",
   "metadata": {
    "papermill": {
     "duration": 0.0305,
     "end_time": "2022-07-24T16:06:34.995902",
     "exception": false,
     "start_time": "2022-07-24T16:06:34.965402",
     "status": "completed"
    },
    "tags": []
   },
   "source": [
    "We can see death and survived values by embarked"
   ]
  },
  {
   "cell_type": "code",
   "execution_count": 48,
   "id": "3b74cc34",
   "metadata": {
    "execution": {
     "iopub.execute_input": "2022-07-24T16:06:35.058085Z",
     "iopub.status.busy": "2022-07-24T16:06:35.057521Z",
     "iopub.status.idle": "2022-07-24T16:06:35.068156Z",
     "shell.execute_reply": "2022-07-24T16:06:35.067209Z"
    },
    "papermill": {
     "duration": 0.045498,
     "end_time": "2022-07-24T16:06:35.070569",
     "exception": false,
     "start_time": "2022-07-24T16:06:35.025071",
     "status": "completed"
    },
    "tags": []
   },
   "outputs": [
    {
     "data": {
      "text/plain": [
       "Embarked  Survived\n",
       "C         1            93\n",
       "          0            75\n",
       "Q         0            47\n",
       "          1            30\n",
       "S         0           427\n",
       "          1           217\n",
       "Name: Survived, dtype: int64"
      ]
     },
     "execution_count": 48,
     "metadata": {},
     "output_type": "execute_result"
    }
   ],
   "source": [
    "df_copy.groupby('Embarked')['Survived'].value_counts()"
   ]
  },
  {
   "cell_type": "code",
   "execution_count": 49,
   "id": "a6c66e10",
   "metadata": {
    "execution": {
     "iopub.execute_input": "2022-07-24T16:06:35.133664Z",
     "iopub.status.busy": "2022-07-24T16:06:35.132525Z",
     "iopub.status.idle": "2022-07-24T16:06:35.141772Z",
     "shell.execute_reply": "2022-07-24T16:06:35.140848Z"
    },
    "papermill": {
     "duration": 0.043664,
     "end_time": "2022-07-24T16:06:35.144184",
     "exception": false,
     "start_time": "2022-07-24T16:06:35.100520",
     "status": "completed"
    },
    "tags": []
   },
   "outputs": [
    {
     "data": {
      "text/plain": [
       "0    608\n",
       "1    209\n",
       "2     28\n",
       "4     18\n",
       "3     16\n",
       "8      7\n",
       "5      5\n",
       "Name: SibSp, dtype: int64"
      ]
     },
     "execution_count": 49,
     "metadata": {},
     "output_type": "execute_result"
    }
   ],
   "source": [
    "df_copy['SibSp'].value_counts()"
   ]
  },
  {
   "cell_type": "code",
   "execution_count": 50,
   "id": "425ab00c",
   "metadata": {
    "execution": {
     "iopub.execute_input": "2022-07-24T16:06:35.205511Z",
     "iopub.status.busy": "2022-07-24T16:06:35.204685Z",
     "iopub.status.idle": "2022-07-24T16:06:35.221861Z",
     "shell.execute_reply": "2022-07-24T16:06:35.220573Z"
    },
    "papermill": {
     "duration": 0.051375,
     "end_time": "2022-07-24T16:06:35.224692",
     "exception": false,
     "start_time": "2022-07-24T16:06:35.173317",
     "status": "completed"
    },
    "tags": []
   },
   "outputs": [
    {
     "data": {
      "text/html": [
       "<div>\n",
       "<style scoped>\n",
       "    .dataframe tbody tr th:only-of-type {\n",
       "        vertical-align: middle;\n",
       "    }\n",
       "\n",
       "    .dataframe tbody tr th {\n",
       "        vertical-align: top;\n",
       "    }\n",
       "\n",
       "    .dataframe thead th {\n",
       "        text-align: right;\n",
       "    }\n",
       "</style>\n",
       "<table border=\"1\" class=\"dataframe\">\n",
       "  <thead>\n",
       "    <tr style=\"text-align: right;\">\n",
       "      <th></th>\n",
       "      <th>PassengerId</th>\n",
       "      <th>Survived</th>\n",
       "      <th>Pclass</th>\n",
       "      <th>Name</th>\n",
       "      <th>Sex</th>\n",
       "      <th>Age</th>\n",
       "      <th>SibSp</th>\n",
       "      <th>Parch</th>\n",
       "      <th>Ticket</th>\n",
       "      <th>Fare</th>\n",
       "      <th>Embarked</th>\n",
       "    </tr>\n",
       "  </thead>\n",
       "  <tbody>\n",
       "    <tr>\n",
       "      <th>0</th>\n",
       "      <td>1</td>\n",
       "      <td>0</td>\n",
       "      <td>3</td>\n",
       "      <td>Braund, Mr. Owen Harris</td>\n",
       "      <td>male</td>\n",
       "      <td>22.0</td>\n",
       "      <td>1</td>\n",
       "      <td>0</td>\n",
       "      <td>A/5 21171</td>\n",
       "      <td>7.2500</td>\n",
       "      <td>S</td>\n",
       "    </tr>\n",
       "    <tr>\n",
       "      <th>1</th>\n",
       "      <td>2</td>\n",
       "      <td>1</td>\n",
       "      <td>1</td>\n",
       "      <td>Cumings, Mrs. John Bradley (Florence Briggs Th...</td>\n",
       "      <td>female</td>\n",
       "      <td>38.0</td>\n",
       "      <td>1</td>\n",
       "      <td>0</td>\n",
       "      <td>PC 17599</td>\n",
       "      <td>71.2833</td>\n",
       "      <td>C</td>\n",
       "    </tr>\n",
       "    <tr>\n",
       "      <th>2</th>\n",
       "      <td>3</td>\n",
       "      <td>1</td>\n",
       "      <td>3</td>\n",
       "      <td>Heikkinen, Miss. Laina</td>\n",
       "      <td>female</td>\n",
       "      <td>26.0</td>\n",
       "      <td>0</td>\n",
       "      <td>0</td>\n",
       "      <td>STON/O2. 3101282</td>\n",
       "      <td>7.9250</td>\n",
       "      <td>S</td>\n",
       "    </tr>\n",
       "    <tr>\n",
       "      <th>3</th>\n",
       "      <td>4</td>\n",
       "      <td>1</td>\n",
       "      <td>1</td>\n",
       "      <td>Futrelle, Mrs. Jacques Heath (Lily May Peel)</td>\n",
       "      <td>female</td>\n",
       "      <td>35.0</td>\n",
       "      <td>1</td>\n",
       "      <td>0</td>\n",
       "      <td>113803</td>\n",
       "      <td>53.1000</td>\n",
       "      <td>S</td>\n",
       "    </tr>\n",
       "    <tr>\n",
       "      <th>4</th>\n",
       "      <td>5</td>\n",
       "      <td>0</td>\n",
       "      <td>3</td>\n",
       "      <td>Allen, Mr. William Henry</td>\n",
       "      <td>male</td>\n",
       "      <td>35.0</td>\n",
       "      <td>0</td>\n",
       "      <td>0</td>\n",
       "      <td>373450</td>\n",
       "      <td>8.0500</td>\n",
       "      <td>S</td>\n",
       "    </tr>\n",
       "  </tbody>\n",
       "</table>\n",
       "</div>"
      ],
      "text/plain": [
       "   PassengerId  Survived  Pclass  \\\n",
       "0            1         0       3   \n",
       "1            2         1       1   \n",
       "2            3         1       3   \n",
       "3            4         1       1   \n",
       "4            5         0       3   \n",
       "\n",
       "                                                Name     Sex   Age  SibSp  \\\n",
       "0                            Braund, Mr. Owen Harris    male  22.0      1   \n",
       "1  Cumings, Mrs. John Bradley (Florence Briggs Th...  female  38.0      1   \n",
       "2                             Heikkinen, Miss. Laina  female  26.0      0   \n",
       "3       Futrelle, Mrs. Jacques Heath (Lily May Peel)  female  35.0      1   \n",
       "4                           Allen, Mr. William Henry    male  35.0      0   \n",
       "\n",
       "   Parch            Ticket     Fare Embarked  \n",
       "0      0         A/5 21171   7.2500        S  \n",
       "1      0          PC 17599  71.2833        C  \n",
       "2      0  STON/O2. 3101282   7.9250        S  \n",
       "3      0            113803  53.1000        S  \n",
       "4      0            373450   8.0500        S  "
      ]
     },
     "execution_count": 50,
     "metadata": {},
     "output_type": "execute_result"
    }
   ],
   "source": [
    "df_copy.head()"
   ]
  },
  {
   "cell_type": "code",
   "execution_count": 51,
   "id": "dcf5539f",
   "metadata": {
    "execution": {
     "iopub.execute_input": "2022-07-24T16:06:35.286703Z",
     "iopub.status.busy": "2022-07-24T16:06:35.285504Z",
     "iopub.status.idle": "2022-07-24T16:06:35.296198Z",
     "shell.execute_reply": "2022-07-24T16:06:35.295158Z"
    },
    "papermill": {
     "duration": 0.043738,
     "end_time": "2022-07-24T16:06:35.298473",
     "exception": false,
     "start_time": "2022-07-24T16:06:35.254735",
     "status": "completed"
    },
    "tags": []
   },
   "outputs": [
    {
     "data": {
      "text/plain": [
       "0    678\n",
       "1    118\n",
       "2     80\n",
       "5      5\n",
       "3      5\n",
       "4      4\n",
       "6      1\n",
       "Name: Parch, dtype: int64"
      ]
     },
     "execution_count": 51,
     "metadata": {},
     "output_type": "execute_result"
    }
   ],
   "source": [
    "df_copy['Parch'].value_counts()"
   ]
  },
  {
   "cell_type": "code",
   "execution_count": 52,
   "id": "f4b662e8",
   "metadata": {
    "execution": {
     "iopub.execute_input": "2022-07-24T16:06:35.363837Z",
     "iopub.status.busy": "2022-07-24T16:06:35.363453Z",
     "iopub.status.idle": "2022-07-24T16:06:35.642110Z",
     "shell.execute_reply": "2022-07-24T16:06:35.640770Z"
    },
    "papermill": {
     "duration": 0.315039,
     "end_time": "2022-07-24T16:06:35.644854",
     "exception": false,
     "start_time": "2022-07-24T16:06:35.329815",
     "status": "completed"
    },
    "tags": []
   },
   "outputs": [
    {
     "data": {
      "image/png": "[encoded data removed]",
      "text/plain": [
       "<Figure size 864x648 with 1 Axes>"
      ]
     },
     "metadata": {
      "needs_background": "light"
     },
     "output_type": "display_data"
    }
   ],
   "source": [
    "plt.figure(figsize=(12,9))\n",
    "sns.countplot(x='Survived', hue='SibSp', data=df_copy)\n",
    "plt.title('survived siblings')\n",
    "plt.show()"
   ]
  },
  {
   "cell_type": "code",
   "execution_count": 53,
   "id": "20ff5e71",
   "metadata": {
    "execution": {
     "iopub.execute_input": "2022-07-24T16:06:35.709302Z",
     "iopub.status.busy": "2022-07-24T16:06:35.708873Z",
     "iopub.status.idle": "2022-07-24T16:06:36.327050Z",
     "shell.execute_reply": "2022-07-24T16:06:36.325833Z"
    },
    "papermill": {
     "duration": 0.654736,
     "end_time": "2022-07-24T16:06:36.329863",
     "exception": false,
     "start_time": "2022-07-24T16:06:35.675127",
     "status": "completed"
    },
    "tags": []
   },
   "outputs": [
    {
     "data": {
      "image/png": "[encoded data removed]",
      "text/plain": [
       "<Figure size 1152x648 with 1 Axes>"
      ]
     },
     "metadata": {
      "needs_background": "light"
     },
     "output_type": "display_data"
    }
   ],
   "source": [
    "fig, ax1 = plt.subplots(figsize=(16, 9))\n",
    "sns.set_palette('bright')\n",
    "sns.histplot(data = df_copy, x='Age', ax=ax1, bins=25, hue='Survived', kde=True)\n",
    "plt.title('Death and survival values by age')\n",
    "plt.show()\n"
   ]
  },
  {
   "cell_type": "code",
   "execution_count": 54,
   "id": "e2c987aa",
   "metadata": {
    "execution": {
     "iopub.execute_input": "2022-07-24T16:06:36.428016Z",
     "iopub.status.busy": "2022-07-24T16:06:36.427475Z",
     "iopub.status.idle": "2022-07-24T16:06:36.690772Z",
     "shell.execute_reply": "2022-07-24T16:06:36.689310Z"
    },
    "papermill": {
     "duration": 0.330575,
     "end_time": "2022-07-24T16:06:36.693491",
     "exception": false,
     "start_time": "2022-07-24T16:06:36.362916",
     "status": "completed"
    },
    "tags": []
   },
   "outputs": [
    {
     "data": {
      "image/png": "[encoded data removed]",
      "text/plain": [
       "<Figure size 864x432 with 1 Axes>"
      ]
     },
     "metadata": {
      "needs_background": "light"
     },
     "output_type": "display_data"
    }
   ],
   "source": [
    "sns.set_palette('pastel')\n",
    "plt.figure(figsize=(12,6))\n",
    "sns.countplot(x='Survived', hue='Parch', data=df_copy)\n",
    "plt.title('children aboard titanic')\n",
    "plt.show()"
   ]
  },
  {
   "cell_type": "code",
   "execution_count": 55,
   "id": "0eae2b6c",
   "metadata": {
    "execution": {
     "iopub.execute_input": "2022-07-24T16:06:36.759410Z",
     "iopub.status.busy": "2022-07-24T16:06:36.759026Z",
     "iopub.status.idle": "2022-07-24T16:06:36.766674Z",
     "shell.execute_reply": "2022-07-24T16:06:36.765206Z"
    },
    "papermill": {
     "duration": 0.044579,
     "end_time": "2022-07-24T16:06:36.769481",
     "exception": false,
     "start_time": "2022-07-24T16:06:36.724902",
     "status": "completed"
    },
    "tags": []
   },
   "outputs": [
    {
     "name": "stdout",
     "output_type": "stream",
     "text": [
      "0    549\n",
      "1    342\n",
      "Name: Survived, dtype: int64\n"
     ]
    }
   ],
   "source": [
    "survived=df['Survived'].value_counts()\n",
    "print(survived)"
   ]
  },
  {
   "cell_type": "code",
   "execution_count": 56,
   "id": "19b7c8e8",
   "metadata": {
    "execution": {
     "iopub.execute_input": "2022-07-24T16:06:36.834679Z",
     "iopub.status.busy": "2022-07-24T16:06:36.834289Z",
     "iopub.status.idle": "2022-07-24T16:06:36.979962Z",
     "shell.execute_reply": "2022-07-24T16:06:36.978533Z"
    },
    "papermill": {
     "duration": 0.182779,
     "end_time": "2022-07-24T16:06:36.984158",
     "exception": false,
     "start_time": "2022-07-24T16:06:36.801379",
     "status": "completed"
    },
    "tags": []
   },
   "outputs": [
    {
     "data": {
      "image/png": "[encoded data removed]",
      "text/plain": [
       "<Figure size 864x648 with 1 Axes>"
      ]
     },
     "metadata": {},
     "output_type": "display_data"
    }
   ],
   "source": [
    "labels=survived.index\n",
    "sizes=survived.values\n",
    "plt.figure(figsize=(12,9))\n",
    "colors = sns.color_palette('Paired')\n",
    "plt.pie(sizes,labels=labels,autopct='%1.1f%%',\n",
    "        shadow=True,colors=colors,startangle=90)\n",
    "plt.show()"
   ]
  },
  {
   "cell_type": "code",
   "execution_count": 57,
   "id": "ab4c0512",
   "metadata": {
    "execution": {
     "iopub.execute_input": "2022-07-24T16:06:37.076321Z",
     "iopub.status.busy": "2022-07-24T16:06:37.075314Z",
     "iopub.status.idle": "2022-07-24T16:06:37.092943Z",
     "shell.execute_reply": "2022-07-24T16:06:37.091736Z"
    },
    "papermill": {
     "duration": 0.054511,
     "end_time": "2022-07-24T16:06:37.096568",
     "exception": false,
     "start_time": "2022-07-24T16:06:37.042057",
     "status": "completed"
    },
    "tags": []
   },
   "outputs": [
    {
     "data": {
      "text/html": [
       "<div>\n",
       "<style scoped>\n",
       "    .dataframe tbody tr th:only-of-type {\n",
       "        vertical-align: middle;\n",
       "    }\n",
       "\n",
       "    .dataframe tbody tr th {\n",
       "        vertical-align: top;\n",
       "    }\n",
       "\n",
       "    .dataframe thead th {\n",
       "        text-align: right;\n",
       "    }\n",
       "</style>\n",
       "<table border=\"1\" class=\"dataframe\">\n",
       "  <thead>\n",
       "    <tr style=\"text-align: right;\">\n",
       "      <th></th>\n",
       "      <th>PassengerId</th>\n",
       "      <th>Survived</th>\n",
       "      <th>Pclass</th>\n",
       "      <th>Name</th>\n",
       "      <th>Sex</th>\n",
       "      <th>Age</th>\n",
       "      <th>SibSp</th>\n",
       "      <th>Parch</th>\n",
       "      <th>Ticket</th>\n",
       "      <th>Fare</th>\n",
       "      <th>Embarked</th>\n",
       "    </tr>\n",
       "  </thead>\n",
       "  <tbody>\n",
       "    <tr>\n",
       "      <th>0</th>\n",
       "      <td>1</td>\n",
       "      <td>0</td>\n",
       "      <td>3</td>\n",
       "      <td>Braund, Mr. Owen Harris</td>\n",
       "      <td>male</td>\n",
       "      <td>22.0</td>\n",
       "      <td>1</td>\n",
       "      <td>0</td>\n",
       "      <td>A/5 21171</td>\n",
       "      <td>7.2500</td>\n",
       "      <td>S</td>\n",
       "    </tr>\n",
       "    <tr>\n",
       "      <th>1</th>\n",
       "      <td>2</td>\n",
       "      <td>1</td>\n",
       "      <td>1</td>\n",
       "      <td>Cumings, Mrs. John Bradley (Florence Briggs Th...</td>\n",
       "      <td>female</td>\n",
       "      <td>38.0</td>\n",
       "      <td>1</td>\n",
       "      <td>0</td>\n",
       "      <td>PC 17599</td>\n",
       "      <td>71.2833</td>\n",
       "      <td>C</td>\n",
       "    </tr>\n",
       "    <tr>\n",
       "      <th>2</th>\n",
       "      <td>3</td>\n",
       "      <td>1</td>\n",
       "      <td>3</td>\n",
       "      <td>Heikkinen, Miss. Laina</td>\n",
       "      <td>female</td>\n",
       "      <td>26.0</td>\n",
       "      <td>0</td>\n",
       "      <td>0</td>\n",
       "      <td>STON/O2. 3101282</td>\n",
       "      <td>7.9250</td>\n",
       "      <td>S</td>\n",
       "    </tr>\n",
       "    <tr>\n",
       "      <th>3</th>\n",
       "      <td>4</td>\n",
       "      <td>1</td>\n",
       "      <td>1</td>\n",
       "      <td>Futrelle, Mrs. Jacques Heath (Lily May Peel)</td>\n",
       "      <td>female</td>\n",
       "      <td>35.0</td>\n",
       "      <td>1</td>\n",
       "      <td>0</td>\n",
       "      <td>113803</td>\n",
       "      <td>53.1000</td>\n",
       "      <td>S</td>\n",
       "    </tr>\n",
       "    <tr>\n",
       "      <th>4</th>\n",
       "      <td>5</td>\n",
       "      <td>0</td>\n",
       "      <td>3</td>\n",
       "      <td>Allen, Mr. William Henry</td>\n",
       "      <td>male</td>\n",
       "      <td>35.0</td>\n",
       "      <td>0</td>\n",
       "      <td>0</td>\n",
       "      <td>373450</td>\n",
       "      <td>8.0500</td>\n",
       "      <td>S</td>\n",
       "    </tr>\n",
       "  </tbody>\n",
       "</table>\n",
       "</div>"
      ],
      "text/plain": [
       "   PassengerId  Survived  Pclass  \\\n",
       "0            1         0       3   \n",
       "1            2         1       1   \n",
       "2            3         1       3   \n",
       "3            4         1       1   \n",
       "4            5         0       3   \n",
       "\n",
       "                                                Name     Sex   Age  SibSp  \\\n",
       "0                            Braund, Mr. Owen Harris    male  22.0      1   \n",
       "1  Cumings, Mrs. John Bradley (Florence Briggs Th...  female  38.0      1   \n",
       "2                             Heikkinen, Miss. Laina  female  26.0      0   \n",
       "3       Futrelle, Mrs. Jacques Heath (Lily May Peel)  female  35.0      1   \n",
       "4                           Allen, Mr. William Henry    male  35.0      0   \n",
       "\n",
       "   Parch            Ticket     Fare Embarked  \n",
       "0      0         A/5 21171   7.2500        S  \n",
       "1      0          PC 17599  71.2833        C  \n",
       "2      0  STON/O2. 3101282   7.9250        S  \n",
       "3      0            113803  53.1000        S  \n",
       "4      0            373450   8.0500        S  "
      ]
     },
     "execution_count": 57,
     "metadata": {},
     "output_type": "execute_result"
    }
   ],
   "source": [
    "df_copy.head()"
   ]
  },
  {
   "cell_type": "code",
   "execution_count": 58,
   "id": "4a167638",
   "metadata": {
    "execution": {
     "iopub.execute_input": "2022-07-24T16:06:37.165007Z",
     "iopub.status.busy": "2022-07-24T16:06:37.164184Z",
     "iopub.status.idle": "2022-07-24T16:06:37.430225Z",
     "shell.execute_reply": "2022-07-24T16:06:37.428581Z"
    },
    "papermill": {
     "duration": 0.302415,
     "end_time": "2022-07-24T16:06:37.432728",
     "exception": false,
     "start_time": "2022-07-24T16:06:37.130313",
     "status": "completed"
    },
    "tags": []
   },
   "outputs": [
    {
     "data": {
      "image/png": "[encoded data removed]",
      "text/plain": [
       "<Figure size 864x648 with 1 Axes>"
      ]
     },
     "metadata": {
      "needs_background": "light"
     },
     "output_type": "display_data"
    }
   ],
   "source": [
    "plt.figure(figsize=(12,9))\n",
    "sns.distplot(df['Age'])\n",
    "plt.title('age density')\n",
    "plt.show()"
   ]
  },
  {
   "cell_type": "code",
   "execution_count": 59,
   "id": "293e46e7",
   "metadata": {
    "execution": {
     "iopub.execute_input": "2022-07-24T16:06:37.503712Z",
     "iopub.status.busy": "2022-07-24T16:06:37.503302Z",
     "iopub.status.idle": "2022-07-24T16:06:37.745462Z",
     "shell.execute_reply": "2022-07-24T16:06:37.744127Z"
    },
    "papermill": {
     "duration": 0.281249,
     "end_time": "2022-07-24T16:06:37.748543",
     "exception": false,
     "start_time": "2022-07-24T16:06:37.467294",
     "status": "completed"
    },
    "tags": []
   },
   "outputs": [
    {
     "data": {
      "image/png": "[encoded data removed]",
      "text/plain": [
       "<Figure size 864x504 with 1 Axes>"
      ]
     },
     "metadata": {
      "needs_background": "light"
     },
     "output_type": "display_data"
    }
   ],
   "source": [
    "plt.figure(figsize=(12,7))\n",
    "sns.set_palette('bright')\n",
    "sns.violinplot(x=df['Sex'],y=df['Age'])\n",
    "plt.title('age by gender')\n",
    "plt.show()"
   ]
  },
  {
   "cell_type": "code",
   "execution_count": 60,
   "id": "fddbedef",
   "metadata": {
    "execution": {
     "iopub.execute_input": "2022-07-24T16:06:37.821927Z",
     "iopub.status.busy": "2022-07-24T16:06:37.821513Z",
     "iopub.status.idle": "2022-07-24T16:06:38.088715Z",
     "shell.execute_reply": "2022-07-24T16:06:38.087542Z"
    },
    "papermill": {
     "duration": 0.305709,
     "end_time": "2022-07-24T16:06:38.091255",
     "exception": false,
     "start_time": "2022-07-24T16:06:37.785546",
     "status": "completed"
    },
    "tags": []
   },
   "outputs": [
    {
     "data": {
      "image/png": "[encoded data removed]",
      "text/plain": [
       "<Figure size 1152x648 with 1 Axes>"
      ]
     },
     "metadata": {
      "needs_background": "light"
     },
     "output_type": "display_data"
    }
   ],
   "source": [
    "sns.set_palette('dark')\n",
    "plt.figure(figsize=(16,9))\n",
    "sns.countplot(x='Parch', hue='Sex', data=df)\n",
    "plt.xticks(rotation=90)\n",
    "plt.show()"
   ]
  },
  {
   "cell_type": "code",
   "execution_count": 61,
   "id": "65d950f4",
   "metadata": {
    "execution": {
     "iopub.execute_input": "2022-07-24T16:06:38.161913Z",
     "iopub.status.busy": "2022-07-24T16:06:38.161446Z",
     "iopub.status.idle": "2022-07-24T16:06:38.180148Z",
     "shell.execute_reply": "2022-07-24T16:06:38.178852Z"
    },
    "papermill": {
     "duration": 0.056337,
     "end_time": "2022-07-24T16:06:38.182735",
     "exception": false,
     "start_time": "2022-07-24T16:06:38.126398",
     "status": "completed"
    },
    "tags": []
   },
   "outputs": [
    {
     "data": {
      "text/html": [
       "<div>\n",
       "<style scoped>\n",
       "    .dataframe tbody tr th:only-of-type {\n",
       "        vertical-align: middle;\n",
       "    }\n",
       "\n",
       "    .dataframe tbody tr th {\n",
       "        vertical-align: top;\n",
       "    }\n",
       "\n",
       "    .dataframe thead th {\n",
       "        text-align: right;\n",
       "    }\n",
       "</style>\n",
       "<table border=\"1\" class=\"dataframe\">\n",
       "  <thead>\n",
       "    <tr style=\"text-align: right;\">\n",
       "      <th></th>\n",
       "      <th>PassengerId</th>\n",
       "      <th>Survived</th>\n",
       "      <th>Pclass</th>\n",
       "      <th>Age</th>\n",
       "      <th>SibSp</th>\n",
       "      <th>Parch</th>\n",
       "      <th>Fare</th>\n",
       "    </tr>\n",
       "  </thead>\n",
       "  <tbody>\n",
       "    <tr>\n",
       "      <th>PassengerId</th>\n",
       "      <td>1.000000</td>\n",
       "      <td>-0.005007</td>\n",
       "      <td>-0.035144</td>\n",
       "      <td>0.036847</td>\n",
       "      <td>-0.057527</td>\n",
       "      <td>-0.001652</td>\n",
       "      <td>0.012658</td>\n",
       "    </tr>\n",
       "    <tr>\n",
       "      <th>Survived</th>\n",
       "      <td>-0.005007</td>\n",
       "      <td>1.000000</td>\n",
       "      <td>-0.338481</td>\n",
       "      <td>-0.077221</td>\n",
       "      <td>-0.035322</td>\n",
       "      <td>0.081629</td>\n",
       "      <td>0.257307</td>\n",
       "    </tr>\n",
       "    <tr>\n",
       "      <th>Pclass</th>\n",
       "      <td>-0.035144</td>\n",
       "      <td>-0.338481</td>\n",
       "      <td>1.000000</td>\n",
       "      <td>-0.369226</td>\n",
       "      <td>0.083081</td>\n",
       "      <td>0.018443</td>\n",
       "      <td>-0.549500</td>\n",
       "    </tr>\n",
       "    <tr>\n",
       "      <th>Age</th>\n",
       "      <td>0.036847</td>\n",
       "      <td>-0.077221</td>\n",
       "      <td>-0.369226</td>\n",
       "      <td>1.000000</td>\n",
       "      <td>-0.308247</td>\n",
       "      <td>-0.189119</td>\n",
       "      <td>0.096067</td>\n",
       "    </tr>\n",
       "    <tr>\n",
       "      <th>SibSp</th>\n",
       "      <td>-0.057527</td>\n",
       "      <td>-0.035322</td>\n",
       "      <td>0.083081</td>\n",
       "      <td>-0.308247</td>\n",
       "      <td>1.000000</td>\n",
       "      <td>0.414838</td>\n",
       "      <td>0.159651</td>\n",
       "    </tr>\n",
       "    <tr>\n",
       "      <th>Parch</th>\n",
       "      <td>-0.001652</td>\n",
       "      <td>0.081629</td>\n",
       "      <td>0.018443</td>\n",
       "      <td>-0.189119</td>\n",
       "      <td>0.414838</td>\n",
       "      <td>1.000000</td>\n",
       "      <td>0.216225</td>\n",
       "    </tr>\n",
       "    <tr>\n",
       "      <th>Fare</th>\n",
       "      <td>0.012658</td>\n",
       "      <td>0.257307</td>\n",
       "      <td>-0.549500</td>\n",
       "      <td>0.096067</td>\n",
       "      <td>0.159651</td>\n",
       "      <td>0.216225</td>\n",
       "      <td>1.000000</td>\n",
       "    </tr>\n",
       "  </tbody>\n",
       "</table>\n",
       "</div>"
      ],
      "text/plain": [
       "             PassengerId  Survived    Pclass       Age     SibSp     Parch  \\\n",
       "PassengerId     1.000000 -0.005007 -0.035144  0.036847 -0.057527 -0.001652   \n",
       "Survived       -0.005007  1.000000 -0.338481 -0.077221 -0.035322  0.081629   \n",
       "Pclass         -0.035144 -0.338481  1.000000 -0.369226  0.083081  0.018443   \n",
       "Age             0.036847 -0.077221 -0.369226  1.000000 -0.308247 -0.189119   \n",
       "SibSp          -0.057527 -0.035322  0.083081 -0.308247  1.000000  0.414838   \n",
       "Parch          -0.001652  0.081629  0.018443 -0.189119  0.414838  1.000000   \n",
       "Fare            0.012658  0.257307 -0.549500  0.096067  0.159651  0.216225   \n",
       "\n",
       "                 Fare  \n",
       "PassengerId  0.012658  \n",
       "Survived     0.257307  \n",
       "Pclass      -0.549500  \n",
       "Age          0.096067  \n",
       "SibSp        0.159651  \n",
       "Parch        0.216225  \n",
       "Fare         1.000000  "
      ]
     },
     "execution_count": 61,
     "metadata": {},
     "output_type": "execute_result"
    }
   ],
   "source": [
    "df_copy.corr()"
   ]
  },
  {
   "cell_type": "code",
   "execution_count": 62,
   "id": "d1b1d52c",
   "metadata": {
    "execution": {
     "iopub.execute_input": "2022-07-24T16:06:38.254847Z",
     "iopub.status.busy": "2022-07-24T16:06:38.254417Z",
     "iopub.status.idle": "2022-07-24T16:06:38.261241Z",
     "shell.execute_reply": "2022-07-24T16:06:38.259948Z"
    },
    "papermill": {
     "duration": 0.047389,
     "end_time": "2022-07-24T16:06:38.263772",
     "exception": false,
     "start_time": "2022-07-24T16:06:38.216383",
     "status": "completed"
    },
    "tags": []
   },
   "outputs": [],
   "source": [
    "corr=df_copy.corr()"
   ]
  },
  {
   "cell_type": "code",
   "execution_count": 63,
   "id": "a2464968",
   "metadata": {
    "execution": {
     "iopub.execute_input": "2022-07-24T16:06:38.335380Z",
     "iopub.status.busy": "2022-07-24T16:06:38.334869Z",
     "iopub.status.idle": "2022-07-24T16:06:38.689679Z",
     "shell.execute_reply": "2022-07-24T16:06:38.688415Z"
    },
    "papermill": {
     "duration": 0.39443,
     "end_time": "2022-07-24T16:06:38.692691",
     "exception": false,
     "start_time": "2022-07-24T16:06:38.298261",
     "status": "completed"
    },
    "tags": []
   },
   "outputs": [
    {
     "data": {
      "image/png": "[encoded data removed]",
      "text/plain": [
       "<Figure size 576x576 with 2 Axes>"
      ]
     },
     "metadata": {
      "needs_background": "light"
     },
     "output_type": "display_data"
    }
   ],
   "source": [
    "plt.figure(figsize=(8,8))\n",
    "plt.title('Correlation Analysis',color='Red',fontsize=20,pad=40)\n",
    "mask = np.triu(np.ones_like(corr, dtype = bool))\n",
    "sns.heatmap(df.corr(), mask=mask, annot=True, linewidths=.5);\n",
    "plt.xticks(rotation=60)\n",
    "plt.yticks(rotation = 60)\n",
    "plt.show()"
   ]
  },
  {
   "cell_type": "code",
   "execution_count": 64,
   "id": "9cb01842",
   "metadata": {
    "execution": {
     "iopub.execute_input": "2022-07-24T16:06:38.766043Z",
     "iopub.status.busy": "2022-07-24T16:06:38.765634Z",
     "iopub.status.idle": "2022-07-24T16:06:39.902373Z",
     "shell.execute_reply": "2022-07-24T16:06:39.901014Z"
    },
    "papermill": {
     "duration": 1.17729,
     "end_time": "2022-07-24T16:06:39.905237",
     "exception": false,
     "start_time": "2022-07-24T16:06:38.727947",
     "status": "completed"
    },
    "tags": []
   },
   "outputs": [
    {
     "data": {
      "image/png": "[encoded data removed]",
      "text/plain": [
       "<Figure size 1152x432 with 1 Axes>"
      ]
     },
     "metadata": {
      "needs_background": "light"
     },
     "output_type": "display_data"
    }
   ],
   "source": [
    "plt.figure(figsize=(16, 6))\n",
    "sns.barplot(x=df['Age'].value_counts().index, y=df['Age'].value_counts())\n",
    "plt.title('Age values')\n",
    "plt.xticks(rotation=90)\n",
    "plt.show()"
   ]
  },
  {
   "cell_type": "code",
   "execution_count": 65,
   "id": "18a5d46f",
   "metadata": {
    "execution": {
     "iopub.execute_input": "2022-07-24T16:06:39.980828Z",
     "iopub.status.busy": "2022-07-24T16:06:39.979579Z",
     "iopub.status.idle": "2022-07-24T16:06:40.234746Z",
     "shell.execute_reply": "2022-07-24T16:06:40.233520Z"
    },
    "papermill": {
     "duration": 0.29546,
     "end_time": "2022-07-24T16:06:40.237309",
     "exception": false,
     "start_time": "2022-07-24T16:06:39.941849",
     "status": "completed"
    },
    "tags": []
   },
   "outputs": [
    {
     "data": {
      "image/png": "[encoded data removed]",
      "text/plain": [
       "<Figure size 864x432 with 1 Axes>"
      ]
     },
     "metadata": {
      "needs_background": "light"
     },
     "output_type": "display_data"
    }
   ],
   "source": [
    "plt.figure(figsize=(12,6))\n",
    "sns.kdeplot(df[df['Sex']=='female']['Age'], color='purple', label='female')\n",
    "sns.kdeplot(df[df['Sex']=='male']['Age'], color='orange', label='male')\n",
    "plt.title('Ages by gender density')\n",
    "plt.xticks(rotation='vertical')\n",
    "plt.legend()\n",
    "plt.show()"
   ]
  }
 ],
 "metadata": {
  "kernelspec": {
   "display_name": "Python 3",
   "language": "python",
   "name": "python3"
  },
  "language_info": {
   "codemirror_mode": {
    "name": "ipython",
    "version": 3
   },
   "file_extension": ".py",
   "mimetype": "text/x-python",
   "name": "python",
   "nbconvert_exporter": "python",
   "pygments_lexer": "ipython3",
   "version": "3.7.12"
  },
  "papermill": {
   "default_parameters": {},
   "duration": 26.41513,
   "end_time": "2022-07-24T16:06:41.096016",
   "environment_variables": {},
   "exception": null,
   "input_path": "__notebook__.ipynb",
   "output_path": "__notebook__.ipynb",
   "parameters": {},
   "start_time": "2022-07-24T16:06:14.680886",
   "version": "2.3.4"
  }
 },
 "nbformat": 4,
 "nbformat_minor": 5
}
