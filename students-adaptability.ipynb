{
 "cells": [
  {
   "cell_type": "markdown",
   "id": "d28dbcff",
   "metadata": {
    "papermill": {
     "duration": 0.008098,
     "end_time": "2022-09-29T04:37:00.615201",
     "exception": false,
     "start_time": "2022-09-29T04:37:00.607103",
     "status": "completed"
    },
    "tags": []
   },
   "source": [
    "# import"
   ]
  },
  {
   "cell_type": "code",
   "execution_count": 1,
   "id": "6bfae37c",
   "metadata": {
    "_cell_guid": "b1076dfc-b9ad-4769-8c92-a6c4dae69d19",
    "_uuid": "8f2839f25d086af736a60e9eeb907d3b93b6e0e5",
    "execution": {
     "iopub.execute_input": "2022-09-29T04:37:00.628868Z",
     "iopub.status.busy": "2022-09-29T04:37:00.627868Z",
     "iopub.status.idle": "2022-09-29T04:37:07.559706Z",
     "shell.execute_reply": "2022-09-29T04:37:07.558774Z"
    },
    "papermill": {
     "duration": 6.940902,
     "end_time": "2022-09-29T04:37:07.562434",
     "exception": false,
     "start_time": "2022-09-29T04:37:00.621532",
     "status": "completed"
    },
    "tags": []
   },
   "outputs": [],
   "source": [
    "import pandas as pd\n",
    "import numpy as np\n",
    "import seaborn as sns\n",
    "import matplotlib.pyplot as plt\n",
    "plt.style.use(\"ggplot\")\n",
    "\n",
    "%matplotlib inline\n",
    "import plotly.graph_objects as go\n",
    "import plotly.express as px\n",
    "\n",
    "import tensorflow as tf\n",
    "from sklearn.model_selection import train_test_split"
   ]
  },
  {
   "cell_type": "markdown",
   "id": "cc3f1948",
   "metadata": {
    "papermill": {
     "duration": 0.004276,
     "end_time": "2022-09-29T04:37:07.571403",
     "exception": false,
     "start_time": "2022-09-29T04:37:07.567127",
     "status": "completed"
    },
    "tags": []
   },
   "source": [
    "# read data and understanding data"
   ]
  },
  {
   "cell_type": "code",
   "execution_count": 2,
   "id": "0a346599",
   "metadata": {
    "execution": {
     "iopub.execute_input": "2022-09-29T04:37:07.583332Z",
     "iopub.status.busy": "2022-09-29T04:37:07.581548Z",
     "iopub.status.idle": "2022-09-29T04:37:07.652620Z",
     "shell.execute_reply": "2022-09-29T04:37:07.651307Z"
    },
    "papermill": {
     "duration": 0.079177,
     "end_time": "2022-09-29T04:37:07.655033",
     "exception": false,
     "start_time": "2022-09-29T04:37:07.575856",
     "status": "completed"
    },
    "tags": []
   },
   "outputs": [
    {
     "data": {
      "text/html": [
       "<div>\n",
       "<style scoped>\n",
       "    .dataframe tbody tr th:only-of-type {\n",
       "        vertical-align: middle;\n",
       "    }\n",
       "\n",
       "    .dataframe tbody tr th {\n",
       "        vertical-align: top;\n",
       "    }\n",
       "\n",
       "    .dataframe thead th {\n",
       "        text-align: right;\n",
       "    }\n",
       "</style>\n",
       "<table border=\"1\" class=\"dataframe\">\n",
       "  <thead>\n",
       "    <tr style=\"text-align: right;\">\n",
       "      <th></th>\n",
       "      <th>Gender</th>\n",
       "      <th>Age</th>\n",
       "      <th>Education Level</th>\n",
       "      <th>Institution Type</th>\n",
       "      <th>IT Student</th>\n",
       "      <th>Location</th>\n",
       "      <th>Load-shedding</th>\n",
       "      <th>Financial Condition</th>\n",
       "      <th>Internet Type</th>\n",
       "      <th>Network Type</th>\n",
       "      <th>Class Duration</th>\n",
       "      <th>Self Lms</th>\n",
       "      <th>Device</th>\n",
       "      <th>Adaptivity Level</th>\n",
       "    </tr>\n",
       "  </thead>\n",
       "  <tbody>\n",
       "    <tr>\n",
       "      <th>176</th>\n",
       "      <td>Girl</td>\n",
       "      <td>11-15</td>\n",
       "      <td>School</td>\n",
       "      <td>Non Government</td>\n",
       "      <td>No</td>\n",
       "      <td>Yes</td>\n",
       "      <td>Low</td>\n",
       "      <td>Poor</td>\n",
       "      <td>Wifi</td>\n",
       "      <td>3G</td>\n",
       "      <td>1-3</td>\n",
       "      <td>No</td>\n",
       "      <td>Mobile</td>\n",
       "      <td>Moderate</td>\n",
       "    </tr>\n",
       "    <tr>\n",
       "      <th>128</th>\n",
       "      <td>Girl</td>\n",
       "      <td>11-15</td>\n",
       "      <td>School</td>\n",
       "      <td>Government</td>\n",
       "      <td>No</td>\n",
       "      <td>Yes</td>\n",
       "      <td>Low</td>\n",
       "      <td>Mid</td>\n",
       "      <td>Wifi</td>\n",
       "      <td>4G</td>\n",
       "      <td>1-3</td>\n",
       "      <td>No</td>\n",
       "      <td>Mobile</td>\n",
       "      <td>Low</td>\n",
       "    </tr>\n",
       "    <tr>\n",
       "      <th>720</th>\n",
       "      <td>Girl</td>\n",
       "      <td>1-5</td>\n",
       "      <td>School</td>\n",
       "      <td>Non Government</td>\n",
       "      <td>No</td>\n",
       "      <td>Yes</td>\n",
       "      <td>Low</td>\n",
       "      <td>Mid</td>\n",
       "      <td>Mobile Data</td>\n",
       "      <td>4G</td>\n",
       "      <td>1-3</td>\n",
       "      <td>No</td>\n",
       "      <td>Mobile</td>\n",
       "      <td>Moderate</td>\n",
       "    </tr>\n",
       "    <tr>\n",
       "      <th>131</th>\n",
       "      <td>Boy</td>\n",
       "      <td>21-25</td>\n",
       "      <td>University</td>\n",
       "      <td>Government</td>\n",
       "      <td>Yes</td>\n",
       "      <td>No</td>\n",
       "      <td>High</td>\n",
       "      <td>Mid</td>\n",
       "      <td>Mobile Data</td>\n",
       "      <td>3G</td>\n",
       "      <td>1-3</td>\n",
       "      <td>No</td>\n",
       "      <td>Mobile</td>\n",
       "      <td>Low</td>\n",
       "    </tr>\n",
       "  </tbody>\n",
       "</table>\n",
       "</div>"
      ],
      "text/plain": [
       "    Gender    Age Education Level Institution Type IT Student Location  \\\n",
       "176   Girl  11-15          School   Non Government         No      Yes   \n",
       "128   Girl  11-15          School       Government         No      Yes   \n",
       "720   Girl    1-5          School   Non Government         No      Yes   \n",
       "131    Boy  21-25      University       Government        Yes       No   \n",
       "\n",
       "    Load-shedding Financial Condition Internet Type Network Type  \\\n",
       "176           Low                Poor          Wifi           3G   \n",
       "128           Low                 Mid          Wifi           4G   \n",
       "720           Low                 Mid   Mobile Data           4G   \n",
       "131          High                 Mid   Mobile Data           3G   \n",
       "\n",
       "    Class Duration Self Lms  Device Adaptivity Level  \n",
       "176            1-3       No  Mobile         Moderate  \n",
       "128            1-3       No  Mobile              Low  \n",
       "720            1-3       No  Mobile         Moderate  \n",
       "131            1-3       No  Mobile              Low  "
      ]
     },
     "metadata": {},
     "output_type": "display_data"
    },
    {
     "name": "stdout",
     "output_type": "stream",
     "text": [
      "<class 'pandas.core.frame.DataFrame'>\n",
      "RangeIndex: 1205 entries, 0 to 1204\n",
      "Data columns (total 14 columns):\n",
      " #   Column               Non-Null Count  Dtype \n",
      "---  ------               --------------  ----- \n",
      " 0   Gender               1205 non-null   object\n",
      " 1   Age                  1205 non-null   object\n",
      " 2   Education Level      1205 non-null   object\n",
      " 3   Institution Type     1205 non-null   object\n",
      " 4   IT Student           1205 non-null   object\n",
      " 5   Location             1205 non-null   object\n",
      " 6   Load-shedding        1205 non-null   object\n",
      " 7   Financial Condition  1205 non-null   object\n",
      " 8   Internet Type        1205 non-null   object\n",
      " 9   Network Type         1205 non-null   object\n",
      " 10  Class Duration       1205 non-null   object\n",
      " 11  Self Lms             1205 non-null   object\n",
      " 12  Device               1205 non-null   object\n",
      " 13  Adaptivity Level     1205 non-null   object\n",
      "dtypes: object(14)\n",
      "memory usage: 131.9+ KB\n"
     ]
    },
    {
     "data": {
      "text/plain": [
       "None"
      ]
     },
     "metadata": {},
     "output_type": "display_data"
    },
    {
     "data": {
      "text/plain": [
       "(1205, 14)"
      ]
     },
     "metadata": {},
     "output_type": "display_data"
    }
   ],
   "source": [
    "data =pd.read_csv(\"../input/students-adaptability-level-in-online-education/students_adaptability_level_online_education.csv\")\n",
    "\n",
    "display(data.sample(4))\n",
    "display(data.info(),\n",
    "        data.shape)"
   ]
  },
  {
   "cell_type": "code",
   "execution_count": 3,
   "id": "e350b95d",
   "metadata": {
    "execution": {
     "iopub.execute_input": "2022-09-29T04:37:07.668954Z",
     "iopub.status.busy": "2022-09-29T04:37:07.666688Z",
     "iopub.status.idle": "2022-09-29T04:37:07.679378Z",
     "shell.execute_reply": "2022-09-29T04:37:07.678563Z"
    },
    "jupyter": {
     "source_hidden": true
    },
    "papermill": {
     "duration": 0.021283,
     "end_time": "2022-09-29T04:37:07.681590",
     "exception": false,
     "start_time": "2022-09-29T04:37:07.660307",
     "status": "completed"
    },
    "tags": []
   },
   "outputs": [
    {
     "data": {
      "text/plain": [
       "Gender                 0\n",
       "Age                    0\n",
       "Education Level        0\n",
       "Institution Type       0\n",
       "IT Student             0\n",
       "Location               0\n",
       "Load-shedding          0\n",
       "Financial Condition    0\n",
       "Internet Type          0\n",
       "Network Type           0\n",
       "Class Duration         0\n",
       "Self Lms               0\n",
       "Device                 0\n",
       "Adaptivity Level       0\n",
       "dtype: int64"
      ]
     },
     "execution_count": 3,
     "metadata": {},
     "output_type": "execute_result"
    }
   ],
   "source": [
    "data.isnull().sum()"
   ]
  },
  {
   "cell_type": "code",
   "execution_count": 4,
   "id": "2ce96d7f",
   "metadata": {
    "execution": {
     "iopub.execute_input": "2022-09-29T04:37:07.694359Z",
     "iopub.status.busy": "2022-09-29T04:37:07.693232Z",
     "iopub.status.idle": "2022-09-29T04:37:07.730038Z",
     "shell.execute_reply": "2022-09-29T04:37:07.728740Z"
    },
    "jupyter": {
     "source_hidden": true
    },
    "papermill": {
     "duration": 0.046014,
     "end_time": "2022-09-29T04:37:07.732822",
     "exception": false,
     "start_time": "2022-09-29T04:37:07.686808",
     "status": "completed"
    },
    "tags": []
   },
   "outputs": [
    {
     "data": {
      "text/html": [
       "<div>\n",
       "<style scoped>\n",
       "    .dataframe tbody tr th:only-of-type {\n",
       "        vertical-align: middle;\n",
       "    }\n",
       "\n",
       "    .dataframe tbody tr th {\n",
       "        vertical-align: top;\n",
       "    }\n",
       "\n",
       "    .dataframe thead th {\n",
       "        text-align: right;\n",
       "    }\n",
       "</style>\n",
       "<table border=\"1\" class=\"dataframe\">\n",
       "  <thead>\n",
       "    <tr style=\"text-align: right;\">\n",
       "      <th></th>\n",
       "      <th>Gender</th>\n",
       "      <th>Age</th>\n",
       "      <th>Education Level</th>\n",
       "      <th>Institution Type</th>\n",
       "      <th>IT Student</th>\n",
       "      <th>Location</th>\n",
       "      <th>Load-shedding</th>\n",
       "      <th>Financial Condition</th>\n",
       "      <th>Internet Type</th>\n",
       "      <th>Network Type</th>\n",
       "      <th>Class Duration</th>\n",
       "      <th>Self Lms</th>\n",
       "      <th>Device</th>\n",
       "      <th>Adaptivity Level</th>\n",
       "    </tr>\n",
       "  </thead>\n",
       "  <tbody>\n",
       "    <tr>\n",
       "      <th>count</th>\n",
       "      <td>1205</td>\n",
       "      <td>1205</td>\n",
       "      <td>1205</td>\n",
       "      <td>1205</td>\n",
       "      <td>1205</td>\n",
       "      <td>1205</td>\n",
       "      <td>1205</td>\n",
       "      <td>1205</td>\n",
       "      <td>1205</td>\n",
       "      <td>1205</td>\n",
       "      <td>1205</td>\n",
       "      <td>1205</td>\n",
       "      <td>1205</td>\n",
       "      <td>1205</td>\n",
       "    </tr>\n",
       "    <tr>\n",
       "      <th>unique</th>\n",
       "      <td>2</td>\n",
       "      <td>6</td>\n",
       "      <td>3</td>\n",
       "      <td>2</td>\n",
       "      <td>2</td>\n",
       "      <td>2</td>\n",
       "      <td>2</td>\n",
       "      <td>3</td>\n",
       "      <td>2</td>\n",
       "      <td>3</td>\n",
       "      <td>3</td>\n",
       "      <td>2</td>\n",
       "      <td>3</td>\n",
       "      <td>3</td>\n",
       "    </tr>\n",
       "    <tr>\n",
       "      <th>top</th>\n",
       "      <td>Boy</td>\n",
       "      <td>21-25</td>\n",
       "      <td>School</td>\n",
       "      <td>Non Government</td>\n",
       "      <td>No</td>\n",
       "      <td>Yes</td>\n",
       "      <td>Low</td>\n",
       "      <td>Mid</td>\n",
       "      <td>Mobile Data</td>\n",
       "      <td>4G</td>\n",
       "      <td>1-3</td>\n",
       "      <td>No</td>\n",
       "      <td>Mobile</td>\n",
       "      <td>Moderate</td>\n",
       "    </tr>\n",
       "    <tr>\n",
       "      <th>freq</th>\n",
       "      <td>663</td>\n",
       "      <td>374</td>\n",
       "      <td>530</td>\n",
       "      <td>823</td>\n",
       "      <td>901</td>\n",
       "      <td>935</td>\n",
       "      <td>1004</td>\n",
       "      <td>878</td>\n",
       "      <td>695</td>\n",
       "      <td>775</td>\n",
       "      <td>840</td>\n",
       "      <td>995</td>\n",
       "      <td>1013</td>\n",
       "      <td>625</td>\n",
       "    </tr>\n",
       "  </tbody>\n",
       "</table>\n",
       "</div>"
      ],
      "text/plain": [
       "       Gender    Age Education Level Institution Type IT Student Location  \\\n",
       "count    1205   1205            1205             1205       1205     1205   \n",
       "unique      2      6               3                2          2        2   \n",
       "top       Boy  21-25          School   Non Government         No      Yes   \n",
       "freq      663    374             530              823        901      935   \n",
       "\n",
       "       Load-shedding Financial Condition Internet Type Network Type  \\\n",
       "count           1205                1205          1205         1205   \n",
       "unique             2                   3             2            3   \n",
       "top              Low                 Mid   Mobile Data           4G   \n",
       "freq            1004                 878           695          775   \n",
       "\n",
       "       Class Duration Self Lms  Device Adaptivity Level  \n",
       "count            1205     1205    1205             1205  \n",
       "unique              3        2       3                3  \n",
       "top               1-3       No  Mobile         Moderate  \n",
       "freq              840      995    1013              625  "
      ]
     },
     "execution_count": 4,
     "metadata": {},
     "output_type": "execute_result"
    }
   ],
   "source": [
    "data.describe()"
   ]
  },
  {
   "cell_type": "markdown",
   "id": "7a8f1408",
   "metadata": {
    "papermill": {
     "duration": 0.005062,
     "end_time": "2022-09-29T04:37:07.743364",
     "exception": false,
     "start_time": "2022-09-29T04:37:07.738302",
     "status": "completed"
    },
    "tags": []
   },
   "source": [
    "# Visualization"
   ]
  },
  {
   "cell_type": "code",
   "execution_count": 5,
   "id": "72addb6c",
   "metadata": {
    "execution": {
     "iopub.execute_input": "2022-09-29T04:37:07.756328Z",
     "iopub.status.busy": "2022-09-29T04:37:07.755610Z",
     "iopub.status.idle": "2022-09-29T04:37:09.396432Z",
     "shell.execute_reply": "2022-09-29T04:37:09.395514Z"
    },
    "jupyter": {
     "source_hidden": true
    },
    "papermill": {
     "duration": 1.650042,
     "end_time": "2022-09-29T04:37:09.398851",
     "exception": false,
     "start_time": "2022-09-29T04:37:07.748809",
     "status": "completed"
    },
    "tags": []
   },
   "outputs": [
    {
     "name": "stderr",
     "output_type": "stream",
     "text": [
      "/opt/conda/lib/python3.7/site-packages/seaborn/_decorators.py:43: FutureWarning: Pass the following variable as a keyword arg: x. From version 0.12, the only valid positional argument will be `data`, and passing other arguments without an explicit keyword will result in an error or misinterpretation.\n",
      "  FutureWarning\n",
      "/opt/conda/lib/python3.7/site-packages/seaborn/_decorators.py:43: FutureWarning: Pass the following variable as a keyword arg: x. From version 0.12, the only valid positional argument will be `data`, and passing other arguments without an explicit keyword will result in an error or misinterpretation.\n",
      "  FutureWarning\n",
      "/opt/conda/lib/python3.7/site-packages/seaborn/_decorators.py:43: FutureWarning: Pass the following variable as a keyword arg: x. From version 0.12, the only valid positional argument will be `data`, and passing other arguments without an explicit keyword will result in an error or misinterpretation.\n",
      "  FutureWarning\n",
      "/opt/conda/lib/python3.7/site-packages/seaborn/_decorators.py:43: FutureWarning: Pass the following variable as a keyword arg: x. From version 0.12, the only valid positional argument will be `data`, and passing other arguments without an explicit keyword will result in an error or misinterpretation.\n",
      "  FutureWarning\n",
      "/opt/conda/lib/python3.7/site-packages/seaborn/_decorators.py:43: FutureWarning: Pass the following variable as a keyword arg: x. From version 0.12, the only valid positional argument will be `data`, and passing other arguments without an explicit keyword will result in an error or misinterpretation.\n",
      "  FutureWarning\n"
     ]
    },
    {
     "data": {
      "text/plain": [
       "<AxesSubplot:xlabel='Network Type', ylabel='count'>"
      ]
     },
     "execution_count": 5,
     "metadata": {},
     "output_type": "execute_result"
    },
    {
     "data": {
      "image/png": "[encoded data removed]",
      "text/plain": [
       "<Figure size 1800x1440 with 4 Axes>"
      ]
     },
     "metadata": {
      "needs_background": "light"
     },
     "output_type": "display_data"
    },
    {
     "data": {
      "image/png": "[encoded data removed]",
      "text/plain": [
       "<Figure size 1800x1440 with 4 Axes>"
      ]
     },
     "metadata": {
      "needs_background": "light"
     },
     "output_type": "display_data"
    }
   ],
   "source": [
    "fig1 ,ax =plt.subplots(2,2,figsize=(25,20))\n",
    "\n",
    "data['Adaptivity Level'].value_counts().plot.pie(autopct='%1.1f%%',shadow=True,ax=ax[0][0])\n",
    "data['Gender'].value_counts().plot.pie(autopct='%1.1f%%',shadow=True,ax=ax[0][1])\n",
    "data['Device'].value_counts().plot.pie(autopct='%1.1f%%',shadow=True,ax=ax[1][0])\n",
    "sns.countplot(data[\"Network Type\"],hue=data[\"Adaptivity Level\"],ax=ax[1][1])\n",
    "fig2 ,ax =plt.subplots(2,2,figsize=(25,20))\n",
    "sns.countplot(data[\"Institution Type\"],hue=data[\"Adaptivity Level\"],ax=ax[0][0])\n",
    "sns.countplot(data[\"Financial Condition\"],hue=data[\"Adaptivity Level\"],ax=ax[0][1])\n",
    "sns.countplot(data[\"Gender\"],hue=data[\"Adaptivity Level\"],ax=ax[1][0])\n",
    "sns.countplot(data[\"Network Type\"],hue=data[\"Adaptivity Level\"],ax=ax[1][1])"
   ]
  },
  {
   "cell_type": "markdown",
   "id": "f03c91e9",
   "metadata": {
    "papermill": {
     "duration": 0.00725,
     "end_time": "2022-09-29T04:37:09.414084",
     "exception": false,
     "start_time": "2022-09-29T04:37:09.406834",
     "status": "completed"
    },
    "tags": []
   },
   "source": [
    "# preprocessing"
   ]
  },
  {
   "cell_type": "code",
   "execution_count": 6,
   "id": "dcc5efde",
   "metadata": {
    "execution": {
     "iopub.execute_input": "2022-09-29T04:37:09.431251Z",
     "iopub.status.busy": "2022-09-29T04:37:09.430571Z",
     "iopub.status.idle": "2022-09-29T04:37:09.474427Z",
     "shell.execute_reply": "2022-09-29T04:37:09.473200Z"
    },
    "papermill": {
     "duration": 0.055341,
     "end_time": "2022-09-29T04:37:09.476866",
     "exception": false,
     "start_time": "2022-09-29T04:37:09.421525",
     "status": "completed"
    },
    "tags": []
   },
   "outputs": [
    {
     "name": "stderr",
     "output_type": "stream",
     "text": [
      "/opt/conda/lib/python3.7/site-packages/ipykernel_launcher.py:13: SettingWithCopyWarning: \n",
      "A value is trying to be set on a copy of a slice from a DataFrame.\n",
      "Try using .loc[row_indexer,col_indexer] = value instead\n",
      "\n",
      "See the caveats in the documentation: https://pandas.pydata.org/pandas-docs/stable/user_guide/indexing.html#returning-a-view-versus-a-copy\n",
      "  del sys.path[0]\n"
     ]
    }
   ],
   "source": [
    "def gethowmanyclass(col:list, data:pd.DataFrame) -> dict:\n",
    "    return {i : [list(data[i].unique()),len(list(data[i].unique()))] for i in col}\n",
    "\n",
    "def valeqno(dictob:dict, no:int) -> list:\n",
    "    r = [i for i in range(len(list(dictob.values()))) if list(dictob.values())[i][1] == no]\n",
    "    return [list(dictob.keys())[i] for i in range(len(list(dictob.keys()))) if i in r]\n",
    "\n",
    "def encoding(col:list, data:pd.DataFrame) -> pd.DataFrame:\n",
    "    new = data[col]\n",
    "    for i in col:\n",
    "        item = list(new[i].unique())\n",
    "        for m in range(len(item)):\n",
    "            new[i] = new[i].replace(item[m],m)\n",
    "    data = new\n",
    "    return data\n",
    "\n",
    "s = gethowmanyclass(list(data.columns),\n",
    "                data)\n",
    "valeqno(s, 2)\n",
    "data2 = data.drop('Adaptivity Level',axis=1)\n",
    "data2 = encoding(list(data2.columns), data)\n",
    "data['Adaptivity Level'] = data['Adaptivity Level'].replace(['Low','Moderate','High'],[0,1,2])"
   ]
  },
  {
   "cell_type": "code",
   "execution_count": 7,
   "id": "f83670fe",
   "metadata": {
    "execution": {
     "iopub.execute_input": "2022-09-29T04:37:09.494505Z",
     "iopub.status.busy": "2022-09-29T04:37:09.494131Z",
     "iopub.status.idle": "2022-09-29T04:37:09.517874Z",
     "shell.execute_reply": "2022-09-29T04:37:09.516869Z"
    },
    "papermill": {
     "duration": 0.035476,
     "end_time": "2022-09-29T04:37:09.520394",
     "exception": false,
     "start_time": "2022-09-29T04:37:09.484918",
     "status": "completed"
    },
    "tags": []
   },
   "outputs": [
    {
     "data": {
      "text/html": [
       "<div>\n",
       "<style scoped>\n",
       "    .dataframe tbody tr th:only-of-type {\n",
       "        vertical-align: middle;\n",
       "    }\n",
       "\n",
       "    .dataframe tbody tr th {\n",
       "        vertical-align: top;\n",
       "    }\n",
       "\n",
       "    .dataframe thead th {\n",
       "        text-align: right;\n",
       "    }\n",
       "</style>\n",
       "<table border=\"1\" class=\"dataframe\">\n",
       "  <thead>\n",
       "    <tr style=\"text-align: right;\">\n",
       "      <th></th>\n",
       "      <th>Gender</th>\n",
       "      <th>Age</th>\n",
       "      <th>Education Level</th>\n",
       "      <th>Institution Type</th>\n",
       "      <th>IT Student</th>\n",
       "      <th>Location</th>\n",
       "      <th>Load-shedding</th>\n",
       "      <th>Financial Condition</th>\n",
       "      <th>Internet Type</th>\n",
       "      <th>Network Type</th>\n",
       "      <th>Class Duration</th>\n",
       "      <th>Self Lms</th>\n",
       "      <th>Device</th>\n",
       "      <th>Adaptivity Level</th>\n",
       "    </tr>\n",
       "  </thead>\n",
       "  <tbody>\n",
       "    <tr>\n",
       "      <th>0</th>\n",
       "      <td>0</td>\n",
       "      <td>0</td>\n",
       "      <td>0</td>\n",
       "      <td>0</td>\n",
       "      <td>0</td>\n",
       "      <td>0</td>\n",
       "      <td>0</td>\n",
       "      <td>0</td>\n",
       "      <td>0</td>\n",
       "      <td>0</td>\n",
       "      <td>0</td>\n",
       "      <td>0</td>\n",
       "      <td>0</td>\n",
       "      <td>1</td>\n",
       "    </tr>\n",
       "    <tr>\n",
       "      <th>1</th>\n",
       "      <td>1</td>\n",
       "      <td>0</td>\n",
       "      <td>0</td>\n",
       "      <td>0</td>\n",
       "      <td>0</td>\n",
       "      <td>0</td>\n",
       "      <td>1</td>\n",
       "      <td>0</td>\n",
       "      <td>1</td>\n",
       "      <td>0</td>\n",
       "      <td>1</td>\n",
       "      <td>1</td>\n",
       "      <td>1</td>\n",
       "      <td>1</td>\n",
       "    </tr>\n",
       "    <tr>\n",
       "      <th>2</th>\n",
       "      <td>1</td>\n",
       "      <td>1</td>\n",
       "      <td>1</td>\n",
       "      <td>1</td>\n",
       "      <td>0</td>\n",
       "      <td>0</td>\n",
       "      <td>0</td>\n",
       "      <td>0</td>\n",
       "      <td>0</td>\n",
       "      <td>0</td>\n",
       "      <td>1</td>\n",
       "      <td>0</td>\n",
       "      <td>1</td>\n",
       "      <td>1</td>\n",
       "    </tr>\n",
       "    <tr>\n",
       "      <th>3</th>\n",
       "      <td>1</td>\n",
       "      <td>2</td>\n",
       "      <td>2</td>\n",
       "      <td>0</td>\n",
       "      <td>0</td>\n",
       "      <td>0</td>\n",
       "      <td>0</td>\n",
       "      <td>0</td>\n",
       "      <td>1</td>\n",
       "      <td>0</td>\n",
       "      <td>1</td>\n",
       "      <td>0</td>\n",
       "      <td>1</td>\n",
       "      <td>1</td>\n",
       "    </tr>\n",
       "    <tr>\n",
       "      <th>4</th>\n",
       "      <td>1</td>\n",
       "      <td>1</td>\n",
       "      <td>2</td>\n",
       "      <td>0</td>\n",
       "      <td>0</td>\n",
       "      <td>0</td>\n",
       "      <td>0</td>\n",
       "      <td>1</td>\n",
       "      <td>1</td>\n",
       "      <td>1</td>\n",
       "      <td>2</td>\n",
       "      <td>0</td>\n",
       "      <td>1</td>\n",
       "      <td>0</td>\n",
       "    </tr>\n",
       "    <tr>\n",
       "      <th>...</th>\n",
       "      <td>...</td>\n",
       "      <td>...</td>\n",
       "      <td>...</td>\n",
       "      <td>...</td>\n",
       "      <td>...</td>\n",
       "      <td>...</td>\n",
       "      <td>...</td>\n",
       "      <td>...</td>\n",
       "      <td>...</td>\n",
       "      <td>...</td>\n",
       "      <td>...</td>\n",
       "      <td>...</td>\n",
       "      <td>...</td>\n",
       "      <td>...</td>\n",
       "    </tr>\n",
       "    <tr>\n",
       "      <th>1200</th>\n",
       "      <td>1</td>\n",
       "      <td>1</td>\n",
       "      <td>1</td>\n",
       "      <td>0</td>\n",
       "      <td>0</td>\n",
       "      <td>0</td>\n",
       "      <td>0</td>\n",
       "      <td>0</td>\n",
       "      <td>0</td>\n",
       "      <td>0</td>\n",
       "      <td>1</td>\n",
       "      <td>0</td>\n",
       "      <td>1</td>\n",
       "      <td>0</td>\n",
       "    </tr>\n",
       "    <tr>\n",
       "      <th>1201</th>\n",
       "      <td>1</td>\n",
       "      <td>1</td>\n",
       "      <td>1</td>\n",
       "      <td>0</td>\n",
       "      <td>0</td>\n",
       "      <td>1</td>\n",
       "      <td>1</td>\n",
       "      <td>0</td>\n",
       "      <td>0</td>\n",
       "      <td>0</td>\n",
       "      <td>0</td>\n",
       "      <td>0</td>\n",
       "      <td>1</td>\n",
       "      <td>1</td>\n",
       "    </tr>\n",
       "    <tr>\n",
       "      <th>1202</th>\n",
       "      <td>0</td>\n",
       "      <td>2</td>\n",
       "      <td>2</td>\n",
       "      <td>0</td>\n",
       "      <td>0</td>\n",
       "      <td>0</td>\n",
       "      <td>0</td>\n",
       "      <td>0</td>\n",
       "      <td>1</td>\n",
       "      <td>1</td>\n",
       "      <td>1</td>\n",
       "      <td>0</td>\n",
       "      <td>1</td>\n",
       "      <td>1</td>\n",
       "    </tr>\n",
       "    <tr>\n",
       "      <th>1203</th>\n",
       "      <td>1</td>\n",
       "      <td>1</td>\n",
       "      <td>1</td>\n",
       "      <td>0</td>\n",
       "      <td>0</td>\n",
       "      <td>1</td>\n",
       "      <td>0</td>\n",
       "      <td>0</td>\n",
       "      <td>0</td>\n",
       "      <td>0</td>\n",
       "      <td>1</td>\n",
       "      <td>0</td>\n",
       "      <td>1</td>\n",
       "      <td>0</td>\n",
       "    </tr>\n",
       "    <tr>\n",
       "      <th>1204</th>\n",
       "      <td>1</td>\n",
       "      <td>2</td>\n",
       "      <td>2</td>\n",
       "      <td>0</td>\n",
       "      <td>0</td>\n",
       "      <td>0</td>\n",
       "      <td>0</td>\n",
       "      <td>1</td>\n",
       "      <td>1</td>\n",
       "      <td>1</td>\n",
       "      <td>1</td>\n",
       "      <td>0</td>\n",
       "      <td>1</td>\n",
       "      <td>1</td>\n",
       "    </tr>\n",
       "  </tbody>\n",
       "</table>\n",
       "<p>1205 rows × 14 columns</p>\n",
       "</div>"
      ],
      "text/plain": [
       "      Gender  Age  Education Level  Institution Type  IT Student  Location  \\\n",
       "0          0    0                0                 0           0         0   \n",
       "1          1    0                0                 0           0         0   \n",
       "2          1    1                1                 1           0         0   \n",
       "3          1    2                2                 0           0         0   \n",
       "4          1    1                2                 0           0         0   \n",
       "...      ...  ...              ...               ...         ...       ...   \n",
       "1200       1    1                1                 0           0         0   \n",
       "1201       1    1                1                 0           0         1   \n",
       "1202       0    2                2                 0           0         0   \n",
       "1203       1    1                1                 0           0         1   \n",
       "1204       1    2                2                 0           0         0   \n",
       "\n",
       "      Load-shedding  Financial Condition  Internet Type  Network Type  \\\n",
       "0                 0                    0              0             0   \n",
       "1                 1                    0              1             0   \n",
       "2                 0                    0              0             0   \n",
       "3                 0                    0              1             0   \n",
       "4                 0                    1              1             1   \n",
       "...             ...                  ...            ...           ...   \n",
       "1200              0                    0              0             0   \n",
       "1201              1                    0              0             0   \n",
       "1202              0                    0              1             1   \n",
       "1203              0                    0              0             0   \n",
       "1204              0                    1              1             1   \n",
       "\n",
       "      Class Duration  Self Lms  Device  Adaptivity Level  \n",
       "0                  0         0       0                 1  \n",
       "1                  1         1       1                 1  \n",
       "2                  1         0       1                 1  \n",
       "3                  1         0       1                 1  \n",
       "4                  2         0       1                 0  \n",
       "...              ...       ...     ...               ...  \n",
       "1200               1         0       1                 0  \n",
       "1201               0         0       1                 1  \n",
       "1202               1         0       1                 1  \n",
       "1203               1         0       1                 0  \n",
       "1204               1         0       1                 1  \n",
       "\n",
       "[1205 rows x 14 columns]"
      ]
     },
     "execution_count": 7,
     "metadata": {},
     "output_type": "execute_result"
    }
   ],
   "source": [
    "data[list(data2.columns)] = data2\n",
    "data"
   ]
  },
  {
   "cell_type": "markdown",
   "id": "0488601a",
   "metadata": {
    "papermill": {
     "duration": 0.007898,
     "end_time": "2022-09-29T04:37:09.536494",
     "exception": false,
     "start_time": "2022-09-29T04:37:09.528596",
     "status": "completed"
    },
    "tags": []
   },
   "source": [
    "# split data and scaling"
   ]
  },
  {
   "cell_type": "code",
   "execution_count": 8,
   "id": "c38cf01a",
   "metadata": {
    "execution": {
     "iopub.execute_input": "2022-09-29T04:37:09.554562Z",
     "iopub.status.busy": "2022-09-29T04:37:09.554197Z",
     "iopub.status.idle": "2022-09-29T04:37:09.566658Z",
     "shell.execute_reply": "2022-09-29T04:37:09.565770Z"
    },
    "papermill": {
     "duration": 0.024582,
     "end_time": "2022-09-29T04:37:09.569119",
     "exception": false,
     "start_time": "2022-09-29T04:37:09.544537",
     "status": "completed"
    },
    "tags": []
   },
   "outputs": [],
   "source": [
    "X = data.drop(columns=\"Adaptivity Level\")           \n",
    "y = data[\"Adaptivity Level\"]\n",
    "\n",
    "X_train, X_test, y_train, y_test = train_test_split(X, y, test_size=0.25, random_state=42)\n",
    "\n",
    "max_ = X_train.max(axis=0)\n",
    "min_ = X_train.min(axis=0)\n",
    "\n",
    "df_train = (X_train - min_) / (max_ - min_)\n",
    "df_valid = (X_test - min_) / (max_ - min_)"
   ]
  },
  {
   "cell_type": "markdown",
   "id": "31cf1e9a",
   "metadata": {
    "papermill": {
     "duration": 0.007866,
     "end_time": "2022-09-29T04:37:09.585255",
     "exception": false,
     "start_time": "2022-09-29T04:37:09.577389",
     "status": "completed"
    },
    "tags": []
   },
   "source": [
    "# deep learning module"
   ]
  },
  {
   "cell_type": "code",
   "execution_count": 9,
   "id": "af1d5492",
   "metadata": {
    "execution": {
     "iopub.execute_input": "2022-09-29T04:37:09.604187Z",
     "iopub.status.busy": "2022-09-29T04:37:09.603801Z",
     "iopub.status.idle": "2022-09-29T04:37:18.068616Z",
     "shell.execute_reply": "2022-09-29T04:37:18.067449Z"
    },
    "papermill": {
     "duration": 8.476719,
     "end_time": "2022-09-29T04:37:18.071072",
     "exception": false,
     "start_time": "2022-09-29T04:37:09.594353",
     "status": "completed"
    },
    "tags": []
   },
   "outputs": [
    {
     "name": "stderr",
     "output_type": "stream",
     "text": [
      "2022-09-29 04:37:10.614468: I tensorflow/core/common_runtime/process_util.cc:146] Creating new thread pool with default inter op setting: 2. Tune using inter_op_parallelism_threads for best performance.\n",
      "2022-09-29 04:37:10.822222: I tensorflow/compiler/mlir/mlir_graph_optimization_pass.cc:185] None of the MLIR Optimization Passes are enabled (registered 2)\n"
     ]
    },
    {
     "name": "stdout",
     "output_type": "stream",
     "text": [
      "Epoch 1/50\n",
      "29/29 [==============================] - 2s 3ms/step - loss: 1.0016 - accuracy: 0.5792\n",
      "Epoch 2/50\n",
      "29/29 [==============================] - 0s 3ms/step - loss: 0.8025 - accuracy: 0.6700\n",
      "Epoch 3/50\n",
      "29/29 [==============================] - 0s 3ms/step - loss: 0.7199 - accuracy: 0.7198\n",
      "Epoch 4/50\n",
      "29/29 [==============================] - 0s 3ms/step - loss: 0.6868 - accuracy: 0.7187\n",
      "Epoch 5/50\n",
      "29/29 [==============================] - 0s 3ms/step - loss: 0.6566 - accuracy: 0.7287\n",
      "Epoch 6/50\n",
      "29/29 [==============================] - 0s 3ms/step - loss: 0.6237 - accuracy: 0.7276\n",
      "Epoch 7/50\n",
      "29/29 [==============================] - 0s 3ms/step - loss: 0.6014 - accuracy: 0.7386\n",
      "Epoch 8/50\n",
      "29/29 [==============================] - 0s 3ms/step - loss: 0.5743 - accuracy: 0.7630\n",
      "Epoch 9/50\n",
      "29/29 [==============================] - 0s 3ms/step - loss: 0.5597 - accuracy: 0.7663\n",
      "Epoch 10/50\n",
      "29/29 [==============================] - 0s 3ms/step - loss: 0.5500 - accuracy: 0.7553\n",
      "Epoch 11/50\n",
      "29/29 [==============================] - 0s 3ms/step - loss: 0.5350 - accuracy: 0.7641\n",
      "Epoch 12/50\n",
      "29/29 [==============================] - 0s 3ms/step - loss: 0.5317 - accuracy: 0.7663\n",
      "Epoch 13/50\n",
      "29/29 [==============================] - 0s 3ms/step - loss: 0.5041 - accuracy: 0.7730\n",
      "Epoch 14/50\n",
      "29/29 [==============================] - 0s 3ms/step - loss: 0.4965 - accuracy: 0.7818\n",
      "Epoch 15/50\n",
      "29/29 [==============================] - 0s 3ms/step - loss: 0.5084 - accuracy: 0.7896\n",
      "Epoch 16/50\n",
      "29/29 [==============================] - 0s 3ms/step - loss: 0.5008 - accuracy: 0.7818\n",
      "Epoch 17/50\n",
      "29/29 [==============================] - 0s 3ms/step - loss: 0.4731 - accuracy: 0.8095\n",
      "Epoch 18/50\n",
      "29/29 [==============================] - 0s 3ms/step - loss: 0.4805 - accuracy: 0.7852\n",
      "Epoch 19/50\n",
      "29/29 [==============================] - 0s 3ms/step - loss: 0.4644 - accuracy: 0.8018\n",
      "Epoch 20/50\n",
      "29/29 [==============================] - 0s 3ms/step - loss: 0.4566 - accuracy: 0.8018\n",
      "Epoch 21/50\n",
      "29/29 [==============================] - 0s 3ms/step - loss: 0.4646 - accuracy: 0.8029\n",
      "Epoch 22/50\n",
      "29/29 [==============================] - 0s 3ms/step - loss: 0.4366 - accuracy: 0.8372\n",
      "Epoch 23/50\n",
      "29/29 [==============================] - 0s 4ms/step - loss: 0.4348 - accuracy: 0.8206\n",
      "Epoch 24/50\n",
      "29/29 [==============================] - 0s 3ms/step - loss: 0.4273 - accuracy: 0.8217\n",
      "Epoch 25/50\n",
      "29/29 [==============================] - 0s 3ms/step - loss: 0.4458 - accuracy: 0.8084\n",
      "Epoch 26/50\n",
      "29/29 [==============================] - 0s 3ms/step - loss: 0.4106 - accuracy: 0.8173\n",
      "Epoch 27/50\n",
      "29/29 [==============================] - 0s 3ms/step - loss: 0.4075 - accuracy: 0.8272\n",
      "Epoch 28/50\n",
      "29/29 [==============================] - 0s 3ms/step - loss: 0.3920 - accuracy: 0.8328\n",
      "Epoch 29/50\n",
      "29/29 [==============================] - 0s 3ms/step - loss: 0.4028 - accuracy: 0.8350\n",
      "Epoch 30/50\n",
      "29/29 [==============================] - 0s 3ms/step - loss: 0.3993 - accuracy: 0.8317\n",
      "Epoch 31/50\n",
      "29/29 [==============================] - 0s 3ms/step - loss: 0.3844 - accuracy: 0.8416\n",
      "Epoch 32/50\n",
      "29/29 [==============================] - 0s 3ms/step - loss: 0.3961 - accuracy: 0.8372\n",
      "Epoch 33/50\n",
      "29/29 [==============================] - 0s 3ms/step - loss: 0.3934 - accuracy: 0.8439\n",
      "Epoch 34/50\n",
      "29/29 [==============================] - 0s 3ms/step - loss: 0.3794 - accuracy: 0.8394\n",
      "Epoch 35/50\n",
      "29/29 [==============================] - 0s 3ms/step - loss: 0.3844 - accuracy: 0.8317\n",
      "Epoch 36/50\n",
      "29/29 [==============================] - 0s 3ms/step - loss: 0.3765 - accuracy: 0.8483\n",
      "Epoch 37/50\n",
      "29/29 [==============================] - 0s 3ms/step - loss: 0.3742 - accuracy: 0.8416\n",
      "Epoch 38/50\n",
      "29/29 [==============================] - 0s 3ms/step - loss: 0.3626 - accuracy: 0.8483\n",
      "Epoch 39/50\n",
      "29/29 [==============================] - 0s 3ms/step - loss: 0.3534 - accuracy: 0.8505\n",
      "Epoch 40/50\n",
      "29/29 [==============================] - 0s 3ms/step - loss: 0.3741 - accuracy: 0.8560\n",
      "Epoch 41/50\n",
      "29/29 [==============================] - 0s 3ms/step - loss: 0.3715 - accuracy: 0.8372\n",
      "Epoch 42/50\n",
      "29/29 [==============================] - 0s 3ms/step - loss: 0.3693 - accuracy: 0.8605\n",
      "Epoch 43/50\n",
      "29/29 [==============================] - 0s 3ms/step - loss: 0.3384 - accuracy: 0.8715\n",
      "Epoch 44/50\n",
      "29/29 [==============================] - 0s 3ms/step - loss: 0.3658 - accuracy: 0.8638\n",
      "Epoch 45/50\n",
      "29/29 [==============================] - 0s 3ms/step - loss: 0.3437 - accuracy: 0.8472\n",
      "Epoch 46/50\n",
      "29/29 [==============================] - 0s 3ms/step - loss: 0.3445 - accuracy: 0.8671\n",
      "Epoch 47/50\n",
      "29/29 [==============================] - 0s 3ms/step - loss: 0.3384 - accuracy: 0.8594\n",
      "Epoch 48/50\n",
      "29/29 [==============================] - 0s 3ms/step - loss: 0.3278 - accuracy: 0.8638\n",
      "Epoch 49/50\n",
      "29/29 [==============================] - 0s 3ms/step - loss: 0.3533 - accuracy: 0.8483\n",
      "Epoch 50/50\n",
      "29/29 [==============================] - 0s 3ms/step - loss: 0.3357 - accuracy: 0.8682\n"
     ]
    },
    {
     "data": {
      "text/plain": [
       "<keras.callbacks.History at 0x7fa49ab2f690>"
      ]
     },
     "execution_count": 9,
     "metadata": {},
     "output_type": "execute_result"
    }
   ],
   "source": [
    "model = tf.keras.models.Sequential([\n",
    "    tf.keras.layers.InputLayer(input_shape = df_train.shape[1:]),\n",
    "    tf.keras.layers.BatchNormalization(),\n",
    "    tf.keras.layers.Dense(100 , activation = 'selu',kernel_initializer = 'lecun_normal'),\n",
    "    tf.keras.layers.BatchNormalization(),\n",
    "    tf.keras.layers.Dense(100 , activation = 'selu' , kernel_initializer = 'lecun_normal'),\n",
    "    tf.keras.layers.BatchNormalization(),\n",
    "    tf.keras.layers.Dense(3 , activation = 'softmax')\n",
    "])\n",
    "\n",
    "model.compile(loss = tf.keras.losses.sparse_categorical_crossentropy ,\n",
    "              optimizer = tf.keras.optimizers.Nadam() ,\n",
    "              metrics = ['accuracy'])\n",
    "\n",
    "model.fit(df_train , y_train , epochs = 50 ,\n",
    "          callbacks = [tf.keras.callbacks.EarlyStopping(\n",
    "              monitor='loss' ,mode = 'min', patience = 5\n",
    "          )])"
   ]
  },
  {
   "cell_type": "markdown",
   "id": "ce7292f2",
   "metadata": {
    "papermill": {
     "duration": 0.017296,
     "end_time": "2022-09-29T04:37:18.105986",
     "exception": false,
     "start_time": "2022-09-29T04:37:18.088690",
     "status": "completed"
    },
    "tags": []
   },
   "source": [
    "# evaluate"
   ]
  },
  {
   "cell_type": "code",
   "execution_count": 10,
   "id": "b3600c2a",
   "metadata": {
    "execution": {
     "iopub.execute_input": "2022-09-29T04:37:18.142973Z",
     "iopub.status.busy": "2022-09-29T04:37:18.142220Z",
     "iopub.status.idle": "2022-09-29T04:37:18.462376Z",
     "shell.execute_reply": "2022-09-29T04:37:18.460924Z"
    },
    "papermill": {
     "duration": 0.341413,
     "end_time": "2022-09-29T04:37:18.464878",
     "exception": false,
     "start_time": "2022-09-29T04:37:18.123465",
     "status": "completed"
    },
    "tags": []
   },
   "outputs": [
    {
     "name": "stdout",
     "output_type": "stream",
     "text": [
      "10/10 [==============================] - 0s 2ms/step - loss: 0.4808 - accuracy: 0.8212\n",
      "The Score TF model : 0.8211920261383057\n"
     ]
    }
   ],
   "source": [
    "a , score = model.evaluate(df_valid , y_test)\n",
    "\n",
    "print(\"The Score TF model :\",score)"
   ]
  },
  {
   "cell_type": "markdown",
   "id": "4502a506",
   "metadata": {
    "papermill": {
     "duration": 0.017415,
     "end_time": "2022-09-29T04:37:18.500032",
     "exception": false,
     "start_time": "2022-09-29T04:37:18.482617",
     "status": "completed"
    },
    "tags": []
   },
   "source": [
    "> # try same model with standerdscaler and show me res plz "
   ]
  }
 ],
 "metadata": {
  "kernelspec": {
   "display_name": "Python 3",
   "language": "python",
   "name": "python3"
  },
  "language_info": {
   "codemirror_mode": {
    "name": "ipython",
    "version": 3
   },
   "file_extension": ".py",
   "mimetype": "text/x-python",
   "name": "python",
   "nbconvert_exporter": "python",
   "pygments_lexer": "ipython3",
   "version": "3.7.12"
  },
  "papermill": {
   "default_parameters": {},
   "duration": 30.136644,
   "end_time": "2022-09-29T04:37:22.003856",
   "environment_variables": {},
   "exception": null,
   "input_path": "__notebook__.ipynb",
   "output_path": "__notebook__.ipynb",
   "parameters": {},
   "start_time": "2022-09-29T04:36:51.867212",
   "version": "2.3.4"
  }
 },
 "nbformat": 4,
 "nbformat_minor": 5
}
