{
 "cells": [
  {
   "cell_type": "markdown",
   "id": "83bc2014",
   "metadata": {
    "button": false,
    "new_sheet": false,
    "papermill": {
     "duration": 0.021743,
     "end_time": "2022-10-22T13:56:02.922258",
     "exception": false,
     "start_time": "2022-10-22T13:56:02.900515",
     "status": "completed"
    },
    "run_control": {
     "read_only": false
    },
    "tags": []
   },
   "source": [
    "<p style=\"text-align:center\">\n",
    "    <a href=\"https://skills.network/?utm_medium=Exinfluencer&utm_source=Exinfluencer&utm_content=000026UJ&utm_term=10006555&utm_id=NA-SkillsNetwork-Channel-SkillsNetworkCoursesIBMDeveloperSkillsNetworkML0101ENSkillsNetwork20718538-2022-01-01\" target=\"_blank\">\n",
    "    <img src=\"https://cf-courses-data.s3.us.cloud-object-storage.appdomain.cloud/assets/logos/SN_web_lightmode.png\" width=\"200\" alt=\"Skills Network Logo\"  />\n",
    "    </a>\n",
    "</p>\n",
    "\n",
    "<h1 align=\"center\"><font size=\"5\">Classification with Python</font></h1>\n"
   ]
  },
  {
   "cell_type": "markdown",
   "id": "2227bbfb",
   "metadata": {
    "button": false,
    "new_sheet": false,
    "papermill": {
     "duration": 0.017606,
     "end_time": "2022-10-22T13:56:02.957170",
     "exception": false,
     "start_time": "2022-10-22T13:56:02.939564",
     "status": "completed"
    },
    "run_control": {
     "read_only": false
    },
    "tags": []
   },
   "source": [
    "In this notebook we try to practice all the classification algorithms that we have learned in this course.\n",
    "\n",
    "We load a dataset using Pandas library, and apply the following algorithms, and find the best one for this specific dataset by accuracy evaluation methods.\n",
    "\n",
    "Let's first load required libraries:\n"
   ]
  },
  {
   "cell_type": "code",
   "execution_count": 1,
   "id": "b09e9927",
   "metadata": {
    "button": false,
    "execution": {
     "iopub.execute_input": "2022-10-22T13:56:03.004083Z",
     "iopub.status.busy": "2022-10-22T13:56:03.003415Z",
     "iopub.status.idle": "2022-10-22T13:56:04.112393Z",
     "shell.execute_reply": "2022-10-22T13:56:04.111070Z"
    },
    "new_sheet": false,
    "papermill": {
     "duration": 1.140151,
     "end_time": "2022-10-22T13:56:04.115584",
     "exception": false,
     "start_time": "2022-10-22T13:56:02.975433",
     "status": "completed"
    },
    "run_control": {
     "read_only": false
    },
    "tags": []
   },
   "outputs": [],
   "source": [
    "import itertools\n",
    "import numpy as np\n",
    "import matplotlib.pyplot as plt\n",
    "from matplotlib.ticker import NullFormatter\n",
    "import pandas as pd\n",
    "import numpy as np\n",
    "import matplotlib.ticker as ticker\n",
    "from sklearn import preprocessing\n",
    "%matplotlib inline"
   ]
  },
  {
   "cell_type": "code",
   "execution_count": 2,
   "id": "741ea5ac",
   "metadata": {
    "execution": {
     "iopub.execute_input": "2022-10-22T13:56:04.153191Z",
     "iopub.status.busy": "2022-10-22T13:56:04.152501Z",
     "iopub.status.idle": "2022-10-22T13:56:04.157886Z",
     "shell.execute_reply": "2022-10-22T13:56:04.157004Z"
    },
    "papermill": {
     "duration": 0.026752,
     "end_time": "2022-10-22T13:56:04.160236",
     "exception": false,
     "start_time": "2022-10-22T13:56:04.133484",
     "status": "completed"
    },
    "tags": []
   },
   "outputs": [],
   "source": [
    "#notice: Disable all warnings \n",
    "import warnings\n",
    "warnings.filterwarnings('ignore')"
   ]
  },
  {
   "cell_type": "markdown",
   "id": "73679058",
   "metadata": {
    "button": false,
    "new_sheet": false,
    "papermill": {
     "duration": 0.016502,
     "end_time": "2022-10-22T13:56:04.194094",
     "exception": false,
     "start_time": "2022-10-22T13:56:04.177592",
     "status": "completed"
    },
    "run_control": {
     "read_only": false
    },
    "tags": []
   },
   "source": [
    "### About dataset\n"
   ]
  },
  {
   "cell_type": "markdown",
   "id": "fe376b96",
   "metadata": {
    "button": false,
    "new_sheet": false,
    "papermill": {
     "duration": 0.017725,
     "end_time": "2022-10-22T13:56:04.229031",
     "exception": false,
     "start_time": "2022-10-22T13:56:04.211306",
     "status": "completed"
    },
    "run_control": {
     "read_only": false
    },
    "tags": []
   },
   "source": [
    "This dataset is about past loans. The **Loan_train.csv** data set includes details of 346 customers whose loan are already paid off or defaulted. It includes following fields:\n",
    "\n",
    "| Field          | Description                                                                           |\n",
    "| -------------- | ------------------------------------------------------------------------------------- |\n",
    "| Loan_status    | Whether a loan is paid off on in collection                                           |\n",
    "| Principal      | Basic principal loan amount at the                                                    |\n",
    "| Terms          | Origination terms which can be weekly (7 days), biweekly, and monthly payoff schedule |\n",
    "| Effective_date | When the loan got originated and took effects                                         |\n",
    "| Due_date       | Since it’s one-time payoff schedule, each loan has one single due date                |\n",
    "| Age            | Age of applicant                                                                      |\n",
    "| Education      | Education of applicant                                                                |\n",
    "| Gender         | The gender of applicant                                                               |\n"
   ]
  },
  {
   "cell_type": "markdown",
   "id": "8a083894",
   "metadata": {
    "button": false,
    "new_sheet": false,
    "papermill": {
     "duration": 0.017468,
     "end_time": "2022-10-22T13:56:04.264449",
     "exception": false,
     "start_time": "2022-10-22T13:56:04.246981",
     "status": "completed"
    },
    "run_control": {
     "read_only": false
    },
    "tags": []
   },
   "source": [
    "Let's download the dataset\n"
   ]
  },
  {
   "cell_type": "code",
   "execution_count": 3,
   "id": "92835857",
   "metadata": {
    "button": false,
    "execution": {
     "iopub.execute_input": "2022-10-22T13:56:04.303570Z",
     "iopub.status.busy": "2022-10-22T13:56:04.302863Z",
     "iopub.status.idle": "2022-10-22T13:56:06.097200Z",
     "shell.execute_reply": "2022-10-22T13:56:06.095578Z"
    },
    "new_sheet": false,
    "papermill": {
     "duration": 1.817705,
     "end_time": "2022-10-22T13:56:06.100509",
     "exception": false,
     "start_time": "2022-10-22T13:56:04.282804",
     "status": "completed"
    },
    "run_control": {
     "read_only": false
    },
    "tags": []
   },
   "outputs": [
    {
     "name": "stdout",
     "output_type": "stream",
     "text": [
      "--2022-10-22 13:56:05--  https://cf-courses-data.s3.us.cloud-object-storage.appdomain.cloud/IBMDeveloperSkillsNetwork-ML0101EN-SkillsNetwork/labs/FinalModule_Coursera/data/loan_train.csv\r\n",
      "Resolving cf-courses-data.s3.us.cloud-object-storage.appdomain.cloud (cf-courses-data.s3.us.cloud-object-storage.appdomain.cloud)... 169.45.118.108\r\n",
      "Connecting to cf-courses-data.s3.us.cloud-object-storage.appdomain.cloud (cf-courses-data.s3.us.cloud-object-storage.appdomain.cloud)|169.45.118.108|:443... connected.\r\n",
      "HTTP request sent, awaiting response... 200 OK\r\n",
      "Length: 23101 (23K) [text/csv]\r\n",
      "Saving to: ‘loan_train.csv’\r\n",
      "\r\n",
      "loan_train.csv      100%[===================>]  22.56K  --.-KB/s    in 0s      \r\n",
      "\r\n",
      "2022-10-22 13:56:05 (141 MB/s) - ‘loan_train.csv’ saved [23101/23101]\r\n",
      "\r\n"
     ]
    }
   ],
   "source": [
    "!wget -O loan_train.csv https://cf-courses-data.s3.us.cloud-object-storage.appdomain.cloud/IBMDeveloperSkillsNetwork-ML0101EN-SkillsNetwork/labs/FinalModule_Coursera/data/loan_train.csv"
   ]
  },
  {
   "cell_type": "markdown",
   "id": "ce08a310",
   "metadata": {
    "button": false,
    "new_sheet": false,
    "papermill": {
     "duration": 0.017607,
     "end_time": "2022-10-22T13:56:06.137527",
     "exception": false,
     "start_time": "2022-10-22T13:56:06.119920",
     "status": "completed"
    },
    "run_control": {
     "read_only": false
    },
    "tags": []
   },
   "source": [
    "### Load Data From CSV File\n"
   ]
  },
  {
   "cell_type": "code",
   "execution_count": 4,
   "id": "722f24cd",
   "metadata": {
    "button": false,
    "execution": {
     "iopub.execute_input": "2022-10-22T13:56:06.175010Z",
     "iopub.status.busy": "2022-10-22T13:56:06.174543Z",
     "iopub.status.idle": "2022-10-22T13:56:06.210666Z",
     "shell.execute_reply": "2022-10-22T13:56:06.209336Z"
    },
    "new_sheet": false,
    "papermill": {
     "duration": 0.058193,
     "end_time": "2022-10-22T13:56:06.213629",
     "exception": false,
     "start_time": "2022-10-22T13:56:06.155436",
     "status": "completed"
    },
    "run_control": {
     "read_only": false
    },
    "tags": []
   },
   "outputs": [
    {
     "data": {
      "text/html": [
       "<div>\n",
       "<style scoped>\n",
       "    .dataframe tbody tr th:only-of-type {\n",
       "        vertical-align: middle;\n",
       "    }\n",
       "\n",
       "    .dataframe tbody tr th {\n",
       "        vertical-align: top;\n",
       "    }\n",
       "\n",
       "    .dataframe thead th {\n",
       "        text-align: right;\n",
       "    }\n",
       "</style>\n",
       "<table border=\"1\" class=\"dataframe\">\n",
       "  <thead>\n",
       "    <tr style=\"text-align: right;\">\n",
       "      <th></th>\n",
       "      <th>Unnamed: 0</th>\n",
       "      <th>Unnamed: 0.1</th>\n",
       "      <th>loan_status</th>\n",
       "      <th>Principal</th>\n",
       "      <th>terms</th>\n",
       "      <th>effective_date</th>\n",
       "      <th>due_date</th>\n",
       "      <th>age</th>\n",
       "      <th>education</th>\n",
       "      <th>Gender</th>\n",
       "    </tr>\n",
       "  </thead>\n",
       "  <tbody>\n",
       "    <tr>\n",
       "      <th>0</th>\n",
       "      <td>0</td>\n",
       "      <td>0</td>\n",
       "      <td>PAIDOFF</td>\n",
       "      <td>1000</td>\n",
       "      <td>30</td>\n",
       "      <td>9/8/2016</td>\n",
       "      <td>10/7/2016</td>\n",
       "      <td>45</td>\n",
       "      <td>High School or Below</td>\n",
       "      <td>male</td>\n",
       "    </tr>\n",
       "    <tr>\n",
       "      <th>1</th>\n",
       "      <td>2</td>\n",
       "      <td>2</td>\n",
       "      <td>PAIDOFF</td>\n",
       "      <td>1000</td>\n",
       "      <td>30</td>\n",
       "      <td>9/8/2016</td>\n",
       "      <td>10/7/2016</td>\n",
       "      <td>33</td>\n",
       "      <td>Bechalor</td>\n",
       "      <td>female</td>\n",
       "    </tr>\n",
       "    <tr>\n",
       "      <th>2</th>\n",
       "      <td>3</td>\n",
       "      <td>3</td>\n",
       "      <td>PAIDOFF</td>\n",
       "      <td>1000</td>\n",
       "      <td>15</td>\n",
       "      <td>9/8/2016</td>\n",
       "      <td>9/22/2016</td>\n",
       "      <td>27</td>\n",
       "      <td>college</td>\n",
       "      <td>male</td>\n",
       "    </tr>\n",
       "    <tr>\n",
       "      <th>3</th>\n",
       "      <td>4</td>\n",
       "      <td>4</td>\n",
       "      <td>PAIDOFF</td>\n",
       "      <td>1000</td>\n",
       "      <td>30</td>\n",
       "      <td>9/9/2016</td>\n",
       "      <td>10/8/2016</td>\n",
       "      <td>28</td>\n",
       "      <td>college</td>\n",
       "      <td>female</td>\n",
       "    </tr>\n",
       "    <tr>\n",
       "      <th>4</th>\n",
       "      <td>6</td>\n",
       "      <td>6</td>\n",
       "      <td>PAIDOFF</td>\n",
       "      <td>1000</td>\n",
       "      <td>30</td>\n",
       "      <td>9/9/2016</td>\n",
       "      <td>10/8/2016</td>\n",
       "      <td>29</td>\n",
       "      <td>college</td>\n",
       "      <td>male</td>\n",
       "    </tr>\n",
       "  </tbody>\n",
       "</table>\n",
       "</div>"
      ],
      "text/plain": [
       "   Unnamed: 0  Unnamed: 0.1 loan_status  Principal  terms effective_date  \\\n",
       "0           0             0     PAIDOFF       1000     30       9/8/2016   \n",
       "1           2             2     PAIDOFF       1000     30       9/8/2016   \n",
       "2           3             3     PAIDOFF       1000     15       9/8/2016   \n",
       "3           4             4     PAIDOFF       1000     30       9/9/2016   \n",
       "4           6             6     PAIDOFF       1000     30       9/9/2016   \n",
       "\n",
       "    due_date  age             education  Gender  \n",
       "0  10/7/2016   45  High School or Below    male  \n",
       "1  10/7/2016   33              Bechalor  female  \n",
       "2  9/22/2016   27               college    male  \n",
       "3  10/8/2016   28               college  female  \n",
       "4  10/8/2016   29               college    male  "
      ]
     },
     "execution_count": 4,
     "metadata": {},
     "output_type": "execute_result"
    }
   ],
   "source": [
    "df = pd.read_csv('loan_train.csv')\n",
    "df.head()"
   ]
  },
  {
   "cell_type": "code",
   "execution_count": 5,
   "id": "06bceb4f",
   "metadata": {
    "execution": {
     "iopub.execute_input": "2022-10-22T13:56:06.253169Z",
     "iopub.status.busy": "2022-10-22T13:56:06.251839Z",
     "iopub.status.idle": "2022-10-22T13:56:06.261832Z",
     "shell.execute_reply": "2022-10-22T13:56:06.259953Z"
    },
    "papermill": {
     "duration": 0.032364,
     "end_time": "2022-10-22T13:56:06.264429",
     "exception": false,
     "start_time": "2022-10-22T13:56:06.232065",
     "status": "completed"
    },
    "tags": []
   },
   "outputs": [
    {
     "data": {
      "text/plain": [
       "(346, 10)"
      ]
     },
     "execution_count": 5,
     "metadata": {},
     "output_type": "execute_result"
    }
   ],
   "source": [
    "df.shape"
   ]
  },
  {
   "cell_type": "markdown",
   "id": "29de316a",
   "metadata": {
    "button": false,
    "new_sheet": false,
    "papermill": {
     "duration": 0.019556,
     "end_time": "2022-10-22T13:56:06.304382",
     "exception": false,
     "start_time": "2022-10-22T13:56:06.284826",
     "status": "completed"
    },
    "run_control": {
     "read_only": false
    },
    "tags": []
   },
   "source": [
    "### Convert to date time object\n"
   ]
  },
  {
   "cell_type": "code",
   "execution_count": 6,
   "id": "d3ffad30",
   "metadata": {
    "button": false,
    "execution": {
     "iopub.execute_input": "2022-10-22T13:56:06.345409Z",
     "iopub.status.busy": "2022-10-22T13:56:06.344993Z",
     "iopub.status.idle": "2022-10-22T13:56:06.385767Z",
     "shell.execute_reply": "2022-10-22T13:56:06.384558Z"
    },
    "new_sheet": false,
    "papermill": {
     "duration": 0.064771,
     "end_time": "2022-10-22T13:56:06.388264",
     "exception": false,
     "start_time": "2022-10-22T13:56:06.323493",
     "status": "completed"
    },
    "run_control": {
     "read_only": false
    },
    "tags": []
   },
   "outputs": [
    {
     "data": {
      "text/html": [
       "<div>\n",
       "<style scoped>\n",
       "    .dataframe tbody tr th:only-of-type {\n",
       "        vertical-align: middle;\n",
       "    }\n",
       "\n",
       "    .dataframe tbody tr th {\n",
       "        vertical-align: top;\n",
       "    }\n",
       "\n",
       "    .dataframe thead th {\n",
       "        text-align: right;\n",
       "    }\n",
       "</style>\n",
       "<table border=\"1\" class=\"dataframe\">\n",
       "  <thead>\n",
       "    <tr style=\"text-align: right;\">\n",
       "      <th></th>\n",
       "      <th>Unnamed: 0</th>\n",
       "      <th>Unnamed: 0.1</th>\n",
       "      <th>loan_status</th>\n",
       "      <th>Principal</th>\n",
       "      <th>terms</th>\n",
       "      <th>effective_date</th>\n",
       "      <th>due_date</th>\n",
       "      <th>age</th>\n",
       "      <th>education</th>\n",
       "      <th>Gender</th>\n",
       "    </tr>\n",
       "  </thead>\n",
       "  <tbody>\n",
       "    <tr>\n",
       "      <th>0</th>\n",
       "      <td>0</td>\n",
       "      <td>0</td>\n",
       "      <td>PAIDOFF</td>\n",
       "      <td>1000</td>\n",
       "      <td>30</td>\n",
       "      <td>2016-09-08</td>\n",
       "      <td>2016-10-07</td>\n",
       "      <td>45</td>\n",
       "      <td>High School or Below</td>\n",
       "      <td>male</td>\n",
       "    </tr>\n",
       "    <tr>\n",
       "      <th>1</th>\n",
       "      <td>2</td>\n",
       "      <td>2</td>\n",
       "      <td>PAIDOFF</td>\n",
       "      <td>1000</td>\n",
       "      <td>30</td>\n",
       "      <td>2016-09-08</td>\n",
       "      <td>2016-10-07</td>\n",
       "      <td>33</td>\n",
       "      <td>Bechalor</td>\n",
       "      <td>female</td>\n",
       "    </tr>\n",
       "    <tr>\n",
       "      <th>2</th>\n",
       "      <td>3</td>\n",
       "      <td>3</td>\n",
       "      <td>PAIDOFF</td>\n",
       "      <td>1000</td>\n",
       "      <td>15</td>\n",
       "      <td>2016-09-08</td>\n",
       "      <td>2016-09-22</td>\n",
       "      <td>27</td>\n",
       "      <td>college</td>\n",
       "      <td>male</td>\n",
       "    </tr>\n",
       "    <tr>\n",
       "      <th>3</th>\n",
       "      <td>4</td>\n",
       "      <td>4</td>\n",
       "      <td>PAIDOFF</td>\n",
       "      <td>1000</td>\n",
       "      <td>30</td>\n",
       "      <td>2016-09-09</td>\n",
       "      <td>2016-10-08</td>\n",
       "      <td>28</td>\n",
       "      <td>college</td>\n",
       "      <td>female</td>\n",
       "    </tr>\n",
       "    <tr>\n",
       "      <th>4</th>\n",
       "      <td>6</td>\n",
       "      <td>6</td>\n",
       "      <td>PAIDOFF</td>\n",
       "      <td>1000</td>\n",
       "      <td>30</td>\n",
       "      <td>2016-09-09</td>\n",
       "      <td>2016-10-08</td>\n",
       "      <td>29</td>\n",
       "      <td>college</td>\n",
       "      <td>male</td>\n",
       "    </tr>\n",
       "  </tbody>\n",
       "</table>\n",
       "</div>"
      ],
      "text/plain": [
       "   Unnamed: 0  Unnamed: 0.1 loan_status  Principal  terms effective_date  \\\n",
       "0           0             0     PAIDOFF       1000     30     2016-09-08   \n",
       "1           2             2     PAIDOFF       1000     30     2016-09-08   \n",
       "2           3             3     PAIDOFF       1000     15     2016-09-08   \n",
       "3           4             4     PAIDOFF       1000     30     2016-09-09   \n",
       "4           6             6     PAIDOFF       1000     30     2016-09-09   \n",
       "\n",
       "    due_date  age             education  Gender  \n",
       "0 2016-10-07   45  High School or Below    male  \n",
       "1 2016-10-07   33              Bechalor  female  \n",
       "2 2016-09-22   27               college    male  \n",
       "3 2016-10-08   28               college  female  \n",
       "4 2016-10-08   29               college    male  "
      ]
     },
     "execution_count": 6,
     "metadata": {},
     "output_type": "execute_result"
    }
   ],
   "source": [
    "df['due_date'] = pd.to_datetime(df['due_date'])\n",
    "df['effective_date'] = pd.to_datetime(df['effective_date'])\n",
    "df.head()"
   ]
  },
  {
   "cell_type": "markdown",
   "id": "284a1dc2",
   "metadata": {
    "button": false,
    "new_sheet": false,
    "papermill": {
     "duration": 0.017795,
     "end_time": "2022-10-22T13:56:06.424668",
     "exception": false,
     "start_time": "2022-10-22T13:56:06.406873",
     "status": "completed"
    },
    "run_control": {
     "read_only": false
    },
    "tags": []
   },
   "source": [
    "# Data visualization and pre-processing\n"
   ]
  },
  {
   "cell_type": "markdown",
   "id": "36af203f",
   "metadata": {
    "button": false,
    "new_sheet": false,
    "papermill": {
     "duration": 0.018511,
     "end_time": "2022-10-22T13:56:06.461652",
     "exception": false,
     "start_time": "2022-10-22T13:56:06.443141",
     "status": "completed"
    },
    "run_control": {
     "read_only": false
    },
    "tags": []
   },
   "source": [
    "Let’s see how many of each class is in our data set\n"
   ]
  },
  {
   "cell_type": "code",
   "execution_count": 7,
   "id": "229eb643",
   "metadata": {
    "button": false,
    "execution": {
     "iopub.execute_input": "2022-10-22T13:56:06.502218Z",
     "iopub.status.busy": "2022-10-22T13:56:06.500951Z",
     "iopub.status.idle": "2022-10-22T13:56:06.512552Z",
     "shell.execute_reply": "2022-10-22T13:56:06.511208Z"
    },
    "new_sheet": false,
    "papermill": {
     "duration": 0.035348,
     "end_time": "2022-10-22T13:56:06.515371",
     "exception": false,
     "start_time": "2022-10-22T13:56:06.480023",
     "status": "completed"
    },
    "run_control": {
     "read_only": false
    },
    "tags": []
   },
   "outputs": [
    {
     "data": {
      "text/plain": [
       "PAIDOFF       260\n",
       "COLLECTION     86\n",
       "Name: loan_status, dtype: int64"
      ]
     },
     "execution_count": 7,
     "metadata": {},
     "output_type": "execute_result"
    }
   ],
   "source": [
    "df['loan_status'].value_counts()"
   ]
  },
  {
   "cell_type": "markdown",
   "id": "50762566",
   "metadata": {
    "button": false,
    "new_sheet": false,
    "papermill": {
     "duration": 0.020353,
     "end_time": "2022-10-22T13:56:06.556342",
     "exception": false,
     "start_time": "2022-10-22T13:56:06.535989",
     "status": "completed"
    },
    "run_control": {
     "read_only": false
    },
    "tags": []
   },
   "source": [
    "260 people have paid off the loan on time while 86 have gone into collection\n"
   ]
  },
  {
   "cell_type": "markdown",
   "id": "a3f70a7e",
   "metadata": {
    "papermill": {
     "duration": 0.018766,
     "end_time": "2022-10-22T13:56:06.594368",
     "exception": false,
     "start_time": "2022-10-22T13:56:06.575602",
     "status": "completed"
    },
    "tags": []
   },
   "source": [
    "Let's plot some columns to underestand data better:\n"
   ]
  },
  {
   "cell_type": "code",
   "execution_count": 8,
   "id": "cdf6b32a",
   "metadata": {
    "execution": {
     "iopub.execute_input": "2022-10-22T13:56:06.636862Z",
     "iopub.status.busy": "2022-10-22T13:56:06.636026Z",
     "iopub.status.idle": "2022-10-22T13:56:19.853506Z",
     "shell.execute_reply": "2022-10-22T13:56:19.852020Z"
    },
    "papermill": {
     "duration": 13.241402,
     "end_time": "2022-10-22T13:56:19.856417",
     "exception": false,
     "start_time": "2022-10-22T13:56:06.615015",
     "status": "completed"
    },
    "tags": []
   },
   "outputs": [
    {
     "name": "stdout",
     "output_type": "stream",
     "text": [
      "Requirement already satisfied: seaborn in /opt/conda/lib/python3.7/site-packages (0.11.2)\r\n",
      "Requirement already satisfied: matplotlib>=2.2 in /opt/conda/lib/python3.7/site-packages (from seaborn) (3.5.3)\r\n",
      "Requirement already satisfied: scipy>=1.0 in /opt/conda/lib/python3.7/site-packages (from seaborn) (1.7.3)\r\n",
      "Requirement already satisfied: pandas>=0.23 in /opt/conda/lib/python3.7/site-packages (from seaborn) (1.3.5)\r\n",
      "Requirement already satisfied: numpy>=1.15 in /opt/conda/lib/python3.7/site-packages (from seaborn) (1.21.6)\r\n",
      "Requirement already satisfied: python-dateutil>=2.7 in /opt/conda/lib/python3.7/site-packages (from matplotlib>=2.2->seaborn) (2.8.2)\r\n",
      "Requirement already satisfied: fonttools>=4.22.0 in /opt/conda/lib/python3.7/site-packages (from matplotlib>=2.2->seaborn) (4.33.3)\r\n",
      "Requirement already satisfied: cycler>=0.10 in /opt/conda/lib/python3.7/site-packages (from matplotlib>=2.2->seaborn) (0.11.0)\r\n",
      "Requirement already satisfied: pyparsing>=2.2.1 in /opt/conda/lib/python3.7/site-packages (from matplotlib>=2.2->seaborn) (3.0.9)\r\n",
      "Requirement already satisfied: kiwisolver>=1.0.1 in /opt/conda/lib/python3.7/site-packages (from matplotlib>=2.2->seaborn) (1.4.3)\r\n",
      "Requirement already satisfied: pillow>=6.2.0 in /opt/conda/lib/python3.7/site-packages (from matplotlib>=2.2->seaborn) (9.1.1)\r\n",
      "Requirement already satisfied: packaging>=20.0 in /opt/conda/lib/python3.7/site-packages (from matplotlib>=2.2->seaborn) (21.3)\r\n",
      "Requirement already satisfied: pytz>=2017.3 in /opt/conda/lib/python3.7/site-packages (from pandas>=0.23->seaborn) (2022.1)\r\n",
      "Requirement already satisfied: typing-extensions in /opt/conda/lib/python3.7/site-packages (from kiwisolver>=1.0.1->matplotlib>=2.2->seaborn) (4.4.0)\r\n",
      "Requirement already satisfied: six>=1.5 in /opt/conda/lib/python3.7/site-packages (from python-dateutil>=2.7->matplotlib>=2.2->seaborn) (1.15.0)\r\n",
      "\u001b[33mWARNING: Running pip as the 'root' user can result in broken permissions and conflicting behaviour with the system package manager. It is recommended to use a virtual environment instead: https://pip.pypa.io/warnings/venv\u001b[0m\u001b[33m\r\n",
      "\u001b[0m"
     ]
    }
   ],
   "source": [
    "# notice: installing seaborn might takes a few minutes\n",
    "!pip install seaborn"
   ]
  },
  {
   "cell_type": "code",
   "execution_count": 9,
   "id": "19ab1f22",
   "metadata": {
    "execution": {
     "iopub.execute_input": "2022-10-22T13:56:19.894953Z",
     "iopub.status.busy": "2022-10-22T13:56:19.894504Z",
     "iopub.status.idle": "2022-10-22T13:56:20.587046Z",
     "shell.execute_reply": "2022-10-22T13:56:20.585645Z"
    },
    "papermill": {
     "duration": 0.714849,
     "end_time": "2022-10-22T13:56:20.589710",
     "exception": false,
     "start_time": "2022-10-22T13:56:19.874861",
     "status": "completed"
    },
    "tags": []
   },
   "outputs": [
    {
     "data": {
      "image/png": "[encoded data removed]",
      "text/plain": [
       "<Figure size 432x216 with 2 Axes>"
      ]
     },
     "metadata": {
      "needs_background": "light"
     },
     "output_type": "display_data"
    }
   ],
   "source": [
    "import seaborn as sns\n",
    "\n",
    "bins = np.linspace(df.Principal.min(), df.Principal.max(), 10)\n",
    "g = sns.FacetGrid(df, col=\"Gender\", hue=\"loan_status\", palette=\"Set1\", col_wrap=2)\n",
    "g.map(plt.hist, 'Principal', bins=bins, ec=\"k\")\n",
    "\n",
    "g.axes[-1].legend()\n",
    "plt.show()"
   ]
  },
  {
   "cell_type": "code",
   "execution_count": 10,
   "id": "aea4ab89",
   "metadata": {
    "button": false,
    "execution": {
     "iopub.execute_input": "2022-10-22T13:56:20.630549Z",
     "iopub.status.busy": "2022-10-22T13:56:20.630109Z",
     "iopub.status.idle": "2022-10-22T13:56:21.077017Z",
     "shell.execute_reply": "2022-10-22T13:56:21.075829Z"
    },
    "new_sheet": false,
    "papermill": {
     "duration": 0.470776,
     "end_time": "2022-10-22T13:56:21.079452",
     "exception": false,
     "start_time": "2022-10-22T13:56:20.608676",
     "status": "completed"
    },
    "run_control": {
     "read_only": false
    },
    "tags": []
   },
   "outputs": [
    {
     "data": {
      "image/png": "[encoded data removed]",
      "text/plain": [
       "<Figure size 432x216 with 2 Axes>"
      ]
     },
     "metadata": {
      "needs_background": "light"
     },
     "output_type": "display_data"
    }
   ],
   "source": [
    "bins = np.linspace(df.age.min(), df.age.max(), 10)\n",
    "g = sns.FacetGrid(df, col=\"Gender\", hue=\"loan_status\", palette=\"Set1\", col_wrap=2)\n",
    "g.map(plt.hist, 'age', bins=bins, ec=\"k\")\n",
    "\n",
    "g.axes[-1].legend()\n",
    "plt.show()"
   ]
  },
  {
   "cell_type": "markdown",
   "id": "fb8b455a",
   "metadata": {
    "button": false,
    "new_sheet": false,
    "papermill": {
     "duration": 0.018703,
     "end_time": "2022-10-22T13:56:21.116960",
     "exception": false,
     "start_time": "2022-10-22T13:56:21.098257",
     "status": "completed"
    },
    "run_control": {
     "read_only": false
    },
    "tags": []
   },
   "source": [
    "# Pre-processing:  Feature selection/extraction\n"
   ]
  },
  {
   "cell_type": "markdown",
   "id": "5fededbe",
   "metadata": {
    "button": false,
    "new_sheet": false,
    "papermill": {
     "duration": 0.018948,
     "end_time": "2022-10-22T13:56:21.154580",
     "exception": false,
     "start_time": "2022-10-22T13:56:21.135632",
     "status": "completed"
    },
    "run_control": {
     "read_only": false
    },
    "tags": []
   },
   "source": [
    "### Let's look at the day of the week people get the loan\n"
   ]
  },
  {
   "cell_type": "code",
   "execution_count": 11,
   "id": "cbaf7846",
   "metadata": {
    "button": false,
    "execution": {
     "iopub.execute_input": "2022-10-22T13:56:21.193846Z",
     "iopub.status.busy": "2022-10-22T13:56:21.193421Z",
     "iopub.status.idle": "2022-10-22T13:56:21.638584Z",
     "shell.execute_reply": "2022-10-22T13:56:21.637348Z"
    },
    "new_sheet": false,
    "papermill": {
     "duration": 0.468201,
     "end_time": "2022-10-22T13:56:21.641494",
     "exception": false,
     "start_time": "2022-10-22T13:56:21.173293",
     "status": "completed"
    },
    "run_control": {
     "read_only": false
    },
    "tags": []
   },
   "outputs": [
    {
     "data": {
      "image/png": "[encoded data removed]",
      "text/plain": [
       "<Figure size 432x216 with 2 Axes>"
      ]
     },
     "metadata": {
      "needs_background": "light"
     },
     "output_type": "display_data"
    }
   ],
   "source": [
    "df['dayofweek'] = df['effective_date'].dt.dayofweek\n",
    "bins = np.linspace(df.dayofweek.min(), df.dayofweek.max(), 10)\n",
    "g = sns.FacetGrid(df, col=\"Gender\", hue=\"loan_status\", palette=\"Set1\", col_wrap=2)\n",
    "g.map(plt.hist, 'dayofweek', bins=bins, ec=\"k\")\n",
    "g.axes[-1].legend()\n",
    "plt.show()\n"
   ]
  },
  {
   "cell_type": "markdown",
   "id": "18497e7e",
   "metadata": {
    "button": false,
    "new_sheet": false,
    "papermill": {
     "duration": 0.019055,
     "end_time": "2022-10-22T13:56:21.680260",
     "exception": false,
     "start_time": "2022-10-22T13:56:21.661205",
     "status": "completed"
    },
    "run_control": {
     "read_only": false
    },
    "tags": []
   },
   "source": [
    "We see that people who get the loan at the end of the week don't pay it off, so let's use Feature binarization to set a threshold value less than day 4\n"
   ]
  },
  {
   "cell_type": "code",
   "execution_count": 12,
   "id": "9cca96a4",
   "metadata": {
    "button": false,
    "execution": {
     "iopub.execute_input": "2022-10-22T13:56:21.721258Z",
     "iopub.status.busy": "2022-10-22T13:56:21.720599Z",
     "iopub.status.idle": "2022-10-22T13:56:21.741075Z",
     "shell.execute_reply": "2022-10-22T13:56:21.739855Z"
    },
    "new_sheet": false,
    "papermill": {
     "duration": 0.044303,
     "end_time": "2022-10-22T13:56:21.743555",
     "exception": false,
     "start_time": "2022-10-22T13:56:21.699252",
     "status": "completed"
    },
    "run_control": {
     "read_only": false
    },
    "tags": []
   },
   "outputs": [
    {
     "data": {
      "text/html": [
       "<div>\n",
       "<style scoped>\n",
       "    .dataframe tbody tr th:only-of-type {\n",
       "        vertical-align: middle;\n",
       "    }\n",
       "\n",
       "    .dataframe tbody tr th {\n",
       "        vertical-align: top;\n",
       "    }\n",
       "\n",
       "    .dataframe thead th {\n",
       "        text-align: right;\n",
       "    }\n",
       "</style>\n",
       "<table border=\"1\" class=\"dataframe\">\n",
       "  <thead>\n",
       "    <tr style=\"text-align: right;\">\n",
       "      <th></th>\n",
       "      <th>Unnamed: 0</th>\n",
       "      <th>Unnamed: 0.1</th>\n",
       "      <th>loan_status</th>\n",
       "      <th>Principal</th>\n",
       "      <th>terms</th>\n",
       "      <th>effective_date</th>\n",
       "      <th>due_date</th>\n",
       "      <th>age</th>\n",
       "      <th>education</th>\n",
       "      <th>Gender</th>\n",
       "      <th>dayofweek</th>\n",
       "      <th>weekend</th>\n",
       "    </tr>\n",
       "  </thead>\n",
       "  <tbody>\n",
       "    <tr>\n",
       "      <th>0</th>\n",
       "      <td>0</td>\n",
       "      <td>0</td>\n",
       "      <td>PAIDOFF</td>\n",
       "      <td>1000</td>\n",
       "      <td>30</td>\n",
       "      <td>2016-09-08</td>\n",
       "      <td>2016-10-07</td>\n",
       "      <td>45</td>\n",
       "      <td>High School or Below</td>\n",
       "      <td>male</td>\n",
       "      <td>3</td>\n",
       "      <td>0</td>\n",
       "    </tr>\n",
       "    <tr>\n",
       "      <th>1</th>\n",
       "      <td>2</td>\n",
       "      <td>2</td>\n",
       "      <td>PAIDOFF</td>\n",
       "      <td>1000</td>\n",
       "      <td>30</td>\n",
       "      <td>2016-09-08</td>\n",
       "      <td>2016-10-07</td>\n",
       "      <td>33</td>\n",
       "      <td>Bechalor</td>\n",
       "      <td>female</td>\n",
       "      <td>3</td>\n",
       "      <td>0</td>\n",
       "    </tr>\n",
       "    <tr>\n",
       "      <th>2</th>\n",
       "      <td>3</td>\n",
       "      <td>3</td>\n",
       "      <td>PAIDOFF</td>\n",
       "      <td>1000</td>\n",
       "      <td>15</td>\n",
       "      <td>2016-09-08</td>\n",
       "      <td>2016-09-22</td>\n",
       "      <td>27</td>\n",
       "      <td>college</td>\n",
       "      <td>male</td>\n",
       "      <td>3</td>\n",
       "      <td>0</td>\n",
       "    </tr>\n",
       "    <tr>\n",
       "      <th>3</th>\n",
       "      <td>4</td>\n",
       "      <td>4</td>\n",
       "      <td>PAIDOFF</td>\n",
       "      <td>1000</td>\n",
       "      <td>30</td>\n",
       "      <td>2016-09-09</td>\n",
       "      <td>2016-10-08</td>\n",
       "      <td>28</td>\n",
       "      <td>college</td>\n",
       "      <td>female</td>\n",
       "      <td>4</td>\n",
       "      <td>1</td>\n",
       "    </tr>\n",
       "    <tr>\n",
       "      <th>4</th>\n",
       "      <td>6</td>\n",
       "      <td>6</td>\n",
       "      <td>PAIDOFF</td>\n",
       "      <td>1000</td>\n",
       "      <td>30</td>\n",
       "      <td>2016-09-09</td>\n",
       "      <td>2016-10-08</td>\n",
       "      <td>29</td>\n",
       "      <td>college</td>\n",
       "      <td>male</td>\n",
       "      <td>4</td>\n",
       "      <td>1</td>\n",
       "    </tr>\n",
       "  </tbody>\n",
       "</table>\n",
       "</div>"
      ],
      "text/plain": [
       "   Unnamed: 0  Unnamed: 0.1 loan_status  Principal  terms effective_date  \\\n",
       "0           0             0     PAIDOFF       1000     30     2016-09-08   \n",
       "1           2             2     PAIDOFF       1000     30     2016-09-08   \n",
       "2           3             3     PAIDOFF       1000     15     2016-09-08   \n",
       "3           4             4     PAIDOFF       1000     30     2016-09-09   \n",
       "4           6             6     PAIDOFF       1000     30     2016-09-09   \n",
       "\n",
       "    due_date  age             education  Gender  dayofweek  weekend  \n",
       "0 2016-10-07   45  High School or Below    male          3        0  \n",
       "1 2016-10-07   33              Bechalor  female          3        0  \n",
       "2 2016-09-22   27               college    male          3        0  \n",
       "3 2016-10-08   28               college  female          4        1  \n",
       "4 2016-10-08   29               college    male          4        1  "
      ]
     },
     "execution_count": 12,
     "metadata": {},
     "output_type": "execute_result"
    }
   ],
   "source": [
    "df['weekend'] = df['dayofweek'].apply(lambda x: 1 if (x>3)  else 0)\n",
    "df.head()"
   ]
  },
  {
   "cell_type": "markdown",
   "id": "4cd8dee9",
   "metadata": {
    "button": false,
    "new_sheet": false,
    "papermill": {
     "duration": 0.019017,
     "end_time": "2022-10-22T13:56:21.782783",
     "exception": false,
     "start_time": "2022-10-22T13:56:21.763766",
     "status": "completed"
    },
    "run_control": {
     "read_only": false
    },
    "tags": []
   },
   "source": [
    "## Convert Categorical features to numerical values\n"
   ]
  },
  {
   "cell_type": "markdown",
   "id": "38d352ca",
   "metadata": {
    "button": false,
    "new_sheet": false,
    "papermill": {
     "duration": 0.019182,
     "end_time": "2022-10-22T13:56:21.821126",
     "exception": false,
     "start_time": "2022-10-22T13:56:21.801944",
     "status": "completed"
    },
    "run_control": {
     "read_only": false
    },
    "tags": []
   },
   "source": [
    "Let's look at gender:\n"
   ]
  },
  {
   "cell_type": "code",
   "execution_count": 13,
   "id": "46247b21",
   "metadata": {
    "button": false,
    "execution": {
     "iopub.execute_input": "2022-10-22T13:56:21.861528Z",
     "iopub.status.busy": "2022-10-22T13:56:21.860864Z",
     "iopub.status.idle": "2022-10-22T13:56:21.871357Z",
     "shell.execute_reply": "2022-10-22T13:56:21.870421Z"
    },
    "new_sheet": false,
    "papermill": {
     "duration": 0.03345,
     "end_time": "2022-10-22T13:56:21.873594",
     "exception": false,
     "start_time": "2022-10-22T13:56:21.840144",
     "status": "completed"
    },
    "run_control": {
     "read_only": false
    },
    "tags": []
   },
   "outputs": [
    {
     "data": {
      "text/plain": [
       "Gender  loan_status\n",
       "female  PAIDOFF        0.865385\n",
       "        COLLECTION     0.134615\n",
       "male    PAIDOFF        0.731293\n",
       "        COLLECTION     0.268707\n",
       "Name: loan_status, dtype: float64"
      ]
     },
     "execution_count": 13,
     "metadata": {},
     "output_type": "execute_result"
    }
   ],
   "source": [
    "df.groupby(['Gender'])['loan_status'].value_counts(normalize=True)"
   ]
  },
  {
   "cell_type": "markdown",
   "id": "b8f8b286",
   "metadata": {
    "button": false,
    "new_sheet": false,
    "papermill": {
     "duration": 0.019163,
     "end_time": "2022-10-22T13:56:21.911992",
     "exception": false,
     "start_time": "2022-10-22T13:56:21.892829",
     "status": "completed"
    },
    "run_control": {
     "read_only": false
    },
    "tags": []
   },
   "source": [
    "86 % of female pay there loans while only 73 % of males pay there loan\n"
   ]
  },
  {
   "cell_type": "markdown",
   "id": "91cde2c7",
   "metadata": {
    "button": false,
    "new_sheet": false,
    "papermill": {
     "duration": 0.018624,
     "end_time": "2022-10-22T13:56:21.949551",
     "exception": false,
     "start_time": "2022-10-22T13:56:21.930927",
     "status": "completed"
    },
    "run_control": {
     "read_only": false
    },
    "tags": []
   },
   "source": [
    "Let's convert male to 0 and female to 1:\n"
   ]
  },
  {
   "cell_type": "code",
   "execution_count": 14,
   "id": "0e2833b6",
   "metadata": {
    "button": false,
    "execution": {
     "iopub.execute_input": "2022-10-22T13:56:21.989702Z",
     "iopub.status.busy": "2022-10-22T13:56:21.989029Z",
     "iopub.status.idle": "2022-10-22T13:56:22.005524Z",
     "shell.execute_reply": "2022-10-22T13:56:22.004628Z"
    },
    "new_sheet": false,
    "papermill": {
     "duration": 0.039212,
     "end_time": "2022-10-22T13:56:22.007822",
     "exception": false,
     "start_time": "2022-10-22T13:56:21.968610",
     "status": "completed"
    },
    "run_control": {
     "read_only": false
    },
    "tags": []
   },
   "outputs": [
    {
     "data": {
      "text/html": [
       "<div>\n",
       "<style scoped>\n",
       "    .dataframe tbody tr th:only-of-type {\n",
       "        vertical-align: middle;\n",
       "    }\n",
       "\n",
       "    .dataframe tbody tr th {\n",
       "        vertical-align: top;\n",
       "    }\n",
       "\n",
       "    .dataframe thead th {\n",
       "        text-align: right;\n",
       "    }\n",
       "</style>\n",
       "<table border=\"1\" class=\"dataframe\">\n",
       "  <thead>\n",
       "    <tr style=\"text-align: right;\">\n",
       "      <th></th>\n",
       "      <th>Unnamed: 0</th>\n",
       "      <th>Unnamed: 0.1</th>\n",
       "      <th>loan_status</th>\n",
       "      <th>Principal</th>\n",
       "      <th>terms</th>\n",
       "      <th>effective_date</th>\n",
       "      <th>due_date</th>\n",
       "      <th>age</th>\n",
       "      <th>education</th>\n",
       "      <th>Gender</th>\n",
       "      <th>dayofweek</th>\n",
       "      <th>weekend</th>\n",
       "    </tr>\n",
       "  </thead>\n",
       "  <tbody>\n",
       "    <tr>\n",
       "      <th>0</th>\n",
       "      <td>0</td>\n",
       "      <td>0</td>\n",
       "      <td>PAIDOFF</td>\n",
       "      <td>1000</td>\n",
       "      <td>30</td>\n",
       "      <td>2016-09-08</td>\n",
       "      <td>2016-10-07</td>\n",
       "      <td>45</td>\n",
       "      <td>High School or Below</td>\n",
       "      <td>0</td>\n",
       "      <td>3</td>\n",
       "      <td>0</td>\n",
       "    </tr>\n",
       "    <tr>\n",
       "      <th>1</th>\n",
       "      <td>2</td>\n",
       "      <td>2</td>\n",
       "      <td>PAIDOFF</td>\n",
       "      <td>1000</td>\n",
       "      <td>30</td>\n",
       "      <td>2016-09-08</td>\n",
       "      <td>2016-10-07</td>\n",
       "      <td>33</td>\n",
       "      <td>Bechalor</td>\n",
       "      <td>1</td>\n",
       "      <td>3</td>\n",
       "      <td>0</td>\n",
       "    </tr>\n",
       "    <tr>\n",
       "      <th>2</th>\n",
       "      <td>3</td>\n",
       "      <td>3</td>\n",
       "      <td>PAIDOFF</td>\n",
       "      <td>1000</td>\n",
       "      <td>15</td>\n",
       "      <td>2016-09-08</td>\n",
       "      <td>2016-09-22</td>\n",
       "      <td>27</td>\n",
       "      <td>college</td>\n",
       "      <td>0</td>\n",
       "      <td>3</td>\n",
       "      <td>0</td>\n",
       "    </tr>\n",
       "    <tr>\n",
       "      <th>3</th>\n",
       "      <td>4</td>\n",
       "      <td>4</td>\n",
       "      <td>PAIDOFF</td>\n",
       "      <td>1000</td>\n",
       "      <td>30</td>\n",
       "      <td>2016-09-09</td>\n",
       "      <td>2016-10-08</td>\n",
       "      <td>28</td>\n",
       "      <td>college</td>\n",
       "      <td>1</td>\n",
       "      <td>4</td>\n",
       "      <td>1</td>\n",
       "    </tr>\n",
       "    <tr>\n",
       "      <th>4</th>\n",
       "      <td>6</td>\n",
       "      <td>6</td>\n",
       "      <td>PAIDOFF</td>\n",
       "      <td>1000</td>\n",
       "      <td>30</td>\n",
       "      <td>2016-09-09</td>\n",
       "      <td>2016-10-08</td>\n",
       "      <td>29</td>\n",
       "      <td>college</td>\n",
       "      <td>0</td>\n",
       "      <td>4</td>\n",
       "      <td>1</td>\n",
       "    </tr>\n",
       "  </tbody>\n",
       "</table>\n",
       "</div>"
      ],
      "text/plain": [
       "   Unnamed: 0  Unnamed: 0.1 loan_status  Principal  terms effective_date  \\\n",
       "0           0             0     PAIDOFF       1000     30     2016-09-08   \n",
       "1           2             2     PAIDOFF       1000     30     2016-09-08   \n",
       "2           3             3     PAIDOFF       1000     15     2016-09-08   \n",
       "3           4             4     PAIDOFF       1000     30     2016-09-09   \n",
       "4           6             6     PAIDOFF       1000     30     2016-09-09   \n",
       "\n",
       "    due_date  age             education  Gender  dayofweek  weekend  \n",
       "0 2016-10-07   45  High School or Below       0          3        0  \n",
       "1 2016-10-07   33              Bechalor       1          3        0  \n",
       "2 2016-09-22   27               college       0          3        0  \n",
       "3 2016-10-08   28               college       1          4        1  \n",
       "4 2016-10-08   29               college       0          4        1  "
      ]
     },
     "execution_count": 14,
     "metadata": {},
     "output_type": "execute_result"
    }
   ],
   "source": [
    "df['Gender'].replace(to_replace=['male','female'], value=[0,1],inplace=True)\n",
    "df.head()"
   ]
  },
  {
   "cell_type": "markdown",
   "id": "bbb2c620",
   "metadata": {
    "button": false,
    "new_sheet": false,
    "papermill": {
     "duration": 0.018907,
     "end_time": "2022-10-22T13:56:22.046056",
     "exception": false,
     "start_time": "2022-10-22T13:56:22.027149",
     "status": "completed"
    },
    "run_control": {
     "read_only": false
    },
    "tags": []
   },
   "source": [
    "## One Hot Encoding\n",
    "\n",
    "#### How about education?\n"
   ]
  },
  {
   "cell_type": "code",
   "execution_count": 15,
   "id": "dd9c6695",
   "metadata": {
    "button": false,
    "execution": {
     "iopub.execute_input": "2022-10-22T13:56:22.086808Z",
     "iopub.status.busy": "2022-10-22T13:56:22.086067Z",
     "iopub.status.idle": "2022-10-22T13:56:22.095884Z",
     "shell.execute_reply": "2022-10-22T13:56:22.094918Z"
    },
    "new_sheet": false,
    "papermill": {
     "duration": 0.033098,
     "end_time": "2022-10-22T13:56:22.098382",
     "exception": false,
     "start_time": "2022-10-22T13:56:22.065284",
     "status": "completed"
    },
    "run_control": {
     "read_only": false
    },
    "tags": []
   },
   "outputs": [
    {
     "data": {
      "text/plain": [
       "education             loan_status\n",
       "Bechalor              PAIDOFF        0.750000\n",
       "                      COLLECTION     0.250000\n",
       "High School or Below  PAIDOFF        0.741722\n",
       "                      COLLECTION     0.258278\n",
       "Master or Above       COLLECTION     0.500000\n",
       "                      PAIDOFF        0.500000\n",
       "college               PAIDOFF        0.765101\n",
       "                      COLLECTION     0.234899\n",
       "Name: loan_status, dtype: float64"
      ]
     },
     "execution_count": 15,
     "metadata": {},
     "output_type": "execute_result"
    }
   ],
   "source": [
    "df.groupby(['education'])['loan_status'].value_counts(normalize=True)"
   ]
  },
  {
   "cell_type": "markdown",
   "id": "ffad3e32",
   "metadata": {
    "button": false,
    "new_sheet": false,
    "papermill": {
     "duration": 0.01945,
     "end_time": "2022-10-22T13:56:22.137528",
     "exception": false,
     "start_time": "2022-10-22T13:56:22.118078",
     "status": "completed"
    },
    "run_control": {
     "read_only": false
    },
    "tags": []
   },
   "source": [
    "#### Features before One Hot Encoding\n"
   ]
  },
  {
   "cell_type": "code",
   "execution_count": 16,
   "id": "fe5838aa",
   "metadata": {
    "button": false,
    "execution": {
     "iopub.execute_input": "2022-10-22T13:56:22.178469Z",
     "iopub.status.busy": "2022-10-22T13:56:22.178025Z",
     "iopub.status.idle": "2022-10-22T13:56:22.191563Z",
     "shell.execute_reply": "2022-10-22T13:56:22.190645Z"
    },
    "new_sheet": false,
    "papermill": {
     "duration": 0.03672,
     "end_time": "2022-10-22T13:56:22.193858",
     "exception": false,
     "start_time": "2022-10-22T13:56:22.157138",
     "status": "completed"
    },
    "run_control": {
     "read_only": false
    },
    "tags": []
   },
   "outputs": [
    {
     "data": {
      "text/html": [
       "<div>\n",
       "<style scoped>\n",
       "    .dataframe tbody tr th:only-of-type {\n",
       "        vertical-align: middle;\n",
       "    }\n",
       "\n",
       "    .dataframe tbody tr th {\n",
       "        vertical-align: top;\n",
       "    }\n",
       "\n",
       "    .dataframe thead th {\n",
       "        text-align: right;\n",
       "    }\n",
       "</style>\n",
       "<table border=\"1\" class=\"dataframe\">\n",
       "  <thead>\n",
       "    <tr style=\"text-align: right;\">\n",
       "      <th></th>\n",
       "      <th>Principal</th>\n",
       "      <th>terms</th>\n",
       "      <th>age</th>\n",
       "      <th>Gender</th>\n",
       "      <th>education</th>\n",
       "    </tr>\n",
       "  </thead>\n",
       "  <tbody>\n",
       "    <tr>\n",
       "      <th>0</th>\n",
       "      <td>1000</td>\n",
       "      <td>30</td>\n",
       "      <td>45</td>\n",
       "      <td>0</td>\n",
       "      <td>High School or Below</td>\n",
       "    </tr>\n",
       "    <tr>\n",
       "      <th>1</th>\n",
       "      <td>1000</td>\n",
       "      <td>30</td>\n",
       "      <td>33</td>\n",
       "      <td>1</td>\n",
       "      <td>Bechalor</td>\n",
       "    </tr>\n",
       "    <tr>\n",
       "      <th>2</th>\n",
       "      <td>1000</td>\n",
       "      <td>15</td>\n",
       "      <td>27</td>\n",
       "      <td>0</td>\n",
       "      <td>college</td>\n",
       "    </tr>\n",
       "    <tr>\n",
       "      <th>3</th>\n",
       "      <td>1000</td>\n",
       "      <td>30</td>\n",
       "      <td>28</td>\n",
       "      <td>1</td>\n",
       "      <td>college</td>\n",
       "    </tr>\n",
       "    <tr>\n",
       "      <th>4</th>\n",
       "      <td>1000</td>\n",
       "      <td>30</td>\n",
       "      <td>29</td>\n",
       "      <td>0</td>\n",
       "      <td>college</td>\n",
       "    </tr>\n",
       "  </tbody>\n",
       "</table>\n",
       "</div>"
      ],
      "text/plain": [
       "   Principal  terms  age  Gender             education\n",
       "0       1000     30   45       0  High School or Below\n",
       "1       1000     30   33       1              Bechalor\n",
       "2       1000     15   27       0               college\n",
       "3       1000     30   28       1               college\n",
       "4       1000     30   29       0               college"
      ]
     },
     "execution_count": 16,
     "metadata": {},
     "output_type": "execute_result"
    }
   ],
   "source": [
    "df[['Principal','terms','age','Gender','education']].head()"
   ]
  },
  {
   "cell_type": "markdown",
   "id": "96098302",
   "metadata": {
    "button": false,
    "new_sheet": false,
    "papermill": {
     "duration": 0.019572,
     "end_time": "2022-10-22T13:56:22.233696",
     "exception": false,
     "start_time": "2022-10-22T13:56:22.214124",
     "status": "completed"
    },
    "run_control": {
     "read_only": false
    },
    "tags": []
   },
   "source": [
    "#### Use one hot encoding technique to conver categorical varables to binary variables and append them to the feature Data Frame\n"
   ]
  },
  {
   "cell_type": "code",
   "execution_count": 17,
   "id": "375bf033",
   "metadata": {
    "button": false,
    "execution": {
     "iopub.execute_input": "2022-10-22T13:56:22.276430Z",
     "iopub.status.busy": "2022-10-22T13:56:22.275205Z",
     "iopub.status.idle": "2022-10-22T13:56:22.294020Z",
     "shell.execute_reply": "2022-10-22T13:56:22.292593Z"
    },
    "new_sheet": false,
    "papermill": {
     "duration": 0.042979,
     "end_time": "2022-10-22T13:56:22.296503",
     "exception": false,
     "start_time": "2022-10-22T13:56:22.253524",
     "status": "completed"
    },
    "run_control": {
     "read_only": false
    },
    "tags": []
   },
   "outputs": [
    {
     "data": {
      "text/html": [
       "<div>\n",
       "<style scoped>\n",
       "    .dataframe tbody tr th:only-of-type {\n",
       "        vertical-align: middle;\n",
       "    }\n",
       "\n",
       "    .dataframe tbody tr th {\n",
       "        vertical-align: top;\n",
       "    }\n",
       "\n",
       "    .dataframe thead th {\n",
       "        text-align: right;\n",
       "    }\n",
       "</style>\n",
       "<table border=\"1\" class=\"dataframe\">\n",
       "  <thead>\n",
       "    <tr style=\"text-align: right;\">\n",
       "      <th></th>\n",
       "      <th>Principal</th>\n",
       "      <th>terms</th>\n",
       "      <th>age</th>\n",
       "      <th>Gender</th>\n",
       "      <th>weekend</th>\n",
       "      <th>Bechalor</th>\n",
       "      <th>High School or Below</th>\n",
       "      <th>college</th>\n",
       "    </tr>\n",
       "  </thead>\n",
       "  <tbody>\n",
       "    <tr>\n",
       "      <th>0</th>\n",
       "      <td>1000</td>\n",
       "      <td>30</td>\n",
       "      <td>45</td>\n",
       "      <td>0</td>\n",
       "      <td>0</td>\n",
       "      <td>0</td>\n",
       "      <td>1</td>\n",
       "      <td>0</td>\n",
       "    </tr>\n",
       "    <tr>\n",
       "      <th>1</th>\n",
       "      <td>1000</td>\n",
       "      <td>30</td>\n",
       "      <td>33</td>\n",
       "      <td>1</td>\n",
       "      <td>0</td>\n",
       "      <td>1</td>\n",
       "      <td>0</td>\n",
       "      <td>0</td>\n",
       "    </tr>\n",
       "    <tr>\n",
       "      <th>2</th>\n",
       "      <td>1000</td>\n",
       "      <td>15</td>\n",
       "      <td>27</td>\n",
       "      <td>0</td>\n",
       "      <td>0</td>\n",
       "      <td>0</td>\n",
       "      <td>0</td>\n",
       "      <td>1</td>\n",
       "    </tr>\n",
       "    <tr>\n",
       "      <th>3</th>\n",
       "      <td>1000</td>\n",
       "      <td>30</td>\n",
       "      <td>28</td>\n",
       "      <td>1</td>\n",
       "      <td>1</td>\n",
       "      <td>0</td>\n",
       "      <td>0</td>\n",
       "      <td>1</td>\n",
       "    </tr>\n",
       "    <tr>\n",
       "      <th>4</th>\n",
       "      <td>1000</td>\n",
       "      <td>30</td>\n",
       "      <td>29</td>\n",
       "      <td>0</td>\n",
       "      <td>1</td>\n",
       "      <td>0</td>\n",
       "      <td>0</td>\n",
       "      <td>1</td>\n",
       "    </tr>\n",
       "  </tbody>\n",
       "</table>\n",
       "</div>"
      ],
      "text/plain": [
       "   Principal  terms  age  Gender  weekend  Bechalor  High School or Below  \\\n",
       "0       1000     30   45       0        0         0                     1   \n",
       "1       1000     30   33       1        0         1                     0   \n",
       "2       1000     15   27       0        0         0                     0   \n",
       "3       1000     30   28       1        1         0                     0   \n",
       "4       1000     30   29       0        1         0                     0   \n",
       "\n",
       "   college  \n",
       "0        0  \n",
       "1        0  \n",
       "2        1  \n",
       "3        1  \n",
       "4        1  "
      ]
     },
     "execution_count": 17,
     "metadata": {},
     "output_type": "execute_result"
    }
   ],
   "source": [
    "Feature = df[['Principal','terms','age','Gender','weekend']]\n",
    "Feature = pd.concat([Feature,pd.get_dummies(df['education'])], axis=1)\n",
    "Feature.drop(['Master or Above'], axis = 1,inplace=True)\n",
    "Feature.head()\n"
   ]
  },
  {
   "cell_type": "markdown",
   "id": "ffc53f9e",
   "metadata": {
    "button": false,
    "new_sheet": false,
    "papermill": {
     "duration": 0.020393,
     "end_time": "2022-10-22T13:56:22.337815",
     "exception": false,
     "start_time": "2022-10-22T13:56:22.317422",
     "status": "completed"
    },
    "run_control": {
     "read_only": false
    },
    "tags": []
   },
   "source": [
    "### Feature Selection\n"
   ]
  },
  {
   "cell_type": "markdown",
   "id": "99dbb5a5",
   "metadata": {
    "button": false,
    "new_sheet": false,
    "papermill": {
     "duration": 0.019925,
     "end_time": "2022-10-22T13:56:22.379460",
     "exception": false,
     "start_time": "2022-10-22T13:56:22.359535",
     "status": "completed"
    },
    "run_control": {
     "read_only": false
    },
    "tags": []
   },
   "source": [
    "Let's define feature sets, X:\n"
   ]
  },
  {
   "cell_type": "code",
   "execution_count": 18,
   "id": "07b8051a",
   "metadata": {
    "button": false,
    "execution": {
     "iopub.execute_input": "2022-10-22T13:56:22.421804Z",
     "iopub.status.busy": "2022-10-22T13:56:22.421345Z",
     "iopub.status.idle": "2022-10-22T13:56:22.433702Z",
     "shell.execute_reply": "2022-10-22T13:56:22.432624Z"
    },
    "new_sheet": false,
    "papermill": {
     "duration": 0.036601,
     "end_time": "2022-10-22T13:56:22.436046",
     "exception": false,
     "start_time": "2022-10-22T13:56:22.399445",
     "status": "completed"
    },
    "run_control": {
     "read_only": false
    },
    "tags": []
   },
   "outputs": [
    {
     "data": {
      "text/html": [
       "<div>\n",
       "<style scoped>\n",
       "    .dataframe tbody tr th:only-of-type {\n",
       "        vertical-align: middle;\n",
       "    }\n",
       "\n",
       "    .dataframe tbody tr th {\n",
       "        vertical-align: top;\n",
       "    }\n",
       "\n",
       "    .dataframe thead th {\n",
       "        text-align: right;\n",
       "    }\n",
       "</style>\n",
       "<table border=\"1\" class=\"dataframe\">\n",
       "  <thead>\n",
       "    <tr style=\"text-align: right;\">\n",
       "      <th></th>\n",
       "      <th>Principal</th>\n",
       "      <th>terms</th>\n",
       "      <th>age</th>\n",
       "      <th>Gender</th>\n",
       "      <th>weekend</th>\n",
       "      <th>Bechalor</th>\n",
       "      <th>High School or Below</th>\n",
       "      <th>college</th>\n",
       "    </tr>\n",
       "  </thead>\n",
       "  <tbody>\n",
       "    <tr>\n",
       "      <th>0</th>\n",
       "      <td>1000</td>\n",
       "      <td>30</td>\n",
       "      <td>45</td>\n",
       "      <td>0</td>\n",
       "      <td>0</td>\n",
       "      <td>0</td>\n",
       "      <td>1</td>\n",
       "      <td>0</td>\n",
       "    </tr>\n",
       "    <tr>\n",
       "      <th>1</th>\n",
       "      <td>1000</td>\n",
       "      <td>30</td>\n",
       "      <td>33</td>\n",
       "      <td>1</td>\n",
       "      <td>0</td>\n",
       "      <td>1</td>\n",
       "      <td>0</td>\n",
       "      <td>0</td>\n",
       "    </tr>\n",
       "    <tr>\n",
       "      <th>2</th>\n",
       "      <td>1000</td>\n",
       "      <td>15</td>\n",
       "      <td>27</td>\n",
       "      <td>0</td>\n",
       "      <td>0</td>\n",
       "      <td>0</td>\n",
       "      <td>0</td>\n",
       "      <td>1</td>\n",
       "    </tr>\n",
       "    <tr>\n",
       "      <th>3</th>\n",
       "      <td>1000</td>\n",
       "      <td>30</td>\n",
       "      <td>28</td>\n",
       "      <td>1</td>\n",
       "      <td>1</td>\n",
       "      <td>0</td>\n",
       "      <td>0</td>\n",
       "      <td>1</td>\n",
       "    </tr>\n",
       "    <tr>\n",
       "      <th>4</th>\n",
       "      <td>1000</td>\n",
       "      <td>30</td>\n",
       "      <td>29</td>\n",
       "      <td>0</td>\n",
       "      <td>1</td>\n",
       "      <td>0</td>\n",
       "      <td>0</td>\n",
       "      <td>1</td>\n",
       "    </tr>\n",
       "  </tbody>\n",
       "</table>\n",
       "</div>"
      ],
      "text/plain": [
       "   Principal  terms  age  Gender  weekend  Bechalor  High School or Below  \\\n",
       "0       1000     30   45       0        0         0                     1   \n",
       "1       1000     30   33       1        0         1                     0   \n",
       "2       1000     15   27       0        0         0                     0   \n",
       "3       1000     30   28       1        1         0                     0   \n",
       "4       1000     30   29       0        1         0                     0   \n",
       "\n",
       "   college  \n",
       "0        0  \n",
       "1        0  \n",
       "2        1  \n",
       "3        1  \n",
       "4        1  "
      ]
     },
     "execution_count": 18,
     "metadata": {},
     "output_type": "execute_result"
    }
   ],
   "source": [
    "X = Feature\n",
    "X[0:5]"
   ]
  },
  {
   "cell_type": "markdown",
   "id": "b407cd5e",
   "metadata": {
    "button": false,
    "new_sheet": false,
    "papermill": {
     "duration": 0.020498,
     "end_time": "2022-10-22T13:56:22.477086",
     "exception": false,
     "start_time": "2022-10-22T13:56:22.456588",
     "status": "completed"
    },
    "run_control": {
     "read_only": false
    },
    "tags": []
   },
   "source": [
    "What are our lables?\n"
   ]
  },
  {
   "cell_type": "code",
   "execution_count": 19,
   "id": "c6f12693",
   "metadata": {
    "button": false,
    "execution": {
     "iopub.execute_input": "2022-10-22T13:56:22.519839Z",
     "iopub.status.busy": "2022-10-22T13:56:22.519368Z",
     "iopub.status.idle": "2022-10-22T13:56:22.526972Z",
     "shell.execute_reply": "2022-10-22T13:56:22.525921Z"
    },
    "new_sheet": false,
    "papermill": {
     "duration": 0.031226,
     "end_time": "2022-10-22T13:56:22.529224",
     "exception": false,
     "start_time": "2022-10-22T13:56:22.497998",
     "status": "completed"
    },
    "run_control": {
     "read_only": false
    },
    "tags": []
   },
   "outputs": [
    {
     "data": {
      "text/plain": [
       "array(['PAIDOFF', 'PAIDOFF', 'PAIDOFF', 'PAIDOFF', 'PAIDOFF'],\n",
       "      dtype=object)"
      ]
     },
     "execution_count": 19,
     "metadata": {},
     "output_type": "execute_result"
    }
   ],
   "source": [
    "y = df['loan_status'].values\n",
    "y[0:5]"
   ]
  },
  {
   "cell_type": "markdown",
   "id": "13aa6688",
   "metadata": {
    "button": false,
    "new_sheet": false,
    "papermill": {
     "duration": 0.020961,
     "end_time": "2022-10-22T13:56:22.571462",
     "exception": false,
     "start_time": "2022-10-22T13:56:22.550501",
     "status": "completed"
    },
    "run_control": {
     "read_only": false
    },
    "tags": []
   },
   "source": [
    "## Normalize Data\n"
   ]
  },
  {
   "cell_type": "markdown",
   "id": "e9dc0f4f",
   "metadata": {
    "button": false,
    "new_sheet": false,
    "papermill": {
     "duration": 0.020845,
     "end_time": "2022-10-22T13:56:22.613674",
     "exception": false,
     "start_time": "2022-10-22T13:56:22.592829",
     "status": "completed"
    },
    "run_control": {
     "read_only": false
    },
    "tags": []
   },
   "source": [
    "Data Standardization give data zero mean and unit variance (technically should be done after train test split)\n"
   ]
  },
  {
   "cell_type": "code",
   "execution_count": 20,
   "id": "305f5638",
   "metadata": {
    "button": false,
    "execution": {
     "iopub.execute_input": "2022-10-22T13:56:22.659445Z",
     "iopub.status.busy": "2022-10-22T13:56:22.659058Z",
     "iopub.status.idle": "2022-10-22T13:56:22.671091Z",
     "shell.execute_reply": "2022-10-22T13:56:22.670080Z"
    },
    "new_sheet": false,
    "papermill": {
     "duration": 0.038766,
     "end_time": "2022-10-22T13:56:22.673594",
     "exception": false,
     "start_time": "2022-10-22T13:56:22.634828",
     "status": "completed"
    },
    "run_control": {
     "read_only": false
    },
    "tags": []
   },
   "outputs": [
    {
     "data": {
      "text/plain": [
       "array([[ 0.51578458,  0.92071769,  2.33152555, -0.42056004, -1.20577805,\n",
       "        -0.38170062,  1.13639374, -0.86968108],\n",
       "       [ 0.51578458,  0.92071769,  0.34170148,  2.37778177, -1.20577805,\n",
       "         2.61985426, -0.87997669, -0.86968108],\n",
       "       [ 0.51578458, -0.95911111, -0.65321055, -0.42056004, -1.20577805,\n",
       "        -0.38170062, -0.87997669,  1.14984679],\n",
       "       [ 0.51578458,  0.92071769, -0.48739188,  2.37778177,  0.82934003,\n",
       "        -0.38170062, -0.87997669,  1.14984679],\n",
       "       [ 0.51578458,  0.92071769, -0.3215732 , -0.42056004,  0.82934003,\n",
       "        -0.38170062, -0.87997669,  1.14984679]])"
      ]
     },
     "execution_count": 20,
     "metadata": {},
     "output_type": "execute_result"
    }
   ],
   "source": [
    "X= preprocessing.StandardScaler().fit(X).transform(X)\n",
    "X[0:5]"
   ]
  },
  {
   "cell_type": "markdown",
   "id": "d8d20a2a",
   "metadata": {
    "button": false,
    "new_sheet": false,
    "papermill": {
     "duration": 0.021648,
     "end_time": "2022-10-22T13:56:22.718286",
     "exception": false,
     "start_time": "2022-10-22T13:56:22.696638",
     "status": "completed"
    },
    "run_control": {
     "read_only": false
    },
    "tags": []
   },
   "source": [
    "# Classification\n"
   ]
  },
  {
   "cell_type": "markdown",
   "id": "68fa9beb",
   "metadata": {
    "button": false,
    "new_sheet": false,
    "papermill": {
     "duration": 0.021015,
     "end_time": "2022-10-22T13:56:22.759971",
     "exception": false,
     "start_time": "2022-10-22T13:56:22.738956",
     "status": "completed"
    },
    "run_control": {
     "read_only": false
    },
    "tags": []
   },
   "source": [
    "Now, it is your turn, use the training set to build an accurate model. Then use the test set to report the accuracy of the model\n",
    "You should use the following algorithm:\n",
    "\n",
    "*   K Nearest Neighbor(KNN)\n",
    "*   Decision Tree\n",
    "*   Support Vector Machine\n",
    "*   Logistic Regression\n",
    "\n",
    "\\__ Notice:\\__\n",
    "\n",
    "*   You can go above and change the pre-processing, feature selection, feature-extraction, and so on, to make a better model.\n",
    "*   You should use either scikit-learn, Scipy or Numpy libraries for developing the classification algorithms.\n",
    "*   You should include the code of the algorithm in the following cells.\n"
   ]
  },
  {
   "cell_type": "markdown",
   "id": "83f3c797",
   "metadata": {
    "papermill": {
     "duration": 0.021481,
     "end_time": "2022-10-22T13:56:22.802328",
     "exception": false,
     "start_time": "2022-10-22T13:56:22.780847",
     "status": "completed"
    },
    "tags": []
   },
   "source": [
    "# K Nearest Neighbor(KNN)\n",
    "\n",
    "Notice: You should find the best k to build the model with the best accuracy.\\\n",
    "**warning:** You should not use the **loan_test.csv** for finding the best k, however, you can split your train_loan.csv into train and test to find the best **k**.\n"
   ]
  },
  {
   "cell_type": "code",
   "execution_count": 21,
   "id": "305d4135",
   "metadata": {
    "execution": {
     "iopub.execute_input": "2022-10-22T13:56:22.846410Z",
     "iopub.status.busy": "2022-10-22T13:56:22.845368Z",
     "iopub.status.idle": "2022-10-22T13:56:22.911953Z",
     "shell.execute_reply": "2022-10-22T13:56:22.910507Z"
    },
    "papermill": {
     "duration": 0.091512,
     "end_time": "2022-10-22T13:56:22.914730",
     "exception": false,
     "start_time": "2022-10-22T13:56:22.823218",
     "status": "completed"
    },
    "tags": []
   },
   "outputs": [
    {
     "name": "stdout",
     "output_type": "stream",
     "text": [
      "Train set:  (276, 8) (276,)\n",
      "Test set:  (70, 8) (70,)\n"
     ]
    }
   ],
   "source": [
    "#Data Sets:\n",
    "from sklearn.model_selection import train_test_split\n",
    "X_train, X_test, y_train, y_test = train_test_split(X, y, test_size=0.2, random_state=4)\n",
    "\n",
    "print(\"Train set: \", X_train.shape, y_train.shape)\n",
    "print(\"Test set: \", X_test.shape, y_test.shape)"
   ]
  },
  {
   "cell_type": "code",
   "execution_count": 22,
   "id": "b0564c50",
   "metadata": {
    "execution": {
     "iopub.execute_input": "2022-10-22T13:56:22.957777Z",
     "iopub.status.busy": "2022-10-22T13:56:22.957353Z",
     "iopub.status.idle": "2022-10-22T13:56:23.145011Z",
     "shell.execute_reply": "2022-10-22T13:56:23.143436Z"
    },
    "papermill": {
     "duration": 0.212635,
     "end_time": "2022-10-22T13:56:23.148142",
     "exception": false,
     "start_time": "2022-10-22T13:56:22.935507",
     "status": "completed"
    },
    "tags": []
   },
   "outputs": [
    {
     "name": "stdout",
     "output_type": "stream",
     "text": [
      "1 0.6428571428571429\n",
      "2 0.5857142857142857\n",
      "3 0.7428571428571429\n",
      "4 0.7\n",
      "5 0.7428571428571429\n",
      "6 0.7142857142857143\n",
      "7 0.8\n",
      "8 0.7571428571428571\n",
      "9 0.7428571428571429\n"
     ]
    }
   ],
   "source": [
    "from sklearn.neighbors import KNeighborsClassifier\n",
    "from sklearn.metrics import accuracy_score\n",
    "k = 3\n",
    "#We fit the model:\n",
    "kNN_model = KNeighborsClassifier(n_neighbors=k).fit(X_train, y_train)\n",
    "kNN_model\n",
    "y_pred = kNN_model.predict( X_test )\n",
    "\n",
    "#Find the max value\n",
    "accuracies = {}\n",
    "k_max = 1\n",
    "acc_max = 0\n",
    "for k in range(1, 10):\n",
    "    kNN_model = KNeighborsClassifier(n_neighbors=k).fit(X_train, y_train)\n",
    "    y_pred = kNN_model.predict( X_test )\n",
    "    accuracies[k] = accuracy_score(y_test, y_pred)\n",
    "    print(k, accuracies[k])"
   ]
  },
  {
   "cell_type": "code",
   "execution_count": 23,
   "id": "22e3dc30",
   "metadata": {
    "execution": {
     "iopub.execute_input": "2022-10-22T13:56:23.193926Z",
     "iopub.status.busy": "2022-10-22T13:56:23.193173Z",
     "iopub.status.idle": "2022-10-22T13:56:23.247933Z",
     "shell.execute_reply": "2022-10-22T13:56:23.246638Z"
    },
    "papermill": {
     "duration": 0.080924,
     "end_time": "2022-10-22T13:56:23.250817",
     "exception": false,
     "start_time": "2022-10-22T13:56:23.169893",
     "status": "completed"
    },
    "tags": []
   },
   "outputs": [
    {
     "name": "stdout",
     "output_type": "stream",
     "text": [
      "We take k = 7\n",
      "Train set Accuracy (Jaccard):  0.8043478260869565\n",
      "Test set Accuracy (Jaccard):  0.8\n",
      "Train set Accuracy (F1):  0.7942614463042823\n",
      "Test set Accuracy (F1):  0.8\n"
     ]
    }
   ],
   "source": [
    "from sklearn.metrics import f1_score\n",
    "from sklearn.metrics import jaccard_score\n",
    "from sklearn import metrics\n",
    "\n",
    "print(\"We take k = 7\")\n",
    "knn_model = KNeighborsClassifier(n_neighbors = 7).fit(X_train, y_train)\n",
    "\n",
    "print(\"Train set Accuracy (Jaccard): \", metrics.accuracy_score(y_train, knn_model.predict(X_train)))\n",
    "print(\"Test set Accuracy (Jaccard): \", metrics.accuracy_score(y_test, knn_model.predict(X_test)))\n",
    "\n",
    "print(\"Train set Accuracy (F1): \", f1_score(y_train, knn_model.predict(X_train), average='weighted'))\n",
    "print(\"Test set Accuracy (F1): \", f1_score(y_test, knn_model.predict(X_test), average='weighted'))\n"
   ]
  },
  {
   "cell_type": "markdown",
   "id": "e601340f",
   "metadata": {
    "papermill": {
     "duration": 0.022767,
     "end_time": "2022-10-22T13:56:23.296848",
     "exception": false,
     "start_time": "2022-10-22T13:56:23.274081",
     "status": "completed"
    },
    "tags": []
   },
   "source": [
    "# Decision Tree\n"
   ]
  },
  {
   "cell_type": "code",
   "execution_count": 24,
   "id": "d33c07a2",
   "metadata": {
    "execution": {
     "iopub.execute_input": "2022-10-22T13:56:23.348622Z",
     "iopub.status.busy": "2022-10-22T13:56:23.348230Z",
     "iopub.status.idle": "2022-10-22T13:56:23.387071Z",
     "shell.execute_reply": "2022-10-22T13:56:23.385948Z"
    },
    "papermill": {
     "duration": 0.066817,
     "end_time": "2022-10-22T13:56:23.389629",
     "exception": false,
     "start_time": "2022-10-22T13:56:23.322812",
     "status": "completed"
    },
    "tags": []
   },
   "outputs": [],
   "source": [
    "from sklearn.tree import DecisionTreeClassifier"
   ]
  },
  {
   "cell_type": "code",
   "execution_count": 25,
   "id": "e37f808c",
   "metadata": {
    "execution": {
     "iopub.execute_input": "2022-10-22T13:56:23.438982Z",
     "iopub.status.busy": "2022-10-22T13:56:23.438070Z",
     "iopub.status.idle": "2022-10-22T13:56:23.459577Z",
     "shell.execute_reply": "2022-10-22T13:56:23.457817Z"
    },
    "papermill": {
     "duration": 0.048088,
     "end_time": "2022-10-22T13:56:23.462368",
     "exception": false,
     "start_time": "2022-10-22T13:56:23.414280",
     "status": "completed"
    },
    "tags": []
   },
   "outputs": [
    {
     "name": "stdout",
     "output_type": "stream",
     "text": [
      "1 0.7857142857142857\n",
      "2 0.7857142857142857\n",
      "3 0.6142857142857143\n",
      "4 0.6142857142857143\n",
      "5 0.6428571428571429\n",
      "6 0.7714285714285715\n",
      "7 0.7571428571428571\n",
      "8 0.7571428571428571\n",
      "9 0.6571428571428571\n"
     ]
    }
   ],
   "source": [
    "for d in range(1,10):\n",
    "    dt = DecisionTreeClassifier(criterion = 'entropy', max_depth = d).fit(X_train, y_train)\n",
    "    y_pred = dt.predict(X_test)\n",
    "    print(d, accuracy_score(y_test, y_pred))"
   ]
  },
  {
   "cell_type": "code",
   "execution_count": 26,
   "id": "9cceb1a4",
   "metadata": {
    "execution": {
     "iopub.execute_input": "2022-10-22T13:56:23.505892Z",
     "iopub.status.busy": "2022-10-22T13:56:23.505415Z",
     "iopub.status.idle": "2022-10-22T13:56:23.521103Z",
     "shell.execute_reply": "2022-10-22T13:56:23.519847Z"
    },
    "papermill": {
     "duration": 0.041114,
     "end_time": "2022-10-22T13:56:23.524467",
     "exception": false,
     "start_time": "2022-10-22T13:56:23.483353",
     "status": "completed"
    },
    "tags": []
   },
   "outputs": [
    {
     "name": "stdout",
     "output_type": "stream",
     "text": [
      "Train set Accuracy (Jaccard):  0.7427536231884058\n",
      "Test set Accuracy (Jaccard):  0.7857142857142857\n",
      "Train set Accuracy (F1):  0.6331163939859591\n",
      "Test set Accuracy (F1):  0.6914285714285714\n"
     ]
    }
   ],
   "source": [
    "dt = DecisionTreeClassifier(criterion=\"entropy\", max_depth=2).fit(X_train, y_train)\n",
    "\n",
    "print(\"Train set Accuracy (Jaccard): \", metrics.accuracy_score(y_train, dt.predict(X_train)))\n",
    "print(\"Test set Accuracy (Jaccard): \", metrics.accuracy_score(y_test, dt.predict(X_test)))\n",
    "\n",
    "print(\"Train set Accuracy (F1): \", f1_score(y_train, dt.predict(X_train), average='weighted'))\n",
    "print(\"Test set Accuracy (F1): \", f1_score(y_test, dt.predict(X_test), average='weighted'))"
   ]
  },
  {
   "cell_type": "markdown",
   "id": "a7d7c4a8",
   "metadata": {
    "papermill": {
     "duration": 0.022307,
     "end_time": "2022-10-22T13:56:23.569384",
     "exception": false,
     "start_time": "2022-10-22T13:56:23.547077",
     "status": "completed"
    },
    "tags": []
   },
   "source": [
    "# Support Vector Machine\n"
   ]
  },
  {
   "cell_type": "code",
   "execution_count": 27,
   "id": "42730027",
   "metadata": {
    "execution": {
     "iopub.execute_input": "2022-10-22T13:56:23.617457Z",
     "iopub.status.busy": "2022-10-22T13:56:23.617059Z",
     "iopub.status.idle": "2022-10-22T13:56:23.622452Z",
     "shell.execute_reply": "2022-10-22T13:56:23.620852Z"
    },
    "papermill": {
     "duration": 0.031397,
     "end_time": "2022-10-22T13:56:23.625100",
     "exception": false,
     "start_time": "2022-10-22T13:56:23.593703",
     "status": "completed"
    },
    "tags": []
   },
   "outputs": [],
   "source": [
    "from sklearn import svm "
   ]
  },
  {
   "cell_type": "code",
   "execution_count": 28,
   "id": "7091c667",
   "metadata": {
    "execution": {
     "iopub.execute_input": "2022-10-22T13:56:23.670236Z",
     "iopub.status.busy": "2022-10-22T13:56:23.669808Z",
     "iopub.status.idle": "2022-10-22T13:56:23.702109Z",
     "shell.execute_reply": "2022-10-22T13:56:23.700413Z"
    },
    "papermill": {
     "duration": 0.059069,
     "end_time": "2022-10-22T13:56:23.705520",
     "exception": false,
     "start_time": "2022-10-22T13:56:23.646451",
     "status": "completed"
    },
    "tags": []
   },
   "outputs": [
    {
     "name": "stdout",
     "output_type": "stream",
     "text": [
      "For kernel: linear, the f1 score is: 0.6914285714285714\n",
      "For kernel: poly, the f1 score is: 0.7064793130366899\n",
      "For kernel: rbf, the f1 score is: 0.7275882012724117\n",
      "For kernel: sigmoid, the f1 score is: 0.6892857142857144\n"
     ]
    }
   ],
   "source": [
    "for k in ('linear', 'poly', 'rbf','sigmoid'):\n",
    "    svm_model = svm.SVC( kernel = k).fit(X_train,y_train)\n",
    "    svm_yhat = svm_model.predict(X_test)\n",
    "    print(\"For kernel: {}, the f1 score is: {}\".format(k,f1_score(y_test,svm_yhat, average='weighted')))"
   ]
  },
  {
   "cell_type": "code",
   "execution_count": 29,
   "id": "bc4fc8be",
   "metadata": {
    "execution": {
     "iopub.execute_input": "2022-10-22T13:56:23.750700Z",
     "iopub.status.busy": "2022-10-22T13:56:23.750305Z",
     "iopub.status.idle": "2022-10-22T13:56:23.775613Z",
     "shell.execute_reply": "2022-10-22T13:56:23.774196Z"
    },
    "papermill": {
     "duration": 0.050371,
     "end_time": "2022-10-22T13:56:23.778247",
     "exception": false,
     "start_time": "2022-10-22T13:56:23.727876",
     "status": "completed"
    },
    "tags": []
   },
   "outputs": [
    {
     "name": "stdout",
     "output_type": "stream",
     "text": [
      "So we choose rbf\n",
      "Train set Accuracy (Jaccard):  0.782608695652174\n",
      "Test set Accuracy (Jaccard):  0.7428571428571429\n",
      "Train set Accuracy (F1):  0.7682165861513688\n",
      "Test set Accuracy (F1):  0.7275882012724117\n"
     ]
    }
   ],
   "source": [
    "print(\"So we choose rbf\")\n",
    "svm_model = svm.SVC( kernel = 'rbf').fit(X_train,y_train)\n",
    "\n",
    "\n",
    "print(\"Train set Accuracy (Jaccard): \", metrics.accuracy_score(y_train, svm_model.predict(X_train)))\n",
    "print(\"Test set Accuracy (Jaccard): \", metrics.accuracy_score(y_test, svm_model.predict(X_test)))\n",
    "\n",
    "print(\"Train set Accuracy (F1): \", f1_score(y_train, svm_model.predict(X_train), average='weighted'))\n",
    "print(\"Test set Accuracy (F1): \", f1_score(y_test, svm_model.predict(X_test), average='weighted'))"
   ]
  },
  {
   "cell_type": "markdown",
   "id": "e19ca491",
   "metadata": {
    "papermill": {
     "duration": 0.021656,
     "end_time": "2022-10-22T13:56:23.821240",
     "exception": false,
     "start_time": "2022-10-22T13:56:23.799584",
     "status": "completed"
    },
    "tags": []
   },
   "source": [
    "# Logistic Regression\n"
   ]
  },
  {
   "cell_type": "code",
   "execution_count": 30,
   "id": "34f8beec",
   "metadata": {
    "execution": {
     "iopub.execute_input": "2022-10-22T13:56:23.868527Z",
     "iopub.status.busy": "2022-10-22T13:56:23.868108Z",
     "iopub.status.idle": "2022-10-22T13:56:23.873634Z",
     "shell.execute_reply": "2022-10-22T13:56:23.872260Z"
    },
    "papermill": {
     "duration": 0.032073,
     "end_time": "2022-10-22T13:56:23.876130",
     "exception": false,
     "start_time": "2022-10-22T13:56:23.844057",
     "status": "completed"
    },
    "tags": []
   },
   "outputs": [],
   "source": [
    "from sklearn.linear_model import LogisticRegression \n",
    "from sklearn.metrics import log_loss"
   ]
  },
  {
   "cell_type": "code",
   "execution_count": 31,
   "id": "04adefce",
   "metadata": {
    "execution": {
     "iopub.execute_input": "2022-10-22T13:56:23.921236Z",
     "iopub.status.busy": "2022-10-22T13:56:23.920800Z",
     "iopub.status.idle": "2022-10-22T13:56:23.959200Z",
     "shell.execute_reply": "2022-10-22T13:56:23.957573Z"
    },
    "papermill": {
     "duration": 0.06476,
     "end_time": "2022-10-22T13:56:23.962082",
     "exception": false,
     "start_time": "2022-10-22T13:56:23.897322",
     "status": "completed"
    },
    "tags": []
   },
   "outputs": [
    {
     "name": "stdout",
     "output_type": "stream",
     "text": [
      "When Solver is lbfgs, logloss is : 0.4920179847937498\n",
      "When Solver is saga, logloss is : 0.4920178848404157\n",
      "When Solver is liblinear, logloss is : 0.5772287609479654\n",
      "When Solver is newton-cg, logloss is : 0.492017801467927\n",
      "When Solver is sag, logloss is : 0.49202095028598875\n"
     ]
    }
   ],
   "source": [
    "for k in ('lbfgs', 'saga', 'liblinear', 'newton-cg', 'sag'):\n",
    "    lr_model = LogisticRegression(C = 0.01, solver = k).fit(X_train, y_train)\n",
    "    lr_yhat = lr_model.predict(X_test)\n",
    "    y_prob = lr_model.predict_proba(X_test)\n",
    "    print('When Solver is {}, logloss is : {}'.format(k, log_loss(y_test, y_prob)))"
   ]
  },
  {
   "cell_type": "code",
   "execution_count": 32,
   "id": "fcf77dbb",
   "metadata": {
    "execution": {
     "iopub.execute_input": "2022-10-22T13:56:24.006789Z",
     "iopub.status.busy": "2022-10-22T13:56:24.006370Z",
     "iopub.status.idle": "2022-10-22T13:56:24.021333Z",
     "shell.execute_reply": "2022-10-22T13:56:24.020098Z"
    },
    "papermill": {
     "duration": 0.040532,
     "end_time": "2022-10-22T13:56:24.024331",
     "exception": false,
     "start_time": "2022-10-22T13:56:23.983799",
     "status": "completed"
    },
    "tags": []
   },
   "outputs": [
    {
     "name": "stdout",
     "output_type": "stream",
     "text": [
      "Train set Accuracy (Jaccard):  0.7572463768115942\n",
      "Test set Accuracy (Jaccard):  0.6857142857142857\n",
      "Train set Accuracy (F1):  0.7341146337750953\n",
      "Test set Accuracy (F1):  0.6670522459996144\n"
     ]
    }
   ],
   "source": [
    "k = 'liblinear'\n",
    "lr_model = LogisticRegression(C = 0.01, solver = k).fit(X_train, y_train)\n",
    "\n",
    "print(\"Train set Accuracy (Jaccard): \", metrics.accuracy_score(y_train, lr_model.predict(X_train)))\n",
    "print(\"Test set Accuracy (Jaccard): \", metrics.accuracy_score(y_test, lr_model.predict(X_test)))\n",
    "\n",
    "print(\"Train set Accuracy (F1): \", f1_score(y_train, lr_model.predict(X_train), average='weighted'))\n",
    "print(\"Test set Accuracy (F1): \", f1_score(y_test, lr_model.predict(X_test), average='weighted'))"
   ]
  },
  {
   "cell_type": "markdown",
   "id": "d0cc37f9",
   "metadata": {
    "papermill": {
     "duration": 0.021029,
     "end_time": "2022-10-22T13:56:24.067542",
     "exception": false,
     "start_time": "2022-10-22T13:56:24.046513",
     "status": "completed"
    },
    "tags": []
   },
   "source": [
    "# Model Evaluation using Test set\n"
   ]
  },
  {
   "cell_type": "code",
   "execution_count": 33,
   "id": "46347e39",
   "metadata": {
    "execution": {
     "iopub.execute_input": "2022-10-22T13:56:24.112545Z",
     "iopub.status.busy": "2022-10-22T13:56:24.112158Z",
     "iopub.status.idle": "2022-10-22T13:56:24.117484Z",
     "shell.execute_reply": "2022-10-22T13:56:24.116240Z"
    },
    "papermill": {
     "duration": 0.030741,
     "end_time": "2022-10-22T13:56:24.119707",
     "exception": false,
     "start_time": "2022-10-22T13:56:24.088966",
     "status": "completed"
    },
    "tags": []
   },
   "outputs": [],
   "source": [
    "# from sklearn.metrics import jaccard_score\n",
    "from sklearn.metrics import f1_score\n",
    "from sklearn.metrics import log_loss\n"
   ]
  },
  {
   "cell_type": "markdown",
   "id": "12d456e6",
   "metadata": {
    "papermill": {
     "duration": 0.020876,
     "end_time": "2022-10-22T13:56:24.162388",
     "exception": false,
     "start_time": "2022-10-22T13:56:24.141512",
     "status": "completed"
    },
    "tags": []
   },
   "source": [
    "First, download and load the test set:\n"
   ]
  },
  {
   "cell_type": "code",
   "execution_count": 34,
   "id": "f4b9a58a",
   "metadata": {
    "execution": {
     "iopub.execute_input": "2022-10-22T13:56:24.206501Z",
     "iopub.status.busy": "2022-10-22T13:56:24.206035Z",
     "iopub.status.idle": "2022-10-22T13:56:25.600764Z",
     "shell.execute_reply": "2022-10-22T13:56:25.599179Z"
    },
    "papermill": {
     "duration": 1.420239,
     "end_time": "2022-10-22T13:56:25.603720",
     "exception": false,
     "start_time": "2022-10-22T13:56:24.183481",
     "status": "completed"
    },
    "tags": []
   },
   "outputs": [
    {
     "name": "stdout",
     "output_type": "stream",
     "text": [
      "--2022-10-22 13:56:25--  https://s3-api.us-geo.objectstorage.softlayer.net/cf-courses-data/CognitiveClass/ML0101ENv3/labs/loan_test.csv\r\n",
      "Resolving s3-api.us-geo.objectstorage.softlayer.net (s3-api.us-geo.objectstorage.softlayer.net)... 67.228.254.196\r\n",
      "Connecting to s3-api.us-geo.objectstorage.softlayer.net (s3-api.us-geo.objectstorage.softlayer.net)|67.228.254.196|:443... connected.\r\n",
      "HTTP request sent, awaiting response... 200 OK\r\n",
      "Length: 3642 (3.6K) [text/csv]\r\n",
      "Saving to: ‘loan_test.csv’\r\n",
      "\r\n",
      "loan_test.csv       100%[===================>]   3.56K  --.-KB/s    in 0s      \r\n",
      "\r\n",
      "2022-10-22 13:56:25 (334 MB/s) - ‘loan_test.csv’ saved [3642/3642]\r\n",
      "\r\n"
     ]
    }
   ],
   "source": [
    "!wget -O loan_test.csv https://s3-api.us-geo.objectstorage.softlayer.net/cf-courses-data/CognitiveClass/ML0101ENv3/labs/loan_test.csv"
   ]
  },
  {
   "cell_type": "markdown",
   "id": "08e298a6",
   "metadata": {
    "button": false,
    "new_sheet": false,
    "papermill": {
     "duration": 0.023427,
     "end_time": "2022-10-22T13:56:25.649318",
     "exception": false,
     "start_time": "2022-10-22T13:56:25.625891",
     "status": "completed"
    },
    "run_control": {
     "read_only": false
    },
    "tags": []
   },
   "source": [
    "### Load Test set for evaluation\n"
   ]
  },
  {
   "cell_type": "code",
   "execution_count": 35,
   "id": "d13e6ddf",
   "metadata": {
    "button": false,
    "execution": {
     "iopub.execute_input": "2022-10-22T13:56:25.695176Z",
     "iopub.status.busy": "2022-10-22T13:56:25.694693Z",
     "iopub.status.idle": "2022-10-22T13:56:25.717128Z",
     "shell.execute_reply": "2022-10-22T13:56:25.716024Z"
    },
    "new_sheet": false,
    "papermill": {
     "duration": 0.048259,
     "end_time": "2022-10-22T13:56:25.719568",
     "exception": false,
     "start_time": "2022-10-22T13:56:25.671309",
     "status": "completed"
    },
    "run_control": {
     "read_only": false
    },
    "tags": []
   },
   "outputs": [
    {
     "data": {
      "text/html": [
       "<div>\n",
       "<style scoped>\n",
       "    .dataframe tbody tr th:only-of-type {\n",
       "        vertical-align: middle;\n",
       "    }\n",
       "\n",
       "    .dataframe tbody tr th {\n",
       "        vertical-align: top;\n",
       "    }\n",
       "\n",
       "    .dataframe thead th {\n",
       "        text-align: right;\n",
       "    }\n",
       "</style>\n",
       "<table border=\"1\" class=\"dataframe\">\n",
       "  <thead>\n",
       "    <tr style=\"text-align: right;\">\n",
       "      <th></th>\n",
       "      <th>Unnamed: 0</th>\n",
       "      <th>Unnamed: 0.1</th>\n",
       "      <th>loan_status</th>\n",
       "      <th>Principal</th>\n",
       "      <th>terms</th>\n",
       "      <th>effective_date</th>\n",
       "      <th>due_date</th>\n",
       "      <th>age</th>\n",
       "      <th>education</th>\n",
       "      <th>Gender</th>\n",
       "    </tr>\n",
       "  </thead>\n",
       "  <tbody>\n",
       "    <tr>\n",
       "      <th>0</th>\n",
       "      <td>1</td>\n",
       "      <td>1</td>\n",
       "      <td>PAIDOFF</td>\n",
       "      <td>1000</td>\n",
       "      <td>30</td>\n",
       "      <td>9/8/2016</td>\n",
       "      <td>10/7/2016</td>\n",
       "      <td>50</td>\n",
       "      <td>Bechalor</td>\n",
       "      <td>female</td>\n",
       "    </tr>\n",
       "    <tr>\n",
       "      <th>1</th>\n",
       "      <td>5</td>\n",
       "      <td>5</td>\n",
       "      <td>PAIDOFF</td>\n",
       "      <td>300</td>\n",
       "      <td>7</td>\n",
       "      <td>9/9/2016</td>\n",
       "      <td>9/15/2016</td>\n",
       "      <td>35</td>\n",
       "      <td>Master or Above</td>\n",
       "      <td>male</td>\n",
       "    </tr>\n",
       "    <tr>\n",
       "      <th>2</th>\n",
       "      <td>21</td>\n",
       "      <td>21</td>\n",
       "      <td>PAIDOFF</td>\n",
       "      <td>1000</td>\n",
       "      <td>30</td>\n",
       "      <td>9/10/2016</td>\n",
       "      <td>10/9/2016</td>\n",
       "      <td>43</td>\n",
       "      <td>High School or Below</td>\n",
       "      <td>female</td>\n",
       "    </tr>\n",
       "    <tr>\n",
       "      <th>3</th>\n",
       "      <td>24</td>\n",
       "      <td>24</td>\n",
       "      <td>PAIDOFF</td>\n",
       "      <td>1000</td>\n",
       "      <td>30</td>\n",
       "      <td>9/10/2016</td>\n",
       "      <td>10/9/2016</td>\n",
       "      <td>26</td>\n",
       "      <td>college</td>\n",
       "      <td>male</td>\n",
       "    </tr>\n",
       "    <tr>\n",
       "      <th>4</th>\n",
       "      <td>35</td>\n",
       "      <td>35</td>\n",
       "      <td>PAIDOFF</td>\n",
       "      <td>800</td>\n",
       "      <td>15</td>\n",
       "      <td>9/11/2016</td>\n",
       "      <td>9/25/2016</td>\n",
       "      <td>29</td>\n",
       "      <td>Bechalor</td>\n",
       "      <td>male</td>\n",
       "    </tr>\n",
       "  </tbody>\n",
       "</table>\n",
       "</div>"
      ],
      "text/plain": [
       "   Unnamed: 0  Unnamed: 0.1 loan_status  Principal  terms effective_date  \\\n",
       "0           1             1     PAIDOFF       1000     30       9/8/2016   \n",
       "1           5             5     PAIDOFF        300      7       9/9/2016   \n",
       "2          21            21     PAIDOFF       1000     30      9/10/2016   \n",
       "3          24            24     PAIDOFF       1000     30      9/10/2016   \n",
       "4          35            35     PAIDOFF        800     15      9/11/2016   \n",
       "\n",
       "    due_date  age             education  Gender  \n",
       "0  10/7/2016   50              Bechalor  female  \n",
       "1  9/15/2016   35       Master or Above    male  \n",
       "2  10/9/2016   43  High School or Below  female  \n",
       "3  10/9/2016   26               college    male  \n",
       "4  9/25/2016   29              Bechalor    male  "
      ]
     },
     "execution_count": 35,
     "metadata": {},
     "output_type": "execute_result"
    }
   ],
   "source": [
    "test_df = pd.read_csv('loan_test.csv')\n",
    "test_df.head()"
   ]
  },
  {
   "cell_type": "code",
   "execution_count": 36,
   "id": "bf686ac3",
   "metadata": {
    "execution": {
     "iopub.execute_input": "2022-10-22T13:56:25.766444Z",
     "iopub.status.busy": "2022-10-22T13:56:25.765582Z",
     "iopub.status.idle": "2022-10-22T13:56:25.797018Z",
     "shell.execute_reply": "2022-10-22T13:56:25.795792Z"
    },
    "papermill": {
     "duration": 0.057682,
     "end_time": "2022-10-22T13:56:25.799852",
     "exception": false,
     "start_time": "2022-10-22T13:56:25.742170",
     "status": "completed"
    },
    "tags": []
   },
   "outputs": [],
   "source": [
    "test_df['due_date'] = pd.to_datetime(test_df['due_date'])\n",
    "test_df['effective_date'] = pd.to_datetime(test_df['effective_date'])\n",
    "test_df['dayofweek'] = test_df['effective_date'].dt.dayofweek\n",
    "\n",
    "test_df['weekend'] = test_df['dayofweek'].apply(lambda x: 1 if (x>3)  else 0)\n",
    "test_df['Gender'].replace(to_replace=['male','female'], value=[0,1],inplace=True)\n",
    "\n",
    "Feature1 = test_df[['Principal','terms','age','Gender','weekend']]\n",
    "Feature1 = pd.concat([Feature1,pd.get_dummies(test_df['education'])], axis=1)\n",
    "Feature1.drop(['Master or Above'], axis = 1,inplace=True)\n",
    "\n",
    "\n",
    "x_loan_test = Feature1\n",
    "x_loan_test = preprocessing.StandardScaler().fit(x_loan_test).transform(x_loan_test)\n",
    "\n",
    "y_loan_test = test_df['loan_status'].values"
   ]
  },
  {
   "cell_type": "code",
   "execution_count": 37,
   "id": "f75cca78",
   "metadata": {
    "execution": {
     "iopub.execute_input": "2022-10-22T13:56:25.847026Z",
     "iopub.status.busy": "2022-10-22T13:56:25.846560Z",
     "iopub.status.idle": "2022-10-22T13:56:25.866597Z",
     "shell.execute_reply": "2022-10-22T13:56:25.865242Z"
    },
    "papermill": {
     "duration": 0.046993,
     "end_time": "2022-10-22T13:56:25.869069",
     "exception": false,
     "start_time": "2022-10-22T13:56:25.822076",
     "status": "completed"
    },
    "tags": []
   },
   "outputs": [
    {
     "data": {
      "text/plain": [
       "[0.7037037037037037,\n",
       " 0.7407407407407407,\n",
       " 0.7962962962962963,\n",
       " 0.7407407407407407]"
      ]
     },
     "execution_count": 37,
     "metadata": {},
     "output_type": "execute_result"
    }
   ],
   "source": [
    "#jaccard list:\n",
    "knn_pred = kNN_model.predict(x_loan_test)\n",
    "j1 = accuracy_score(y_loan_test, knn_pred)\n",
    "\n",
    "dt_pred = dt.predict(x_loan_test)\n",
    "j2 = accuracy_score(y_loan_test, dt_pred)\n",
    "\n",
    "svm_pred = svm_model.predict(x_loan_test)\n",
    "j3 = accuracy_score(y_loan_test, svm_pred)\n",
    "\n",
    "lr_pred = lr_model.predict(x_loan_test)\n",
    "j4 = accuracy_score(y_loan_test, lr_pred)\n",
    "\n",
    "jaccard = [j1, j2, j3, j4]\n",
    "jaccard"
   ]
  },
  {
   "cell_type": "code",
   "execution_count": 38,
   "id": "4576225d",
   "metadata": {
    "execution": {
     "iopub.execute_input": "2022-10-22T13:56:25.914980Z",
     "iopub.status.busy": "2022-10-22T13:56:25.914536Z",
     "iopub.status.idle": "2022-10-22T13:56:25.933148Z",
     "shell.execute_reply": "2022-10-22T13:56:25.931844Z"
    },
    "papermill": {
     "duration": 0.044253,
     "end_time": "2022-10-22T13:56:25.935657",
     "exception": false,
     "start_time": "2022-10-22T13:56:25.891404",
     "status": "completed"
    },
    "tags": []
   },
   "outputs": [
    {
     "data": {
      "text/plain": [
       "[0.6736355806123249,\n",
       " 0.6304176516942475,\n",
       " 0.7583503077293734,\n",
       " 0.6604267310789049]"
      ]
     },
     "execution_count": 38,
     "metadata": {},
     "output_type": "execute_result"
    }
   ],
   "source": [
    "knn_pred = kNN_model.predict(x_loan_test)\n",
    "f1 = f1_score(y_loan_test, knn_pred, average='weighted')\n",
    "\n",
    "dt_pred = dt.predict(x_loan_test)\n",
    "f2 = f1_score(y_loan_test, dt_pred, average='weighted')\n",
    "\n",
    "\n",
    "svm_pred = svm_model.predict(x_loan_test)\n",
    "f3 = f1_score(y_loan_test, svm_pred, average='weighted')\n",
    "\n",
    "lr_pred = lr_model.predict(x_loan_test)\n",
    "f4 = f1_score(y_loan_test, lr_pred, average='weighted')\n",
    "\n",
    "f1s = [f1, f2, f3, f4]\n",
    "f1s"
   ]
  },
  {
   "cell_type": "code",
   "execution_count": 39,
   "id": "e68fa9ea",
   "metadata": {
    "execution": {
     "iopub.execute_input": "2022-10-22T13:56:25.981611Z",
     "iopub.status.busy": "2022-10-22T13:56:25.981035Z",
     "iopub.status.idle": "2022-10-22T13:56:25.992007Z",
     "shell.execute_reply": "2022-10-22T13:56:25.990644Z"
    },
    "papermill": {
     "duration": 0.036908,
     "end_time": "2022-10-22T13:56:25.994484",
     "exception": false,
     "start_time": "2022-10-22T13:56:25.957576",
     "status": "completed"
    },
    "tags": []
   },
   "outputs": [
    {
     "data": {
      "text/plain": [
       "['NA', 'NA', 'NA', 0.5672153379912981]"
      ]
     },
     "execution_count": 39,
     "metadata": {},
     "output_type": "execute_result"
    }
   ],
   "source": [
    "from sklearn.metrics import log_loss\n",
    "\n",
    "lr_pred = lr_model.predict_proba(x_loan_test)\n",
    "aux = log_loss(y_loan_test, lr_pred)\n",
    "\n",
    "log_loss = ['NA','NA','NA', aux]\n",
    "log_loss"
   ]
  },
  {
   "cell_type": "code",
   "execution_count": 40,
   "id": "d603e589",
   "metadata": {
    "execution": {
     "iopub.execute_input": "2022-10-22T13:56:26.040316Z",
     "iopub.status.busy": "2022-10-22T13:56:26.039912Z",
     "iopub.status.idle": "2022-10-22T13:56:26.054503Z",
     "shell.execute_reply": "2022-10-22T13:56:26.053203Z"
    },
    "papermill": {
     "duration": 0.040594,
     "end_time": "2022-10-22T13:56:26.057151",
     "exception": false,
     "start_time": "2022-10-22T13:56:26.016557",
     "status": "completed"
    },
    "tags": []
   },
   "outputs": [
    {
     "data": {
      "text/html": [
       "<div>\n",
       "<style scoped>\n",
       "    .dataframe tbody tr th:only-of-type {\n",
       "        vertical-align: middle;\n",
       "    }\n",
       "\n",
       "    .dataframe tbody tr th {\n",
       "        vertical-align: top;\n",
       "    }\n",
       "\n",
       "    .dataframe thead th {\n",
       "        text-align: right;\n",
       "    }\n",
       "</style>\n",
       "<table border=\"1\" class=\"dataframe\">\n",
       "  <thead>\n",
       "    <tr style=\"text-align: right;\">\n",
       "      <th></th>\n",
       "      <th>Jaccard</th>\n",
       "      <th>F1-score</th>\n",
       "      <th>LogLoss</th>\n",
       "    </tr>\n",
       "  </thead>\n",
       "  <tbody>\n",
       "    <tr>\n",
       "      <th>KNN</th>\n",
       "      <td>0.7037037037037037</td>\n",
       "      <td>0.6736355806123249</td>\n",
       "      <td>NA</td>\n",
       "    </tr>\n",
       "    <tr>\n",
       "      <th>Decision Tree</th>\n",
       "      <td>0.7407407407407407</td>\n",
       "      <td>0.6304176516942475</td>\n",
       "      <td>NA</td>\n",
       "    </tr>\n",
       "    <tr>\n",
       "      <th>SVM</th>\n",
       "      <td>0.7962962962962963</td>\n",
       "      <td>0.7583503077293734</td>\n",
       "      <td>NA</td>\n",
       "    </tr>\n",
       "    <tr>\n",
       "      <th>Logistic Regression</th>\n",
       "      <td>0.7407407407407407</td>\n",
       "      <td>0.6604267310789049</td>\n",
       "      <td>0.5672153379912981</td>\n",
       "    </tr>\n",
       "  </tbody>\n",
       "</table>\n",
       "</div>"
      ],
      "text/plain": [
       "                                Jaccard            F1-score  \\\n",
       "KNN                  0.7037037037037037  0.6736355806123249   \n",
       "Decision Tree        0.7407407407407407  0.6304176516942475   \n",
       "SVM                  0.7962962962962963  0.7583503077293734   \n",
       "Logistic Regression  0.7407407407407407  0.6604267310789049   \n",
       "\n",
       "                                LogLoss  \n",
       "KNN                                  NA  \n",
       "Decision Tree                        NA  \n",
       "SVM                                  NA  \n",
       "Logistic Regression  0.5672153379912981  "
      ]
     },
     "execution_count": 40,
     "metadata": {},
     "output_type": "execute_result"
    }
   ],
   "source": [
    "index   = [\"KNN\", \"Decision Tree\", \"SVM\", \"Logistic Regression\"]\n",
    "colunms = [\"Jaccard\", \"F1-score\", \"LogLoss\"]\n",
    "\n",
    "data = [jaccard, f1s, log_loss]\n",
    "data = np.array(data).T\n",
    "\n",
    "df = pd.DataFrame(data, index=index, columns=colunms)\n",
    "df"
   ]
  },
  {
   "cell_type": "markdown",
   "id": "08256847",
   "metadata": {
    "papermill": {
     "duration": 0.022659,
     "end_time": "2022-10-22T13:56:26.102796",
     "exception": false,
     "start_time": "2022-10-22T13:56:26.080137",
     "status": "completed"
    },
    "tags": []
   },
   "source": [
    "# Report\n",
    "\n",
    "You should be able to report the accuracy of the built model using different evaluation metrics:\n"
   ]
  },
  {
   "cell_type": "markdown",
   "id": "967e9043",
   "metadata": {
    "papermill": {
     "duration": 0.021967,
     "end_time": "2022-10-22T13:56:26.147325",
     "exception": false,
     "start_time": "2022-10-22T13:56:26.125358",
     "status": "completed"
    },
    "tags": []
   },
   "source": [
    "| Algorithm          | Jaccard | F1-score | LogLoss |\n",
    "| ------------------ | ------- | -------- | ------- |\n",
    "| KNN                | 0.7037037037037037       | 0.6736355806123249        | NA      |\n",
    "| Decision Tree      | 0.7407407407407407       | 0.6304176516942475        | NA      |\n",
    "| SVM                | 0.7962962962962963       | 0.7583503077293734        | NA      |\n",
    "| LogisticRegression | 0.7407407407407407       | 0.6604267310789049        | 0.5672153379912981       |\n"
   ]
  },
  {
   "cell_type": "markdown",
   "id": "e0a38aa2",
   "metadata": {
    "button": false,
    "new_sheet": false,
    "papermill": {
     "duration": 0.021897,
     "end_time": "2022-10-22T13:56:26.191400",
     "exception": false,
     "start_time": "2022-10-22T13:56:26.169503",
     "status": "completed"
    },
    "run_control": {
     "read_only": false
    },
    "tags": []
   },
   "source": [
    "<h2>Want to learn more?</h2>\n",
    "\n",
    "IBM SPSS Modeler is a comprehensive analytics platform that has many machine learning algorithms. It has been designed to bring predictive intelligence to decisions made by individuals, by groups, by systems – by your enterprise as a whole. A free trial is available through this course, available here: <a href=\"http://cocl.us/ML0101EN-SPSSModeler?utm_medium=Exinfluencer&utm_source=Exinfluencer&utm_content=000026UJ&utm_term=10006555&utm_id=NA-SkillsNetwork-Channel-SkillsNetworkCoursesIBMDeveloperSkillsNetworkML0101ENSkillsNetwork20718538-2022-01-01\">SPSS Modeler</a>\n",
    "\n",
    "Also, you can use Watson Studio to run these notebooks faster with bigger datasets. Watson Studio is IBM's leading cloud solution for data scientists, built by data scientists. With Jupyter notebooks, RStudio, Apache Spark and popular libraries pre-packaged in the cloud, Watson Studio enables data scientists to collaborate on their projects without having to install anything. Join the fast-growing community of Watson Studio users today with a free account at <a href=\"https://cocl.us/ML0101EN_DSX?utm_medium=Exinfluencer&utm_source=Exinfluencer&utm_content=000026UJ&utm_term=10006555&utm_id=NA-SkillsNetwork-Channel-SkillsNetworkCoursesIBMDeveloperSkillsNetworkML0101ENSkillsNetwork20718538-2022-01-01\">Watson Studio</a>\n",
    "\n",
    "<h3>Thanks for completing this lesson!</h3>\n",
    "\n",
    "<h4>Author:  <a href=\"https://ca.linkedin.com/in/saeedaghabozorgi?utm_medium=Exinfluencer&utm_source=Exinfluencer&utm_content=000026UJ&utm_term=10006555&utm_id=NA-SkillsNetwork-Channel-SkillsNetworkCoursesIBMDeveloperSkillsNetworkML0101ENSkillsNetwork20718538-2022-01-01?utm_medium=Exinfluencer&utm_source=Exinfluencer&utm_content=000026UJ&utm_term=10006555&utm_id=NA-SkillsNetwork-Channel-SkillsNetworkCoursesIBMDeveloperSkillsNetworkML0101ENSkillsNetwork20718538-2022-01-01\">Saeed Aghabozorgi</a></h4>\n",
    "<p><a href=\"https://ca.linkedin.com/in/saeedaghabozorgi\">Saeed Aghabozorgi</a>, PhD is a Data Scientist in IBM with a track record of developing enterprise level applications that substantially increases clients’ ability to turn data into actionable knowledge. He is a researcher in data mining field and expert in developing advanced analytic methods like machine learning and statistical modelling on large datasets.</p>\n",
    "\n",
    "<hr>\n",
    "\n",
    "## Change Log\n",
    "\n",
    "| Date (YYYY-MM-DD) | Version | Changed By    | Change Description                                                             |\n",
    "| ----------------- | ------- | ------------- | ------------------------------------------------------------------------------ |\n",
    "| 2020-10-27        | 2.1     | Lakshmi Holla | Made changes in import statement due to updates in version of  sklearn library |\n",
    "| 2020-08-27        | 2.0     | Malika Singla | Added lab to GitLab                                                            |\n",
    "\n",
    "<hr>\n",
    "\n",
    "## <h3 align=\"center\"> © IBM Corporation 2020. All rights reserved. <h3/>\n",
    "\n",
    "<p>\n"
   ]
  }
 ],
 "metadata": {
  "kernelspec": {
   "display_name": "Python 3",
   "language": "python",
   "name": "python3"
  },
  "language_info": {
   "codemirror_mode": {
    "name": "ipython",
    "version": 3
   },
   "file_extension": ".py",
   "mimetype": "text/x-python",
   "name": "python",
   "nbconvert_exporter": "python",
   "pygments_lexer": "ipython3",
   "version": "3.7.12"
  },
  "papermill": {
   "default_parameters": {},
   "duration": 33.437237,
   "end_time": "2022-10-22T13:56:27.035398",
   "environment_variables": {},
   "exception": null,
   "input_path": "__notebook__.ipynb",
   "output_path": "__notebook__.ipynb",
   "parameters": {},
   "start_time": "2022-10-22T13:55:53.598161",
   "version": "2.3.4"
  }
 },
 "nbformat": 4,
 "nbformat_minor": 5
}
