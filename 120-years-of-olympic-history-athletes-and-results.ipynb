{
 "cells": [
  {
   "cell_type": "markdown",
   "id": "038755cc",
   "metadata": {
    "papermill": {
     "duration": 0.026109,
     "end_time": "2022-07-18T09:40:54.182085",
     "exception": false,
     "start_time": "2022-07-18T09:40:54.155976",
     "status": "completed"
    },
    "tags": []
   },
   "source": [
    "# import libraries"
   ]
  },
  {
   "cell_type": "code",
   "execution_count": 1,
   "id": "aa4ca258",
   "metadata": {
    "execution": {
     "iopub.execute_input": "2022-07-18T09:40:54.228920Z",
     "iopub.status.busy": "2022-07-18T09:40:54.228159Z",
     "iopub.status.idle": "2022-07-18T09:40:56.735792Z",
     "shell.execute_reply": "2022-07-18T09:40:56.734543Z"
    },
    "papermill": {
     "duration": 2.533903,
     "end_time": "2022-07-18T09:40:56.738594",
     "exception": false,
     "start_time": "2022-07-18T09:40:54.204691",
     "status": "completed"
    },
    "tags": []
   },
   "outputs": [],
   "source": [
    "import pandas as pd\n",
    "import seaborn as sns\n",
    "import missingno as msn\n",
    "import matplotlib.pyplot as plt\n",
    "import plotly.express as px"
   ]
  },
  {
   "cell_type": "markdown",
   "id": "d3c0186f",
   "metadata": {
    "papermill": {
     "duration": 0.021571,
     "end_time": "2022-07-18T09:40:56.782000",
     "exception": false,
     "start_time": "2022-07-18T09:40:56.760429",
     "status": "completed"
    },
    "tags": []
   },
   "source": [
    "# Importing data"
   ]
  },
  {
   "cell_type": "code",
   "execution_count": 2,
   "id": "6e5e2b0f",
   "metadata": {
    "execution": {
     "iopub.execute_input": "2022-07-18T09:40:56.826444Z",
     "iopub.status.busy": "2022-07-18T09:40:56.826017Z",
     "iopub.status.idle": "2022-07-18T09:40:58.131359Z",
     "shell.execute_reply": "2022-07-18T09:40:58.130151Z"
    },
    "papermill": {
     "duration": 1.330642,
     "end_time": "2022-07-18T09:40:58.133950",
     "exception": false,
     "start_time": "2022-07-18T09:40:56.803308",
     "status": "completed"
    },
    "tags": []
   },
   "outputs": [],
   "source": [
    "ath=pd.read_csv('../input/120-years-of-olympic-history-athletes-and-results/athlete_events.csv')"
   ]
  },
  {
   "cell_type": "code",
   "execution_count": 3,
   "id": "8d1cf0b0",
   "metadata": {
    "execution": {
     "iopub.execute_input": "2022-07-18T09:40:58.178768Z",
     "iopub.status.busy": "2022-07-18T09:40:58.178348Z",
     "iopub.status.idle": "2022-07-18T09:40:58.193094Z",
     "shell.execute_reply": "2022-07-18T09:40:58.192067Z"
    },
    "papermill": {
     "duration": 0.040436,
     "end_time": "2022-07-18T09:40:58.195806",
     "exception": false,
     "start_time": "2022-07-18T09:40:58.155370",
     "status": "completed"
    },
    "tags": []
   },
   "outputs": [],
   "source": [
    "noc=pd.read_csv('../input/120-years-of-olympic-history-athletes-and-results/noc_regions.csv')"
   ]
  },
  {
   "cell_type": "code",
   "execution_count": 4,
   "id": "40736c20",
   "metadata": {
    "execution": {
     "iopub.execute_input": "2022-07-18T09:40:58.240599Z",
     "iopub.status.busy": "2022-07-18T09:40:58.240200Z",
     "iopub.status.idle": "2022-07-18T09:40:58.270885Z",
     "shell.execute_reply": "2022-07-18T09:40:58.269667Z"
    },
    "papermill": {
     "duration": 0.056609,
     "end_time": "2022-07-18T09:40:58.273911",
     "exception": false,
     "start_time": "2022-07-18T09:40:58.217302",
     "status": "completed"
    },
    "tags": []
   },
   "outputs": [
    {
     "data": {
      "text/html": [
       "<div>\n",
       "<style scoped>\n",
       "    .dataframe tbody tr th:only-of-type {\n",
       "        vertical-align: middle;\n",
       "    }\n",
       "\n",
       "    .dataframe tbody tr th {\n",
       "        vertical-align: top;\n",
       "    }\n",
       "\n",
       "    .dataframe thead th {\n",
       "        text-align: right;\n",
       "    }\n",
       "</style>\n",
       "<table border=\"1\" class=\"dataframe\">\n",
       "  <thead>\n",
       "    <tr style=\"text-align: right;\">\n",
       "      <th></th>\n",
       "      <th>ID</th>\n",
       "      <th>Name</th>\n",
       "      <th>Sex</th>\n",
       "      <th>Age</th>\n",
       "      <th>Height</th>\n",
       "      <th>Weight</th>\n",
       "      <th>Team</th>\n",
       "      <th>NOC</th>\n",
       "      <th>Games</th>\n",
       "      <th>Year</th>\n",
       "      <th>Season</th>\n",
       "      <th>City</th>\n",
       "      <th>Sport</th>\n",
       "      <th>Event</th>\n",
       "      <th>Medal</th>\n",
       "    </tr>\n",
       "  </thead>\n",
       "  <tbody>\n",
       "    <tr>\n",
       "      <th>0</th>\n",
       "      <td>1</td>\n",
       "      <td>A Dijiang</td>\n",
       "      <td>M</td>\n",
       "      <td>24.0</td>\n",
       "      <td>180.0</td>\n",
       "      <td>80.0</td>\n",
       "      <td>China</td>\n",
       "      <td>CHN</td>\n",
       "      <td>1992 Summer</td>\n",
       "      <td>1992</td>\n",
       "      <td>Summer</td>\n",
       "      <td>Barcelona</td>\n",
       "      <td>Basketball</td>\n",
       "      <td>Basketball Men's Basketball</td>\n",
       "      <td>NaN</td>\n",
       "    </tr>\n",
       "    <tr>\n",
       "      <th>1</th>\n",
       "      <td>2</td>\n",
       "      <td>A Lamusi</td>\n",
       "      <td>M</td>\n",
       "      <td>23.0</td>\n",
       "      <td>170.0</td>\n",
       "      <td>60.0</td>\n",
       "      <td>China</td>\n",
       "      <td>CHN</td>\n",
       "      <td>2012 Summer</td>\n",
       "      <td>2012</td>\n",
       "      <td>Summer</td>\n",
       "      <td>London</td>\n",
       "      <td>Judo</td>\n",
       "      <td>Judo Men's Extra-Lightweight</td>\n",
       "      <td>NaN</td>\n",
       "    </tr>\n",
       "    <tr>\n",
       "      <th>2</th>\n",
       "      <td>3</td>\n",
       "      <td>Gunnar Nielsen Aaby</td>\n",
       "      <td>M</td>\n",
       "      <td>24.0</td>\n",
       "      <td>NaN</td>\n",
       "      <td>NaN</td>\n",
       "      <td>Denmark</td>\n",
       "      <td>DEN</td>\n",
       "      <td>1920 Summer</td>\n",
       "      <td>1920</td>\n",
       "      <td>Summer</td>\n",
       "      <td>Antwerpen</td>\n",
       "      <td>Football</td>\n",
       "      <td>Football Men's Football</td>\n",
       "      <td>NaN</td>\n",
       "    </tr>\n",
       "    <tr>\n",
       "      <th>3</th>\n",
       "      <td>4</td>\n",
       "      <td>Edgar Lindenau Aabye</td>\n",
       "      <td>M</td>\n",
       "      <td>34.0</td>\n",
       "      <td>NaN</td>\n",
       "      <td>NaN</td>\n",
       "      <td>Denmark/Sweden</td>\n",
       "      <td>DEN</td>\n",
       "      <td>1900 Summer</td>\n",
       "      <td>1900</td>\n",
       "      <td>Summer</td>\n",
       "      <td>Paris</td>\n",
       "      <td>Tug-Of-War</td>\n",
       "      <td>Tug-Of-War Men's Tug-Of-War</td>\n",
       "      <td>Gold</td>\n",
       "    </tr>\n",
       "    <tr>\n",
       "      <th>4</th>\n",
       "      <td>5</td>\n",
       "      <td>Christine Jacoba Aaftink</td>\n",
       "      <td>F</td>\n",
       "      <td>21.0</td>\n",
       "      <td>185.0</td>\n",
       "      <td>82.0</td>\n",
       "      <td>Netherlands</td>\n",
       "      <td>NED</td>\n",
       "      <td>1988 Winter</td>\n",
       "      <td>1988</td>\n",
       "      <td>Winter</td>\n",
       "      <td>Calgary</td>\n",
       "      <td>Speed Skating</td>\n",
       "      <td>Speed Skating Women's 500 metres</td>\n",
       "      <td>NaN</td>\n",
       "    </tr>\n",
       "  </tbody>\n",
       "</table>\n",
       "</div>"
      ],
      "text/plain": [
       "   ID                      Name Sex   Age  Height  Weight            Team  \\\n",
       "0   1                 A Dijiang   M  24.0   180.0    80.0           China   \n",
       "1   2                  A Lamusi   M  23.0   170.0    60.0           China   \n",
       "2   3       Gunnar Nielsen Aaby   M  24.0     NaN     NaN         Denmark   \n",
       "3   4      Edgar Lindenau Aabye   M  34.0     NaN     NaN  Denmark/Sweden   \n",
       "4   5  Christine Jacoba Aaftink   F  21.0   185.0    82.0     Netherlands   \n",
       "\n",
       "   NOC        Games  Year  Season       City          Sport  \\\n",
       "0  CHN  1992 Summer  1992  Summer  Barcelona     Basketball   \n",
       "1  CHN  2012 Summer  2012  Summer     London           Judo   \n",
       "2  DEN  1920 Summer  1920  Summer  Antwerpen       Football   \n",
       "3  DEN  1900 Summer  1900  Summer      Paris     Tug-Of-War   \n",
       "4  NED  1988 Winter  1988  Winter    Calgary  Speed Skating   \n",
       "\n",
       "                              Event Medal  \n",
       "0       Basketball Men's Basketball   NaN  \n",
       "1      Judo Men's Extra-Lightweight   NaN  \n",
       "2           Football Men's Football   NaN  \n",
       "3       Tug-Of-War Men's Tug-Of-War  Gold  \n",
       "4  Speed Skating Women's 500 metres   NaN  "
      ]
     },
     "execution_count": 4,
     "metadata": {},
     "output_type": "execute_result"
    }
   ],
   "source": [
    "ath.head()"
   ]
  },
  {
   "cell_type": "code",
   "execution_count": 5,
   "id": "596ded72",
   "metadata": {
    "execution": {
     "iopub.execute_input": "2022-07-18T09:40:58.320036Z",
     "iopub.status.busy": "2022-07-18T09:40:58.319177Z",
     "iopub.status.idle": "2022-07-18T09:40:58.328992Z",
     "shell.execute_reply": "2022-07-18T09:40:58.328191Z"
    },
    "papermill": {
     "duration": 0.034727,
     "end_time": "2022-07-18T09:40:58.330995",
     "exception": false,
     "start_time": "2022-07-18T09:40:58.296268",
     "status": "completed"
    },
    "tags": []
   },
   "outputs": [
    {
     "data": {
      "text/html": [
       "<div>\n",
       "<style scoped>\n",
       "    .dataframe tbody tr th:only-of-type {\n",
       "        vertical-align: middle;\n",
       "    }\n",
       "\n",
       "    .dataframe tbody tr th {\n",
       "        vertical-align: top;\n",
       "    }\n",
       "\n",
       "    .dataframe thead th {\n",
       "        text-align: right;\n",
       "    }\n",
       "</style>\n",
       "<table border=\"1\" class=\"dataframe\">\n",
       "  <thead>\n",
       "    <tr style=\"text-align: right;\">\n",
       "      <th></th>\n",
       "      <th>NOC</th>\n",
       "      <th>region</th>\n",
       "      <th>notes</th>\n",
       "    </tr>\n",
       "  </thead>\n",
       "  <tbody>\n",
       "    <tr>\n",
       "      <th>0</th>\n",
       "      <td>AFG</td>\n",
       "      <td>Afghanistan</td>\n",
       "      <td>NaN</td>\n",
       "    </tr>\n",
       "    <tr>\n",
       "      <th>1</th>\n",
       "      <td>AHO</td>\n",
       "      <td>Curacao</td>\n",
       "      <td>Netherlands Antilles</td>\n",
       "    </tr>\n",
       "    <tr>\n",
       "      <th>2</th>\n",
       "      <td>ALB</td>\n",
       "      <td>Albania</td>\n",
       "      <td>NaN</td>\n",
       "    </tr>\n",
       "    <tr>\n",
       "      <th>3</th>\n",
       "      <td>ALG</td>\n",
       "      <td>Algeria</td>\n",
       "      <td>NaN</td>\n",
       "    </tr>\n",
       "    <tr>\n",
       "      <th>4</th>\n",
       "      <td>AND</td>\n",
       "      <td>Andorra</td>\n",
       "      <td>NaN</td>\n",
       "    </tr>\n",
       "  </tbody>\n",
       "</table>\n",
       "</div>"
      ],
      "text/plain": [
       "   NOC       region                 notes\n",
       "0  AFG  Afghanistan                   NaN\n",
       "1  AHO      Curacao  Netherlands Antilles\n",
       "2  ALB      Albania                   NaN\n",
       "3  ALG      Algeria                   NaN\n",
       "4  AND      Andorra                   NaN"
      ]
     },
     "execution_count": 5,
     "metadata": {},
     "output_type": "execute_result"
    }
   ],
   "source": [
    "noc.head()"
   ]
  },
  {
   "cell_type": "markdown",
   "id": "0597afc5",
   "metadata": {
    "papermill": {
     "duration": 0.021475,
     "end_time": "2022-07-18T09:40:58.374441",
     "exception": false,
     "start_time": "2022-07-18T09:40:58.352966",
     "status": "completed"
    },
    "tags": []
   },
   "source": [
    "# join data in two ways"
   ]
  },
  {
   "cell_type": "code",
   "execution_count": 6,
   "id": "b9d5b471",
   "metadata": {
    "execution": {
     "iopub.execute_input": "2022-07-18T09:40:58.420949Z",
     "iopub.status.busy": "2022-07-18T09:40:58.420231Z",
     "iopub.status.idle": "2022-07-18T09:40:58.638486Z",
     "shell.execute_reply": "2022-07-18T09:40:58.637282Z"
    },
    "papermill": {
     "duration": 0.244454,
     "end_time": "2022-07-18T09:40:58.641356",
     "exception": false,
     "start_time": "2022-07-18T09:40:58.396902",
     "status": "completed"
    },
    "tags": []
   },
   "outputs": [],
   "source": [
    "df=ath.merge(noc,on='NOC',how='left')"
   ]
  },
  {
   "cell_type": "code",
   "execution_count": 7,
   "id": "09cce81e",
   "metadata": {
    "execution": {
     "iopub.execute_input": "2022-07-18T09:40:58.687350Z",
     "iopub.status.busy": "2022-07-18T09:40:58.686907Z",
     "iopub.status.idle": "2022-07-18T09:40:58.708872Z",
     "shell.execute_reply": "2022-07-18T09:40:58.708030Z"
    },
    "papermill": {
     "duration": 0.047777,
     "end_time": "2022-07-18T09:40:58.711279",
     "exception": false,
     "start_time": "2022-07-18T09:40:58.663502",
     "status": "completed"
    },
    "scrolled": true,
    "tags": []
   },
   "outputs": [
    {
     "data": {
      "text/html": [
       "<div>\n",
       "<style scoped>\n",
       "    .dataframe tbody tr th:only-of-type {\n",
       "        vertical-align: middle;\n",
       "    }\n",
       "\n",
       "    .dataframe tbody tr th {\n",
       "        vertical-align: top;\n",
       "    }\n",
       "\n",
       "    .dataframe thead th {\n",
       "        text-align: right;\n",
       "    }\n",
       "</style>\n",
       "<table border=\"1\" class=\"dataframe\">\n",
       "  <thead>\n",
       "    <tr style=\"text-align: right;\">\n",
       "      <th></th>\n",
       "      <th>ID</th>\n",
       "      <th>Name</th>\n",
       "      <th>Sex</th>\n",
       "      <th>Age</th>\n",
       "      <th>Height</th>\n",
       "      <th>Weight</th>\n",
       "      <th>Team</th>\n",
       "      <th>NOC</th>\n",
       "      <th>Games</th>\n",
       "      <th>Year</th>\n",
       "      <th>Season</th>\n",
       "      <th>City</th>\n",
       "      <th>Sport</th>\n",
       "      <th>Event</th>\n",
       "      <th>Medal</th>\n",
       "      <th>region</th>\n",
       "      <th>notes</th>\n",
       "    </tr>\n",
       "  </thead>\n",
       "  <tbody>\n",
       "    <tr>\n",
       "      <th>0</th>\n",
       "      <td>1</td>\n",
       "      <td>A Dijiang</td>\n",
       "      <td>M</td>\n",
       "      <td>24.0</td>\n",
       "      <td>180.0</td>\n",
       "      <td>80.0</td>\n",
       "      <td>China</td>\n",
       "      <td>CHN</td>\n",
       "      <td>1992 Summer</td>\n",
       "      <td>1992</td>\n",
       "      <td>Summer</td>\n",
       "      <td>Barcelona</td>\n",
       "      <td>Basketball</td>\n",
       "      <td>Basketball Men's Basketball</td>\n",
       "      <td>NaN</td>\n",
       "      <td>China</td>\n",
       "      <td>NaN</td>\n",
       "    </tr>\n",
       "    <tr>\n",
       "      <th>1</th>\n",
       "      <td>2</td>\n",
       "      <td>A Lamusi</td>\n",
       "      <td>M</td>\n",
       "      <td>23.0</td>\n",
       "      <td>170.0</td>\n",
       "      <td>60.0</td>\n",
       "      <td>China</td>\n",
       "      <td>CHN</td>\n",
       "      <td>2012 Summer</td>\n",
       "      <td>2012</td>\n",
       "      <td>Summer</td>\n",
       "      <td>London</td>\n",
       "      <td>Judo</td>\n",
       "      <td>Judo Men's Extra-Lightweight</td>\n",
       "      <td>NaN</td>\n",
       "      <td>China</td>\n",
       "      <td>NaN</td>\n",
       "    </tr>\n",
       "    <tr>\n",
       "      <th>2</th>\n",
       "      <td>3</td>\n",
       "      <td>Gunnar Nielsen Aaby</td>\n",
       "      <td>M</td>\n",
       "      <td>24.0</td>\n",
       "      <td>NaN</td>\n",
       "      <td>NaN</td>\n",
       "      <td>Denmark</td>\n",
       "      <td>DEN</td>\n",
       "      <td>1920 Summer</td>\n",
       "      <td>1920</td>\n",
       "      <td>Summer</td>\n",
       "      <td>Antwerpen</td>\n",
       "      <td>Football</td>\n",
       "      <td>Football Men's Football</td>\n",
       "      <td>NaN</td>\n",
       "      <td>Denmark</td>\n",
       "      <td>NaN</td>\n",
       "    </tr>\n",
       "    <tr>\n",
       "      <th>3</th>\n",
       "      <td>4</td>\n",
       "      <td>Edgar Lindenau Aabye</td>\n",
       "      <td>M</td>\n",
       "      <td>34.0</td>\n",
       "      <td>NaN</td>\n",
       "      <td>NaN</td>\n",
       "      <td>Denmark/Sweden</td>\n",
       "      <td>DEN</td>\n",
       "      <td>1900 Summer</td>\n",
       "      <td>1900</td>\n",
       "      <td>Summer</td>\n",
       "      <td>Paris</td>\n",
       "      <td>Tug-Of-War</td>\n",
       "      <td>Tug-Of-War Men's Tug-Of-War</td>\n",
       "      <td>Gold</td>\n",
       "      <td>Denmark</td>\n",
       "      <td>NaN</td>\n",
       "    </tr>\n",
       "    <tr>\n",
       "      <th>4</th>\n",
       "      <td>5</td>\n",
       "      <td>Christine Jacoba Aaftink</td>\n",
       "      <td>F</td>\n",
       "      <td>21.0</td>\n",
       "      <td>185.0</td>\n",
       "      <td>82.0</td>\n",
       "      <td>Netherlands</td>\n",
       "      <td>NED</td>\n",
       "      <td>1988 Winter</td>\n",
       "      <td>1988</td>\n",
       "      <td>Winter</td>\n",
       "      <td>Calgary</td>\n",
       "      <td>Speed Skating</td>\n",
       "      <td>Speed Skating Women's 500 metres</td>\n",
       "      <td>NaN</td>\n",
       "      <td>Netherlands</td>\n",
       "      <td>NaN</td>\n",
       "    </tr>\n",
       "  </tbody>\n",
       "</table>\n",
       "</div>"
      ],
      "text/plain": [
       "   ID                      Name Sex   Age  Height  Weight            Team  \\\n",
       "0   1                 A Dijiang   M  24.0   180.0    80.0           China   \n",
       "1   2                  A Lamusi   M  23.0   170.0    60.0           China   \n",
       "2   3       Gunnar Nielsen Aaby   M  24.0     NaN     NaN         Denmark   \n",
       "3   4      Edgar Lindenau Aabye   M  34.0     NaN     NaN  Denmark/Sweden   \n",
       "4   5  Christine Jacoba Aaftink   F  21.0   185.0    82.0     Netherlands   \n",
       "\n",
       "   NOC        Games  Year  Season       City          Sport  \\\n",
       "0  CHN  1992 Summer  1992  Summer  Barcelona     Basketball   \n",
       "1  CHN  2012 Summer  2012  Summer     London           Judo   \n",
       "2  DEN  1920 Summer  1920  Summer  Antwerpen       Football   \n",
       "3  DEN  1900 Summer  1900  Summer      Paris     Tug-Of-War   \n",
       "4  NED  1988 Winter  1988  Winter    Calgary  Speed Skating   \n",
       "\n",
       "                              Event Medal       region notes  \n",
       "0       Basketball Men's Basketball   NaN        China   NaN  \n",
       "1      Judo Men's Extra-Lightweight   NaN        China   NaN  \n",
       "2           Football Men's Football   NaN      Denmark   NaN  \n",
       "3       Tug-Of-War Men's Tug-Of-War  Gold      Denmark   NaN  \n",
       "4  Speed Skating Women's 500 metres   NaN  Netherlands   NaN  "
      ]
     },
     "execution_count": 7,
     "metadata": {},
     "output_type": "execute_result"
    }
   ],
   "source": [
    "df.head()"
   ]
  },
  {
   "cell_type": "markdown",
   "id": "31b4b7da",
   "metadata": {
    "papermill": {
     "duration": 0.02257,
     "end_time": "2022-07-18T09:40:58.756245",
     "exception": false,
     "start_time": "2022-07-18T09:40:58.733675",
     "status": "completed"
    },
    "tags": []
   },
   "source": [
    "# let's group the medals by region"
   ]
  },
  {
   "cell_type": "code",
   "execution_count": 8,
   "id": "9f55d7f0",
   "metadata": {
    "execution": {
     "iopub.execute_input": "2022-07-18T09:40:58.805125Z",
     "iopub.status.busy": "2022-07-18T09:40:58.803578Z",
     "iopub.status.idle": "2022-07-18T09:40:58.863311Z",
     "shell.execute_reply": "2022-07-18T09:40:58.861912Z"
    },
    "papermill": {
     "duration": 0.087296,
     "end_time": "2022-07-18T09:40:58.865630",
     "exception": false,
     "start_time": "2022-07-18T09:40:58.778334",
     "status": "completed"
    },
    "tags": []
   },
   "outputs": [
    {
     "data": {
      "text/html": [
       "<div>\n",
       "<style scoped>\n",
       "    .dataframe tbody tr th:only-of-type {\n",
       "        vertical-align: middle;\n",
       "    }\n",
       "\n",
       "    .dataframe tbody tr th {\n",
       "        vertical-align: top;\n",
       "    }\n",
       "\n",
       "    .dataframe thead th {\n",
       "        text-align: right;\n",
       "    }\n",
       "</style>\n",
       "<table border=\"1\" class=\"dataframe\">\n",
       "  <thead>\n",
       "    <tr style=\"text-align: right;\">\n",
       "      <th></th>\n",
       "      <th>region</th>\n",
       "      <th>Medal</th>\n",
       "    </tr>\n",
       "  </thead>\n",
       "  <tbody>\n",
       "    <tr>\n",
       "      <th>0</th>\n",
       "      <td>USA</td>\n",
       "      <td>5637</td>\n",
       "    </tr>\n",
       "    <tr>\n",
       "      <th>1</th>\n",
       "      <td>Russia</td>\n",
       "      <td>3947</td>\n",
       "    </tr>\n",
       "    <tr>\n",
       "      <th>2</th>\n",
       "      <td>Germany</td>\n",
       "      <td>3756</td>\n",
       "    </tr>\n",
       "    <tr>\n",
       "      <th>3</th>\n",
       "      <td>UK</td>\n",
       "      <td>2068</td>\n",
       "    </tr>\n",
       "    <tr>\n",
       "      <th>4</th>\n",
       "      <td>France</td>\n",
       "      <td>1777</td>\n",
       "    </tr>\n",
       "    <tr>\n",
       "      <th>5</th>\n",
       "      <td>Italy</td>\n",
       "      <td>1637</td>\n",
       "    </tr>\n",
       "    <tr>\n",
       "      <th>6</th>\n",
       "      <td>Sweden</td>\n",
       "      <td>1536</td>\n",
       "    </tr>\n",
       "    <tr>\n",
       "      <th>7</th>\n",
       "      <td>Canada</td>\n",
       "      <td>1352</td>\n",
       "    </tr>\n",
       "    <tr>\n",
       "      <th>8</th>\n",
       "      <td>Australia</td>\n",
       "      <td>1349</td>\n",
       "    </tr>\n",
       "    <tr>\n",
       "      <th>9</th>\n",
       "      <td>Hungary</td>\n",
       "      <td>1135</td>\n",
       "    </tr>\n",
       "    <tr>\n",
       "      <th>10</th>\n",
       "      <td>Netherlands</td>\n",
       "      <td>1040</td>\n",
       "    </tr>\n",
       "    <tr>\n",
       "      <th>11</th>\n",
       "      <td>Norway</td>\n",
       "      <td>1033</td>\n",
       "    </tr>\n",
       "    <tr>\n",
       "      <th>12</th>\n",
       "      <td>China</td>\n",
       "      <td>993</td>\n",
       "    </tr>\n",
       "    <tr>\n",
       "      <th>13</th>\n",
       "      <td>Japan</td>\n",
       "      <td>913</td>\n",
       "    </tr>\n",
       "    <tr>\n",
       "      <th>14</th>\n",
       "      <td>Finland</td>\n",
       "      <td>900</td>\n",
       "    </tr>\n",
       "    <tr>\n",
       "      <th>15</th>\n",
       "      <td>Switzerland</td>\n",
       "      <td>691</td>\n",
       "    </tr>\n",
       "    <tr>\n",
       "      <th>16</th>\n",
       "      <td>Romania</td>\n",
       "      <td>653</td>\n",
       "    </tr>\n",
       "    <tr>\n",
       "      <th>17</th>\n",
       "      <td>Czech Republic</td>\n",
       "      <td>644</td>\n",
       "    </tr>\n",
       "    <tr>\n",
       "      <th>18</th>\n",
       "      <td>South Korea</td>\n",
       "      <td>638</td>\n",
       "    </tr>\n",
       "    <tr>\n",
       "      <th>19</th>\n",
       "      <td>Denmark</td>\n",
       "      <td>597</td>\n",
       "    </tr>\n",
       "  </tbody>\n",
       "</table>\n",
       "</div>"
      ],
      "text/plain": [
       "            region  Medal\n",
       "0              USA   5637\n",
       "1           Russia   3947\n",
       "2          Germany   3756\n",
       "3               UK   2068\n",
       "4           France   1777\n",
       "5            Italy   1637\n",
       "6           Sweden   1536\n",
       "7           Canada   1352\n",
       "8        Australia   1349\n",
       "9          Hungary   1135\n",
       "10     Netherlands   1040\n",
       "11          Norway   1033\n",
       "12           China    993\n",
       "13           Japan    913\n",
       "14         Finland    900\n",
       "15     Switzerland    691\n",
       "16         Romania    653\n",
       "17  Czech Republic    644\n",
       "18     South Korea    638\n",
       "19         Denmark    597"
      ]
     },
     "execution_count": 8,
     "metadata": {},
     "output_type": "execute_result"
    }
   ],
   "source": [
    "df.groupby('region')['Medal'].count().nlargest(20).reset_index()"
   ]
  },
  {
   "cell_type": "raw",
   "id": "b962047b",
   "metadata": {
    "papermill": {
     "duration": 0.02213,
     "end_time": "2022-07-18T09:40:58.910362",
     "exception": false,
     "start_time": "2022-07-18T09:40:58.888232",
     "status": "completed"
    },
    "tags": []
   },
   "source": [
    "# finding null values using barplot"
   ]
  },
  {
   "cell_type": "code",
   "execution_count": 9,
   "id": "38002315",
   "metadata": {
    "execution": {
     "iopub.execute_input": "2022-07-18T09:40:58.957753Z",
     "iopub.status.busy": "2022-07-18T09:40:58.957367Z",
     "iopub.status.idle": "2022-07-18T09:41:00.363318Z",
     "shell.execute_reply": "2022-07-18T09:41:00.362003Z"
    },
    "papermill": {
     "duration": 1.43334,
     "end_time": "2022-07-18T09:41:00.366685",
     "exception": false,
     "start_time": "2022-07-18T09:40:58.933345",
     "status": "completed"
    },
    "tags": []
   },
   "outputs": [
    {
     "data": {
      "image/png": "[encoded data removed]",
      "text/plain": [
       "<Figure size 1728x720 with 3 Axes>"
      ]
     },
     "metadata": {
      "needs_background": "light"
     },
     "output_type": "display_data"
    }
   ],
   "source": [
    "msn.bar(df)\n",
    "plt.show()"
   ]
  },
  {
   "cell_type": "raw",
   "id": "909aa4af",
   "metadata": {
    "papermill": {
     "duration": 0.023064,
     "end_time": "2022-07-18T09:41:00.414015",
     "exception": false,
     "start_time": "2022-07-18T09:41:00.390951",
     "status": "completed"
    },
    "tags": []
   },
   "source": [
    "describing data with std,mean,min,max"
   ]
  },
  {
   "cell_type": "code",
   "execution_count": 10,
   "id": "e52e1b0e",
   "metadata": {
    "execution": {
     "iopub.execute_input": "2022-07-18T09:41:00.465304Z",
     "iopub.status.busy": "2022-07-18T09:41:00.464874Z",
     "iopub.status.idle": "2022-07-18T09:41:00.656511Z",
     "shell.execute_reply": "2022-07-18T09:41:00.655755Z"
    },
    "papermill": {
     "duration": 0.219454,
     "end_time": "2022-07-18T09:41:00.658790",
     "exception": false,
     "start_time": "2022-07-18T09:41:00.439336",
     "status": "completed"
    },
    "tags": []
   },
   "outputs": [
    {
     "data": {
      "text/html": [
       "<div>\n",
       "<style scoped>\n",
       "    .dataframe tbody tr th:only-of-type {\n",
       "        vertical-align: middle;\n",
       "    }\n",
       "\n",
       "    .dataframe tbody tr th {\n",
       "        vertical-align: top;\n",
       "    }\n",
       "\n",
       "    .dataframe thead th {\n",
       "        text-align: right;\n",
       "    }\n",
       "</style>\n",
       "<table border=\"1\" class=\"dataframe\">\n",
       "  <thead>\n",
       "    <tr style=\"text-align: right;\">\n",
       "      <th></th>\n",
       "      <th>count</th>\n",
       "      <th>mean</th>\n",
       "      <th>std</th>\n",
       "      <th>min</th>\n",
       "      <th>25%</th>\n",
       "      <th>50%</th>\n",
       "      <th>75%</th>\n",
       "      <th>max</th>\n",
       "    </tr>\n",
       "  </thead>\n",
       "  <tbody>\n",
       "    <tr>\n",
       "      <th>ID</th>\n",
       "      <td>271116.0</td>\n",
       "      <td>68248.954396</td>\n",
       "      <td>39022.286345</td>\n",
       "      <td>1.0</td>\n",
       "      <td>34643.0</td>\n",
       "      <td>68205.0</td>\n",
       "      <td>102097.25</td>\n",
       "      <td>135571.0</td>\n",
       "    </tr>\n",
       "    <tr>\n",
       "      <th>Age</th>\n",
       "      <td>261642.0</td>\n",
       "      <td>25.556898</td>\n",
       "      <td>6.393561</td>\n",
       "      <td>10.0</td>\n",
       "      <td>21.0</td>\n",
       "      <td>24.0</td>\n",
       "      <td>28.00</td>\n",
       "      <td>97.0</td>\n",
       "    </tr>\n",
       "    <tr>\n",
       "      <th>Height</th>\n",
       "      <td>210945.0</td>\n",
       "      <td>175.338970</td>\n",
       "      <td>10.518462</td>\n",
       "      <td>127.0</td>\n",
       "      <td>168.0</td>\n",
       "      <td>175.0</td>\n",
       "      <td>183.00</td>\n",
       "      <td>226.0</td>\n",
       "    </tr>\n",
       "    <tr>\n",
       "      <th>Weight</th>\n",
       "      <td>208241.0</td>\n",
       "      <td>70.702393</td>\n",
       "      <td>14.348020</td>\n",
       "      <td>25.0</td>\n",
       "      <td>60.0</td>\n",
       "      <td>70.0</td>\n",
       "      <td>79.00</td>\n",
       "      <td>214.0</td>\n",
       "    </tr>\n",
       "    <tr>\n",
       "      <th>Year</th>\n",
       "      <td>271116.0</td>\n",
       "      <td>1978.378480</td>\n",
       "      <td>29.877632</td>\n",
       "      <td>1896.0</td>\n",
       "      <td>1960.0</td>\n",
       "      <td>1988.0</td>\n",
       "      <td>2002.00</td>\n",
       "      <td>2016.0</td>\n",
       "    </tr>\n",
       "  </tbody>\n",
       "</table>\n",
       "</div>"
      ],
      "text/plain": [
       "           count          mean           std     min      25%      50%  \\\n",
       "ID      271116.0  68248.954396  39022.286345     1.0  34643.0  68205.0   \n",
       "Age     261642.0     25.556898      6.393561    10.0     21.0     24.0   \n",
       "Height  210945.0    175.338970     10.518462   127.0    168.0    175.0   \n",
       "Weight  208241.0     70.702393     14.348020    25.0     60.0     70.0   \n",
       "Year    271116.0   1978.378480     29.877632  1896.0   1960.0   1988.0   \n",
       "\n",
       "              75%       max  \n",
       "ID      102097.25  135571.0  \n",
       "Age         28.00      97.0  \n",
       "Height     183.00     226.0  \n",
       "Weight      79.00     214.0  \n",
       "Year      2002.00    2016.0  "
      ]
     },
     "execution_count": 10,
     "metadata": {},
     "output_type": "execute_result"
    }
   ],
   "source": [
    "df.describe().T"
   ]
  },
  {
   "cell_type": "markdown",
   "id": "ffafde40",
   "metadata": {
    "papermill": {
     "duration": 0.024977,
     "end_time": "2022-07-18T09:41:00.707296",
     "exception": false,
     "start_time": "2022-07-18T09:41:00.682319",
     "status": "completed"
    },
    "tags": []
   },
   "source": [
    "Let's see the sum of zeros as a percentage then we can easily choose which column to drop"
   ]
  },
  {
   "cell_type": "code",
   "execution_count": 11,
   "id": "ee762b95",
   "metadata": {
    "execution": {
     "iopub.execute_input": "2022-07-18T09:41:00.760698Z",
     "iopub.status.busy": "2022-07-18T09:41:00.759711Z",
     "iopub.status.idle": "2022-07-18T09:41:01.083088Z",
     "shell.execute_reply": "2022-07-18T09:41:01.081753Z"
    },
    "papermill": {
     "duration": 0.350648,
     "end_time": "2022-07-18T09:41:01.085539",
     "exception": false,
     "start_time": "2022-07-18T09:41:00.734891",
     "status": "completed"
    },
    "tags": []
   },
   "outputs": [
    {
     "data": {
      "text/plain": [
       "ID        0.000000\n",
       "Name      0.000000\n",
       "Sex       0.000000\n",
       "Age       0.034944\n",
       "Height    0.221938\n",
       "Weight    0.231912\n",
       "Team      0.000000\n",
       "NOC       0.000000\n",
       "Games     0.000000\n",
       "Year      0.000000\n",
       "Season    0.000000\n",
       "City      0.000000\n",
       "Sport     0.000000\n",
       "Event     0.000000\n",
       "Medal     0.853262\n",
       "region    0.001365\n",
       "notes     0.981414\n",
       "dtype: float64"
      ]
     },
     "execution_count": 11,
     "metadata": {},
     "output_type": "execute_result"
    }
   ],
   "source": [
    "df.isnull().sum()/df.shape[0]"
   ]
  },
  {
   "cell_type": "markdown",
   "id": "3848117f",
   "metadata": {
    "papermill": {
     "duration": 0.023334,
     "end_time": "2022-07-18T09:41:01.133267",
     "exception": false,
     "start_time": "2022-07-18T09:41:01.109933",
     "status": "completed"
    },
    "tags": []
   },
   "source": [
    "As you see 'notes' column should be dropped\n",
    "because the amount of zeros is more than 50%"
   ]
  },
  {
   "cell_type": "code",
   "execution_count": 12,
   "id": "e0fa5cab",
   "metadata": {
    "execution": {
     "iopub.execute_input": "2022-07-18T09:41:01.182191Z",
     "iopub.status.busy": "2022-07-18T09:41:01.181817Z",
     "iopub.status.idle": "2022-07-18T09:41:01.218088Z",
     "shell.execute_reply": "2022-07-18T09:41:01.216939Z"
    },
    "papermill": {
     "duration": 0.063935,
     "end_time": "2022-07-18T09:41:01.220787",
     "exception": false,
     "start_time": "2022-07-18T09:41:01.156852",
     "status": "completed"
    },
    "tags": []
   },
   "outputs": [],
   "source": [
    "df.drop('notes',axis=1,inplace=True)"
   ]
  },
  {
   "cell_type": "code",
   "execution_count": 13,
   "id": "3e5ed054",
   "metadata": {
    "execution": {
     "iopub.execute_input": "2022-07-18T09:41:01.271994Z",
     "iopub.status.busy": "2022-07-18T09:41:01.271351Z",
     "iopub.status.idle": "2022-07-18T09:41:01.292948Z",
     "shell.execute_reply": "2022-07-18T09:41:01.291698Z"
    },
    "papermill": {
     "duration": 0.04962,
     "end_time": "2022-07-18T09:41:01.295202",
     "exception": false,
     "start_time": "2022-07-18T09:41:01.245582",
     "status": "completed"
    },
    "tags": []
   },
   "outputs": [
    {
     "data": {
      "text/html": [
       "<div>\n",
       "<style scoped>\n",
       "    .dataframe tbody tr th:only-of-type {\n",
       "        vertical-align: middle;\n",
       "    }\n",
       "\n",
       "    .dataframe tbody tr th {\n",
       "        vertical-align: top;\n",
       "    }\n",
       "\n",
       "    .dataframe thead th {\n",
       "        text-align: right;\n",
       "    }\n",
       "</style>\n",
       "<table border=\"1\" class=\"dataframe\">\n",
       "  <thead>\n",
       "    <tr style=\"text-align: right;\">\n",
       "      <th></th>\n",
       "      <th>ID</th>\n",
       "      <th>Name</th>\n",
       "      <th>Sex</th>\n",
       "      <th>Age</th>\n",
       "      <th>Height</th>\n",
       "      <th>Weight</th>\n",
       "      <th>Team</th>\n",
       "      <th>NOC</th>\n",
       "      <th>Games</th>\n",
       "      <th>Year</th>\n",
       "      <th>Season</th>\n",
       "      <th>City</th>\n",
       "      <th>Sport</th>\n",
       "      <th>Event</th>\n",
       "      <th>Medal</th>\n",
       "      <th>region</th>\n",
       "    </tr>\n",
       "  </thead>\n",
       "  <tbody>\n",
       "    <tr>\n",
       "      <th>0</th>\n",
       "      <td>1</td>\n",
       "      <td>A Dijiang</td>\n",
       "      <td>M</td>\n",
       "      <td>24.0</td>\n",
       "      <td>180.0</td>\n",
       "      <td>80.0</td>\n",
       "      <td>China</td>\n",
       "      <td>CHN</td>\n",
       "      <td>1992 Summer</td>\n",
       "      <td>1992</td>\n",
       "      <td>Summer</td>\n",
       "      <td>Barcelona</td>\n",
       "      <td>Basketball</td>\n",
       "      <td>Basketball Men's Basketball</td>\n",
       "      <td>NaN</td>\n",
       "      <td>China</td>\n",
       "    </tr>\n",
       "    <tr>\n",
       "      <th>1</th>\n",
       "      <td>2</td>\n",
       "      <td>A Lamusi</td>\n",
       "      <td>M</td>\n",
       "      <td>23.0</td>\n",
       "      <td>170.0</td>\n",
       "      <td>60.0</td>\n",
       "      <td>China</td>\n",
       "      <td>CHN</td>\n",
       "      <td>2012 Summer</td>\n",
       "      <td>2012</td>\n",
       "      <td>Summer</td>\n",
       "      <td>London</td>\n",
       "      <td>Judo</td>\n",
       "      <td>Judo Men's Extra-Lightweight</td>\n",
       "      <td>NaN</td>\n",
       "      <td>China</td>\n",
       "    </tr>\n",
       "    <tr>\n",
       "      <th>2</th>\n",
       "      <td>3</td>\n",
       "      <td>Gunnar Nielsen Aaby</td>\n",
       "      <td>M</td>\n",
       "      <td>24.0</td>\n",
       "      <td>NaN</td>\n",
       "      <td>NaN</td>\n",
       "      <td>Denmark</td>\n",
       "      <td>DEN</td>\n",
       "      <td>1920 Summer</td>\n",
       "      <td>1920</td>\n",
       "      <td>Summer</td>\n",
       "      <td>Antwerpen</td>\n",
       "      <td>Football</td>\n",
       "      <td>Football Men's Football</td>\n",
       "      <td>NaN</td>\n",
       "      <td>Denmark</td>\n",
       "    </tr>\n",
       "    <tr>\n",
       "      <th>3</th>\n",
       "      <td>4</td>\n",
       "      <td>Edgar Lindenau Aabye</td>\n",
       "      <td>M</td>\n",
       "      <td>34.0</td>\n",
       "      <td>NaN</td>\n",
       "      <td>NaN</td>\n",
       "      <td>Denmark/Sweden</td>\n",
       "      <td>DEN</td>\n",
       "      <td>1900 Summer</td>\n",
       "      <td>1900</td>\n",
       "      <td>Summer</td>\n",
       "      <td>Paris</td>\n",
       "      <td>Tug-Of-War</td>\n",
       "      <td>Tug-Of-War Men's Tug-Of-War</td>\n",
       "      <td>Gold</td>\n",
       "      <td>Denmark</td>\n",
       "    </tr>\n",
       "    <tr>\n",
       "      <th>4</th>\n",
       "      <td>5</td>\n",
       "      <td>Christine Jacoba Aaftink</td>\n",
       "      <td>F</td>\n",
       "      <td>21.0</td>\n",
       "      <td>185.0</td>\n",
       "      <td>82.0</td>\n",
       "      <td>Netherlands</td>\n",
       "      <td>NED</td>\n",
       "      <td>1988 Winter</td>\n",
       "      <td>1988</td>\n",
       "      <td>Winter</td>\n",
       "      <td>Calgary</td>\n",
       "      <td>Speed Skating</td>\n",
       "      <td>Speed Skating Women's 500 metres</td>\n",
       "      <td>NaN</td>\n",
       "      <td>Netherlands</td>\n",
       "    </tr>\n",
       "  </tbody>\n",
       "</table>\n",
       "</div>"
      ],
      "text/plain": [
       "   ID                      Name Sex   Age  Height  Weight            Team  \\\n",
       "0   1                 A Dijiang   M  24.0   180.0    80.0           China   \n",
       "1   2                  A Lamusi   M  23.0   170.0    60.0           China   \n",
       "2   3       Gunnar Nielsen Aaby   M  24.0     NaN     NaN         Denmark   \n",
       "3   4      Edgar Lindenau Aabye   M  34.0     NaN     NaN  Denmark/Sweden   \n",
       "4   5  Christine Jacoba Aaftink   F  21.0   185.0    82.0     Netherlands   \n",
       "\n",
       "   NOC        Games  Year  Season       City          Sport  \\\n",
       "0  CHN  1992 Summer  1992  Summer  Barcelona     Basketball   \n",
       "1  CHN  2012 Summer  2012  Summer     London           Judo   \n",
       "2  DEN  1920 Summer  1920  Summer  Antwerpen       Football   \n",
       "3  DEN  1900 Summer  1900  Summer      Paris     Tug-Of-War   \n",
       "4  NED  1988 Winter  1988  Winter    Calgary  Speed Skating   \n",
       "\n",
       "                              Event Medal       region  \n",
       "0       Basketball Men's Basketball   NaN        China  \n",
       "1      Judo Men's Extra-Lightweight   NaN        China  \n",
       "2           Football Men's Football   NaN      Denmark  \n",
       "3       Tug-Of-War Men's Tug-Of-War  Gold      Denmark  \n",
       "4  Speed Skating Women's 500 metres   NaN  Netherlands  "
      ]
     },
     "execution_count": 13,
     "metadata": {},
     "output_type": "execute_result"
    }
   ],
   "source": [
    "df.head()"
   ]
  },
  {
   "cell_type": "code",
   "execution_count": 14,
   "id": "cb441f72",
   "metadata": {
    "execution": {
     "iopub.execute_input": "2022-07-18T09:41:01.345657Z",
     "iopub.status.busy": "2022-07-18T09:41:01.345286Z",
     "iopub.status.idle": "2022-07-18T09:41:01.366522Z",
     "shell.execute_reply": "2022-07-18T09:41:01.365713Z"
    },
    "papermill": {
     "duration": 0.049457,
     "end_time": "2022-07-18T09:41:01.368775",
     "exception": false,
     "start_time": "2022-07-18T09:41:01.319318",
     "status": "completed"
    },
    "tags": []
   },
   "outputs": [
    {
     "data": {
      "text/plain": [
       "4         82.0\n",
       "5         82.0\n",
       "6         82.0\n",
       "7         82.0\n",
       "8         82.0\n",
       "          ... \n",
       "271090    95.0\n",
       "271091    89.0\n",
       "271111    89.0\n",
       "271114    96.0\n",
       "271115    96.0\n",
       "Name: Weight, Length: 44854, dtype: float64"
      ]
     },
     "execution_count": 14,
     "metadata": {},
     "output_type": "execute_result"
    }
   ],
   "source": [
    "df[df['Weight']>80]['Weight']"
   ]
  },
  {
   "cell_type": "code",
   "execution_count": 15,
   "id": "7444ccf2",
   "metadata": {
    "execution": {
     "iopub.execute_input": "2022-07-18T09:41:01.418557Z",
     "iopub.status.busy": "2022-07-18T09:41:01.418178Z",
     "iopub.status.idle": "2022-07-18T09:41:01.430151Z",
     "shell.execute_reply": "2022-07-18T09:41:01.429262Z"
    },
    "papermill": {
     "duration": 0.039681,
     "end_time": "2022-07-18T09:41:01.432457",
     "exception": false,
     "start_time": "2022-07-18T09:41:01.392776",
     "status": "completed"
    },
    "tags": []
   },
   "outputs": [
    {
     "data": {
      "text/html": [
       "<div>\n",
       "<style scoped>\n",
       "    .dataframe tbody tr th:only-of-type {\n",
       "        vertical-align: middle;\n",
       "    }\n",
       "\n",
       "    .dataframe tbody tr th {\n",
       "        vertical-align: top;\n",
       "    }\n",
       "\n",
       "    .dataframe thead th {\n",
       "        text-align: right;\n",
       "    }\n",
       "</style>\n",
       "<table border=\"1\" class=\"dataframe\">\n",
       "  <thead>\n",
       "    <tr style=\"text-align: right;\">\n",
       "      <th></th>\n",
       "      <th>Sex</th>\n",
       "      <th>Age</th>\n",
       "    </tr>\n",
       "  </thead>\n",
       "  <tbody>\n",
       "    <tr>\n",
       "      <th>3</th>\n",
       "      <td>M</td>\n",
       "      <td>34.0</td>\n",
       "    </tr>\n",
       "    <tr>\n",
       "      <th>6</th>\n",
       "      <td>F</td>\n",
       "      <td>25.0</td>\n",
       "    </tr>\n",
       "    <tr>\n",
       "      <th>9</th>\n",
       "      <td>F</td>\n",
       "      <td>27.0</td>\n",
       "    </tr>\n",
       "  </tbody>\n",
       "</table>\n",
       "</div>"
      ],
      "text/plain": [
       "  Sex   Age\n",
       "3   M  34.0\n",
       "6   F  25.0\n",
       "9   F  27.0"
      ]
     },
     "execution_count": 15,
     "metadata": {},
     "output_type": "execute_result"
    }
   ],
   "source": [
    "df.iloc[[3,6,9],[2,3]]"
   ]
  },
  {
   "cell_type": "code",
   "execution_count": 16,
   "id": "ba0b0f94",
   "metadata": {
    "execution": {
     "iopub.execute_input": "2022-07-18T09:41:01.483696Z",
     "iopub.status.busy": "2022-07-18T09:41:01.482859Z",
     "iopub.status.idle": "2022-07-18T09:41:01.555231Z",
     "shell.execute_reply": "2022-07-18T09:41:01.554153Z"
    },
    "papermill": {
     "duration": 0.100542,
     "end_time": "2022-07-18T09:41:01.557833",
     "exception": false,
     "start_time": "2022-07-18T09:41:01.457291",
     "status": "completed"
    },
    "tags": []
   },
   "outputs": [
    {
     "data": {
      "text/html": [
       "<div>\n",
       "<style scoped>\n",
       "    .dataframe tbody tr th:only-of-type {\n",
       "        vertical-align: middle;\n",
       "    }\n",
       "\n",
       "    .dataframe tbody tr th {\n",
       "        vertical-align: top;\n",
       "    }\n",
       "\n",
       "    .dataframe thead th {\n",
       "        text-align: right;\n",
       "    }\n",
       "</style>\n",
       "<table border=\"1\" class=\"dataframe\">\n",
       "  <thead>\n",
       "    <tr style=\"text-align: right;\">\n",
       "      <th></th>\n",
       "      <th>ID</th>\n",
       "      <th>Name</th>\n",
       "      <th>Sex</th>\n",
       "      <th>Age</th>\n",
       "      <th>Height</th>\n",
       "      <th>Weight</th>\n",
       "      <th>Team</th>\n",
       "      <th>NOC</th>\n",
       "      <th>Games</th>\n",
       "      <th>Year</th>\n",
       "      <th>Season</th>\n",
       "      <th>City</th>\n",
       "      <th>Sport</th>\n",
       "      <th>Event</th>\n",
       "      <th>Medal</th>\n",
       "      <th>region</th>\n",
       "    </tr>\n",
       "  </thead>\n",
       "  <tbody>\n",
       "    <tr>\n",
       "      <th>137</th>\n",
       "      <td>50</td>\n",
       "      <td>Arvi Aavik</td>\n",
       "      <td>M</td>\n",
       "      <td>22.0</td>\n",
       "      <td>185.0</td>\n",
       "      <td>106.0</td>\n",
       "      <td>Estonia</td>\n",
       "      <td>EST</td>\n",
       "      <td>1992 Summer</td>\n",
       "      <td>1992</td>\n",
       "      <td>Summer</td>\n",
       "      <td>Barcelona</td>\n",
       "      <td>Wrestling</td>\n",
       "      <td>Wrestling Men's Heavyweight, Freestyle</td>\n",
       "      <td>NaN</td>\n",
       "      <td>Estonia</td>\n",
       "    </tr>\n",
       "    <tr>\n",
       "      <th>169</th>\n",
       "      <td>71</td>\n",
       "      <td>Juan Antonio Aball Delgado</td>\n",
       "      <td>M</td>\n",
       "      <td>27.0</td>\n",
       "      <td>172.0</td>\n",
       "      <td>82.0</td>\n",
       "      <td>Cuba</td>\n",
       "      <td>CUB</td>\n",
       "      <td>1992 Summer</td>\n",
       "      <td>1992</td>\n",
       "      <td>Summer</td>\n",
       "      <td>Barcelona</td>\n",
       "      <td>Canoeing</td>\n",
       "      <td>Canoeing Men's Canadian Doubles, 500 metres</td>\n",
       "      <td>NaN</td>\n",
       "      <td>Cuba</td>\n",
       "    </tr>\n",
       "    <tr>\n",
       "      <th>170</th>\n",
       "      <td>71</td>\n",
       "      <td>Juan Antonio Aball Delgado</td>\n",
       "      <td>M</td>\n",
       "      <td>27.0</td>\n",
       "      <td>172.0</td>\n",
       "      <td>82.0</td>\n",
       "      <td>Cuba</td>\n",
       "      <td>CUB</td>\n",
       "      <td>1992 Summer</td>\n",
       "      <td>1992</td>\n",
       "      <td>Summer</td>\n",
       "      <td>Barcelona</td>\n",
       "      <td>Canoeing</td>\n",
       "      <td>Canoeing Men's Canadian Doubles, 1,000 metres</td>\n",
       "      <td>NaN</td>\n",
       "      <td>Cuba</td>\n",
       "    </tr>\n",
       "    <tr>\n",
       "      <th>223</th>\n",
       "      <td>107</td>\n",
       "      <td>Carmine Abbagnale</td>\n",
       "      <td>M</td>\n",
       "      <td>30.0</td>\n",
       "      <td>182.0</td>\n",
       "      <td>90.0</td>\n",
       "      <td>Italy</td>\n",
       "      <td>ITA</td>\n",
       "      <td>1992 Summer</td>\n",
       "      <td>1992</td>\n",
       "      <td>Summer</td>\n",
       "      <td>Barcelona</td>\n",
       "      <td>Rowing</td>\n",
       "      <td>Rowing Men's Coxed Pairs</td>\n",
       "      <td>Silver</td>\n",
       "      <td>Italy</td>\n",
       "    </tr>\n",
       "    <tr>\n",
       "      <th>228</th>\n",
       "      <td>108</td>\n",
       "      <td>Giuseppe Abbagnale</td>\n",
       "      <td>M</td>\n",
       "      <td>33.0</td>\n",
       "      <td>187.0</td>\n",
       "      <td>97.0</td>\n",
       "      <td>Italy</td>\n",
       "      <td>ITA</td>\n",
       "      <td>1992 Summer</td>\n",
       "      <td>1992</td>\n",
       "      <td>Summer</td>\n",
       "      <td>Barcelona</td>\n",
       "      <td>Rowing</td>\n",
       "      <td>Rowing Men's Coxed Pairs</td>\n",
       "      <td>Silver</td>\n",
       "      <td>Italy</td>\n",
       "    </tr>\n",
       "    <tr>\n",
       "      <th>...</th>\n",
       "      <td>...</td>\n",
       "      <td>...</td>\n",
       "      <td>...</td>\n",
       "      <td>...</td>\n",
       "      <td>...</td>\n",
       "      <td>...</td>\n",
       "      <td>...</td>\n",
       "      <td>...</td>\n",
       "      <td>...</td>\n",
       "      <td>...</td>\n",
       "      <td>...</td>\n",
       "      <td>...</td>\n",
       "      <td>...</td>\n",
       "      <td>...</td>\n",
       "      <td>...</td>\n",
       "      <td>...</td>\n",
       "    </tr>\n",
       "    <tr>\n",
       "      <th>270349</th>\n",
       "      <td>135235</td>\n",
       "      <td>Ronald Zoodsma</td>\n",
       "      <td>M</td>\n",
       "      <td>25.0</td>\n",
       "      <td>201.0</td>\n",
       "      <td>90.0</td>\n",
       "      <td>Netherlands</td>\n",
       "      <td>NED</td>\n",
       "      <td>1992 Summer</td>\n",
       "      <td>1992</td>\n",
       "      <td>Summer</td>\n",
       "      <td>Barcelona</td>\n",
       "      <td>Volleyball</td>\n",
       "      <td>Volleyball Men's Volleyball</td>\n",
       "      <td>Silver</td>\n",
       "      <td>Netherlands</td>\n",
       "    </tr>\n",
       "    <tr>\n",
       "      <th>270407</th>\n",
       "      <td>135261</td>\n",
       "      <td>Andrea Zorzi</td>\n",
       "      <td>M</td>\n",
       "      <td>26.0</td>\n",
       "      <td>201.0</td>\n",
       "      <td>102.0</td>\n",
       "      <td>Italy</td>\n",
       "      <td>ITA</td>\n",
       "      <td>1992 Summer</td>\n",
       "      <td>1992</td>\n",
       "      <td>Summer</td>\n",
       "      <td>Barcelona</td>\n",
       "      <td>Volleyball</td>\n",
       "      <td>Volleyball Men's Volleyball</td>\n",
       "      <td>NaN</td>\n",
       "      <td>Italy</td>\n",
       "    </tr>\n",
       "    <tr>\n",
       "      <th>270644</th>\n",
       "      <td>135357</td>\n",
       "      <td>Ji Zubrick</td>\n",
       "      <td>M</td>\n",
       "      <td>28.0</td>\n",
       "      <td>188.0</td>\n",
       "      <td>161.0</td>\n",
       "      <td>Czechoslovakia</td>\n",
       "      <td>TCH</td>\n",
       "      <td>1992 Summer</td>\n",
       "      <td>1992</td>\n",
       "      <td>Summer</td>\n",
       "      <td>Barcelona</td>\n",
       "      <td>Weightlifting</td>\n",
       "      <td>Weightlifting Men's Super-Heavyweight</td>\n",
       "      <td>NaN</td>\n",
       "      <td>Czech Republic</td>\n",
       "    </tr>\n",
       "    <tr>\n",
       "      <th>271015</th>\n",
       "      <td>135523</td>\n",
       "      <td>Ronald Ferdinand \"Ron\" Zwerver</td>\n",
       "      <td>M</td>\n",
       "      <td>25.0</td>\n",
       "      <td>200.0</td>\n",
       "      <td>93.0</td>\n",
       "      <td>Netherlands</td>\n",
       "      <td>NED</td>\n",
       "      <td>1992 Summer</td>\n",
       "      <td>1992</td>\n",
       "      <td>Summer</td>\n",
       "      <td>Barcelona</td>\n",
       "      <td>Volleyball</td>\n",
       "      <td>Volleyball Men's Volleyball</td>\n",
       "      <td>Silver</td>\n",
       "      <td>Netherlands</td>\n",
       "    </tr>\n",
       "    <tr>\n",
       "      <th>271048</th>\n",
       "      <td>135545</td>\n",
       "      <td>Henk Jan Zwolle</td>\n",
       "      <td>M</td>\n",
       "      <td>27.0</td>\n",
       "      <td>197.0</td>\n",
       "      <td>93.0</td>\n",
       "      <td>Netherlands</td>\n",
       "      <td>NED</td>\n",
       "      <td>1992 Summer</td>\n",
       "      <td>1992</td>\n",
       "      <td>Summer</td>\n",
       "      <td>Barcelona</td>\n",
       "      <td>Rowing</td>\n",
       "      <td>Rowing Men's Double Sculls</td>\n",
       "      <td>Bronze</td>\n",
       "      <td>Netherlands</td>\n",
       "    </tr>\n",
       "  </tbody>\n",
       "</table>\n",
       "<p>2437 rows × 16 columns</p>\n",
       "</div>"
      ],
      "text/plain": [
       "            ID                            Name Sex   Age  Height  Weight  \\\n",
       "137         50                      Arvi Aavik   M  22.0   185.0   106.0   \n",
       "169         71      Juan Antonio Aball Delgado   M  27.0   172.0    82.0   \n",
       "170         71      Juan Antonio Aball Delgado   M  27.0   172.0    82.0   \n",
       "223        107               Carmine Abbagnale   M  30.0   182.0    90.0   \n",
       "228        108              Giuseppe Abbagnale   M  33.0   187.0    97.0   \n",
       "...        ...                             ...  ..   ...     ...     ...   \n",
       "270349  135235                  Ronald Zoodsma   M  25.0   201.0    90.0   \n",
       "270407  135261                    Andrea Zorzi   M  26.0   201.0   102.0   \n",
       "270644  135357                      Ji Zubrick   M  28.0   188.0   161.0   \n",
       "271015  135523  Ronald Ferdinand \"Ron\" Zwerver   M  25.0   200.0    93.0   \n",
       "271048  135545                 Henk Jan Zwolle   M  27.0   197.0    93.0   \n",
       "\n",
       "                  Team  NOC        Games  Year  Season       City  \\\n",
       "137            Estonia  EST  1992 Summer  1992  Summer  Barcelona   \n",
       "169               Cuba  CUB  1992 Summer  1992  Summer  Barcelona   \n",
       "170               Cuba  CUB  1992 Summer  1992  Summer  Barcelona   \n",
       "223              Italy  ITA  1992 Summer  1992  Summer  Barcelona   \n",
       "228              Italy  ITA  1992 Summer  1992  Summer  Barcelona   \n",
       "...                ...  ...          ...   ...     ...        ...   \n",
       "270349     Netherlands  NED  1992 Summer  1992  Summer  Barcelona   \n",
       "270407           Italy  ITA  1992 Summer  1992  Summer  Barcelona   \n",
       "270644  Czechoslovakia  TCH  1992 Summer  1992  Summer  Barcelona   \n",
       "271015     Netherlands  NED  1992 Summer  1992  Summer  Barcelona   \n",
       "271048     Netherlands  NED  1992 Summer  1992  Summer  Barcelona   \n",
       "\n",
       "                Sport                                          Event   Medal  \\\n",
       "137         Wrestling         Wrestling Men's Heavyweight, Freestyle     NaN   \n",
       "169          Canoeing    Canoeing Men's Canadian Doubles, 500 metres     NaN   \n",
       "170          Canoeing  Canoeing Men's Canadian Doubles, 1,000 metres     NaN   \n",
       "223            Rowing                       Rowing Men's Coxed Pairs  Silver   \n",
       "228            Rowing                       Rowing Men's Coxed Pairs  Silver   \n",
       "...               ...                                            ...     ...   \n",
       "270349     Volleyball                    Volleyball Men's Volleyball  Silver   \n",
       "270407     Volleyball                    Volleyball Men's Volleyball     NaN   \n",
       "270644  Weightlifting          Weightlifting Men's Super-Heavyweight     NaN   \n",
       "271015     Volleyball                    Volleyball Men's Volleyball  Silver   \n",
       "271048         Rowing                     Rowing Men's Double Sculls  Bronze   \n",
       "\n",
       "                region  \n",
       "137            Estonia  \n",
       "169               Cuba  \n",
       "170               Cuba  \n",
       "223              Italy  \n",
       "228              Italy  \n",
       "...                ...  \n",
       "270349     Netherlands  \n",
       "270407           Italy  \n",
       "270644  Czech Republic  \n",
       "271015     Netherlands  \n",
       "271048     Netherlands  \n",
       "\n",
       "[2437 rows x 16 columns]"
      ]
     },
     "execution_count": 16,
     "metadata": {},
     "output_type": "execute_result"
    }
   ],
   "source": [
    "df[(df['Weight']>80) & (df['City']=='Barcelona')]\n",
    "                        "
   ]
  },
  {
   "cell_type": "code",
   "execution_count": 17,
   "id": "500ce66e",
   "metadata": {
    "execution": {
     "iopub.execute_input": "2022-07-18T09:41:01.610691Z",
     "iopub.status.busy": "2022-07-18T09:41:01.609617Z",
     "iopub.status.idle": "2022-07-18T09:41:01.669467Z",
     "shell.execute_reply": "2022-07-18T09:41:01.668366Z"
    },
    "papermill": {
     "duration": 0.089494,
     "end_time": "2022-07-18T09:41:01.672301",
     "exception": false,
     "start_time": "2022-07-18T09:41:01.582807",
     "status": "completed"
    },
    "tags": []
   },
   "outputs": [
    {
     "data": {
      "text/html": [
       "<div>\n",
       "<style scoped>\n",
       "    .dataframe tbody tr th:only-of-type {\n",
       "        vertical-align: middle;\n",
       "    }\n",
       "\n",
       "    .dataframe tbody tr th {\n",
       "        vertical-align: top;\n",
       "    }\n",
       "\n",
       "    .dataframe thead th {\n",
       "        text-align: right;\n",
       "    }\n",
       "</style>\n",
       "<table border=\"1\" class=\"dataframe\">\n",
       "  <thead>\n",
       "    <tr style=\"text-align: right;\">\n",
       "      <th></th>\n",
       "      <th>Team</th>\n",
       "      <th>City</th>\n",
       "      <th>Sport</th>\n",
       "    </tr>\n",
       "  </thead>\n",
       "  <tbody>\n",
       "    <tr>\n",
       "      <th>137</th>\n",
       "      <td>Estonia</td>\n",
       "      <td>Barcelona</td>\n",
       "      <td>Wrestling</td>\n",
       "    </tr>\n",
       "    <tr>\n",
       "      <th>169</th>\n",
       "      <td>Cuba</td>\n",
       "      <td>Barcelona</td>\n",
       "      <td>Canoeing</td>\n",
       "    </tr>\n",
       "    <tr>\n",
       "      <th>170</th>\n",
       "      <td>Cuba</td>\n",
       "      <td>Barcelona</td>\n",
       "      <td>Canoeing</td>\n",
       "    </tr>\n",
       "    <tr>\n",
       "      <th>223</th>\n",
       "      <td>Italy</td>\n",
       "      <td>Barcelona</td>\n",
       "      <td>Rowing</td>\n",
       "    </tr>\n",
       "    <tr>\n",
       "      <th>228</th>\n",
       "      <td>Italy</td>\n",
       "      <td>Barcelona</td>\n",
       "      <td>Rowing</td>\n",
       "    </tr>\n",
       "    <tr>\n",
       "      <th>...</th>\n",
       "      <td>...</td>\n",
       "      <td>...</td>\n",
       "      <td>...</td>\n",
       "    </tr>\n",
       "    <tr>\n",
       "      <th>270349</th>\n",
       "      <td>Netherlands</td>\n",
       "      <td>Barcelona</td>\n",
       "      <td>Volleyball</td>\n",
       "    </tr>\n",
       "    <tr>\n",
       "      <th>270407</th>\n",
       "      <td>Italy</td>\n",
       "      <td>Barcelona</td>\n",
       "      <td>Volleyball</td>\n",
       "    </tr>\n",
       "    <tr>\n",
       "      <th>270644</th>\n",
       "      <td>Czechoslovakia</td>\n",
       "      <td>Barcelona</td>\n",
       "      <td>Weightlifting</td>\n",
       "    </tr>\n",
       "    <tr>\n",
       "      <th>271015</th>\n",
       "      <td>Netherlands</td>\n",
       "      <td>Barcelona</td>\n",
       "      <td>Volleyball</td>\n",
       "    </tr>\n",
       "    <tr>\n",
       "      <th>271048</th>\n",
       "      <td>Netherlands</td>\n",
       "      <td>Barcelona</td>\n",
       "      <td>Rowing</td>\n",
       "    </tr>\n",
       "  </tbody>\n",
       "</table>\n",
       "<p>2437 rows × 3 columns</p>\n",
       "</div>"
      ],
      "text/plain": [
       "                  Team       City          Sport\n",
       "137            Estonia  Barcelona      Wrestling\n",
       "169               Cuba  Barcelona       Canoeing\n",
       "170               Cuba  Barcelona       Canoeing\n",
       "223              Italy  Barcelona         Rowing\n",
       "228              Italy  Barcelona         Rowing\n",
       "...                ...        ...            ...\n",
       "270349     Netherlands  Barcelona     Volleyball\n",
       "270407           Italy  Barcelona     Volleyball\n",
       "270644  Czechoslovakia  Barcelona  Weightlifting\n",
       "271015     Netherlands  Barcelona     Volleyball\n",
       "271048     Netherlands  Barcelona         Rowing\n",
       "\n",
       "[2437 rows x 3 columns]"
      ]
     },
     "execution_count": 17,
     "metadata": {},
     "output_type": "execute_result"
    }
   ],
   "source": [
    "df[(df['Weight']>80) & (df['City']=='Barcelona')][['Team','City','Sport']]"
   ]
  },
  {
   "cell_type": "raw",
   "id": "f6034cc7",
   "metadata": {
    "papermill": {
     "duration": 0.024938,
     "end_time": "2022-07-18T09:41:01.722818",
     "exception": false,
     "start_time": "2022-07-18T09:41:01.697880",
     "status": "completed"
    },
    "tags": []
   },
   "source": [
    "df.groupby('region')['Medal'].count().nlargest(20).reset_index()"
   ]
  },
  {
   "cell_type": "code",
   "execution_count": 18,
   "id": "16b41806",
   "metadata": {
    "execution": {
     "iopub.execute_input": "2022-07-18T09:41:01.776023Z",
     "iopub.status.busy": "2022-07-18T09:41:01.775363Z",
     "iopub.status.idle": "2022-07-18T09:41:01.826834Z",
     "shell.execute_reply": "2022-07-18T09:41:01.825792Z"
    },
    "papermill": {
     "duration": 0.081498,
     "end_time": "2022-07-18T09:41:01.829542",
     "exception": false,
     "start_time": "2022-07-18T09:41:01.748044",
     "status": "completed"
    },
    "tags": []
   },
   "outputs": [],
   "source": [
    "region_medal=df.groupby('region')['Medal'].count().nlargest(20).reset_index()"
   ]
  },
  {
   "cell_type": "code",
   "execution_count": 19,
   "id": "39842a9d",
   "metadata": {
    "execution": {
     "iopub.execute_input": "2022-07-18T09:41:01.881622Z",
     "iopub.status.busy": "2022-07-18T09:41:01.881253Z",
     "iopub.status.idle": "2022-07-18T09:41:01.889942Z",
     "shell.execute_reply": "2022-07-18T09:41:01.889128Z"
    },
    "papermill": {
     "duration": 0.037931,
     "end_time": "2022-07-18T09:41:01.892620",
     "exception": false,
     "start_time": "2022-07-18T09:41:01.854689",
     "status": "completed"
    },
    "tags": []
   },
   "outputs": [
    {
     "data": {
      "text/html": [
       "<div>\n",
       "<style scoped>\n",
       "    .dataframe tbody tr th:only-of-type {\n",
       "        vertical-align: middle;\n",
       "    }\n",
       "\n",
       "    .dataframe tbody tr th {\n",
       "        vertical-align: top;\n",
       "    }\n",
       "\n",
       "    .dataframe thead th {\n",
       "        text-align: right;\n",
       "    }\n",
       "</style>\n",
       "<table border=\"1\" class=\"dataframe\">\n",
       "  <thead>\n",
       "    <tr style=\"text-align: right;\">\n",
       "      <th></th>\n",
       "      <th>region</th>\n",
       "      <th>Medal</th>\n",
       "    </tr>\n",
       "  </thead>\n",
       "  <tbody>\n",
       "    <tr>\n",
       "      <th>0</th>\n",
       "      <td>USA</td>\n",
       "      <td>5637</td>\n",
       "    </tr>\n",
       "    <tr>\n",
       "      <th>1</th>\n",
       "      <td>Russia</td>\n",
       "      <td>3947</td>\n",
       "    </tr>\n",
       "    <tr>\n",
       "      <th>2</th>\n",
       "      <td>Germany</td>\n",
       "      <td>3756</td>\n",
       "    </tr>\n",
       "    <tr>\n",
       "      <th>3</th>\n",
       "      <td>UK</td>\n",
       "      <td>2068</td>\n",
       "    </tr>\n",
       "    <tr>\n",
       "      <th>4</th>\n",
       "      <td>France</td>\n",
       "      <td>1777</td>\n",
       "    </tr>\n",
       "  </tbody>\n",
       "</table>\n",
       "</div>"
      ],
      "text/plain": [
       "    region  Medal\n",
       "0      USA   5637\n",
       "1   Russia   3947\n",
       "2  Germany   3756\n",
       "3       UK   2068\n",
       "4   France   1777"
      ]
     },
     "execution_count": 19,
     "metadata": {},
     "output_type": "execute_result"
    }
   ],
   "source": [
    "region_medal.head()"
   ]
  },
  {
   "cell_type": "markdown",
   "id": "ba9a536b",
   "metadata": {
    "papermill": {
     "duration": 0.02536,
     "end_time": "2022-07-18T09:41:01.944394",
     "exception": false,
     "start_time": "2022-07-18T09:41:01.919034",
     "status": "completed"
    },
    "tags": []
   },
   "source": [
    "Let's see 'Sport' column values"
   ]
  },
  {
   "cell_type": "code",
   "execution_count": 20,
   "id": "77219e15",
   "metadata": {
    "execution": {
     "iopub.execute_input": "2022-07-18T09:41:01.996915Z",
     "iopub.status.busy": "2022-07-18T09:41:01.996540Z",
     "iopub.status.idle": "2022-07-18T09:41:02.046908Z",
     "shell.execute_reply": "2022-07-18T09:41:02.045903Z"
    },
    "papermill": {
     "duration": 0.079545,
     "end_time": "2022-07-18T09:41:02.049246",
     "exception": false,
     "start_time": "2022-07-18T09:41:01.969701",
     "status": "completed"
    },
    "tags": []
   },
   "outputs": [
    {
     "data": {
      "text/plain": [
       "Athletics        0.142463\n",
       "Gymnastics       0.098508\n",
       "Swimming         0.085554\n",
       "Shooting         0.042225\n",
       "Cycling          0.040053\n",
       "                   ...   \n",
       "Racquets         0.000044\n",
       "Jeu De Paume     0.000041\n",
       "Roque            0.000015\n",
       "Basque Pelota    0.000007\n",
       "Aeronautics      0.000004\n",
       "Name: Sport, Length: 66, dtype: float64"
      ]
     },
     "execution_count": 20,
     "metadata": {},
     "output_type": "execute_result"
    }
   ],
   "source": [
    "df['Sport'].value_counts(normalize='True')"
   ]
  },
  {
   "cell_type": "markdown",
   "id": "a8ae020a",
   "metadata": {
    "papermill": {
     "duration": 0.025917,
     "end_time": "2022-07-18T09:41:02.102928",
     "exception": false,
     "start_time": "2022-07-18T09:41:02.077011",
     "status": "completed"
    },
    "tags": []
   },
   "source": [
    "# Data visualization"
   ]
  },
  {
   "cell_type": "markdown",
   "id": "a2097fa9",
   "metadata": {
    "papermill": {
     "duration": 0.026265,
     "end_time": "2022-07-18T09:41:02.157959",
     "exception": false,
     "start_time": "2022-07-18T09:41:02.131694",
     "status": "completed"
    },
    "tags": []
   },
   "source": [
    "Let's see medals by regions"
   ]
  },
  {
   "cell_type": "code",
   "execution_count": 21,
   "id": "38756098",
   "metadata": {
    "execution": {
     "iopub.execute_input": "2022-07-18T09:41:02.210987Z",
     "iopub.status.busy": "2022-07-18T09:41:02.210251Z",
     "iopub.status.idle": "2022-07-18T09:41:02.517344Z",
     "shell.execute_reply": "2022-07-18T09:41:02.516062Z"
    },
    "papermill": {
     "duration": 0.336475,
     "end_time": "2022-07-18T09:41:02.519868",
     "exception": false,
     "start_time": "2022-07-18T09:41:02.183393",
     "status": "completed"
    },
    "tags": []
   },
   "outputs": [
    {
     "data": {
      "image/png": "[encoded data removed]",
      "text/plain": [
       "<Figure size 432x288 with 1 Axes>"
      ]
     },
     "metadata": {
      "needs_background": "light"
     },
     "output_type": "display_data"
    }
   ],
   "source": [
    "sns.barplot(y='region',x='Medal',data=region_medal)\n",
    "plt.title('medals by regions')\n",
    "plt.xlabel('medals')\n",
    "plt.ylabel('regions')\n",
    "plt.xticks(rotation=90)\n",
    "plt.show()\n"
   ]
  },
  {
   "cell_type": "code",
   "execution_count": 22,
   "id": "415bd496",
   "metadata": {
    "execution": {
     "iopub.execute_input": "2022-07-18T09:41:02.573767Z",
     "iopub.status.busy": "2022-07-18T09:41:02.573044Z",
     "iopub.status.idle": "2022-07-18T09:41:02.595672Z",
     "shell.execute_reply": "2022-07-18T09:41:02.594684Z"
    },
    "papermill": {
     "duration": 0.052824,
     "end_time": "2022-07-18T09:41:02.598548",
     "exception": false,
     "start_time": "2022-07-18T09:41:02.545724",
     "status": "completed"
    },
    "tags": []
   },
   "outputs": [
    {
     "data": {
      "text/plain": [
       "Gold      13372\n",
       "Bronze    13295\n",
       "Silver    13116\n",
       "Name: Medal, dtype: int64"
      ]
     },
     "execution_count": 22,
     "metadata": {},
     "output_type": "execute_result"
    }
   ],
   "source": [
    "df['Medal'].value_counts()"
   ]
  },
  {
   "cell_type": "markdown",
   "id": "73b99e0b",
   "metadata": {
    "papermill": {
     "duration": 0.025775,
     "end_time": "2022-07-18T09:41:02.650624",
     "exception": false,
     "start_time": "2022-07-18T09:41:02.624849",
     "status": "completed"
    },
    "tags": []
   },
   "source": [
    "regions and partipants of gold medals"
   ]
  },
  {
   "cell_type": "code",
   "execution_count": 23,
   "id": "8029bb0a",
   "metadata": {
    "execution": {
     "iopub.execute_input": "2022-07-18T09:41:02.703685Z",
     "iopub.status.busy": "2022-07-18T09:41:02.703295Z",
     "iopub.status.idle": "2022-07-18T09:41:02.738528Z",
     "shell.execute_reply": "2022-07-18T09:41:02.737316Z"
    },
    "papermill": {
     "duration": 0.064626,
     "end_time": "2022-07-18T09:41:02.740933",
     "exception": false,
     "start_time": "2022-07-18T09:41:02.676307",
     "status": "completed"
    },
    "tags": []
   },
   "outputs": [
    {
     "data": {
      "text/html": [
       "<div>\n",
       "<style scoped>\n",
       "    .dataframe tbody tr th:only-of-type {\n",
       "        vertical-align: middle;\n",
       "    }\n",
       "\n",
       "    .dataframe tbody tr th {\n",
       "        vertical-align: top;\n",
       "    }\n",
       "\n",
       "    .dataframe thead th {\n",
       "        text-align: right;\n",
       "    }\n",
       "</style>\n",
       "<table border=\"1\" class=\"dataframe\">\n",
       "  <thead>\n",
       "    <tr style=\"text-align: right;\">\n",
       "      <th></th>\n",
       "      <th>Name</th>\n",
       "      <th>region</th>\n",
       "    </tr>\n",
       "  </thead>\n",
       "  <tbody>\n",
       "    <tr>\n",
       "      <th>3</th>\n",
       "      <td>Edgar Lindenau Aabye</td>\n",
       "      <td>Denmark</td>\n",
       "    </tr>\n",
       "    <tr>\n",
       "      <th>42</th>\n",
       "      <td>Paavo Johannes Aaltonen</td>\n",
       "      <td>Finland</td>\n",
       "    </tr>\n",
       "    <tr>\n",
       "      <th>44</th>\n",
       "      <td>Paavo Johannes Aaltonen</td>\n",
       "      <td>Finland</td>\n",
       "    </tr>\n",
       "    <tr>\n",
       "      <th>48</th>\n",
       "      <td>Paavo Johannes Aaltonen</td>\n",
       "      <td>Finland</td>\n",
       "    </tr>\n",
       "    <tr>\n",
       "      <th>60</th>\n",
       "      <td>Kjetil Andr Aamodt</td>\n",
       "      <td>Norway</td>\n",
       "    </tr>\n",
       "    <tr>\n",
       "      <th>...</th>\n",
       "      <td>...</td>\n",
       "      <td>...</td>\n",
       "    </tr>\n",
       "    <tr>\n",
       "      <th>270981</th>\n",
       "      <td>Zurab Zviadauri</td>\n",
       "      <td>Georgia</td>\n",
       "    </tr>\n",
       "    <tr>\n",
       "      <th>271009</th>\n",
       "      <td>Julia Zwehl</td>\n",
       "      <td>Germany</td>\n",
       "    </tr>\n",
       "    <tr>\n",
       "      <th>271016</th>\n",
       "      <td>Ronald Ferdinand \"Ron\" Zwerver</td>\n",
       "      <td>Netherlands</td>\n",
       "    </tr>\n",
       "    <tr>\n",
       "      <th>271049</th>\n",
       "      <td>Henk Jan Zwolle</td>\n",
       "      <td>Netherlands</td>\n",
       "    </tr>\n",
       "    <tr>\n",
       "      <th>271076</th>\n",
       "      <td>Galina Ivanovna Zybina (-Fyodorova)</td>\n",
       "      <td>Russia</td>\n",
       "    </tr>\n",
       "  </tbody>\n",
       "</table>\n",
       "<p>13372 rows × 2 columns</p>\n",
       "</div>"
      ],
      "text/plain": [
       "                                       Name       region\n",
       "3                      Edgar Lindenau Aabye      Denmark\n",
       "42                  Paavo Johannes Aaltonen      Finland\n",
       "44                  Paavo Johannes Aaltonen      Finland\n",
       "48                  Paavo Johannes Aaltonen      Finland\n",
       "60                       Kjetil Andr Aamodt       Norway\n",
       "...                                     ...          ...\n",
       "270981                      Zurab Zviadauri      Georgia\n",
       "271009                          Julia Zwehl      Germany\n",
       "271016       Ronald Ferdinand \"Ron\" Zwerver  Netherlands\n",
       "271049                      Henk Jan Zwolle  Netherlands\n",
       "271076  Galina Ivanovna Zybina (-Fyodorova)       Russia\n",
       "\n",
       "[13372 rows x 2 columns]"
      ]
     },
     "execution_count": 23,
     "metadata": {},
     "output_type": "execute_result"
    }
   ],
   "source": [
    "df[df['Medal']=='Gold'][['Name','region']]"
   ]
  },
  {
   "cell_type": "markdown",
   "id": "4ee2112b",
   "metadata": {
    "papermill": {
     "duration": 0.026168,
     "end_time": "2022-07-18T09:41:02.794041",
     "exception": false,
     "start_time": "2022-07-18T09:41:02.767873",
     "status": "completed"
    },
    "tags": []
   },
   "source": [
    "counting gold,silver,bronze medals"
   ]
  },
  {
   "cell_type": "code",
   "execution_count": 24,
   "id": "bceb944b",
   "metadata": {
    "execution": {
     "iopub.execute_input": "2022-07-18T09:41:02.849814Z",
     "iopub.status.busy": "2022-07-18T09:41:02.849388Z",
     "iopub.status.idle": "2022-07-18T09:41:03.242653Z",
     "shell.execute_reply": "2022-07-18T09:41:03.241532Z"
    },
    "papermill": {
     "duration": 0.424859,
     "end_time": "2022-07-18T09:41:03.245134",
     "exception": false,
     "start_time": "2022-07-18T09:41:02.820275",
     "status": "completed"
    },
    "tags": []
   },
   "outputs": [
    {
     "data": {
      "image/png": "[encoded data removed]",
      "text/plain": [
       "<Figure size 720x360 with 1 Axes>"
      ]
     },
     "metadata": {
      "needs_background": "light"
     },
     "output_type": "display_data"
    }
   ],
   "source": [
    "plt.figure(figsize=(10,5))\n",
    "sns.countplot(x='Medal', data=df)\n",
    "plt.show()"
   ]
  },
  {
   "cell_type": "markdown",
   "id": "98a2e79b",
   "metadata": {
    "papermill": {
     "duration": 0.026044,
     "end_time": "2022-07-18T09:41:03.299068",
     "exception": false,
     "start_time": "2022-07-18T09:41:03.273024",
     "status": "completed"
    },
    "tags": []
   },
   "source": [
    "how many participants take part per years"
   ]
  },
  {
   "cell_type": "code",
   "execution_count": 25,
   "id": "26525bc4",
   "metadata": {
    "execution": {
     "iopub.execute_input": "2022-07-18T09:41:03.353622Z",
     "iopub.status.busy": "2022-07-18T09:41:03.352926Z",
     "iopub.status.idle": "2022-07-18T09:41:03.401189Z",
     "shell.execute_reply": "2022-07-18T09:41:03.399832Z"
    },
    "papermill": {
     "duration": 0.078694,
     "end_time": "2022-07-18T09:41:03.403957",
     "exception": false,
     "start_time": "2022-07-18T09:41:03.325263",
     "status": "completed"
    },
    "tags": []
   },
   "outputs": [
    {
     "data": {
      "text/html": [
       "<div>\n",
       "<style scoped>\n",
       "    .dataframe tbody tr th:only-of-type {\n",
       "        vertical-align: middle;\n",
       "    }\n",
       "\n",
       "    .dataframe tbody tr th {\n",
       "        vertical-align: top;\n",
       "    }\n",
       "\n",
       "    .dataframe thead th {\n",
       "        text-align: right;\n",
       "    }\n",
       "</style>\n",
       "<table border=\"1\" class=\"dataframe\">\n",
       "  <thead>\n",
       "    <tr style=\"text-align: right;\">\n",
       "      <th></th>\n",
       "      <th>Year</th>\n",
       "      <th>Name</th>\n",
       "    </tr>\n",
       "  </thead>\n",
       "  <tbody>\n",
       "    <tr>\n",
       "      <th>0</th>\n",
       "      <td>1896</td>\n",
       "      <td>380</td>\n",
       "    </tr>\n",
       "    <tr>\n",
       "      <th>1</th>\n",
       "      <td>1900</td>\n",
       "      <td>1936</td>\n",
       "    </tr>\n",
       "    <tr>\n",
       "      <th>2</th>\n",
       "      <td>1904</td>\n",
       "      <td>1301</td>\n",
       "    </tr>\n",
       "    <tr>\n",
       "      <th>3</th>\n",
       "      <td>1906</td>\n",
       "      <td>1733</td>\n",
       "    </tr>\n",
       "    <tr>\n",
       "      <th>4</th>\n",
       "      <td>1908</td>\n",
       "      <td>3101</td>\n",
       "    </tr>\n",
       "    <tr>\n",
       "      <th>5</th>\n",
       "      <td>1912</td>\n",
       "      <td>4040</td>\n",
       "    </tr>\n",
       "    <tr>\n",
       "      <th>6</th>\n",
       "      <td>1920</td>\n",
       "      <td>4292</td>\n",
       "    </tr>\n",
       "    <tr>\n",
       "      <th>7</th>\n",
       "      <td>1924</td>\n",
       "      <td>5693</td>\n",
       "    </tr>\n",
       "    <tr>\n",
       "      <th>8</th>\n",
       "      <td>1928</td>\n",
       "      <td>5574</td>\n",
       "    </tr>\n",
       "    <tr>\n",
       "      <th>9</th>\n",
       "      <td>1932</td>\n",
       "      <td>3321</td>\n",
       "    </tr>\n",
       "    <tr>\n",
       "      <th>10</th>\n",
       "      <td>1936</td>\n",
       "      <td>7401</td>\n",
       "    </tr>\n",
       "    <tr>\n",
       "      <th>11</th>\n",
       "      <td>1948</td>\n",
       "      <td>7480</td>\n",
       "    </tr>\n",
       "    <tr>\n",
       "      <th>12</th>\n",
       "      <td>1952</td>\n",
       "      <td>9358</td>\n",
       "    </tr>\n",
       "    <tr>\n",
       "      <th>13</th>\n",
       "      <td>1956</td>\n",
       "      <td>6434</td>\n",
       "    </tr>\n",
       "    <tr>\n",
       "      <th>14</th>\n",
       "      <td>1960</td>\n",
       "      <td>9235</td>\n",
       "    </tr>\n",
       "    <tr>\n",
       "      <th>15</th>\n",
       "      <td>1964</td>\n",
       "      <td>9480</td>\n",
       "    </tr>\n",
       "    <tr>\n",
       "      <th>16</th>\n",
       "      <td>1968</td>\n",
       "      <td>10479</td>\n",
       "    </tr>\n",
       "    <tr>\n",
       "      <th>17</th>\n",
       "      <td>1972</td>\n",
       "      <td>11959</td>\n",
       "    </tr>\n",
       "    <tr>\n",
       "      <th>18</th>\n",
       "      <td>1976</td>\n",
       "      <td>10502</td>\n",
       "    </tr>\n",
       "    <tr>\n",
       "      <th>19</th>\n",
       "      <td>1980</td>\n",
       "      <td>8937</td>\n",
       "    </tr>\n",
       "    <tr>\n",
       "      <th>20</th>\n",
       "      <td>1984</td>\n",
       "      <td>11588</td>\n",
       "    </tr>\n",
       "    <tr>\n",
       "      <th>21</th>\n",
       "      <td>1988</td>\n",
       "      <td>14676</td>\n",
       "    </tr>\n",
       "    <tr>\n",
       "      <th>22</th>\n",
       "      <td>1992</td>\n",
       "      <td>16413</td>\n",
       "    </tr>\n",
       "    <tr>\n",
       "      <th>23</th>\n",
       "      <td>1994</td>\n",
       "      <td>3160</td>\n",
       "    </tr>\n",
       "    <tr>\n",
       "      <th>24</th>\n",
       "      <td>1996</td>\n",
       "      <td>13780</td>\n",
       "    </tr>\n",
       "    <tr>\n",
       "      <th>25</th>\n",
       "      <td>1998</td>\n",
       "      <td>3605</td>\n",
       "    </tr>\n",
       "    <tr>\n",
       "      <th>26</th>\n",
       "      <td>2000</td>\n",
       "      <td>13821</td>\n",
       "    </tr>\n",
       "    <tr>\n",
       "      <th>27</th>\n",
       "      <td>2002</td>\n",
       "      <td>4109</td>\n",
       "    </tr>\n",
       "    <tr>\n",
       "      <th>28</th>\n",
       "      <td>2004</td>\n",
       "      <td>13443</td>\n",
       "    </tr>\n",
       "    <tr>\n",
       "      <th>29</th>\n",
       "      <td>2006</td>\n",
       "      <td>4382</td>\n",
       "    </tr>\n",
       "    <tr>\n",
       "      <th>30</th>\n",
       "      <td>2008</td>\n",
       "      <td>13602</td>\n",
       "    </tr>\n",
       "    <tr>\n",
       "      <th>31</th>\n",
       "      <td>2010</td>\n",
       "      <td>4402</td>\n",
       "    </tr>\n",
       "    <tr>\n",
       "      <th>32</th>\n",
       "      <td>2012</td>\n",
       "      <td>12920</td>\n",
       "    </tr>\n",
       "    <tr>\n",
       "      <th>33</th>\n",
       "      <td>2014</td>\n",
       "      <td>4891</td>\n",
       "    </tr>\n",
       "    <tr>\n",
       "      <th>34</th>\n",
       "      <td>2016</td>\n",
       "      <td>13688</td>\n",
       "    </tr>\n",
       "  </tbody>\n",
       "</table>\n",
       "</div>"
      ],
      "text/plain": [
       "    Year   Name\n",
       "0   1896    380\n",
       "1   1900   1936\n",
       "2   1904   1301\n",
       "3   1906   1733\n",
       "4   1908   3101\n",
       "5   1912   4040\n",
       "6   1920   4292\n",
       "7   1924   5693\n",
       "8   1928   5574\n",
       "9   1932   3321\n",
       "10  1936   7401\n",
       "11  1948   7480\n",
       "12  1952   9358\n",
       "13  1956   6434\n",
       "14  1960   9235\n",
       "15  1964   9480\n",
       "16  1968  10479\n",
       "17  1972  11959\n",
       "18  1976  10502\n",
       "19  1980   8937\n",
       "20  1984  11588\n",
       "21  1988  14676\n",
       "22  1992  16413\n",
       "23  1994   3160\n",
       "24  1996  13780\n",
       "25  1998   3605\n",
       "26  2000  13821\n",
       "27  2002   4109\n",
       "28  2004  13443\n",
       "29  2006   4382\n",
       "30  2008  13602\n",
       "31  2010   4402\n",
       "32  2012  12920\n",
       "33  2014   4891\n",
       "34  2016  13688"
      ]
     },
     "execution_count": 25,
     "metadata": {},
     "output_type": "execute_result"
    }
   ],
   "source": [
    "participants=df.groupby('Year')['Name'].count().reset_index()\n",
    "participants"
   ]
  },
  {
   "cell_type": "code",
   "execution_count": 26,
   "id": "c74e2de2",
   "metadata": {
    "execution": {
     "iopub.execute_input": "2022-07-18T09:41:03.459905Z",
     "iopub.status.busy": "2022-07-18T09:41:03.459488Z",
     "iopub.status.idle": "2022-07-18T09:41:03.535283Z",
     "shell.execute_reply": "2022-07-18T09:41:03.534164Z"
    },
    "papermill": {
     "duration": 0.106636,
     "end_time": "2022-07-18T09:41:03.537709",
     "exception": false,
     "start_time": "2022-07-18T09:41:03.431073",
     "status": "completed"
    },
    "tags": []
   },
   "outputs": [
    {
     "data": {
      "text/html": [
       "<div>\n",
       "<style scoped>\n",
       "    .dataframe tbody tr th:only-of-type {\n",
       "        vertical-align: middle;\n",
       "    }\n",
       "\n",
       "    .dataframe tbody tr th {\n",
       "        vertical-align: top;\n",
       "    }\n",
       "\n",
       "    .dataframe thead th {\n",
       "        text-align: right;\n",
       "    }\n",
       "</style>\n",
       "<table border=\"1\" class=\"dataframe\">\n",
       "  <thead>\n",
       "    <tr style=\"text-align: right;\">\n",
       "      <th></th>\n",
       "      <th>Season</th>\n",
       "      <th>Medal</th>\n",
       "      <th>0</th>\n",
       "    </tr>\n",
       "  </thead>\n",
       "  <tbody>\n",
       "    <tr>\n",
       "      <th>0</th>\n",
       "      <td>Summer</td>\n",
       "      <td>Bronze</td>\n",
       "      <td>11409</td>\n",
       "    </tr>\n",
       "    <tr>\n",
       "      <th>1</th>\n",
       "      <td>Summer</td>\n",
       "      <td>Gold</td>\n",
       "      <td>11459</td>\n",
       "    </tr>\n",
       "    <tr>\n",
       "      <th>2</th>\n",
       "      <td>Summer</td>\n",
       "      <td>Silver</td>\n",
       "      <td>11220</td>\n",
       "    </tr>\n",
       "    <tr>\n",
       "      <th>3</th>\n",
       "      <td>Winter</td>\n",
       "      <td>Bronze</td>\n",
       "      <td>1886</td>\n",
       "    </tr>\n",
       "    <tr>\n",
       "      <th>4</th>\n",
       "      <td>Winter</td>\n",
       "      <td>Gold</td>\n",
       "      <td>1913</td>\n",
       "    </tr>\n",
       "    <tr>\n",
       "      <th>5</th>\n",
       "      <td>Winter</td>\n",
       "      <td>Silver</td>\n",
       "      <td>1896</td>\n",
       "    </tr>\n",
       "  </tbody>\n",
       "</table>\n",
       "</div>"
      ],
      "text/plain": [
       "   Season   Medal      0\n",
       "0  Summer  Bronze  11409\n",
       "1  Summer    Gold  11459\n",
       "2  Summer  Silver  11220\n",
       "3  Winter  Bronze   1886\n",
       "4  Winter    Gold   1913\n",
       "5  Winter  Silver   1896"
      ]
     },
     "execution_count": 26,
     "metadata": {},
     "output_type": "execute_result"
    }
   ],
   "source": [
    "reg_medal=df.groupby(['Season','Medal']).size().reset_index()\n",
    "reg_medal"
   ]
  },
  {
   "cell_type": "markdown",
   "id": "2d8bd88e",
   "metadata": {
    "papermill": {
     "duration": 0.026912,
     "end_time": "2022-07-18T09:41:03.591893",
     "exception": false,
     "start_time": "2022-07-18T09:41:03.564981",
     "status": "completed"
    },
    "tags": []
   },
   "source": [
    "let's make year,season and city as index"
   ]
  },
  {
   "cell_type": "code",
   "execution_count": 27,
   "id": "69ab55d2",
   "metadata": {
    "execution": {
     "iopub.execute_input": "2022-07-18T09:41:03.648472Z",
     "iopub.status.busy": "2022-07-18T09:41:03.647415Z",
     "iopub.status.idle": "2022-07-18T09:41:03.999602Z",
     "shell.execute_reply": "2022-07-18T09:41:03.998245Z"
    },
    "papermill": {
     "duration": 0.383748,
     "end_time": "2022-07-18T09:41:04.002696",
     "exception": false,
     "start_time": "2022-07-18T09:41:03.618948",
     "status": "completed"
    },
    "tags": []
   },
   "outputs": [],
   "source": [
    "season=df.groupby(['Year','Season','City'],as_index='False').first()"
   ]
  },
  {
   "cell_type": "code",
   "execution_count": 28,
   "id": "41ec7618",
   "metadata": {
    "execution": {
     "iopub.execute_input": "2022-07-18T09:41:04.059153Z",
     "iopub.status.busy": "2022-07-18T09:41:04.058778Z",
     "iopub.status.idle": "2022-07-18T09:41:04.111438Z",
     "shell.execute_reply": "2022-07-18T09:41:04.110168Z"
    },
    "papermill": {
     "duration": 0.085224,
     "end_time": "2022-07-18T09:41:04.115325",
     "exception": false,
     "start_time": "2022-07-18T09:41:04.030101",
     "status": "completed"
    },
    "tags": []
   },
   "outputs": [
    {
     "data": {
      "text/html": [
       "<div>\n",
       "<style scoped>\n",
       "    .dataframe tbody tr th:only-of-type {\n",
       "        vertical-align: middle;\n",
       "    }\n",
       "\n",
       "    .dataframe tbody tr th {\n",
       "        vertical-align: top;\n",
       "    }\n",
       "\n",
       "    .dataframe thead th {\n",
       "        text-align: right;\n",
       "    }\n",
       "</style>\n",
       "<table border=\"1\" class=\"dataframe\">\n",
       "  <thead>\n",
       "    <tr style=\"text-align: right;\">\n",
       "      <th></th>\n",
       "      <th></th>\n",
       "      <th></th>\n",
       "      <th>ID</th>\n",
       "      <th>Name</th>\n",
       "      <th>Sex</th>\n",
       "      <th>Age</th>\n",
       "      <th>Height</th>\n",
       "      <th>Weight</th>\n",
       "      <th>Team</th>\n",
       "      <th>NOC</th>\n",
       "      <th>Games</th>\n",
       "      <th>Sport</th>\n",
       "      <th>Event</th>\n",
       "      <th>Medal</th>\n",
       "      <th>region</th>\n",
       "    </tr>\n",
       "    <tr>\n",
       "      <th>Year</th>\n",
       "      <th>Season</th>\n",
       "      <th>City</th>\n",
       "      <th></th>\n",
       "      <th></th>\n",
       "      <th></th>\n",
       "      <th></th>\n",
       "      <th></th>\n",
       "      <th></th>\n",
       "      <th></th>\n",
       "      <th></th>\n",
       "      <th></th>\n",
       "      <th></th>\n",
       "      <th></th>\n",
       "      <th></th>\n",
       "      <th></th>\n",
       "    </tr>\n",
       "  </thead>\n",
       "  <tbody>\n",
       "    <tr>\n",
       "      <th>1896</th>\n",
       "      <th>Summer</th>\n",
       "      <th>Athina</th>\n",
       "      <td>1724</td>\n",
       "      <td>Aristidis Akratopoulos</td>\n",
       "      <td>M</td>\n",
       "      <td>24.0</td>\n",
       "      <td>183.0</td>\n",
       "      <td>66.0</td>\n",
       "      <td>Greece</td>\n",
       "      <td>GRE</td>\n",
       "      <td>1896 Summer</td>\n",
       "      <td>Tennis</td>\n",
       "      <td>Tennis Men's Singles</td>\n",
       "      <td>Silver</td>\n",
       "      <td>Greece</td>\n",
       "    </tr>\n",
       "    <tr>\n",
       "      <th>1900</th>\n",
       "      <th>Summer</th>\n",
       "      <th>Paris</th>\n",
       "      <td>4</td>\n",
       "      <td>Edgar Lindenau Aabye</td>\n",
       "      <td>M</td>\n",
       "      <td>34.0</td>\n",
       "      <td>168.0</td>\n",
       "      <td>60.0</td>\n",
       "      <td>Denmark/Sweden</td>\n",
       "      <td>DEN</td>\n",
       "      <td>1900 Summer</td>\n",
       "      <td>Tug-Of-War</td>\n",
       "      <td>Tug-Of-War Men's Tug-Of-War</td>\n",
       "      <td>Gold</td>\n",
       "      <td>Denmark</td>\n",
       "    </tr>\n",
       "    <tr>\n",
       "      <th>1904</th>\n",
       "      <th>Summer</th>\n",
       "      <th>St. Louis</th>\n",
       "      <td>404</td>\n",
       "      <td>Louis Grenville \"Lou\" Abell</td>\n",
       "      <td>M</td>\n",
       "      <td>19.0</td>\n",
       "      <td>168.0</td>\n",
       "      <td>77.0</td>\n",
       "      <td>Vesper Boat Club</td>\n",
       "      <td>USA</td>\n",
       "      <td>1904 Summer</td>\n",
       "      <td>Rowing</td>\n",
       "      <td>Rowing Men's Coxed Eights</td>\n",
       "      <td>Gold</td>\n",
       "      <td>USA</td>\n",
       "    </tr>\n",
       "    <tr>\n",
       "      <th>1906</th>\n",
       "      <th>Summer</th>\n",
       "      <th>Athina</th>\n",
       "      <td>139</td>\n",
       "      <td>George \"Ioannis\" Abbot</td>\n",
       "      <td>M</td>\n",
       "      <td>21.0</td>\n",
       "      <td>182.0</td>\n",
       "      <td>77.0</td>\n",
       "      <td>Thessalonki-1</td>\n",
       "      <td>GRE</td>\n",
       "      <td>1906 Summer</td>\n",
       "      <td>Football</td>\n",
       "      <td>Football Men's Football</td>\n",
       "      <td>Bronze</td>\n",
       "      <td>Greece</td>\n",
       "    </tr>\n",
       "    <tr>\n",
       "      <th>1908</th>\n",
       "      <th>Summer</th>\n",
       "      <th>London</th>\n",
       "      <td>635</td>\n",
       "      <td>Alfredo Accorsi</td>\n",
       "      <td>M</td>\n",
       "      <td>27.0</td>\n",
       "      <td>188.0</td>\n",
       "      <td>78.0</td>\n",
       "      <td>Italy</td>\n",
       "      <td>ITA</td>\n",
       "      <td>1908 Summer</td>\n",
       "      <td>Gymnastics</td>\n",
       "      <td>Gymnastics Men's Team All-Around</td>\n",
       "      <td>Bronze</td>\n",
       "      <td>Italy</td>\n",
       "    </tr>\n",
       "    <tr>\n",
       "      <th>1912</th>\n",
       "      <th>Summer</th>\n",
       "      <th>Stockholm</th>\n",
       "      <td>15</td>\n",
       "      <td>Arvo Ossian Aaltonen</td>\n",
       "      <td>M</td>\n",
       "      <td>22.0</td>\n",
       "      <td>181.0</td>\n",
       "      <td>78.0</td>\n",
       "      <td>Finland</td>\n",
       "      <td>FIN</td>\n",
       "      <td>1912 Summer</td>\n",
       "      <td>Swimming</td>\n",
       "      <td>Swimming Men's 200 metres Breaststroke</td>\n",
       "      <td>Gold</td>\n",
       "      <td>Finland</td>\n",
       "    </tr>\n",
       "    <tr>\n",
       "      <th>1920</th>\n",
       "      <th>Summer</th>\n",
       "      <th>Antwerpen</th>\n",
       "      <td>3</td>\n",
       "      <td>Gunnar Nielsen Aaby</td>\n",
       "      <td>M</td>\n",
       "      <td>24.0</td>\n",
       "      <td>177.0</td>\n",
       "      <td>74.0</td>\n",
       "      <td>Denmark</td>\n",
       "      <td>DEN</td>\n",
       "      <td>1920 Summer</td>\n",
       "      <td>Football</td>\n",
       "      <td>Football Men's Football</td>\n",
       "      <td>Bronze</td>\n",
       "      <td>Denmark</td>\n",
       "    </tr>\n",
       "    <tr>\n",
       "      <th rowspan=\"2\" valign=\"top\">1924</th>\n",
       "      <th>Summer</th>\n",
       "      <th>Paris</th>\n",
       "      <td>15</td>\n",
       "      <td>Arvo Ossian Aaltonen</td>\n",
       "      <td>M</td>\n",
       "      <td>34.0</td>\n",
       "      <td>177.0</td>\n",
       "      <td>74.0</td>\n",
       "      <td>Finland</td>\n",
       "      <td>FIN</td>\n",
       "      <td>1924 Summer</td>\n",
       "      <td>Swimming</td>\n",
       "      <td>Swimming Men's 200 metres Breaststroke</td>\n",
       "      <td>Silver</td>\n",
       "      <td>Finland</td>\n",
       "    </tr>\n",
       "    <tr>\n",
       "      <th>Winter</th>\n",
       "      <th>Chamonix</th>\n",
       "      <td>391</td>\n",
       "      <td>Clarence John Abel</td>\n",
       "      <td>M</td>\n",
       "      <td>23.0</td>\n",
       "      <td>185.0</td>\n",
       "      <td>102.0</td>\n",
       "      <td>United States</td>\n",
       "      <td>USA</td>\n",
       "      <td>1924 Winter</td>\n",
       "      <td>Ice Hockey</td>\n",
       "      <td>Ice Hockey Men's Ice Hockey</td>\n",
       "      <td>Silver</td>\n",
       "      <td>USA</td>\n",
       "    </tr>\n",
       "    <tr>\n",
       "      <th rowspan=\"2\" valign=\"top\">1928</th>\n",
       "      <th>Summer</th>\n",
       "      <th>Amsterdam</th>\n",
       "      <td>47</td>\n",
       "      <td>Erling Rudolf Aastad</td>\n",
       "      <td>M</td>\n",
       "      <td>30.0</td>\n",
       "      <td>177.0</td>\n",
       "      <td>74.0</td>\n",
       "      <td>Norway</td>\n",
       "      <td>NOR</td>\n",
       "      <td>1928 Summer</td>\n",
       "      <td>Athletics</td>\n",
       "      <td>Athletics Men's Long Jump</td>\n",
       "      <td>Gold</td>\n",
       "      <td>Norway</td>\n",
       "    </tr>\n",
       "    <tr>\n",
       "      <th>Winter</th>\n",
       "      <th>Sankt Moritz</th>\n",
       "      <td>529</td>\n",
       "      <td>Karl Gustaf Emanuel Abrahamsson</td>\n",
       "      <td>M</td>\n",
       "      <td>31.0</td>\n",
       "      <td>177.0</td>\n",
       "      <td>70.0</td>\n",
       "      <td>Sweden</td>\n",
       "      <td>SWE</td>\n",
       "      <td>1928 Winter</td>\n",
       "      <td>Ice Hockey</td>\n",
       "      <td>Ice Hockey Men's Ice Hockey</td>\n",
       "      <td>Silver</td>\n",
       "      <td>Sweden</td>\n",
       "    </tr>\n",
       "    <tr>\n",
       "      <th rowspan=\"2\" valign=\"top\">1932</th>\n",
       "      <th>Summer</th>\n",
       "      <th>Los Angeles</th>\n",
       "      <td>8</td>\n",
       "      <td>Cornelia \"Cor\" Aalten (-Strannood)</td>\n",
       "      <td>F</td>\n",
       "      <td>18.0</td>\n",
       "      <td>168.0</td>\n",
       "      <td>68.0</td>\n",
       "      <td>Netherlands</td>\n",
       "      <td>NED</td>\n",
       "      <td>1932 Summer</td>\n",
       "      <td>Athletics</td>\n",
       "      <td>Athletics Women's 100 metres</td>\n",
       "      <td>Gold</td>\n",
       "      <td>Netherlands</td>\n",
       "    </tr>\n",
       "    <tr>\n",
       "      <th>Winter</th>\n",
       "      <th>Lake Placid</th>\n",
       "      <td>746</td>\n",
       "      <td>Goro Adachi</td>\n",
       "      <td>M</td>\n",
       "      <td>19.0</td>\n",
       "      <td>156.0</td>\n",
       "      <td>56.0</td>\n",
       "      <td>Japan</td>\n",
       "      <td>JPN</td>\n",
       "      <td>1932 Winter</td>\n",
       "      <td>Ski Jumping</td>\n",
       "      <td>Ski Jumping Men's Normal Hill, Individual</td>\n",
       "      <td>Silver</td>\n",
       "      <td>Japan</td>\n",
       "    </tr>\n",
       "    <tr>\n",
       "      <th rowspan=\"2\" valign=\"top\">1936</th>\n",
       "      <th>Summer</th>\n",
       "      <th>Berlin</th>\n",
       "      <td>31</td>\n",
       "      <td>Evald rma (rman-)</td>\n",
       "      <td>M</td>\n",
       "      <td>24.0</td>\n",
       "      <td>174.0</td>\n",
       "      <td>70.0</td>\n",
       "      <td>Estonia</td>\n",
       "      <td>EST</td>\n",
       "      <td>1936 Summer</td>\n",
       "      <td>Athletics</td>\n",
       "      <td>Athletics Men's Pole Vault</td>\n",
       "      <td>Bronze</td>\n",
       "      <td>Estonia</td>\n",
       "    </tr>\n",
       "    <tr>\n",
       "      <th>Winter</th>\n",
       "      <th>Garmisch-Partenkirchen</th>\n",
       "      <td>746</td>\n",
       "      <td>Goro Adachi</td>\n",
       "      <td>M</td>\n",
       "      <td>23.0</td>\n",
       "      <td>156.0</td>\n",
       "      <td>56.0</td>\n",
       "      <td>Japan</td>\n",
       "      <td>JPN</td>\n",
       "      <td>1936 Winter</td>\n",
       "      <td>Ski Jumping</td>\n",
       "      <td>Ski Jumping Men's Normal Hill, Individual</td>\n",
       "      <td>Silver</td>\n",
       "      <td>Japan</td>\n",
       "    </tr>\n",
       "    <tr>\n",
       "      <th rowspan=\"2\" valign=\"top\">1948</th>\n",
       "      <th>Summer</th>\n",
       "      <th>London</th>\n",
       "      <td>17</td>\n",
       "      <td>Paavo Johannes Aaltonen</td>\n",
       "      <td>M</td>\n",
       "      <td>28.0</td>\n",
       "      <td>175.0</td>\n",
       "      <td>64.0</td>\n",
       "      <td>Finland</td>\n",
       "      <td>FIN</td>\n",
       "      <td>1948 Summer</td>\n",
       "      <td>Gymnastics</td>\n",
       "      <td>Gymnastics Men's Individual All-Around</td>\n",
       "      <td>Bronze</td>\n",
       "      <td>Finland</td>\n",
       "    </tr>\n",
       "    <tr>\n",
       "      <th>Winter</th>\n",
       "      <th>Sankt Moritz</th>\n",
       "      <td>665</td>\n",
       "      <td>Gilbert Achard-Picard</td>\n",
       "      <td>M</td>\n",
       "      <td>29.0</td>\n",
       "      <td>172.0</td>\n",
       "      <td>65.0</td>\n",
       "      <td>France-2</td>\n",
       "      <td>FRA</td>\n",
       "      <td>1948 Winter</td>\n",
       "      <td>Bobsleigh</td>\n",
       "      <td>Bobsleigh Men's Four</td>\n",
       "      <td>Bronze</td>\n",
       "      <td>France</td>\n",
       "    </tr>\n",
       "    <tr>\n",
       "      <th rowspan=\"2\" valign=\"top\">1952</th>\n",
       "      <th>Summer</th>\n",
       "      <th>Helsinki</th>\n",
       "      <td>10</td>\n",
       "      <td>Einar Ferdinand \"Einari\" Aalto</td>\n",
       "      <td>M</td>\n",
       "      <td>26.0</td>\n",
       "      <td>175.0</td>\n",
       "      <td>64.0</td>\n",
       "      <td>Finland</td>\n",
       "      <td>FIN</td>\n",
       "      <td>1952 Summer</td>\n",
       "      <td>Swimming</td>\n",
       "      <td>Swimming Men's 400 metres Freestyle</td>\n",
       "      <td>Bronze</td>\n",
       "      <td>Finland</td>\n",
       "    </tr>\n",
       "    <tr>\n",
       "      <th>Winter</th>\n",
       "      <th>Oslo</th>\n",
       "      <td>40</td>\n",
       "      <td>Roald Edgar Aas</td>\n",
       "      <td>M</td>\n",
       "      <td>23.0</td>\n",
       "      <td>180.0</td>\n",
       "      <td>69.0</td>\n",
       "      <td>Norway</td>\n",
       "      <td>NOR</td>\n",
       "      <td>1952 Winter</td>\n",
       "      <td>Speed Skating</td>\n",
       "      <td>Speed Skating Men's 1,500 metres</td>\n",
       "      <td>Bronze</td>\n",
       "      <td>Norway</td>\n",
       "    </tr>\n",
       "    <tr>\n",
       "      <th rowspan=\"3\" valign=\"top\">1956</th>\n",
       "      <th rowspan=\"2\" valign=\"top\">Summer</th>\n",
       "      <th>Melbourne</th>\n",
       "      <td>46</td>\n",
       "      <td>Hans Aasns</td>\n",
       "      <td>M</td>\n",
       "      <td>53.0</td>\n",
       "      <td>194.0</td>\n",
       "      <td>93.0</td>\n",
       "      <td>Norway</td>\n",
       "      <td>NOR</td>\n",
       "      <td>1956 Summer</td>\n",
       "      <td>Shooting</td>\n",
       "      <td>Shooting Men's Trap</td>\n",
       "      <td>Gold</td>\n",
       "      <td>Norway</td>\n",
       "    </tr>\n",
       "    <tr>\n",
       "      <th>Stockholm</th>\n",
       "      <td>3479</td>\n",
       "      <td>Karl Vilhelm Nordstrm Ammitzbll</td>\n",
       "      <td>M</td>\n",
       "      <td>40.0</td>\n",
       "      <td>180.0</td>\n",
       "      <td>77.0</td>\n",
       "      <td>Denmark</td>\n",
       "      <td>DEN</td>\n",
       "      <td>1956 Summer</td>\n",
       "      <td>Equestrianism</td>\n",
       "      <td>Equestrianism Men's Three-Day Event, Individual</td>\n",
       "      <td>Gold</td>\n",
       "      <td>Denmark</td>\n",
       "    </tr>\n",
       "    <tr>\n",
       "      <th>Winter</th>\n",
       "      <th>Cortina d'Ampezzo</th>\n",
       "      <td>40</td>\n",
       "      <td>Roald Edgar Aas</td>\n",
       "      <td>M</td>\n",
       "      <td>27.0</td>\n",
       "      <td>178.0</td>\n",
       "      <td>73.0</td>\n",
       "      <td>Norway</td>\n",
       "      <td>NOR</td>\n",
       "      <td>1956 Winter</td>\n",
       "      <td>Speed Skating</td>\n",
       "      <td>Speed Skating Men's 1,500 metres</td>\n",
       "      <td>Gold</td>\n",
       "      <td>Norway</td>\n",
       "    </tr>\n",
       "    <tr>\n",
       "      <th rowspan=\"2\" valign=\"top\">1960</th>\n",
       "      <th>Summer</th>\n",
       "      <th>Roma</th>\n",
       "      <td>46</td>\n",
       "      <td>Hans Aasns</td>\n",
       "      <td>M</td>\n",
       "      <td>57.0</td>\n",
       "      <td>194.0</td>\n",
       "      <td>93.0</td>\n",
       "      <td>Norway</td>\n",
       "      <td>NOR</td>\n",
       "      <td>1960 Summer</td>\n",
       "      <td>Shooting</td>\n",
       "      <td>Shooting Men's Trap</td>\n",
       "      <td>Gold</td>\n",
       "      <td>Norway</td>\n",
       "    </tr>\n",
       "    <tr>\n",
       "      <th>Winter</th>\n",
       "      <th>Squaw Valley</th>\n",
       "      <td>24</td>\n",
       "      <td>Nils Egil Aaness</td>\n",
       "      <td>M</td>\n",
       "      <td>24.0</td>\n",
       "      <td>180.0</td>\n",
       "      <td>77.0</td>\n",
       "      <td>Norway</td>\n",
       "      <td>NOR</td>\n",
       "      <td>1960 Winter</td>\n",
       "      <td>Speed Skating</td>\n",
       "      <td>Speed Skating Men's 500 metres</td>\n",
       "      <td>Gold</td>\n",
       "      <td>Norway</td>\n",
       "    </tr>\n",
       "    <tr>\n",
       "      <th rowspan=\"2\" valign=\"top\">1964</th>\n",
       "      <th>Summer</th>\n",
       "      <th>Tokyo</th>\n",
       "      <td>87</td>\n",
       "      <td>Rost'om Omeris dze Abashidze</td>\n",
       "      <td>M</td>\n",
       "      <td>29.0</td>\n",
       "      <td>188.0</td>\n",
       "      <td>97.0</td>\n",
       "      <td>Soviet Union</td>\n",
       "      <td>URS</td>\n",
       "      <td>1964 Summer</td>\n",
       "      <td>Wrestling</td>\n",
       "      <td>Wrestling Men's Light-Heavyweight, Greco-Roman</td>\n",
       "      <td>Silver</td>\n",
       "      <td>Russia</td>\n",
       "    </tr>\n",
       "    <tr>\n",
       "      <th>Winter</th>\n",
       "      <th>Innsbruck</th>\n",
       "      <td>24</td>\n",
       "      <td>Nils Egil Aaness</td>\n",
       "      <td>M</td>\n",
       "      <td>27.0</td>\n",
       "      <td>175.0</td>\n",
       "      <td>64.0</td>\n",
       "      <td>Norway</td>\n",
       "      <td>NOR</td>\n",
       "      <td>1964 Winter</td>\n",
       "      <td>Speed Skating</td>\n",
       "      <td>Speed Skating Men's 1,500 metres</td>\n",
       "      <td>Gold</td>\n",
       "      <td>Norway</td>\n",
       "    </tr>\n",
       "    <tr>\n",
       "      <th rowspan=\"2\" valign=\"top\">1968</th>\n",
       "      <th>Summer</th>\n",
       "      <th>Mexico City</th>\n",
       "      <td>28</td>\n",
       "      <td>Jan-Erik Aarberg</td>\n",
       "      <td>M</td>\n",
       "      <td>43.0</td>\n",
       "      <td>170.0</td>\n",
       "      <td>77.0</td>\n",
       "      <td>Norway</td>\n",
       "      <td>NOR</td>\n",
       "      <td>1968 Summer</td>\n",
       "      <td>Sailing</td>\n",
       "      <td>Sailing Mixed Three Person Keelboat</td>\n",
       "      <td>Gold</td>\n",
       "      <td>Norway</td>\n",
       "    </tr>\n",
       "    <tr>\n",
       "      <th>Winter</th>\n",
       "      <th>Grenoble</th>\n",
       "      <td>137</td>\n",
       "      <td>Giordano Giulio Abbondati</td>\n",
       "      <td>M</td>\n",
       "      <td>19.0</td>\n",
       "      <td>175.0</td>\n",
       "      <td>64.0</td>\n",
       "      <td>Italy</td>\n",
       "      <td>ITA</td>\n",
       "      <td>1968 Winter</td>\n",
       "      <td>Figure Skating</td>\n",
       "      <td>Figure Skating Men's Singles</td>\n",
       "      <td>Bronze</td>\n",
       "      <td>Italy</td>\n",
       "    </tr>\n",
       "    <tr>\n",
       "      <th rowspan=\"2\" valign=\"top\">1972</th>\n",
       "      <th>Summer</th>\n",
       "      <th>Munich</th>\n",
       "      <td>28</td>\n",
       "      <td>Jan-Erik Aarberg</td>\n",
       "      <td>M</td>\n",
       "      <td>47.0</td>\n",
       "      <td>170.0</td>\n",
       "      <td>77.0</td>\n",
       "      <td>Norway</td>\n",
       "      <td>NOR</td>\n",
       "      <td>1972 Summer</td>\n",
       "      <td>Sailing</td>\n",
       "      <td>Sailing Mixed Three Person Keelboat</td>\n",
       "      <td>Gold</td>\n",
       "      <td>Norway</td>\n",
       "    </tr>\n",
       "    <tr>\n",
       "      <th>Winter</th>\n",
       "      <th>Sapporo</th>\n",
       "      <td>363</td>\n",
       "      <td>Kazumi Abe</td>\n",
       "      <td>M</td>\n",
       "      <td>24.0</td>\n",
       "      <td>178.0</td>\n",
       "      <td>67.0</td>\n",
       "      <td>Japan-1</td>\n",
       "      <td>JPN</td>\n",
       "      <td>1972 Winter</td>\n",
       "      <td>Bobsleigh</td>\n",
       "      <td>Bobsleigh Men's Two</td>\n",
       "      <td>Silver</td>\n",
       "      <td>Japan</td>\n",
       "    </tr>\n",
       "    <tr>\n",
       "      <th rowspan=\"2\" valign=\"top\">1976</th>\n",
       "      <th>Summer</th>\n",
       "      <th>Montreal</th>\n",
       "      <td>52</td>\n",
       "      <td>Patrick Abada</td>\n",
       "      <td>M</td>\n",
       "      <td>22.0</td>\n",
       "      <td>189.0</td>\n",
       "      <td>80.0</td>\n",
       "      <td>France</td>\n",
       "      <td>FRA</td>\n",
       "      <td>1976 Summer</td>\n",
       "      <td>Athletics</td>\n",
       "      <td>Athletics Men's Pole Vault</td>\n",
       "      <td>Gold</td>\n",
       "      <td>France</td>\n",
       "    </tr>\n",
       "    <tr>\n",
       "      <th>Winter</th>\n",
       "      <th>Innsbruck</th>\n",
       "      <td>363</td>\n",
       "      <td>Kazumi Abe</td>\n",
       "      <td>M</td>\n",
       "      <td>28.0</td>\n",
       "      <td>178.0</td>\n",
       "      <td>67.0</td>\n",
       "      <td>Japan-1</td>\n",
       "      <td>JPN</td>\n",
       "      <td>1976 Winter</td>\n",
       "      <td>Bobsleigh</td>\n",
       "      <td>Bobsleigh Men's Two</td>\n",
       "      <td>Gold</td>\n",
       "      <td>Japan</td>\n",
       "    </tr>\n",
       "    <tr>\n",
       "      <th rowspan=\"2\" valign=\"top\">1980</th>\n",
       "      <th>Summer</th>\n",
       "      <th>Moskva</th>\n",
       "      <td>85</td>\n",
       "      <td>Alejandro Abascal Garca</td>\n",
       "      <td>M</td>\n",
       "      <td>28.0</td>\n",
       "      <td>181.0</td>\n",
       "      <td>82.0</td>\n",
       "      <td>Spain</td>\n",
       "      <td>ESP</td>\n",
       "      <td>1980 Summer</td>\n",
       "      <td>Sailing</td>\n",
       "      <td>Sailing Mixed Two Person Heavyweight Dinghy</td>\n",
       "      <td>Gold</td>\n",
       "      <td>Spain</td>\n",
       "    </tr>\n",
       "    <tr>\n",
       "      <th>Winter</th>\n",
       "      <th>Lake Placid</th>\n",
       "      <td>11</td>\n",
       "      <td>Jorma Ilmari Aalto</td>\n",
       "      <td>M</td>\n",
       "      <td>22.0</td>\n",
       "      <td>182.0</td>\n",
       "      <td>76.5</td>\n",
       "      <td>Finland</td>\n",
       "      <td>FIN</td>\n",
       "      <td>1980 Winter</td>\n",
       "      <td>Cross Country Skiing</td>\n",
       "      <td>Cross Country Skiing Men's 30 kilometres</td>\n",
       "      <td>Bronze</td>\n",
       "      <td>Finland</td>\n",
       "    </tr>\n",
       "    <tr>\n",
       "      <th rowspan=\"2\" valign=\"top\">1984</th>\n",
       "      <th>Summer</th>\n",
       "      <th>Los Angeles</th>\n",
       "      <td>27</td>\n",
       "      <td>Johan Aantjes</td>\n",
       "      <td>M</td>\n",
       "      <td>26.0</td>\n",
       "      <td>181.0</td>\n",
       "      <td>82.0</td>\n",
       "      <td>Netherlands</td>\n",
       "      <td>NED</td>\n",
       "      <td>1984 Summer</td>\n",
       "      <td>Water Polo</td>\n",
       "      <td>Water Polo Men's Water Polo</td>\n",
       "      <td>Bronze</td>\n",
       "      <td>Netherlands</td>\n",
       "    </tr>\n",
       "    <tr>\n",
       "      <th>Winter</th>\n",
       "      <th>Sarajevo</th>\n",
       "      <td>26</td>\n",
       "      <td>Agnes Erika Aanonsen (-Eyde)</td>\n",
       "      <td>F</td>\n",
       "      <td>17.0</td>\n",
       "      <td>169.0</td>\n",
       "      <td>65.0</td>\n",
       "      <td>Norway</td>\n",
       "      <td>NOR</td>\n",
       "      <td>1984 Winter</td>\n",
       "      <td>Luge</td>\n",
       "      <td>Luge Women's Singles</td>\n",
       "      <td>Bronze</td>\n",
       "      <td>Norway</td>\n",
       "    </tr>\n",
       "    <tr>\n",
       "      <th rowspan=\"2\" valign=\"top\">1988</th>\n",
       "      <th>Summer</th>\n",
       "      <th>Seoul</th>\n",
       "      <td>29</td>\n",
       "      <td>Willemien Aardenburg</td>\n",
       "      <td>F</td>\n",
       "      <td>22.0</td>\n",
       "      <td>176.0</td>\n",
       "      <td>66.0</td>\n",
       "      <td>Netherlands</td>\n",
       "      <td>NED</td>\n",
       "      <td>1988 Summer</td>\n",
       "      <td>Hockey</td>\n",
       "      <td>Hockey Women's Hockey</td>\n",
       "      <td>Bronze</td>\n",
       "      <td>Netherlands</td>\n",
       "    </tr>\n",
       "    <tr>\n",
       "      <th>Winter</th>\n",
       "      <th>Calgary</th>\n",
       "      <td>5</td>\n",
       "      <td>Christine Jacoba Aaftink</td>\n",
       "      <td>F</td>\n",
       "      <td>21.0</td>\n",
       "      <td>185.0</td>\n",
       "      <td>82.0</td>\n",
       "      <td>Netherlands</td>\n",
       "      <td>NED</td>\n",
       "      <td>1988 Winter</td>\n",
       "      <td>Speed Skating</td>\n",
       "      <td>Speed Skating Women's 500 metres</td>\n",
       "      <td>Bronze</td>\n",
       "      <td>Netherlands</td>\n",
       "    </tr>\n",
       "    <tr>\n",
       "      <th rowspan=\"2\" valign=\"top\">1992</th>\n",
       "      <th>Summer</th>\n",
       "      <th>Barcelona</th>\n",
       "      <td>1</td>\n",
       "      <td>A Dijiang</td>\n",
       "      <td>M</td>\n",
       "      <td>24.0</td>\n",
       "      <td>180.0</td>\n",
       "      <td>80.0</td>\n",
       "      <td>China</td>\n",
       "      <td>CHN</td>\n",
       "      <td>1992 Summer</td>\n",
       "      <td>Basketball</td>\n",
       "      <td>Basketball Men's Basketball</td>\n",
       "      <td>Silver</td>\n",
       "      <td>China</td>\n",
       "    </tr>\n",
       "    <tr>\n",
       "      <th>Winter</th>\n",
       "      <th>Albertville</th>\n",
       "      <td>5</td>\n",
       "      <td>Christine Jacoba Aaftink</td>\n",
       "      <td>F</td>\n",
       "      <td>25.0</td>\n",
       "      <td>185.0</td>\n",
       "      <td>82.0</td>\n",
       "      <td>Netherlands</td>\n",
       "      <td>NED</td>\n",
       "      <td>1992 Winter</td>\n",
       "      <td>Speed Skating</td>\n",
       "      <td>Speed Skating Women's 500 metres</td>\n",
       "      <td>Gold</td>\n",
       "      <td>Netherlands</td>\n",
       "    </tr>\n",
       "    <tr>\n",
       "      <th>1994</th>\n",
       "      <th>Winter</th>\n",
       "      <th>Lillehammer</th>\n",
       "      <td>5</td>\n",
       "      <td>Christine Jacoba Aaftink</td>\n",
       "      <td>F</td>\n",
       "      <td>27.0</td>\n",
       "      <td>185.0</td>\n",
       "      <td>82.0</td>\n",
       "      <td>Netherlands</td>\n",
       "      <td>NED</td>\n",
       "      <td>1994 Winter</td>\n",
       "      <td>Speed Skating</td>\n",
       "      <td>Speed Skating Women's 500 metres</td>\n",
       "      <td>Silver</td>\n",
       "      <td>Netherlands</td>\n",
       "    </tr>\n",
       "    <tr>\n",
       "      <th>1996</th>\n",
       "      <th>Summer</th>\n",
       "      <th>Atlanta</th>\n",
       "      <td>13</td>\n",
       "      <td>Minna Maarit Aalto</td>\n",
       "      <td>F</td>\n",
       "      <td>30.0</td>\n",
       "      <td>159.0</td>\n",
       "      <td>55.5</td>\n",
       "      <td>Finland</td>\n",
       "      <td>FIN</td>\n",
       "      <td>1996 Summer</td>\n",
       "      <td>Sailing</td>\n",
       "      <td>Sailing Women's Windsurfer</td>\n",
       "      <td>Silver</td>\n",
       "      <td>Finland</td>\n",
       "    </tr>\n",
       "    <tr>\n",
       "      <th>1998</th>\n",
       "      <th>Winter</th>\n",
       "      <th>Nagano</th>\n",
       "      <td>20</td>\n",
       "      <td>Kjetil Andr Aamodt</td>\n",
       "      <td>M</td>\n",
       "      <td>26.0</td>\n",
       "      <td>176.0</td>\n",
       "      <td>85.0</td>\n",
       "      <td>Norway</td>\n",
       "      <td>NOR</td>\n",
       "      <td>1998 Winter</td>\n",
       "      <td>Alpine Skiing</td>\n",
       "      <td>Alpine Skiing Men's Downhill</td>\n",
       "      <td>Silver</td>\n",
       "      <td>Norway</td>\n",
       "    </tr>\n",
       "    <tr>\n",
       "      <th>2000</th>\n",
       "      <th>Summer</th>\n",
       "      <th>Sydney</th>\n",
       "      <td>12</td>\n",
       "      <td>Jyri Tapani Aalto</td>\n",
       "      <td>M</td>\n",
       "      <td>31.0</td>\n",
       "      <td>172.0</td>\n",
       "      <td>70.0</td>\n",
       "      <td>Finland</td>\n",
       "      <td>FIN</td>\n",
       "      <td>2000 Summer</td>\n",
       "      <td>Badminton</td>\n",
       "      <td>Badminton Men's Singles</td>\n",
       "      <td>Gold</td>\n",
       "      <td>Finland</td>\n",
       "    </tr>\n",
       "    <tr>\n",
       "      <th>2002</th>\n",
       "      <th>Winter</th>\n",
       "      <th>Salt Lake City</th>\n",
       "      <td>9</td>\n",
       "      <td>Antti Sami Aalto</td>\n",
       "      <td>M</td>\n",
       "      <td>26.0</td>\n",
       "      <td>186.0</td>\n",
       "      <td>96.0</td>\n",
       "      <td>Finland</td>\n",
       "      <td>FIN</td>\n",
       "      <td>2002 Winter</td>\n",
       "      <td>Ice Hockey</td>\n",
       "      <td>Ice Hockey Men's Ice Hockey</td>\n",
       "      <td>Gold</td>\n",
       "      <td>Finland</td>\n",
       "    </tr>\n",
       "    <tr>\n",
       "      <th>2004</th>\n",
       "      <th>Summer</th>\n",
       "      <th>Athina</th>\n",
       "      <td>23</td>\n",
       "      <td>Fritz Aanes</td>\n",
       "      <td>M</td>\n",
       "      <td>26.0</td>\n",
       "      <td>187.0</td>\n",
       "      <td>89.0</td>\n",
       "      <td>Norway</td>\n",
       "      <td>NOR</td>\n",
       "      <td>2004 Summer</td>\n",
       "      <td>Wrestling</td>\n",
       "      <td>Wrestling Men's Light-Heavyweight, Greco-Roman</td>\n",
       "      <td>Silver</td>\n",
       "      <td>Norway</td>\n",
       "    </tr>\n",
       "    <tr>\n",
       "      <th>2006</th>\n",
       "      <th>Winter</th>\n",
       "      <th>Torino</th>\n",
       "      <td>20</td>\n",
       "      <td>Kjetil Andr Aamodt</td>\n",
       "      <td>M</td>\n",
       "      <td>34.0</td>\n",
       "      <td>176.0</td>\n",
       "      <td>85.0</td>\n",
       "      <td>Norway</td>\n",
       "      <td>NOR</td>\n",
       "      <td>2006 Winter</td>\n",
       "      <td>Alpine Skiing</td>\n",
       "      <td>Alpine Skiing Men's Downhill</td>\n",
       "      <td>Gold</td>\n",
       "      <td>Norway</td>\n",
       "    </tr>\n",
       "    <tr>\n",
       "      <th>2008</th>\n",
       "      <th>Summer</th>\n",
       "      <th>Beijing</th>\n",
       "      <td>21</td>\n",
       "      <td>Ragnhild Margrethe Aamodt</td>\n",
       "      <td>F</td>\n",
       "      <td>27.0</td>\n",
       "      <td>163.0</td>\n",
       "      <td>65.0</td>\n",
       "      <td>Norway</td>\n",
       "      <td>NOR</td>\n",
       "      <td>2008 Summer</td>\n",
       "      <td>Handball</td>\n",
       "      <td>Handball Women's Handball</td>\n",
       "      <td>Gold</td>\n",
       "      <td>Norway</td>\n",
       "    </tr>\n",
       "    <tr>\n",
       "      <th>2010</th>\n",
       "      <th>Winter</th>\n",
       "      <th>Vancouver</th>\n",
       "      <td>121</td>\n",
       "      <td>Muhammad Abbas</td>\n",
       "      <td>M</td>\n",
       "      <td>23.0</td>\n",
       "      <td>168.0</td>\n",
       "      <td>55.0</td>\n",
       "      <td>Pakistan</td>\n",
       "      <td>PAK</td>\n",
       "      <td>2010 Winter</td>\n",
       "      <td>Alpine Skiing</td>\n",
       "      <td>Alpine Skiing Men's Giant Slalom</td>\n",
       "      <td>Silver</td>\n",
       "      <td>Pakistan</td>\n",
       "    </tr>\n",
       "    <tr>\n",
       "      <th>2012</th>\n",
       "      <th>Summer</th>\n",
       "      <th>London</th>\n",
       "      <td>2</td>\n",
       "      <td>A Lamusi</td>\n",
       "      <td>M</td>\n",
       "      <td>23.0</td>\n",
       "      <td>170.0</td>\n",
       "      <td>60.0</td>\n",
       "      <td>China</td>\n",
       "      <td>CHN</td>\n",
       "      <td>2012 Summer</td>\n",
       "      <td>Judo</td>\n",
       "      <td>Judo Men's Extra-Lightweight</td>\n",
       "      <td>Gold</td>\n",
       "      <td>China</td>\n",
       "    </tr>\n",
       "    <tr>\n",
       "      <th>2014</th>\n",
       "      <th>Winter</th>\n",
       "      <th>Sochi</th>\n",
       "      <td>16</td>\n",
       "      <td>Juhamatti Tapio Aaltonen</td>\n",
       "      <td>M</td>\n",
       "      <td>28.0</td>\n",
       "      <td>184.0</td>\n",
       "      <td>85.0</td>\n",
       "      <td>Finland</td>\n",
       "      <td>FIN</td>\n",
       "      <td>2014 Winter</td>\n",
       "      <td>Ice Hockey</td>\n",
       "      <td>Ice Hockey Men's Ice Hockey</td>\n",
       "      <td>Bronze</td>\n",
       "      <td>Finland</td>\n",
       "    </tr>\n",
       "    <tr>\n",
       "      <th>2016</th>\n",
       "      <th>Summer</th>\n",
       "      <th>Rio de Janeiro</th>\n",
       "      <td>22</td>\n",
       "      <td>Andreea Aanei</td>\n",
       "      <td>F</td>\n",
       "      <td>22.0</td>\n",
       "      <td>170.0</td>\n",
       "      <td>125.0</td>\n",
       "      <td>Romania</td>\n",
       "      <td>ROU</td>\n",
       "      <td>2016 Summer</td>\n",
       "      <td>Weightlifting</td>\n",
       "      <td>Weightlifting Women's Super-Heavyweight</td>\n",
       "      <td>Bronze</td>\n",
       "      <td>Romania</td>\n",
       "    </tr>\n",
       "  </tbody>\n",
       "</table>\n",
       "</div>"
      ],
      "text/plain": [
       "                                      ID                                Name  \\\n",
       "Year Season City                                                               \n",
       "1896 Summer Athina                  1724              Aristidis Akratopoulos   \n",
       "1900 Summer Paris                      4                Edgar Lindenau Aabye   \n",
       "1904 Summer St. Louis                404         Louis Grenville \"Lou\" Abell   \n",
       "1906 Summer Athina                   139              George \"Ioannis\" Abbot   \n",
       "1908 Summer London                   635                     Alfredo Accorsi   \n",
       "1912 Summer Stockholm                 15                Arvo Ossian Aaltonen   \n",
       "1920 Summer Antwerpen                  3                 Gunnar Nielsen Aaby   \n",
       "1924 Summer Paris                     15                Arvo Ossian Aaltonen   \n",
       "     Winter Chamonix                 391                  Clarence John Abel   \n",
       "1928 Summer Amsterdam                 47                Erling Rudolf Aastad   \n",
       "     Winter Sankt Moritz             529     Karl Gustaf Emanuel Abrahamsson   \n",
       "1932 Summer Los Angeles                8  Cornelia \"Cor\" Aalten (-Strannood)   \n",
       "     Winter Lake Placid              746                         Goro Adachi   \n",
       "1936 Summer Berlin                    31                   Evald rma (rman-)   \n",
       "     Winter Garmisch-Partenkirchen   746                         Goro Adachi   \n",
       "1948 Summer London                    17             Paavo Johannes Aaltonen   \n",
       "     Winter Sankt Moritz             665               Gilbert Achard-Picard   \n",
       "1952 Summer Helsinki                  10      Einar Ferdinand \"Einari\" Aalto   \n",
       "     Winter Oslo                      40                     Roald Edgar Aas   \n",
       "1956 Summer Melbourne                 46                          Hans Aasns   \n",
       "            Stockholm               3479     Karl Vilhelm Nordstrm Ammitzbll   \n",
       "     Winter Cortina d'Ampezzo         40                     Roald Edgar Aas   \n",
       "1960 Summer Roma                      46                          Hans Aasns   \n",
       "     Winter Squaw Valley              24                    Nils Egil Aaness   \n",
       "1964 Summer Tokyo                     87        Rost'om Omeris dze Abashidze   \n",
       "     Winter Innsbruck                 24                    Nils Egil Aaness   \n",
       "1968 Summer Mexico City               28                    Jan-Erik Aarberg   \n",
       "     Winter Grenoble                 137           Giordano Giulio Abbondati   \n",
       "1972 Summer Munich                    28                    Jan-Erik Aarberg   \n",
       "     Winter Sapporo                  363                          Kazumi Abe   \n",
       "1976 Summer Montreal                  52                       Patrick Abada   \n",
       "     Winter Innsbruck                363                          Kazumi Abe   \n",
       "1980 Summer Moskva                    85             Alejandro Abascal Garca   \n",
       "     Winter Lake Placid               11                  Jorma Ilmari Aalto   \n",
       "1984 Summer Los Angeles               27                       Johan Aantjes   \n",
       "     Winter Sarajevo                  26        Agnes Erika Aanonsen (-Eyde)   \n",
       "1988 Summer Seoul                     29                Willemien Aardenburg   \n",
       "     Winter Calgary                    5            Christine Jacoba Aaftink   \n",
       "1992 Summer Barcelona                  1                           A Dijiang   \n",
       "     Winter Albertville                5            Christine Jacoba Aaftink   \n",
       "1994 Winter Lillehammer                5            Christine Jacoba Aaftink   \n",
       "1996 Summer Atlanta                   13                  Minna Maarit Aalto   \n",
       "1998 Winter Nagano                    20                  Kjetil Andr Aamodt   \n",
       "2000 Summer Sydney                    12                   Jyri Tapani Aalto   \n",
       "2002 Winter Salt Lake City             9                    Antti Sami Aalto   \n",
       "2004 Summer Athina                    23                         Fritz Aanes   \n",
       "2006 Winter Torino                    20                  Kjetil Andr Aamodt   \n",
       "2008 Summer Beijing                   21           Ragnhild Margrethe Aamodt   \n",
       "2010 Winter Vancouver                121                      Muhammad Abbas   \n",
       "2012 Summer London                     2                            A Lamusi   \n",
       "2014 Winter Sochi                     16            Juhamatti Tapio Aaltonen   \n",
       "2016 Summer Rio de Janeiro            22                       Andreea Aanei   \n",
       "\n",
       "                                   Sex   Age  Height  Weight  \\\n",
       "Year Season City                                               \n",
       "1896 Summer Athina                   M  24.0   183.0    66.0   \n",
       "1900 Summer Paris                    M  34.0   168.0    60.0   \n",
       "1904 Summer St. Louis                M  19.0   168.0    77.0   \n",
       "1906 Summer Athina                   M  21.0   182.0    77.0   \n",
       "1908 Summer London                   M  27.0   188.0    78.0   \n",
       "1912 Summer Stockholm                M  22.0   181.0    78.0   \n",
       "1920 Summer Antwerpen                M  24.0   177.0    74.0   \n",
       "1924 Summer Paris                    M  34.0   177.0    74.0   \n",
       "     Winter Chamonix                 M  23.0   185.0   102.0   \n",
       "1928 Summer Amsterdam                M  30.0   177.0    74.0   \n",
       "     Winter Sankt Moritz             M  31.0   177.0    70.0   \n",
       "1932 Summer Los Angeles              F  18.0   168.0    68.0   \n",
       "     Winter Lake Placid              M  19.0   156.0    56.0   \n",
       "1936 Summer Berlin                   M  24.0   174.0    70.0   \n",
       "     Winter Garmisch-Partenkirchen   M  23.0   156.0    56.0   \n",
       "1948 Summer London                   M  28.0   175.0    64.0   \n",
       "     Winter Sankt Moritz             M  29.0   172.0    65.0   \n",
       "1952 Summer Helsinki                 M  26.0   175.0    64.0   \n",
       "     Winter Oslo                     M  23.0   180.0    69.0   \n",
       "1956 Summer Melbourne                M  53.0   194.0    93.0   \n",
       "            Stockholm                M  40.0   180.0    77.0   \n",
       "     Winter Cortina d'Ampezzo        M  27.0   178.0    73.0   \n",
       "1960 Summer Roma                     M  57.0   194.0    93.0   \n",
       "     Winter Squaw Valley             M  24.0   180.0    77.0   \n",
       "1964 Summer Tokyo                    M  29.0   188.0    97.0   \n",
       "     Winter Innsbruck                M  27.0   175.0    64.0   \n",
       "1968 Summer Mexico City              M  43.0   170.0    77.0   \n",
       "     Winter Grenoble                 M  19.0   175.0    64.0   \n",
       "1972 Summer Munich                   M  47.0   170.0    77.0   \n",
       "     Winter Sapporo                  M  24.0   178.0    67.0   \n",
       "1976 Summer Montreal                 M  22.0   189.0    80.0   \n",
       "     Winter Innsbruck                M  28.0   178.0    67.0   \n",
       "1980 Summer Moskva                   M  28.0   181.0    82.0   \n",
       "     Winter Lake Placid              M  22.0   182.0    76.5   \n",
       "1984 Summer Los Angeles              M  26.0   181.0    82.0   \n",
       "     Winter Sarajevo                 F  17.0   169.0    65.0   \n",
       "1988 Summer Seoul                    F  22.0   176.0    66.0   \n",
       "     Winter Calgary                  F  21.0   185.0    82.0   \n",
       "1992 Summer Barcelona                M  24.0   180.0    80.0   \n",
       "     Winter Albertville              F  25.0   185.0    82.0   \n",
       "1994 Winter Lillehammer              F  27.0   185.0    82.0   \n",
       "1996 Summer Atlanta                  F  30.0   159.0    55.5   \n",
       "1998 Winter Nagano                   M  26.0   176.0    85.0   \n",
       "2000 Summer Sydney                   M  31.0   172.0    70.0   \n",
       "2002 Winter Salt Lake City           M  26.0   186.0    96.0   \n",
       "2004 Summer Athina                   M  26.0   187.0    89.0   \n",
       "2006 Winter Torino                   M  34.0   176.0    85.0   \n",
       "2008 Summer Beijing                  F  27.0   163.0    65.0   \n",
       "2010 Winter Vancouver                M  23.0   168.0    55.0   \n",
       "2012 Summer London                   M  23.0   170.0    60.0   \n",
       "2014 Winter Sochi                    M  28.0   184.0    85.0   \n",
       "2016 Summer Rio de Janeiro           F  22.0   170.0   125.0   \n",
       "\n",
       "                                                Team  NOC        Games  \\\n",
       "Year Season City                                                         \n",
       "1896 Summer Athina                            Greece  GRE  1896 Summer   \n",
       "1900 Summer Paris                     Denmark/Sweden  DEN  1900 Summer   \n",
       "1904 Summer St. Louis               Vesper Boat Club  USA  1904 Summer   \n",
       "1906 Summer Athina                     Thessalonki-1  GRE  1906 Summer   \n",
       "1908 Summer London                             Italy  ITA  1908 Summer   \n",
       "1912 Summer Stockholm                        Finland  FIN  1912 Summer   \n",
       "1920 Summer Antwerpen                        Denmark  DEN  1920 Summer   \n",
       "1924 Summer Paris                            Finland  FIN  1924 Summer   \n",
       "     Winter Chamonix                   United States  USA  1924 Winter   \n",
       "1928 Summer Amsterdam                         Norway  NOR  1928 Summer   \n",
       "     Winter Sankt Moritz                      Sweden  SWE  1928 Winter   \n",
       "1932 Summer Los Angeles                  Netherlands  NED  1932 Summer   \n",
       "     Winter Lake Placid                        Japan  JPN  1932 Winter   \n",
       "1936 Summer Berlin                           Estonia  EST  1936 Summer   \n",
       "     Winter Garmisch-Partenkirchen             Japan  JPN  1936 Winter   \n",
       "1948 Summer London                           Finland  FIN  1948 Summer   \n",
       "     Winter Sankt Moritz                    France-2  FRA  1948 Winter   \n",
       "1952 Summer Helsinki                         Finland  FIN  1952 Summer   \n",
       "     Winter Oslo                              Norway  NOR  1952 Winter   \n",
       "1956 Summer Melbourne                         Norway  NOR  1956 Summer   \n",
       "            Stockholm                        Denmark  DEN  1956 Summer   \n",
       "     Winter Cortina d'Ampezzo                 Norway  NOR  1956 Winter   \n",
       "1960 Summer Roma                              Norway  NOR  1960 Summer   \n",
       "     Winter Squaw Valley                      Norway  NOR  1960 Winter   \n",
       "1964 Summer Tokyo                       Soviet Union  URS  1964 Summer   \n",
       "     Winter Innsbruck                         Norway  NOR  1964 Winter   \n",
       "1968 Summer Mexico City                       Norway  NOR  1968 Summer   \n",
       "     Winter Grenoble                           Italy  ITA  1968 Winter   \n",
       "1972 Summer Munich                            Norway  NOR  1972 Summer   \n",
       "     Winter Sapporo                          Japan-1  JPN  1972 Winter   \n",
       "1976 Summer Montreal                          France  FRA  1976 Summer   \n",
       "     Winter Innsbruck                        Japan-1  JPN  1976 Winter   \n",
       "1980 Summer Moskva                             Spain  ESP  1980 Summer   \n",
       "     Winter Lake Placid                      Finland  FIN  1980 Winter   \n",
       "1984 Summer Los Angeles                  Netherlands  NED  1984 Summer   \n",
       "     Winter Sarajevo                          Norway  NOR  1984 Winter   \n",
       "1988 Summer Seoul                        Netherlands  NED  1988 Summer   \n",
       "     Winter Calgary                      Netherlands  NED  1988 Winter   \n",
       "1992 Summer Barcelona                          China  CHN  1992 Summer   \n",
       "     Winter Albertville                  Netherlands  NED  1992 Winter   \n",
       "1994 Winter Lillehammer                  Netherlands  NED  1994 Winter   \n",
       "1996 Summer Atlanta                          Finland  FIN  1996 Summer   \n",
       "1998 Winter Nagano                            Norway  NOR  1998 Winter   \n",
       "2000 Summer Sydney                           Finland  FIN  2000 Summer   \n",
       "2002 Winter Salt Lake City                   Finland  FIN  2002 Winter   \n",
       "2004 Summer Athina                            Norway  NOR  2004 Summer   \n",
       "2006 Winter Torino                            Norway  NOR  2006 Winter   \n",
       "2008 Summer Beijing                           Norway  NOR  2008 Summer   \n",
       "2010 Winter Vancouver                       Pakistan  PAK  2010 Winter   \n",
       "2012 Summer London                             China  CHN  2012 Summer   \n",
       "2014 Winter Sochi                            Finland  FIN  2014 Winter   \n",
       "2016 Summer Rio de Janeiro                   Romania  ROU  2016 Summer   \n",
       "\n",
       "                                                   Sport  \\\n",
       "Year Season City                                           \n",
       "1896 Summer Athina                                Tennis   \n",
       "1900 Summer Paris                             Tug-Of-War   \n",
       "1904 Summer St. Louis                             Rowing   \n",
       "1906 Summer Athina                              Football   \n",
       "1908 Summer London                            Gymnastics   \n",
       "1912 Summer Stockholm                           Swimming   \n",
       "1920 Summer Antwerpen                           Football   \n",
       "1924 Summer Paris                               Swimming   \n",
       "     Winter Chamonix                          Ice Hockey   \n",
       "1928 Summer Amsterdam                          Athletics   \n",
       "     Winter Sankt Moritz                      Ice Hockey   \n",
       "1932 Summer Los Angeles                        Athletics   \n",
       "     Winter Lake Placid                      Ski Jumping   \n",
       "1936 Summer Berlin                             Athletics   \n",
       "     Winter Garmisch-Partenkirchen           Ski Jumping   \n",
       "1948 Summer London                            Gymnastics   \n",
       "     Winter Sankt Moritz                       Bobsleigh   \n",
       "1952 Summer Helsinki                            Swimming   \n",
       "     Winter Oslo                           Speed Skating   \n",
       "1956 Summer Melbourne                           Shooting   \n",
       "            Stockholm                      Equestrianism   \n",
       "     Winter Cortina d'Ampezzo              Speed Skating   \n",
       "1960 Summer Roma                                Shooting   \n",
       "     Winter Squaw Valley                   Speed Skating   \n",
       "1964 Summer Tokyo                              Wrestling   \n",
       "     Winter Innsbruck                      Speed Skating   \n",
       "1968 Summer Mexico City                          Sailing   \n",
       "     Winter Grenoble                      Figure Skating   \n",
       "1972 Summer Munich                               Sailing   \n",
       "     Winter Sapporo                            Bobsleigh   \n",
       "1976 Summer Montreal                           Athletics   \n",
       "     Winter Innsbruck                          Bobsleigh   \n",
       "1980 Summer Moskva                               Sailing   \n",
       "     Winter Lake Placid             Cross Country Skiing   \n",
       "1984 Summer Los Angeles                       Water Polo   \n",
       "     Winter Sarajevo                                Luge   \n",
       "1988 Summer Seoul                                 Hockey   \n",
       "     Winter Calgary                        Speed Skating   \n",
       "1992 Summer Barcelona                         Basketball   \n",
       "     Winter Albertville                    Speed Skating   \n",
       "1994 Winter Lillehammer                    Speed Skating   \n",
       "1996 Summer Atlanta                              Sailing   \n",
       "1998 Winter Nagano                         Alpine Skiing   \n",
       "2000 Summer Sydney                             Badminton   \n",
       "2002 Winter Salt Lake City                    Ice Hockey   \n",
       "2004 Summer Athina                             Wrestling   \n",
       "2006 Winter Torino                         Alpine Skiing   \n",
       "2008 Summer Beijing                             Handball   \n",
       "2010 Winter Vancouver                      Alpine Skiing   \n",
       "2012 Summer London                                  Judo   \n",
       "2014 Winter Sochi                             Ice Hockey   \n",
       "2016 Summer Rio de Janeiro                 Weightlifting   \n",
       "\n",
       "                                                                              Event  \\\n",
       "Year Season City                                                                      \n",
       "1896 Summer Athina                                             Tennis Men's Singles   \n",
       "1900 Summer Paris                                       Tug-Of-War Men's Tug-Of-War   \n",
       "1904 Summer St. Louis                                     Rowing Men's Coxed Eights   \n",
       "1906 Summer Athina                                          Football Men's Football   \n",
       "1908 Summer London                                 Gymnastics Men's Team All-Around   \n",
       "1912 Summer Stockholm                        Swimming Men's 200 metres Breaststroke   \n",
       "1920 Summer Antwerpen                                       Football Men's Football   \n",
       "1924 Summer Paris                            Swimming Men's 200 metres Breaststroke   \n",
       "     Winter Chamonix                                    Ice Hockey Men's Ice Hockey   \n",
       "1928 Summer Amsterdam                                     Athletics Men's Long Jump   \n",
       "     Winter Sankt Moritz                                Ice Hockey Men's Ice Hockey   \n",
       "1932 Summer Los Angeles                                Athletics Women's 100 metres   \n",
       "     Winter Lake Placid                   Ski Jumping Men's Normal Hill, Individual   \n",
       "1936 Summer Berlin                                       Athletics Men's Pole Vault   \n",
       "     Winter Garmisch-Partenkirchen        Ski Jumping Men's Normal Hill, Individual   \n",
       "1948 Summer London                           Gymnastics Men's Individual All-Around   \n",
       "     Winter Sankt Moritz                                       Bobsleigh Men's Four   \n",
       "1952 Summer Helsinki                            Swimming Men's 400 metres Freestyle   \n",
       "     Winter Oslo                                   Speed Skating Men's 1,500 metres   \n",
       "1956 Summer Melbourne                                           Shooting Men's Trap   \n",
       "            Stockholm               Equestrianism Men's Three-Day Event, Individual   \n",
       "     Winter Cortina d'Ampezzo                      Speed Skating Men's 1,500 metres   \n",
       "1960 Summer Roma                                                Shooting Men's Trap   \n",
       "     Winter Squaw Valley                             Speed Skating Men's 500 metres   \n",
       "1964 Summer Tokyo                    Wrestling Men's Light-Heavyweight, Greco-Roman   \n",
       "     Winter Innsbruck                              Speed Skating Men's 1,500 metres   \n",
       "1968 Summer Mexico City                         Sailing Mixed Three Person Keelboat   \n",
       "     Winter Grenoble                                   Figure Skating Men's Singles   \n",
       "1972 Summer Munich                              Sailing Mixed Three Person Keelboat   \n",
       "     Winter Sapporo                                             Bobsleigh Men's Two   \n",
       "1976 Summer Montreal                                     Athletics Men's Pole Vault   \n",
       "     Winter Innsbruck                                           Bobsleigh Men's Two   \n",
       "1980 Summer Moskva                      Sailing Mixed Two Person Heavyweight Dinghy   \n",
       "     Winter Lake Placid                    Cross Country Skiing Men's 30 kilometres   \n",
       "1984 Summer Los Angeles                                 Water Polo Men's Water Polo   \n",
       "     Winter Sarajevo                                           Luge Women's Singles   \n",
       "1988 Summer Seoul                                             Hockey Women's Hockey   \n",
       "     Winter Calgary                                Speed Skating Women's 500 metres   \n",
       "1992 Summer Barcelona                                   Basketball Men's Basketball   \n",
       "     Winter Albertville                            Speed Skating Women's 500 metres   \n",
       "1994 Winter Lillehammer                            Speed Skating Women's 500 metres   \n",
       "1996 Summer Atlanta                                      Sailing Women's Windsurfer   \n",
       "1998 Winter Nagano                                     Alpine Skiing Men's Downhill   \n",
       "2000 Summer Sydney                                          Badminton Men's Singles   \n",
       "2002 Winter Salt Lake City                              Ice Hockey Men's Ice Hockey   \n",
       "2004 Summer Athina                   Wrestling Men's Light-Heavyweight, Greco-Roman   \n",
       "2006 Winter Torino                                     Alpine Skiing Men's Downhill   \n",
       "2008 Summer Beijing                                       Handball Women's Handball   \n",
       "2010 Winter Vancouver                              Alpine Skiing Men's Giant Slalom   \n",
       "2012 Summer London                                     Judo Men's Extra-Lightweight   \n",
       "2014 Winter Sochi                                       Ice Hockey Men's Ice Hockey   \n",
       "2016 Summer Rio de Janeiro                  Weightlifting Women's Super-Heavyweight   \n",
       "\n",
       "                                     Medal       region  \n",
       "Year Season City                                         \n",
       "1896 Summer Athina                  Silver       Greece  \n",
       "1900 Summer Paris                     Gold      Denmark  \n",
       "1904 Summer St. Louis                 Gold          USA  \n",
       "1906 Summer Athina                  Bronze       Greece  \n",
       "1908 Summer London                  Bronze        Italy  \n",
       "1912 Summer Stockholm                 Gold      Finland  \n",
       "1920 Summer Antwerpen               Bronze      Denmark  \n",
       "1924 Summer Paris                   Silver      Finland  \n",
       "     Winter Chamonix                Silver          USA  \n",
       "1928 Summer Amsterdam                 Gold       Norway  \n",
       "     Winter Sankt Moritz            Silver       Sweden  \n",
       "1932 Summer Los Angeles               Gold  Netherlands  \n",
       "     Winter Lake Placid             Silver        Japan  \n",
       "1936 Summer Berlin                  Bronze      Estonia  \n",
       "     Winter Garmisch-Partenkirchen  Silver        Japan  \n",
       "1948 Summer London                  Bronze      Finland  \n",
       "     Winter Sankt Moritz            Bronze       France  \n",
       "1952 Summer Helsinki                Bronze      Finland  \n",
       "     Winter Oslo                    Bronze       Norway  \n",
       "1956 Summer Melbourne                 Gold       Norway  \n",
       "            Stockholm                 Gold      Denmark  \n",
       "     Winter Cortina d'Ampezzo         Gold       Norway  \n",
       "1960 Summer Roma                      Gold       Norway  \n",
       "     Winter Squaw Valley              Gold       Norway  \n",
       "1964 Summer Tokyo                   Silver       Russia  \n",
       "     Winter Innsbruck                 Gold       Norway  \n",
       "1968 Summer Mexico City               Gold       Norway  \n",
       "     Winter Grenoble                Bronze        Italy  \n",
       "1972 Summer Munich                    Gold       Norway  \n",
       "     Winter Sapporo                 Silver        Japan  \n",
       "1976 Summer Montreal                  Gold       France  \n",
       "     Winter Innsbruck                 Gold        Japan  \n",
       "1980 Summer Moskva                    Gold        Spain  \n",
       "     Winter Lake Placid             Bronze      Finland  \n",
       "1984 Summer Los Angeles             Bronze  Netherlands  \n",
       "     Winter Sarajevo                Bronze       Norway  \n",
       "1988 Summer Seoul                   Bronze  Netherlands  \n",
       "     Winter Calgary                 Bronze  Netherlands  \n",
       "1992 Summer Barcelona               Silver        China  \n",
       "     Winter Albertville               Gold  Netherlands  \n",
       "1994 Winter Lillehammer             Silver  Netherlands  \n",
       "1996 Summer Atlanta                 Silver      Finland  \n",
       "1998 Winter Nagano                  Silver       Norway  \n",
       "2000 Summer Sydney                    Gold      Finland  \n",
       "2002 Winter Salt Lake City            Gold      Finland  \n",
       "2004 Summer Athina                  Silver       Norway  \n",
       "2006 Winter Torino                    Gold       Norway  \n",
       "2008 Summer Beijing                   Gold       Norway  \n",
       "2010 Winter Vancouver               Silver     Pakistan  \n",
       "2012 Summer London                    Gold        China  \n",
       "2014 Winter Sochi                   Bronze      Finland  \n",
       "2016 Summer Rio de Janeiro          Bronze      Romania  "
      ]
     },
     "execution_count": 28,
     "metadata": {},
     "output_type": "execute_result"
    }
   ],
   "source": [
    "season"
   ]
  },
  {
   "cell_type": "markdown",
   "id": "a4c4a14a",
   "metadata": {
    "papermill": {
     "duration": 0.029082,
     "end_time": "2022-07-18T09:41:04.174319",
     "exception": false,
     "start_time": "2022-07-18T09:41:04.145237",
     "status": "completed"
    },
    "tags": []
   },
   "source": [
    "using seaborn scatterplot to extract height and weight of participants for sex"
   ]
  },
  {
   "cell_type": "code",
   "execution_count": 29,
   "id": "ae55afc2",
   "metadata": {
    "execution": {
     "iopub.execute_input": "2022-07-18T09:41:04.235721Z",
     "iopub.status.busy": "2022-07-18T09:41:04.235351Z",
     "iopub.status.idle": "2022-07-18T09:41:10.090266Z",
     "shell.execute_reply": "2022-07-18T09:41:10.089337Z"
    },
    "papermill": {
     "duration": 5.888344,
     "end_time": "2022-07-18T09:41:10.093120",
     "exception": false,
     "start_time": "2022-07-18T09:41:04.204776",
     "status": "completed"
    },
    "tags": []
   },
   "outputs": [
    {
     "data": {
      "image/png": "[encoded data removed]",
      "text/plain": [
       "<Figure size 432x288 with 1 Axes>"
      ]
     },
     "metadata": {
      "needs_background": "light"
     },
     "output_type": "display_data"
    }
   ],
   "source": [
    "sns.scatterplot(x='Height',y='Weight',hue='Sex',data=df)\n",
    "plt.title('Height and weight for sex')\n",
    "plt.show()"
   ]
  },
  {
   "cell_type": "code",
   "execution_count": 30,
   "id": "d441a7c8",
   "metadata": {
    "execution": {
     "iopub.execute_input": "2022-07-18T09:41:10.157937Z",
     "iopub.status.busy": "2022-07-18T09:41:10.157222Z",
     "iopub.status.idle": "2022-07-18T09:41:10.177680Z",
     "shell.execute_reply": "2022-07-18T09:41:10.176592Z"
    },
    "papermill": {
     "duration": 0.055415,
     "end_time": "2022-07-18T09:41:10.180281",
     "exception": false,
     "start_time": "2022-07-18T09:41:10.124866",
     "status": "completed"
    },
    "tags": []
   },
   "outputs": [
    {
     "data": {
      "text/html": [
       "<div>\n",
       "<style scoped>\n",
       "    .dataframe tbody tr th:only-of-type {\n",
       "        vertical-align: middle;\n",
       "    }\n",
       "\n",
       "    .dataframe tbody tr th {\n",
       "        vertical-align: top;\n",
       "    }\n",
       "\n",
       "    .dataframe thead th {\n",
       "        text-align: right;\n",
       "    }\n",
       "</style>\n",
       "<table border=\"1\" class=\"dataframe\">\n",
       "  <thead>\n",
       "    <tr style=\"text-align: right;\">\n",
       "      <th></th>\n",
       "      <th>ID</th>\n",
       "      <th>Name</th>\n",
       "      <th>Sex</th>\n",
       "      <th>Age</th>\n",
       "      <th>Height</th>\n",
       "      <th>Weight</th>\n",
       "      <th>Team</th>\n",
       "      <th>NOC</th>\n",
       "      <th>Games</th>\n",
       "      <th>Year</th>\n",
       "      <th>Season</th>\n",
       "      <th>City</th>\n",
       "      <th>Sport</th>\n",
       "      <th>Event</th>\n",
       "      <th>Medal</th>\n",
       "      <th>region</th>\n",
       "    </tr>\n",
       "  </thead>\n",
       "  <tbody>\n",
       "    <tr>\n",
       "      <th>0</th>\n",
       "      <td>1</td>\n",
       "      <td>A Dijiang</td>\n",
       "      <td>M</td>\n",
       "      <td>24.0</td>\n",
       "      <td>180.0</td>\n",
       "      <td>80.0</td>\n",
       "      <td>China</td>\n",
       "      <td>CHN</td>\n",
       "      <td>1992 Summer</td>\n",
       "      <td>1992</td>\n",
       "      <td>Summer</td>\n",
       "      <td>Barcelona</td>\n",
       "      <td>Basketball</td>\n",
       "      <td>Basketball Men's Basketball</td>\n",
       "      <td>NaN</td>\n",
       "      <td>China</td>\n",
       "    </tr>\n",
       "    <tr>\n",
       "      <th>1</th>\n",
       "      <td>2</td>\n",
       "      <td>A Lamusi</td>\n",
       "      <td>M</td>\n",
       "      <td>23.0</td>\n",
       "      <td>170.0</td>\n",
       "      <td>60.0</td>\n",
       "      <td>China</td>\n",
       "      <td>CHN</td>\n",
       "      <td>2012 Summer</td>\n",
       "      <td>2012</td>\n",
       "      <td>Summer</td>\n",
       "      <td>London</td>\n",
       "      <td>Judo</td>\n",
       "      <td>Judo Men's Extra-Lightweight</td>\n",
       "      <td>NaN</td>\n",
       "      <td>China</td>\n",
       "    </tr>\n",
       "    <tr>\n",
       "      <th>2</th>\n",
       "      <td>3</td>\n",
       "      <td>Gunnar Nielsen Aaby</td>\n",
       "      <td>M</td>\n",
       "      <td>24.0</td>\n",
       "      <td>NaN</td>\n",
       "      <td>NaN</td>\n",
       "      <td>Denmark</td>\n",
       "      <td>DEN</td>\n",
       "      <td>1920 Summer</td>\n",
       "      <td>1920</td>\n",
       "      <td>Summer</td>\n",
       "      <td>Antwerpen</td>\n",
       "      <td>Football</td>\n",
       "      <td>Football Men's Football</td>\n",
       "      <td>NaN</td>\n",
       "      <td>Denmark</td>\n",
       "    </tr>\n",
       "    <tr>\n",
       "      <th>3</th>\n",
       "      <td>4</td>\n",
       "      <td>Edgar Lindenau Aabye</td>\n",
       "      <td>M</td>\n",
       "      <td>34.0</td>\n",
       "      <td>NaN</td>\n",
       "      <td>NaN</td>\n",
       "      <td>Denmark/Sweden</td>\n",
       "      <td>DEN</td>\n",
       "      <td>1900 Summer</td>\n",
       "      <td>1900</td>\n",
       "      <td>Summer</td>\n",
       "      <td>Paris</td>\n",
       "      <td>Tug-Of-War</td>\n",
       "      <td>Tug-Of-War Men's Tug-Of-War</td>\n",
       "      <td>Gold</td>\n",
       "      <td>Denmark</td>\n",
       "    </tr>\n",
       "    <tr>\n",
       "      <th>4</th>\n",
       "      <td>5</td>\n",
       "      <td>Christine Jacoba Aaftink</td>\n",
       "      <td>F</td>\n",
       "      <td>21.0</td>\n",
       "      <td>185.0</td>\n",
       "      <td>82.0</td>\n",
       "      <td>Netherlands</td>\n",
       "      <td>NED</td>\n",
       "      <td>1988 Winter</td>\n",
       "      <td>1988</td>\n",
       "      <td>Winter</td>\n",
       "      <td>Calgary</td>\n",
       "      <td>Speed Skating</td>\n",
       "      <td>Speed Skating Women's 500 metres</td>\n",
       "      <td>NaN</td>\n",
       "      <td>Netherlands</td>\n",
       "    </tr>\n",
       "  </tbody>\n",
       "</table>\n",
       "</div>"
      ],
      "text/plain": [
       "   ID                      Name Sex   Age  Height  Weight            Team  \\\n",
       "0   1                 A Dijiang   M  24.0   180.0    80.0           China   \n",
       "1   2                  A Lamusi   M  23.0   170.0    60.0           China   \n",
       "2   3       Gunnar Nielsen Aaby   M  24.0     NaN     NaN         Denmark   \n",
       "3   4      Edgar Lindenau Aabye   M  34.0     NaN     NaN  Denmark/Sweden   \n",
       "4   5  Christine Jacoba Aaftink   F  21.0   185.0    82.0     Netherlands   \n",
       "\n",
       "   NOC        Games  Year  Season       City          Sport  \\\n",
       "0  CHN  1992 Summer  1992  Summer  Barcelona     Basketball   \n",
       "1  CHN  2012 Summer  2012  Summer     London           Judo   \n",
       "2  DEN  1920 Summer  1920  Summer  Antwerpen       Football   \n",
       "3  DEN  1900 Summer  1900  Summer      Paris     Tug-Of-War   \n",
       "4  NED  1988 Winter  1988  Winter    Calgary  Speed Skating   \n",
       "\n",
       "                              Event Medal       region  \n",
       "0       Basketball Men's Basketball   NaN        China  \n",
       "1      Judo Men's Extra-Lightweight   NaN        China  \n",
       "2           Football Men's Football   NaN      Denmark  \n",
       "3       Tug-Of-War Men's Tug-Of-War  Gold      Denmark  \n",
       "4  Speed Skating Women's 500 metres   NaN  Netherlands  "
      ]
     },
     "execution_count": 30,
     "metadata": {},
     "output_type": "execute_result"
    }
   ],
   "source": [
    "df.head()"
   ]
  },
  {
   "cell_type": "code",
   "execution_count": 31,
   "id": "f67fd22f",
   "metadata": {
    "execution": {
     "iopub.execute_input": "2022-07-18T09:41:10.245410Z",
     "iopub.status.busy": "2022-07-18T09:41:10.244669Z",
     "iopub.status.idle": "2022-07-18T09:41:12.921388Z",
     "shell.execute_reply": "2022-07-18T09:41:12.920530Z"
    },
    "papermill": {
     "duration": 2.712166,
     "end_time": "2022-07-18T09:41:12.924016",
     "exception": false,
     "start_time": "2022-07-18T09:41:10.211850",
     "status": "completed"
    },
    "tags": []
   },
   "outputs": [
    {
     "data": {
      "image/png": "[encoded data removed]",
      "text/plain": [
       "<Figure size 864x648 with 1 Axes>"
      ]
     },
     "metadata": {
      "needs_background": "light"
     },
     "output_type": "display_data"
    }
   ],
   "source": [
    "plt.figure(figsize=(12,9))\n",
    "sns.scatterplot(x='City', y='Season', hue='Medal', data=df)\n",
    "plt.title('medals of city and teams')\n",
    "plt.xticks(rotation=90)\n",
    "plt.show()"
   ]
  },
  {
   "cell_type": "markdown",
   "id": "8eb9ffc1",
   "metadata": {
    "papermill": {
     "duration": 0.031307,
     "end_time": "2022-07-18T09:41:12.988326",
     "exception": false,
     "start_time": "2022-07-18T09:41:12.957019",
     "status": "completed"
    },
    "tags": []
   },
   "source": [
    "let's see women medals per years"
   ]
  },
  {
   "cell_type": "code",
   "execution_count": 32,
   "id": "a68515be",
   "metadata": {
    "execution": {
     "iopub.execute_input": "2022-07-18T09:41:13.052184Z",
     "iopub.status.busy": "2022-07-18T09:41:13.051763Z",
     "iopub.status.idle": "2022-07-18T09:41:13.506785Z",
     "shell.execute_reply": "2022-07-18T09:41:13.505876Z"
    },
    "papermill": {
     "duration": 0.489754,
     "end_time": "2022-07-18T09:41:13.509154",
     "exception": false,
     "start_time": "2022-07-18T09:41:13.019400",
     "status": "completed"
    },
    "tags": []
   },
   "outputs": [
    {
     "data": {
      "image/png": "[encoded data removed]",
      "text/plain": [
       "<Figure size 1440x720 with 1 Axes>"
      ]
     },
     "metadata": {
      "needs_background": "light"
     },
     "output_type": "display_data"
    }
   ],
   "source": [
    "\n",
    "womenolympics = df[(df.Sex == 'F') &\n",
    "                         (df.Season == 'Summer')]\n",
    "plt.figure(figsize=(20, 10))\n",
    "sns.countplot(x='Year', data=womenolympics)\n",
    "plt.title('Women medals per edition of the Games')\n",
    "plt.show()"
   ]
  },
  {
   "cell_type": "code",
   "execution_count": 33,
   "id": "729df945",
   "metadata": {
    "execution": {
     "iopub.execute_input": "2022-07-18T09:41:13.576314Z",
     "iopub.status.busy": "2022-07-18T09:41:13.575356Z",
     "iopub.status.idle": "2022-07-18T09:41:13.646593Z",
     "shell.execute_reply": "2022-07-18T09:41:13.645679Z"
    },
    "papermill": {
     "duration": 0.10794,
     "end_time": "2022-07-18T09:41:13.649100",
     "exception": false,
     "start_time": "2022-07-18T09:41:13.541160",
     "status": "completed"
    },
    "tags": []
   },
   "outputs": [],
   "source": [
    "summer_medals=df.groupby(['region', 'Medal']).size().reset_index()\n",
    "summer_medals.columns=['region', 'Medal', 'count']"
   ]
  },
  {
   "cell_type": "code",
   "execution_count": 34,
   "id": "c6851f7b",
   "metadata": {
    "execution": {
     "iopub.execute_input": "2022-07-18T09:41:13.716913Z",
     "iopub.status.busy": "2022-07-18T09:41:13.716473Z",
     "iopub.status.idle": "2022-07-18T09:41:13.738927Z",
     "shell.execute_reply": "2022-07-18T09:41:13.737823Z"
    },
    "papermill": {
     "duration": 0.060478,
     "end_time": "2022-07-18T09:41:13.741324",
     "exception": false,
     "start_time": "2022-07-18T09:41:13.680846",
     "status": "completed"
    },
    "tags": []
   },
   "outputs": [
    {
     "data": {
      "text/html": [
       "<div>\n",
       "<style scoped>\n",
       "    .dataframe tbody tr th:only-of-type {\n",
       "        vertical-align: middle;\n",
       "    }\n",
       "\n",
       "    .dataframe tbody tr th {\n",
       "        vertical-align: top;\n",
       "    }\n",
       "\n",
       "    .dataframe thead th {\n",
       "        text-align: right;\n",
       "    }\n",
       "</style>\n",
       "<table border=\"1\" class=\"dataframe\">\n",
       "  <thead>\n",
       "    <tr style=\"text-align: right;\">\n",
       "      <th>Medal</th>\n",
       "      <th>Bronze</th>\n",
       "      <th>Gold</th>\n",
       "      <th>Silver</th>\n",
       "    </tr>\n",
       "    <tr>\n",
       "      <th>region</th>\n",
       "      <th></th>\n",
       "      <th></th>\n",
       "      <th></th>\n",
       "    </tr>\n",
       "  </thead>\n",
       "  <tbody>\n",
       "    <tr>\n",
       "      <th>Afghanistan</th>\n",
       "      <td>2.0</td>\n",
       "      <td>NaN</td>\n",
       "      <td>NaN</td>\n",
       "    </tr>\n",
       "    <tr>\n",
       "      <th>Algeria</th>\n",
       "      <td>8.0</td>\n",
       "      <td>5.0</td>\n",
       "      <td>4.0</td>\n",
       "    </tr>\n",
       "    <tr>\n",
       "      <th>Argentina</th>\n",
       "      <td>91.0</td>\n",
       "      <td>91.0</td>\n",
       "      <td>92.0</td>\n",
       "    </tr>\n",
       "    <tr>\n",
       "      <th>Armenia</th>\n",
       "      <td>9.0</td>\n",
       "      <td>2.0</td>\n",
       "      <td>5.0</td>\n",
       "    </tr>\n",
       "    <tr>\n",
       "      <th>Australia</th>\n",
       "      <td>522.0</td>\n",
       "      <td>368.0</td>\n",
       "      <td>459.0</td>\n",
       "    </tr>\n",
       "    <tr>\n",
       "      <th>...</th>\n",
       "      <td>...</td>\n",
       "      <td>...</td>\n",
       "      <td>...</td>\n",
       "    </tr>\n",
       "    <tr>\n",
       "      <th>Venezuela</th>\n",
       "      <td>10.0</td>\n",
       "      <td>2.0</td>\n",
       "      <td>3.0</td>\n",
       "    </tr>\n",
       "    <tr>\n",
       "      <th>Vietnam</th>\n",
       "      <td>NaN</td>\n",
       "      <td>1.0</td>\n",
       "      <td>3.0</td>\n",
       "    </tr>\n",
       "    <tr>\n",
       "      <th>Virgin Islands, US</th>\n",
       "      <td>NaN</td>\n",
       "      <td>NaN</td>\n",
       "      <td>1.0</td>\n",
       "    </tr>\n",
       "    <tr>\n",
       "      <th>Zambia</th>\n",
       "      <td>1.0</td>\n",
       "      <td>NaN</td>\n",
       "      <td>1.0</td>\n",
       "    </tr>\n",
       "    <tr>\n",
       "      <th>Zimbabwe</th>\n",
       "      <td>1.0</td>\n",
       "      <td>17.0</td>\n",
       "      <td>4.0</td>\n",
       "    </tr>\n",
       "  </tbody>\n",
       "</table>\n",
       "<p>136 rows × 3 columns</p>\n",
       "</div>"
      ],
      "text/plain": [
       "Medal               Bronze   Gold  Silver\n",
       "region                                   \n",
       "Afghanistan            2.0    NaN     NaN\n",
       "Algeria                8.0    5.0     4.0\n",
       "Argentina             91.0   91.0    92.0\n",
       "Armenia                9.0    2.0     5.0\n",
       "Australia            522.0  368.0   459.0\n",
       "...                    ...    ...     ...\n",
       "Venezuela             10.0    2.0     3.0\n",
       "Vietnam                NaN    1.0     3.0\n",
       "Virgin Islands, US     NaN    NaN     1.0\n",
       "Zambia                 1.0    NaN     1.0\n",
       "Zimbabwe               1.0   17.0     4.0\n",
       "\n",
       "[136 rows x 3 columns]"
      ]
     },
     "execution_count": 34,
     "metadata": {},
     "output_type": "execute_result"
    }
   ],
   "source": [
    "summer_medals.pivot('region', 'Medal', 'count')"
   ]
  },
  {
   "cell_type": "code",
   "execution_count": 35,
   "id": "0ad537ed",
   "metadata": {
    "execution": {
     "iopub.execute_input": "2022-07-18T09:41:13.807675Z",
     "iopub.status.busy": "2022-07-18T09:41:13.806940Z",
     "iopub.status.idle": "2022-07-18T09:41:13.825546Z",
     "shell.execute_reply": "2022-07-18T09:41:13.824284Z"
    },
    "papermill": {
     "duration": 0.054623,
     "end_time": "2022-07-18T09:41:13.828087",
     "exception": false,
     "start_time": "2022-07-18T09:41:13.773464",
     "status": "completed"
    },
    "tags": []
   },
   "outputs": [
    {
     "data": {
      "text/html": [
       "<div>\n",
       "<style scoped>\n",
       "    .dataframe tbody tr th:only-of-type {\n",
       "        vertical-align: middle;\n",
       "    }\n",
       "\n",
       "    .dataframe tbody tr th {\n",
       "        vertical-align: top;\n",
       "    }\n",
       "\n",
       "    .dataframe thead th {\n",
       "        text-align: right;\n",
       "    }\n",
       "</style>\n",
       "<table border=\"1\" class=\"dataframe\">\n",
       "  <thead>\n",
       "    <tr style=\"text-align: right;\">\n",
       "      <th>Medal</th>\n",
       "      <th>Bronze</th>\n",
       "      <th>Gold</th>\n",
       "      <th>Silver</th>\n",
       "    </tr>\n",
       "    <tr>\n",
       "      <th>region</th>\n",
       "      <th></th>\n",
       "      <th></th>\n",
       "      <th></th>\n",
       "    </tr>\n",
       "  </thead>\n",
       "  <tbody>\n",
       "    <tr>\n",
       "      <th>Afghanistan</th>\n",
       "      <td>2.0</td>\n",
       "      <td>0.0</td>\n",
       "      <td>0.0</td>\n",
       "    </tr>\n",
       "    <tr>\n",
       "      <th>Algeria</th>\n",
       "      <td>8.0</td>\n",
       "      <td>5.0</td>\n",
       "      <td>4.0</td>\n",
       "    </tr>\n",
       "    <tr>\n",
       "      <th>Argentina</th>\n",
       "      <td>91.0</td>\n",
       "      <td>91.0</td>\n",
       "      <td>92.0</td>\n",
       "    </tr>\n",
       "    <tr>\n",
       "      <th>Armenia</th>\n",
       "      <td>9.0</td>\n",
       "      <td>2.0</td>\n",
       "      <td>5.0</td>\n",
       "    </tr>\n",
       "    <tr>\n",
       "      <th>Australia</th>\n",
       "      <td>522.0</td>\n",
       "      <td>368.0</td>\n",
       "      <td>459.0</td>\n",
       "    </tr>\n",
       "    <tr>\n",
       "      <th>...</th>\n",
       "      <td>...</td>\n",
       "      <td>...</td>\n",
       "      <td>...</td>\n",
       "    </tr>\n",
       "    <tr>\n",
       "      <th>Venezuela</th>\n",
       "      <td>10.0</td>\n",
       "      <td>2.0</td>\n",
       "      <td>3.0</td>\n",
       "    </tr>\n",
       "    <tr>\n",
       "      <th>Vietnam</th>\n",
       "      <td>0.0</td>\n",
       "      <td>1.0</td>\n",
       "      <td>3.0</td>\n",
       "    </tr>\n",
       "    <tr>\n",
       "      <th>Virgin Islands, US</th>\n",
       "      <td>0.0</td>\n",
       "      <td>0.0</td>\n",
       "      <td>1.0</td>\n",
       "    </tr>\n",
       "    <tr>\n",
       "      <th>Zambia</th>\n",
       "      <td>1.0</td>\n",
       "      <td>0.0</td>\n",
       "      <td>1.0</td>\n",
       "    </tr>\n",
       "    <tr>\n",
       "      <th>Zimbabwe</th>\n",
       "      <td>1.0</td>\n",
       "      <td>17.0</td>\n",
       "      <td>4.0</td>\n",
       "    </tr>\n",
       "  </tbody>\n",
       "</table>\n",
       "<p>136 rows × 3 columns</p>\n",
       "</div>"
      ],
      "text/plain": [
       "Medal               Bronze   Gold  Silver\n",
       "region                                   \n",
       "Afghanistan            2.0    0.0     0.0\n",
       "Algeria                8.0    5.0     4.0\n",
       "Argentina             91.0   91.0    92.0\n",
       "Armenia                9.0    2.0     5.0\n",
       "Australia            522.0  368.0   459.0\n",
       "...                    ...    ...     ...\n",
       "Venezuela             10.0    2.0     3.0\n",
       "Vietnam                0.0    1.0     3.0\n",
       "Virgin Islands, US     0.0    0.0     1.0\n",
       "Zambia                 1.0    0.0     1.0\n",
       "Zimbabwe               1.0   17.0     4.0\n",
       "\n",
       "[136 rows x 3 columns]"
      ]
     },
     "execution_count": 35,
     "metadata": {},
     "output_type": "execute_result"
    }
   ],
   "source": [
    "summer_medals.pivot('region', 'Medal', 'count').fillna(0)"
   ]
  },
  {
   "cell_type": "code",
   "execution_count": 36,
   "id": "a3394d52",
   "metadata": {
    "execution": {
     "iopub.execute_input": "2022-07-18T09:41:13.895021Z",
     "iopub.status.busy": "2022-07-18T09:41:13.894604Z",
     "iopub.status.idle": "2022-07-18T09:41:13.902868Z",
     "shell.execute_reply": "2022-07-18T09:41:13.901947Z"
    },
    "papermill": {
     "duration": 0.044891,
     "end_time": "2022-07-18T09:41:13.905154",
     "exception": false,
     "start_time": "2022-07-18T09:41:13.860263",
     "status": "completed"
    },
    "tags": []
   },
   "outputs": [],
   "source": [
    "summer_medals_20=summer_medals.pivot('region', 'Medal', 'count').fillna(0).sort_values(['Gold'], ascending=False).head(20)"
   ]
  },
  {
   "cell_type": "markdown",
   "id": "4cfaa2cb",
   "metadata": {
    "papermill": {
     "duration": 0.032927,
     "end_time": "2022-07-18T09:41:13.971041",
     "exception": false,
     "start_time": "2022-07-18T09:41:13.938114",
     "status": "completed"
    },
    "tags": []
   },
   "source": [
    "Medals by Country"
   ]
  },
  {
   "cell_type": "code",
   "execution_count": 37,
   "id": "d48c8820",
   "metadata": {
    "execution": {
     "iopub.execute_input": "2022-07-18T09:41:14.038647Z",
     "iopub.status.busy": "2022-07-18T09:41:14.038277Z",
     "iopub.status.idle": "2022-07-18T09:41:14.467673Z",
     "shell.execute_reply": "2022-07-18T09:41:14.466508Z"
    },
    "papermill": {
     "duration": 0.466562,
     "end_time": "2022-07-18T09:41:14.470291",
     "exception": false,
     "start_time": "2022-07-18T09:41:14.003729",
     "status": "completed"
    },
    "tags": []
   },
   "outputs": [
    {
     "data": {
      "image/png": "[encoded data removed]",
      "text/plain": [
       "<Figure size 1332x756 with 1 Axes>"
      ]
     },
     "metadata": {
      "needs_background": "light"
     },
     "output_type": "display_data"
    }
   ],
   "source": [
    "summer_medals_20.plot(kind='bar')\n",
    "plt.xlabel('Country')\n",
    "plt.title('Medals by Country- Summer Olympics ')\n",
    "fig = plt.gcf()\n",
    "fig.set_size_inches(18.5, 10.5)\n",
    "plt.show()"
   ]
  },
  {
   "cell_type": "code",
   "execution_count": 38,
   "id": "f8bf3e0a",
   "metadata": {
    "execution": {
     "iopub.execute_input": "2022-07-18T09:41:14.538040Z",
     "iopub.status.busy": "2022-07-18T09:41:14.537580Z",
     "iopub.status.idle": "2022-07-18T09:41:14.611206Z",
     "shell.execute_reply": "2022-07-18T09:41:14.610098Z"
    },
    "papermill": {
     "duration": 0.110699,
     "end_time": "2022-07-18T09:41:14.613986",
     "exception": false,
     "start_time": "2022-07-18T09:41:14.503287",
     "status": "completed"
    },
    "tags": []
   },
   "outputs": [],
   "source": [
    "winter_medals=df[df['Season']=='Winter'].groupby(['region', 'Medal']).size().reset_index()"
   ]
  },
  {
   "cell_type": "code",
   "execution_count": 39,
   "id": "9b151cc1",
   "metadata": {
    "execution": {
     "iopub.execute_input": "2022-07-18T09:41:14.681363Z",
     "iopub.status.busy": "2022-07-18T09:41:14.680951Z",
     "iopub.status.idle": "2022-07-18T09:41:14.692511Z",
     "shell.execute_reply": "2022-07-18T09:41:14.691333Z"
    },
    "papermill": {
     "duration": 0.047888,
     "end_time": "2022-07-18T09:41:14.694832",
     "exception": false,
     "start_time": "2022-07-18T09:41:14.646944",
     "status": "completed"
    },
    "tags": []
   },
   "outputs": [
    {
     "data": {
      "text/html": [
       "<div>\n",
       "<style scoped>\n",
       "    .dataframe tbody tr th:only-of-type {\n",
       "        vertical-align: middle;\n",
       "    }\n",
       "\n",
       "    .dataframe tbody tr th {\n",
       "        vertical-align: top;\n",
       "    }\n",
       "\n",
       "    .dataframe thead th {\n",
       "        text-align: right;\n",
       "    }\n",
       "</style>\n",
       "<table border=\"1\" class=\"dataframe\">\n",
       "  <thead>\n",
       "    <tr style=\"text-align: right;\">\n",
       "      <th></th>\n",
       "      <th>region</th>\n",
       "      <th>Medal</th>\n",
       "      <th>0</th>\n",
       "    </tr>\n",
       "  </thead>\n",
       "  <tbody>\n",
       "    <tr>\n",
       "      <th>0</th>\n",
       "      <td>Australia</td>\n",
       "      <td>Bronze</td>\n",
       "      <td>7</td>\n",
       "    </tr>\n",
       "    <tr>\n",
       "      <th>1</th>\n",
       "      <td>Australia</td>\n",
       "      <td>Gold</td>\n",
       "      <td>6</td>\n",
       "    </tr>\n",
       "    <tr>\n",
       "      <th>2</th>\n",
       "      <td>Australia</td>\n",
       "      <td>Silver</td>\n",
       "      <td>3</td>\n",
       "    </tr>\n",
       "    <tr>\n",
       "      <th>3</th>\n",
       "      <td>Austria</td>\n",
       "      <td>Bronze</td>\n",
       "      <td>103</td>\n",
       "    </tr>\n",
       "    <tr>\n",
       "      <th>4</th>\n",
       "      <td>Austria</td>\n",
       "      <td>Gold</td>\n",
       "      <td>79</td>\n",
       "    </tr>\n",
       "  </tbody>\n",
       "</table>\n",
       "</div>"
      ],
      "text/plain": [
       "      region   Medal    0\n",
       "0  Australia  Bronze    7\n",
       "1  Australia    Gold    6\n",
       "2  Australia  Silver    3\n",
       "3    Austria  Bronze  103\n",
       "4    Austria    Gold   79"
      ]
     },
     "execution_count": 39,
     "metadata": {},
     "output_type": "execute_result"
    }
   ],
   "source": [
    "winter_medals.head()"
   ]
  },
  {
   "cell_type": "code",
   "execution_count": 40,
   "id": "b9d4d244",
   "metadata": {
    "execution": {
     "iopub.execute_input": "2022-07-18T09:41:14.779524Z",
     "iopub.status.busy": "2022-07-18T09:41:14.779140Z",
     "iopub.status.idle": "2022-07-18T09:41:14.785202Z",
     "shell.execute_reply": "2022-07-18T09:41:14.783841Z"
    },
    "papermill": {
     "duration": 0.05419,
     "end_time": "2022-07-18T09:41:14.787991",
     "exception": false,
     "start_time": "2022-07-18T09:41:14.733801",
     "status": "completed"
    },
    "tags": []
   },
   "outputs": [],
   "source": [
    "winter_medals.columns=['region', 'Medal', 'count']"
   ]
  },
  {
   "cell_type": "code",
   "execution_count": 41,
   "id": "5e93bb95",
   "metadata": {
    "execution": {
     "iopub.execute_input": "2022-07-18T09:41:14.867078Z",
     "iopub.status.busy": "2022-07-18T09:41:14.866373Z",
     "iopub.status.idle": "2022-07-18T09:41:14.874645Z",
     "shell.execute_reply": "2022-07-18T09:41:14.873657Z"
    },
    "papermill": {
     "duration": 0.047874,
     "end_time": "2022-07-18T09:41:14.877315",
     "exception": false,
     "start_time": "2022-07-18T09:41:14.829441",
     "status": "completed"
    },
    "tags": []
   },
   "outputs": [],
   "source": [
    "winter_medals_20=winter_medals.pivot(index='region', columns='Medal', values='count').sort_values('Gold', \n",
    "                                                                                                  ascending=False).head(20)"
   ]
  },
  {
   "cell_type": "code",
   "execution_count": 42,
   "id": "c4071e3c",
   "metadata": {
    "execution": {
     "iopub.execute_input": "2022-07-18T09:41:14.947573Z",
     "iopub.status.busy": "2022-07-18T09:41:14.946808Z",
     "iopub.status.idle": "2022-07-18T09:41:15.379062Z",
     "shell.execute_reply": "2022-07-18T09:41:15.377602Z"
    },
    "papermill": {
     "duration": 0.470586,
     "end_time": "2022-07-18T09:41:15.381784",
     "exception": false,
     "start_time": "2022-07-18T09:41:14.911198",
     "status": "completed"
    },
    "tags": []
   },
   "outputs": [
    {
     "data": {
      "image/png": "[encoded data removed]",
      "text/plain": [
       "<Figure size 1332x756 with 1 Axes>"
      ]
     },
     "metadata": {
      "needs_background": "light"
     },
     "output_type": "display_data"
    }
   ],
   "source": [
    "winter_medals_20.plot(kind='bar')\n",
    "plt.xlabel('Country')\n",
    "plt.title('Medals by Country- Winter Olympics ')\n",
    "fig = plt.gcf()\n",
    "fig.set_size_inches(18.5, 10.5)\n",
    "plt.show()"
   ]
  },
  {
   "cell_type": "code",
   "execution_count": 43,
   "id": "07f339c3",
   "metadata": {
    "execution": {
     "iopub.execute_input": "2022-07-18T09:41:15.452279Z",
     "iopub.status.busy": "2022-07-18T09:41:15.451527Z",
     "iopub.status.idle": "2022-07-18T09:41:15.459697Z",
     "shell.execute_reply": "2022-07-18T09:41:15.458783Z"
    },
    "papermill": {
     "duration": 0.04563,
     "end_time": "2022-07-18T09:41:15.462271",
     "exception": false,
     "start_time": "2022-07-18T09:41:15.416641",
     "status": "completed"
    },
    "tags": []
   },
   "outputs": [],
   "source": [
    "year=df['Year'].value_counts()"
   ]
  },
  {
   "cell_type": "markdown",
   "id": "4a88644d",
   "metadata": {
    "papermill": {
     "duration": 0.033159,
     "end_time": "2022-07-18T09:41:15.528746",
     "exception": false,
     "start_time": "2022-07-18T09:41:15.495587",
     "status": "completed"
    },
    "tags": []
   },
   "source": [
    "Number of participants by year"
   ]
  },
  {
   "cell_type": "code",
   "execution_count": 44,
   "id": "1187b4e4",
   "metadata": {
    "execution": {
     "iopub.execute_input": "2022-07-18T09:41:15.597992Z",
     "iopub.status.busy": "2022-07-18T09:41:15.597184Z",
     "iopub.status.idle": "2022-07-18T09:41:16.043120Z",
     "shell.execute_reply": "2022-07-18T09:41:16.041816Z"
    },
    "papermill": {
     "duration": 0.483546,
     "end_time": "2022-07-18T09:41:16.045680",
     "exception": false,
     "start_time": "2022-07-18T09:41:15.562134",
     "status": "completed"
    },
    "tags": []
   },
   "outputs": [
    {
     "data": {
      "image/png": "[encoded data removed]",
      "text/plain": [
       "<Figure size 1080x720 with 1 Axes>"
      ]
     },
     "metadata": {
      "needs_background": "light"
     },
     "output_type": "display_data"
    }
   ],
   "source": [
    "plt.figure(figsize=(15,10))\n",
    "sns.barplot(x=year.index, y=year.values)\n",
    "plt.xticks(rotation=90)\n",
    "plt.xlabel(\"Year\")\n",
    "plt.ylabel(\"number of athletes\")\n",
    "plt.title(\"Number of participants by year\")\n",
    "plt.show()"
   ]
  },
  {
   "cell_type": "code",
   "execution_count": 45,
   "id": "e1a0c105",
   "metadata": {
    "execution": {
     "iopub.execute_input": "2022-07-18T09:41:16.116045Z",
     "iopub.status.busy": "2022-07-18T09:41:16.115408Z",
     "iopub.status.idle": "2022-07-18T09:41:16.168841Z",
     "shell.execute_reply": "2022-07-18T09:41:16.167505Z"
    },
    "papermill": {
     "duration": 0.091975,
     "end_time": "2022-07-18T09:41:16.171594",
     "exception": false,
     "start_time": "2022-07-18T09:41:16.079619",
     "status": "completed"
    },
    "tags": []
   },
   "outputs": [],
   "source": [
    "year_sex_medal=df.groupby(['Year', 'Sex'])['Medal'].count().reset_index()"
   ]
  },
  {
   "cell_type": "code",
   "execution_count": 46,
   "id": "bf461a36",
   "metadata": {
    "execution": {
     "iopub.execute_input": "2022-07-18T09:41:16.241608Z",
     "iopub.status.busy": "2022-07-18T09:41:16.241197Z",
     "iopub.status.idle": "2022-07-18T09:41:16.252788Z",
     "shell.execute_reply": "2022-07-18T09:41:16.251669Z"
    },
    "papermill": {
     "duration": 0.049118,
     "end_time": "2022-07-18T09:41:16.254999",
     "exception": false,
     "start_time": "2022-07-18T09:41:16.205881",
     "status": "completed"
    },
    "tags": []
   },
   "outputs": [
    {
     "data": {
      "text/html": [
       "<div>\n",
       "<style scoped>\n",
       "    .dataframe tbody tr th:only-of-type {\n",
       "        vertical-align: middle;\n",
       "    }\n",
       "\n",
       "    .dataframe tbody tr th {\n",
       "        vertical-align: top;\n",
       "    }\n",
       "\n",
       "    .dataframe thead th {\n",
       "        text-align: right;\n",
       "    }\n",
       "</style>\n",
       "<table border=\"1\" class=\"dataframe\">\n",
       "  <thead>\n",
       "    <tr style=\"text-align: right;\">\n",
       "      <th></th>\n",
       "      <th>Year</th>\n",
       "      <th>Sex</th>\n",
       "      <th>Medal</th>\n",
       "    </tr>\n",
       "  </thead>\n",
       "  <tbody>\n",
       "    <tr>\n",
       "      <th>0</th>\n",
       "      <td>1896</td>\n",
       "      <td>M</td>\n",
       "      <td>143</td>\n",
       "    </tr>\n",
       "    <tr>\n",
       "      <th>1</th>\n",
       "      <td>1900</td>\n",
       "      <td>F</td>\n",
       "      <td>13</td>\n",
       "    </tr>\n",
       "    <tr>\n",
       "      <th>2</th>\n",
       "      <td>1900</td>\n",
       "      <td>M</td>\n",
       "      <td>591</td>\n",
       "    </tr>\n",
       "    <tr>\n",
       "      <th>3</th>\n",
       "      <td>1904</td>\n",
       "      <td>F</td>\n",
       "      <td>10</td>\n",
       "    </tr>\n",
       "    <tr>\n",
       "      <th>4</th>\n",
       "      <td>1904</td>\n",
       "      <td>M</td>\n",
       "      <td>476</td>\n",
       "    </tr>\n",
       "  </tbody>\n",
       "</table>\n",
       "</div>"
      ],
      "text/plain": [
       "   Year Sex  Medal\n",
       "0  1896   M    143\n",
       "1  1900   F     13\n",
       "2  1900   M    591\n",
       "3  1904   F     10\n",
       "4  1904   M    476"
      ]
     },
     "execution_count": 46,
     "metadata": {},
     "output_type": "execute_result"
    }
   ],
   "source": [
    "year_sex_medal.head()"
   ]
  },
  {
   "cell_type": "code",
   "execution_count": 47,
   "id": "8ce7b7e7",
   "metadata": {
    "execution": {
     "iopub.execute_input": "2022-07-18T09:41:16.327241Z",
     "iopub.status.busy": "2022-07-18T09:41:16.326108Z",
     "iopub.status.idle": "2022-07-18T09:41:16.335001Z",
     "shell.execute_reply": "2022-07-18T09:41:16.333819Z"
    },
    "papermill": {
     "duration": 0.047,
     "end_time": "2022-07-18T09:41:16.337452",
     "exception": false,
     "start_time": "2022-07-18T09:41:16.290452",
     "status": "completed"
    },
    "tags": []
   },
   "outputs": [],
   "source": [
    "year_sex_medal_pivot=year_sex_medal.pivot(index='Year', columns='Sex', values='Medal').fillna(0)"
   ]
  },
  {
   "cell_type": "code",
   "execution_count": 48,
   "id": "852602ee",
   "metadata": {
    "execution": {
     "iopub.execute_input": "2022-07-18T09:41:16.407987Z",
     "iopub.status.busy": "2022-07-18T09:41:16.407563Z",
     "iopub.status.idle": "2022-07-18T09:41:16.420013Z",
     "shell.execute_reply": "2022-07-18T09:41:16.418840Z"
    },
    "papermill": {
     "duration": 0.050976,
     "end_time": "2022-07-18T09:41:16.422327",
     "exception": false,
     "start_time": "2022-07-18T09:41:16.371351",
     "status": "completed"
    },
    "tags": []
   },
   "outputs": [
    {
     "data": {
      "text/html": [
       "<div>\n",
       "<style scoped>\n",
       "    .dataframe tbody tr th:only-of-type {\n",
       "        vertical-align: middle;\n",
       "    }\n",
       "\n",
       "    .dataframe tbody tr th {\n",
       "        vertical-align: top;\n",
       "    }\n",
       "\n",
       "    .dataframe thead th {\n",
       "        text-align: right;\n",
       "    }\n",
       "</style>\n",
       "<table border=\"1\" class=\"dataframe\">\n",
       "  <thead>\n",
       "    <tr style=\"text-align: right;\">\n",
       "      <th>Sex</th>\n",
       "      <th>F</th>\n",
       "      <th>M</th>\n",
       "    </tr>\n",
       "    <tr>\n",
       "      <th>Year</th>\n",
       "      <th></th>\n",
       "      <th></th>\n",
       "    </tr>\n",
       "  </thead>\n",
       "  <tbody>\n",
       "    <tr>\n",
       "      <th>1896</th>\n",
       "      <td>0.0</td>\n",
       "      <td>143.0</td>\n",
       "    </tr>\n",
       "    <tr>\n",
       "      <th>1900</th>\n",
       "      <td>13.0</td>\n",
       "      <td>591.0</td>\n",
       "    </tr>\n",
       "    <tr>\n",
       "      <th>1904</th>\n",
       "      <td>10.0</td>\n",
       "      <td>476.0</td>\n",
       "    </tr>\n",
       "    <tr>\n",
       "      <th>1906</th>\n",
       "      <td>6.0</td>\n",
       "      <td>452.0</td>\n",
       "    </tr>\n",
       "    <tr>\n",
       "      <th>1908</th>\n",
       "      <td>16.0</td>\n",
       "      <td>815.0</td>\n",
       "    </tr>\n",
       "  </tbody>\n",
       "</table>\n",
       "</div>"
      ],
      "text/plain": [
       "Sex      F      M\n",
       "Year             \n",
       "1896   0.0  143.0\n",
       "1900  13.0  591.0\n",
       "1904  10.0  476.0\n",
       "1906   6.0  452.0\n",
       "1908  16.0  815.0"
      ]
     },
     "execution_count": 48,
     "metadata": {},
     "output_type": "execute_result"
    }
   ],
   "source": [
    "year_sex_medal_pivot.head()"
   ]
  },
  {
   "cell_type": "markdown",
   "id": "1e248ee7",
   "metadata": {
    "papermill": {
     "duration": 0.033975,
     "end_time": "2022-07-18T09:41:16.491001",
     "exception": false,
     "start_time": "2022-07-18T09:41:16.457026",
     "status": "completed"
    },
    "tags": []
   },
   "source": [
    "Number of participants by year and gender"
   ]
  },
  {
   "cell_type": "code",
   "execution_count": 49,
   "id": "c85495e1",
   "metadata": {
    "execution": {
     "iopub.execute_input": "2022-07-18T09:41:16.561275Z",
     "iopub.status.busy": "2022-07-18T09:41:16.560902Z",
     "iopub.status.idle": "2022-07-18T09:41:16.800297Z",
     "shell.execute_reply": "2022-07-18T09:41:16.799195Z"
    },
    "papermill": {
     "duration": 0.2777,
     "end_time": "2022-07-18T09:41:16.802778",
     "exception": false,
     "start_time": "2022-07-18T09:41:16.525078",
     "status": "completed"
    },
    "tags": []
   },
   "outputs": [
    {
     "data": {
      "text/plain": [
       "<Figure size 1440x720 with 0 Axes>"
      ]
     },
     "metadata": {},
     "output_type": "display_data"
    },
    {
     "data": {
      "image/png": "[encoded data removed]",
      "text/plain": [
       "<Figure size 432x288 with 1 Axes>"
      ]
     },
     "metadata": {
      "needs_background": "light"
     },
     "output_type": "display_data"
    }
   ],
   "source": [
    "plt.figure(figsize=(20, 10))\n",
    "fig=plt.gcf()\n",
    "year_sex_medal_pivot.plot(kind='line')\n",
    "plt.xlabel('Year')\n",
    "plt.ylabel('Number of participants')\n",
    "plt.title('Number of participants by year and gender')\n",
    "plt.show()"
   ]
  },
  {
   "cell_type": "code",
   "execution_count": 50,
   "id": "74d3f07d",
   "metadata": {
    "execution": {
     "iopub.execute_input": "2022-07-18T09:41:16.875886Z",
     "iopub.status.busy": "2022-07-18T09:41:16.875138Z",
     "iopub.status.idle": "2022-07-18T09:41:16.905016Z",
     "shell.execute_reply": "2022-07-18T09:41:16.903594Z"
    },
    "papermill": {
     "duration": 0.069897,
     "end_time": "2022-07-18T09:41:16.907881",
     "exception": false,
     "start_time": "2022-07-18T09:41:16.837984",
     "status": "completed"
    },
    "tags": []
   },
   "outputs": [
    {
     "data": {
      "text/plain": [
       "array(['China', 'Denmark', 'Denmark/Sweden', ..., 'Solos Carex',\n",
       "       'Dow Jones', 'Digby'], dtype=object)"
      ]
     },
     "execution_count": 50,
     "metadata": {},
     "output_type": "execute_result"
    }
   ],
   "source": [
    "df['Team'].unique()"
   ]
  },
  {
   "cell_type": "code",
   "execution_count": 51,
   "id": "17a0621b",
   "metadata": {
    "execution": {
     "iopub.execute_input": "2022-07-18T09:41:16.980915Z",
     "iopub.status.busy": "2022-07-18T09:41:16.980184Z",
     "iopub.status.idle": "2022-07-18T09:41:17.010372Z",
     "shell.execute_reply": "2022-07-18T09:41:17.009492Z"
    },
    "papermill": {
     "duration": 0.069697,
     "end_time": "2022-07-18T09:41:17.013176",
     "exception": false,
     "start_time": "2022-07-18T09:41:16.943479",
     "status": "completed"
    },
    "tags": []
   },
   "outputs": [
    {
     "data": {
      "text/plain": [
       "array(['Barcelona', 'London', 'Antwerpen', 'Paris', 'Calgary',\n",
       "       'Albertville', 'Lillehammer', 'Los Angeles', 'Salt Lake City',\n",
       "       'Helsinki', 'Lake Placid', 'Sydney', 'Atlanta', 'Stockholm',\n",
       "       'Sochi', 'Nagano', 'Torino', 'Beijing', 'Rio de Janeiro', 'Athina',\n",
       "       'Squaw Valley', 'Innsbruck', 'Sarajevo', 'Mexico City', 'Munich',\n",
       "       'Seoul', 'Berlin', 'Oslo', \"Cortina d'Ampezzo\", 'Melbourne',\n",
       "       'Roma', 'Amsterdam', 'Montreal', 'Moskva', 'Tokyo', 'Vancouver',\n",
       "       'Grenoble', 'Sapporo', 'Chamonix', 'St. Louis', 'Sankt Moritz',\n",
       "       'Garmisch-Partenkirchen'], dtype=object)"
      ]
     },
     "execution_count": 51,
     "metadata": {},
     "output_type": "execute_result"
    }
   ],
   "source": [
    "df['City'].unique()"
   ]
  },
  {
   "cell_type": "code",
   "execution_count": 52,
   "id": "318526ff",
   "metadata": {
    "execution": {
     "iopub.execute_input": "2022-07-18T09:41:17.086469Z",
     "iopub.status.busy": "2022-07-18T09:41:17.085659Z",
     "iopub.status.idle": "2022-07-18T09:41:17.856191Z",
     "shell.execute_reply": "2022-07-18T09:41:17.854688Z"
    },
    "papermill": {
     "duration": 0.810872,
     "end_time": "2022-07-18T09:41:17.859749",
     "exception": false,
     "start_time": "2022-07-18T09:41:17.048877",
     "status": "completed"
    },
    "tags": []
   },
   "outputs": [
    {
     "data": {
      "image/png": "[encoded data removed]",
      "text/plain": [
       "<Figure size 1008x720 with 1 Axes>"
      ]
     },
     "metadata": {
      "needs_background": "light"
     },
     "output_type": "display_data"
    }
   ],
   "source": [
    "plt.figure(figsize=(14,10))\n",
    "sns.countplot(x='Year', hue='Sex', data=df)\n",
    "plt.xticks(rotation=45)\n",
    "plt.title('female and male participants per year')\n",
    "plt.show()"
   ]
  },
  {
   "cell_type": "code",
   "execution_count": 53,
   "id": "724570a7",
   "metadata": {
    "execution": {
     "iopub.execute_input": "2022-07-18T09:41:17.934756Z",
     "iopub.status.busy": "2022-07-18T09:41:17.934322Z",
     "iopub.status.idle": "2022-07-18T09:41:17.988670Z",
     "shell.execute_reply": "2022-07-18T09:41:17.986915Z"
    },
    "papermill": {
     "duration": 0.096729,
     "end_time": "2022-07-18T09:41:17.992410",
     "exception": false,
     "start_time": "2022-07-18T09:41:17.895681",
     "status": "completed"
    },
    "tags": []
   },
   "outputs": [
    {
     "name": "stdout",
     "output_type": "stream",
     "text": [
      "Athletics     38624\n",
      "Gymnastics    26707\n",
      "Swimming      23195\n",
      "Shooting      11448\n",
      "Cycling       10859\n",
      "Name: Sport, dtype: int64\n"
     ]
    }
   ],
   "source": [
    "sport=df['Sport'].value_counts()[:5]\n",
    "print(sport)"
   ]
  },
  {
   "cell_type": "code",
   "execution_count": 54,
   "id": "c1fcdc7b",
   "metadata": {
    "execution": {
     "iopub.execute_input": "2022-07-18T09:41:18.089408Z",
     "iopub.status.busy": "2022-07-18T09:41:18.088503Z",
     "iopub.status.idle": "2022-07-18T09:41:18.205410Z",
     "shell.execute_reply": "2022-07-18T09:41:18.204160Z"
    },
    "papermill": {
     "duration": 0.178611,
     "end_time": "2022-07-18T09:41:18.208271",
     "exception": false,
     "start_time": "2022-07-18T09:41:18.029660",
     "status": "completed"
    },
    "tags": []
   },
   "outputs": [],
   "source": [
    "sport_summer=df[df['Season']=='Summer']['Sport'].value_counts().sort_values(ascending=False).head(20)"
   ]
  },
  {
   "cell_type": "code",
   "execution_count": 55,
   "id": "7ae6b266",
   "metadata": {
    "execution": {
     "iopub.execute_input": "2022-07-18T09:41:18.282148Z",
     "iopub.status.busy": "2022-07-18T09:41:18.281490Z",
     "iopub.status.idle": "2022-07-18T09:41:18.288692Z",
     "shell.execute_reply": "2022-07-18T09:41:18.287836Z"
    },
    "papermill": {
     "duration": 0.046375,
     "end_time": "2022-07-18T09:41:18.290644",
     "exception": false,
     "start_time": "2022-07-18T09:41:18.244269",
     "status": "completed"
    },
    "tags": []
   },
   "outputs": [
    {
     "data": {
      "text/plain": [
       "Athletics           38624\n",
       "Gymnastics          26707\n",
       "Swimming            23195\n",
       "Shooting            11448\n",
       "Cycling             10859\n",
       "Fencing             10735\n",
       "Rowing              10595\n",
       "Wrestling            7154\n",
       "Football             6745\n",
       "Sailing              6586\n",
       "Equestrianism        6344\n",
       "Canoeing             6171\n",
       "Boxing               6047\n",
       "Hockey               5417\n",
       "Basketball           4536\n",
       "Weightlifting        3937\n",
       "Water Polo           3846\n",
       "Judo                 3801\n",
       "Handball             3665\n",
       "Art Competitions     3578\n",
       "Name: Sport, dtype: int64"
      ]
     },
     "execution_count": 55,
     "metadata": {},
     "output_type": "execute_result"
    }
   ],
   "source": [
    "sport_summer"
   ]
  },
  {
   "cell_type": "code",
   "execution_count": 56,
   "id": "336ee4bd",
   "metadata": {
    "execution": {
     "iopub.execute_input": "2022-07-18T09:41:18.364708Z",
     "iopub.status.busy": "2022-07-18T09:41:18.363949Z",
     "iopub.status.idle": "2022-07-18T09:41:19.327836Z",
     "shell.execute_reply": "2022-07-18T09:41:19.326643Z"
    },
    "papermill": {
     "duration": 1.003671,
     "end_time": "2022-07-18T09:41:19.330287",
     "exception": false,
     "start_time": "2022-07-18T09:41:18.326616",
     "status": "completed"
    },
    "tags": []
   },
   "outputs": [
    {
     "data": {
      "image/png": "[encoded data removed]",
      "text/plain": [
       "<Figure size 1440x720 with 1 Axes>"
      ]
     },
     "metadata": {
      "needs_background": "light"
     },
     "output_type": "display_data"
    }
   ],
   "source": [
    "plt.figure(figsize=(20,10))\n",
    "sns.boxplot(x='Year', y='Age', data=df)\n",
    "plt.title('Variation of Age for Athletes')\n",
    "plt.show()"
   ]
  },
  {
   "cell_type": "code",
   "execution_count": 57,
   "id": "8bf802d1",
   "metadata": {
    "execution": {
     "iopub.execute_input": "2022-07-18T09:41:19.407905Z",
     "iopub.status.busy": "2022-07-18T09:41:19.407467Z",
     "iopub.status.idle": "2022-07-18T09:41:19.457042Z",
     "shell.execute_reply": "2022-07-18T09:41:19.455274Z"
    },
    "papermill": {
     "duration": 0.091305,
     "end_time": "2022-07-18T09:41:19.459503",
     "exception": false,
     "start_time": "2022-07-18T09:41:19.368198",
     "status": "completed"
    },
    "tags": []
   },
   "outputs": [
    {
     "name": "stdout",
     "output_type": "stream",
     "text": [
      "Athletics     38624\n",
      "Gymnastics    26707\n",
      "Swimming      23195\n",
      "Shooting      11448\n",
      "Cycling       10859\n",
      "Name: Sport, dtype: int64\n"
     ]
    }
   ],
   "source": [
    "sport=df['Sport'].value_counts()[:5]\n",
    "print(sport)"
   ]
  },
  {
   "cell_type": "code",
   "execution_count": 58,
   "id": "e8100cc9",
   "metadata": {
    "execution": {
     "iopub.execute_input": "2022-07-18T09:41:19.536706Z",
     "iopub.status.busy": "2022-07-18T09:41:19.535589Z",
     "iopub.status.idle": "2022-07-18T09:41:19.682020Z",
     "shell.execute_reply": "2022-07-18T09:41:19.680607Z"
    },
    "papermill": {
     "duration": 0.188724,
     "end_time": "2022-07-18T09:41:19.685990",
     "exception": false,
     "start_time": "2022-07-18T09:41:19.497266",
     "status": "completed"
    },
    "tags": []
   },
   "outputs": [
    {
     "data": {
      "image/png": "[encoded data removed]",
      "text/plain": [
       "<Figure size 432x288 with 1 Axes>"
      ]
     },
     "metadata": {},
     "output_type": "display_data"
    }
   ],
   "source": [
    "labels=sport.index\n",
    "sizes=sport.values\n",
    "plt.pie(sizes,labels=labels,autopct='%1.1f%%',\n",
    "        shadow=True,startangle=90)\n",
    "plt.show()"
   ]
  },
  {
   "cell_type": "code",
   "execution_count": 59,
   "id": "8fb97b52",
   "metadata": {
    "execution": {
     "iopub.execute_input": "2022-07-18T09:41:19.795597Z",
     "iopub.status.busy": "2022-07-18T09:41:19.794831Z",
     "iopub.status.idle": "2022-07-18T09:41:20.139785Z",
     "shell.execute_reply": "2022-07-18T09:41:20.138596Z"
    },
    "papermill": {
     "duration": 0.387626,
     "end_time": "2022-07-18T09:41:20.142211",
     "exception": false,
     "start_time": "2022-07-18T09:41:19.754585",
     "status": "completed"
    },
    "tags": []
   },
   "outputs": [
    {
     "data": {
      "image/png": "[encoded data removed]",
      "text/plain": [
       "<Figure size 1080x720 with 1 Axes>"
      ]
     },
     "metadata": {
      "needs_background": "light"
     },
     "output_type": "display_data"
    }
   ],
   "source": [
    "plt.figure(figsize=(15,10))\n",
    "sns.barplot(y=sport_summer.index, x=sport_summer.values, palette='magma')\n",
    "plt.xlabel('Number of events')\n",
    "plt.ylabel('Sport')\n",
    "plt.xticks(rotation=90)\n",
    "plt.title(\"Number of events in each sport in the summer Olympics\")\n",
    "plt.show()"
   ]
  },
  {
   "cell_type": "code",
   "execution_count": 60,
   "id": "5e7a9715",
   "metadata": {
    "execution": {
     "iopub.execute_input": "2022-07-18T09:41:20.221801Z",
     "iopub.status.busy": "2022-07-18T09:41:20.220698Z",
     "iopub.status.idle": "2022-07-18T09:41:20.288986Z",
     "shell.execute_reply": "2022-07-18T09:41:20.287787Z"
    },
    "papermill": {
     "duration": 0.111651,
     "end_time": "2022-07-18T09:41:20.291943",
     "exception": false,
     "start_time": "2022-07-18T09:41:20.180292",
     "status": "completed"
    },
    "tags": []
   },
   "outputs": [],
   "source": [
    "sport_winter=df[df['Season']=='Winter']['Sport'].value_counts().sort_values(ascending=False)"
   ]
  },
  {
   "cell_type": "code",
   "execution_count": 61,
   "id": "b222e210",
   "metadata": {
    "execution": {
     "iopub.execute_input": "2022-07-18T09:41:20.370394Z",
     "iopub.status.busy": "2022-07-18T09:41:20.369988Z",
     "iopub.status.idle": "2022-07-18T09:41:20.379004Z",
     "shell.execute_reply": "2022-07-18T09:41:20.377834Z"
    },
    "papermill": {
     "duration": 0.052024,
     "end_time": "2022-07-18T09:41:20.382099",
     "exception": false,
     "start_time": "2022-07-18T09:41:20.330075",
     "status": "completed"
    },
    "tags": []
   },
   "outputs": [
    {
     "data": {
      "text/plain": [
       "Cross Country Skiing    9133\n",
       "Alpine Skiing           8829\n",
       "Speed Skating           5613\n",
       "Ice Hockey              5456\n",
       "Biathlon                4893\n",
       "Name: Sport, dtype: int64"
      ]
     },
     "execution_count": 61,
     "metadata": {},
     "output_type": "execute_result"
    }
   ],
   "source": [
    "sport_winter.head()"
   ]
  },
  {
   "cell_type": "code",
   "execution_count": 62,
   "id": "8d4233a3",
   "metadata": {
    "execution": {
     "iopub.execute_input": "2022-07-18T09:41:20.463471Z",
     "iopub.status.busy": "2022-07-18T09:41:20.463050Z",
     "iopub.status.idle": "2022-07-18T09:41:20.784815Z",
     "shell.execute_reply": "2022-07-18T09:41:20.783471Z"
    },
    "papermill": {
     "duration": 0.365651,
     "end_time": "2022-07-18T09:41:20.787660",
     "exception": false,
     "start_time": "2022-07-18T09:41:20.422009",
     "status": "completed"
    },
    "tags": []
   },
   "outputs": [
    {
     "data": {
      "image/png": "[encoded data removed]",
      "text/plain": [
       "<Figure size 1080x720 with 1 Axes>"
      ]
     },
     "metadata": {
      "needs_background": "light"
     },
     "output_type": "display_data"
    }
   ],
   "source": [
    "plt.figure(figsize=(15,10))\n",
    "sns.barplot(y=sport_winter.head(20).index, x=sport_winter.head(20).values, palette='magma')\n",
    "plt.xlabel('Number of events')\n",
    "plt.ylabel('Sport')\n",
    "plt.xticks(rotation=90)\n",
    "plt.title(\"Number of events in each sport in the winter Olympics\")\n",
    "plt.show()"
   ]
  },
  {
   "cell_type": "code",
   "execution_count": 63,
   "id": "2d958c41",
   "metadata": {
    "execution": {
     "iopub.execute_input": "2022-07-18T09:41:20.867314Z",
     "iopub.status.busy": "2022-07-18T09:41:20.866903Z",
     "iopub.status.idle": "2022-07-18T09:41:21.296379Z",
     "shell.execute_reply": "2022-07-18T09:41:21.295207Z"
    },
    "papermill": {
     "duration": 0.472804,
     "end_time": "2022-07-18T09:41:21.299281",
     "exception": false,
     "start_time": "2022-07-18T09:41:20.826477",
     "status": "completed"
    },
    "scrolled": true,
    "tags": []
   },
   "outputs": [
    {
     "data": {
      "image/png": "[encoded data removed]",
      "text/plain": [
       "<Figure size 1440x720 with 1 Axes>"
      ]
     },
     "metadata": {
      "needs_background": "light"
     },
     "output_type": "display_data"
    }
   ],
   "source": [
    "plt.figure(figsize=(20,10))\n",
    "sns.boxplot(x='Sex', y='Age', data=df)\n",
    "plt.show()"
   ]
  },
  {
   "cell_type": "markdown",
   "id": "46bc9923",
   "metadata": {
    "papermill": {
     "duration": 0.039523,
     "end_time": "2022-07-18T09:41:21.378464",
     "exception": false,
     "start_time": "2022-07-18T09:41:21.338941",
     "status": "completed"
    },
    "tags": []
   },
   "source": [
    "Number of athletes for each sport in the winter games"
   ]
  },
  {
   "cell_type": "code",
   "execution_count": 64,
   "id": "bce85964",
   "metadata": {
    "execution": {
     "iopub.execute_input": "2022-07-18T09:41:21.459823Z",
     "iopub.status.busy": "2022-07-18T09:41:21.459428Z",
     "iopub.status.idle": "2022-07-18T09:41:21.525451Z",
     "shell.execute_reply": "2022-07-18T09:41:21.524408Z"
    },
    "papermill": {
     "duration": 0.110143,
     "end_time": "2022-07-18T09:41:21.528295",
     "exception": false,
     "start_time": "2022-07-18T09:41:21.418152",
     "status": "completed"
    },
    "tags": []
   },
   "outputs": [],
   "source": [
    "data=df[df['Season']=='Winter'].groupby('Sport')['ID'].count().reset_index()"
   ]
  },
  {
   "cell_type": "code",
   "execution_count": 65,
   "id": "12469672",
   "metadata": {
    "execution": {
     "iopub.execute_input": "2022-07-18T09:41:21.609846Z",
     "iopub.status.busy": "2022-07-18T09:41:21.609317Z",
     "iopub.status.idle": "2022-07-18T09:41:21.619391Z",
     "shell.execute_reply": "2022-07-18T09:41:21.618561Z"
    },
    "papermill": {
     "duration": 0.05354,
     "end_time": "2022-07-18T09:41:21.621551",
     "exception": false,
     "start_time": "2022-07-18T09:41:21.568011",
     "status": "completed"
    },
    "tags": []
   },
   "outputs": [
    {
     "data": {
      "text/html": [
       "<div>\n",
       "<style scoped>\n",
       "    .dataframe tbody tr th:only-of-type {\n",
       "        vertical-align: middle;\n",
       "    }\n",
       "\n",
       "    .dataframe tbody tr th {\n",
       "        vertical-align: top;\n",
       "    }\n",
       "\n",
       "    .dataframe thead th {\n",
       "        text-align: right;\n",
       "    }\n",
       "</style>\n",
       "<table border=\"1\" class=\"dataframe\">\n",
       "  <thead>\n",
       "    <tr style=\"text-align: right;\">\n",
       "      <th></th>\n",
       "      <th>Sport</th>\n",
       "      <th>ID</th>\n",
       "    </tr>\n",
       "  </thead>\n",
       "  <tbody>\n",
       "    <tr>\n",
       "      <th>0</th>\n",
       "      <td>Alpine Skiing</td>\n",
       "      <td>8829</td>\n",
       "    </tr>\n",
       "    <tr>\n",
       "      <th>1</th>\n",
       "      <td>Alpinism</td>\n",
       "      <td>21</td>\n",
       "    </tr>\n",
       "    <tr>\n",
       "      <th>2</th>\n",
       "      <td>Biathlon</td>\n",
       "      <td>4893</td>\n",
       "    </tr>\n",
       "    <tr>\n",
       "      <th>3</th>\n",
       "      <td>Bobsleigh</td>\n",
       "      <td>3058</td>\n",
       "    </tr>\n",
       "    <tr>\n",
       "      <th>4</th>\n",
       "      <td>Cross Country Skiing</td>\n",
       "      <td>9133</td>\n",
       "    </tr>\n",
       "  </tbody>\n",
       "</table>\n",
       "</div>"
      ],
      "text/plain": [
       "                  Sport    ID\n",
       "0         Alpine Skiing  8829\n",
       "1              Alpinism    21\n",
       "2              Biathlon  4893\n",
       "3             Bobsleigh  3058\n",
       "4  Cross Country Skiing  9133"
      ]
     },
     "execution_count": 65,
     "metadata": {},
     "output_type": "execute_result"
    }
   ],
   "source": [
    "data.head()"
   ]
  },
  {
   "cell_type": "code",
   "execution_count": 66,
   "id": "65991ff8",
   "metadata": {
    "execution": {
     "iopub.execute_input": "2022-07-18T09:41:21.702615Z",
     "iopub.status.busy": "2022-07-18T09:41:21.702206Z",
     "iopub.status.idle": "2022-07-18T09:41:22.044819Z",
     "shell.execute_reply": "2022-07-18T09:41:22.043825Z"
    },
    "papermill": {
     "duration": 0.385605,
     "end_time": "2022-07-18T09:41:22.047200",
     "exception": false,
     "start_time": "2022-07-18T09:41:21.661595",
     "status": "completed"
    },
    "tags": []
   },
   "outputs": [
    {
     "data": {
      "image/png": "[encoded data removed]",
      "text/plain": [
       "<Figure size 1440x720 with 1 Axes>"
      ]
     },
     "metadata": {
      "needs_background": "light"
     },
     "output_type": "display_data"
    }
   ],
   "source": [
    "plt.figure(figsize=(20,10))\n",
    "sns.barplot(x='Sport', y='ID', data=data,palette='magma')\n",
    "plt.title('Number of athletes for each sport in the winter games')\n",
    "plt.xlabel('Sports')\n",
    "plt.ylabel('Number of athletes')\n",
    "plt.xticks(rotation=90)\n",
    "plt.show()"
   ]
  },
  {
   "cell_type": "markdown",
   "id": "17b173bc",
   "metadata": {
    "papermill": {
     "duration": 0.042175,
     "end_time": "2022-07-18T09:41:22.131223",
     "exception": false,
     "start_time": "2022-07-18T09:41:22.089048",
     "status": "completed"
    },
    "tags": []
   },
   "source": [
    "An indication how many countries attend each year"
   ]
  },
  {
   "cell_type": "code",
   "execution_count": 67,
   "id": "9a254d78",
   "metadata": {
    "execution": {
     "iopub.execute_input": "2022-07-18T09:41:22.214081Z",
     "iopub.status.busy": "2022-07-18T09:41:22.213399Z",
     "iopub.status.idle": "2022-07-18T09:41:22.282493Z",
     "shell.execute_reply": "2022-07-18T09:41:22.281076Z"
    },
    "papermill": {
     "duration": 0.114187,
     "end_time": "2022-07-18T09:41:22.285398",
     "exception": false,
     "start_time": "2022-07-18T09:41:22.171211",
     "status": "completed"
    },
    "tags": []
   },
   "outputs": [],
   "source": [
    "df2=df.groupby('Year')['region'].nunique().reset_index()"
   ]
  },
  {
   "cell_type": "code",
   "execution_count": 68,
   "id": "c68a6cb1",
   "metadata": {
    "execution": {
     "iopub.execute_input": "2022-07-18T09:41:22.370247Z",
     "iopub.status.busy": "2022-07-18T09:41:22.369061Z",
     "iopub.status.idle": "2022-07-18T09:41:22.380437Z",
     "shell.execute_reply": "2022-07-18T09:41:22.379265Z"
    },
    "papermill": {
     "duration": 0.05587,
     "end_time": "2022-07-18T09:41:22.382872",
     "exception": false,
     "start_time": "2022-07-18T09:41:22.327002",
     "status": "completed"
    },
    "tags": []
   },
   "outputs": [
    {
     "data": {
      "text/html": [
       "<div>\n",
       "<style scoped>\n",
       "    .dataframe tbody tr th:only-of-type {\n",
       "        vertical-align: middle;\n",
       "    }\n",
       "\n",
       "    .dataframe tbody tr th {\n",
       "        vertical-align: top;\n",
       "    }\n",
       "\n",
       "    .dataframe thead th {\n",
       "        text-align: right;\n",
       "    }\n",
       "</style>\n",
       "<table border=\"1\" class=\"dataframe\">\n",
       "  <thead>\n",
       "    <tr style=\"text-align: right;\">\n",
       "      <th></th>\n",
       "      <th>Year</th>\n",
       "      <th>region</th>\n",
       "    </tr>\n",
       "  </thead>\n",
       "  <tbody>\n",
       "    <tr>\n",
       "      <th>0</th>\n",
       "      <td>1896</td>\n",
       "      <td>12</td>\n",
       "    </tr>\n",
       "    <tr>\n",
       "      <th>1</th>\n",
       "      <td>1900</td>\n",
       "      <td>31</td>\n",
       "    </tr>\n",
       "    <tr>\n",
       "      <th>2</th>\n",
       "      <td>1904</td>\n",
       "      <td>14</td>\n",
       "    </tr>\n",
       "    <tr>\n",
       "      <th>3</th>\n",
       "      <td>1906</td>\n",
       "      <td>20</td>\n",
       "    </tr>\n",
       "    <tr>\n",
       "      <th>4</th>\n",
       "      <td>1908</td>\n",
       "      <td>22</td>\n",
       "    </tr>\n",
       "  </tbody>\n",
       "</table>\n",
       "</div>"
      ],
      "text/plain": [
       "   Year  region\n",
       "0  1896      12\n",
       "1  1900      31\n",
       "2  1904      14\n",
       "3  1906      20\n",
       "4  1908      22"
      ]
     },
     "execution_count": 68,
     "metadata": {},
     "output_type": "execute_result"
    }
   ],
   "source": [
    "df2.head()"
   ]
  },
  {
   "cell_type": "code",
   "execution_count": 69,
   "id": "c9d18270",
   "metadata": {
    "execution": {
     "iopub.execute_input": "2022-07-18T09:41:22.467671Z",
     "iopub.status.busy": "2022-07-18T09:41:22.466825Z",
     "iopub.status.idle": "2022-07-18T09:41:22.924016Z",
     "shell.execute_reply": "2022-07-18T09:41:22.923140Z"
    },
    "papermill": {
     "duration": 0.502806,
     "end_time": "2022-07-18T09:41:22.926420",
     "exception": false,
     "start_time": "2022-07-18T09:41:22.423614",
     "status": "completed"
    },
    "tags": []
   },
   "outputs": [
    {
     "data": {
      "image/png": "[encoded data removed]",
      "text/plain": [
       "<Figure size 1440x720 with 1 Axes>"
      ]
     },
     "metadata": {
      "needs_background": "light"
     },
     "output_type": "display_data"
    }
   ],
   "source": [
    "plt.figure(figsize=(20,10))\n",
    "sns.barplot(x='Year', y='region', data=df2)\n",
    "plt.title('How many countries attend each year')\n",
    "plt.xlabel('Years')\n",
    "plt.ylabel('Number of regions')\n",
    "plt.xticks(rotation=90)\n",
    "plt.show()"
   ]
  },
  {
   "cell_type": "code",
   "execution_count": 70,
   "id": "9893959d",
   "metadata": {
    "execution": {
     "iopub.execute_input": "2022-07-18T09:41:23.010074Z",
     "iopub.status.busy": "2022-07-18T09:41:23.009635Z",
     "iopub.status.idle": "2022-07-18T09:41:23.294517Z",
     "shell.execute_reply": "2022-07-18T09:41:23.293348Z"
    },
    "papermill": {
     "duration": 0.330956,
     "end_time": "2022-07-18T09:41:23.297667",
     "exception": false,
     "start_time": "2022-07-18T09:41:22.966711",
     "status": "completed"
    },
    "tags": []
   },
   "outputs": [
    {
     "name": "stderr",
     "output_type": "stream",
     "text": [
      "/opt/conda/lib/python3.7/site-packages/seaborn/distributions.py:2619: FutureWarning: `distplot` is a deprecated function and will be removed in a future version. Please adapt your code to use either `displot` (a figure-level function with similar flexibility) or `histplot` (an axes-level function for histograms).\n",
      "  warnings.warn(msg, FutureWarning)\n"
     ]
    },
    {
     "data": {
      "image/png": "[encoded data removed]",
      "text/plain": [
       "<Figure size 1440x720 with 1 Axes>"
      ]
     },
     "metadata": {
      "needs_background": "light"
     },
     "output_type": "display_data"
    }
   ],
   "source": [
    "plt.figure(figsize=(20,10))\n",
    "sns.distplot(df2['region'])\n",
    "plt.xlabel('Number of regions')\n",
    "plt.show()"
   ]
  }
 ],
 "metadata": {
  "kernelspec": {
   "display_name": "Python 3",
   "language": "python",
   "name": "python3"
  },
  "language_info": {
   "codemirror_mode": {
    "name": "ipython",
    "version": 3
   },
   "file_extension": ".py",
   "mimetype": "text/x-python",
   "name": "python",
   "nbconvert_exporter": "python",
   "pygments_lexer": "ipython3",
   "version": "3.7.12"
  },
  "papermill": {
   "default_parameters": {},
   "duration": 40.806314,
   "end_time": "2022-07-18T09:41:24.263635",
   "environment_variables": {},
   "exception": null,
   "input_path": "__notebook__.ipynb",
   "output_path": "__notebook__.ipynb",
   "parameters": {},
   "start_time": "2022-07-18T09:40:43.457321",
   "version": "2.3.4"
  }
 },
 "nbformat": 4,
 "nbformat_minor": 5
}
